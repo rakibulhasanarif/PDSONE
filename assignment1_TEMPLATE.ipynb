{
 "cells": [
  {
   "cell_type": "code",
   "execution_count": 1,
   "metadata": {},
   "outputs": [],
   "source": [
    "import pandas as pd"
   ]
  },
  {
   "cell_type": "code",
   "execution_count": null,
   "metadata": {},
   "outputs": [],
   "source": [
    "# Data Loading"
   ]
  },
  {
   "cell_type": "code",
   "execution_count": 2,
   "metadata": {},
   "outputs": [],
   "source": [
    "star=pd.read_csv(r\"D:\\Study\\RMIT MC-208\\Semester 3\\Practical DataScience\\Assignment 1\\StarWars.csv\",encoding='latin1',error_bad_lines=False)\n"
   ]
  },
  {
   "cell_type": "code",
   "execution_count": 3,
   "metadata": {},
   "outputs": [
    {
     "data": {
      "text/html": [
       "<div>\n",
       "<style scoped>\n",
       "    .dataframe tbody tr th:only-of-type {\n",
       "        vertical-align: middle;\n",
       "    }\n",
       "\n",
       "    .dataframe tbody tr th {\n",
       "        vertical-align: top;\n",
       "    }\n",
       "\n",
       "    .dataframe thead th {\n",
       "        text-align: right;\n",
       "    }\n",
       "</style>\n",
       "<table border=\"1\" class=\"dataframe\">\n",
       "  <thead>\n",
       "    <tr style=\"text-align: right;\">\n",
       "      <th></th>\n",
       "      <th>RespondentID</th>\n",
       "      <th>Have you seen any of the 6 films in the Star Wars franchise?</th>\n",
       "      <th>Do you consider yourself to be a fan of the Star Wars film franchise?</th>\n",
       "      <th>Which of the following Star Wars films have you seen? Please select all that apply.</th>\n",
       "      <th>Unnamed: 4</th>\n",
       "      <th>Unnamed: 5</th>\n",
       "      <th>Unnamed: 6</th>\n",
       "      <th>Unnamed: 7</th>\n",
       "      <th>Unnamed: 8</th>\n",
       "      <th>Please rank the Star Wars films in order of preference with 1 being your favorite film in the franchise and 6 being your least favorite film.</th>\n",
       "      <th>...</th>\n",
       "      <th>Unnamed: 28</th>\n",
       "      <th>Which character shot first?</th>\n",
       "      <th>Are you familiar with the Expanded Universe?</th>\n",
       "      <th>Do you consider yourself to be a fan of the Expanded Universe?æ</th>\n",
       "      <th>Do you consider yourself to be a fan of the Star Trek franchise?</th>\n",
       "      <th>Gender</th>\n",
       "      <th>Age</th>\n",
       "      <th>Household Income</th>\n",
       "      <th>Education</th>\n",
       "      <th>Location (Census Region)</th>\n",
       "    </tr>\n",
       "  </thead>\n",
       "  <tbody>\n",
       "    <tr>\n",
       "      <td>0</td>\n",
       "      <td>2</td>\n",
       "      <td>Response</td>\n",
       "      <td>Response</td>\n",
       "      <td>Star Wars: Episode I  The Phantom Menace</td>\n",
       "      <td>Star Wars: Episode II  Attack of the Clones</td>\n",
       "      <td>Star Wars: Episode III  Revenge of the Sith</td>\n",
       "      <td>Star Wars: Episode IV  A New Hope</td>\n",
       "      <td>Star Wars: Episode V The Empire Strikes Back</td>\n",
       "      <td>Star Wars: Episode VI Return of the Jedi</td>\n",
       "      <td>Star Wars: Episode I  The Phantom Menace</td>\n",
       "      <td>...</td>\n",
       "      <td>Yoda</td>\n",
       "      <td>Response</td>\n",
       "      <td>Response</td>\n",
       "      <td>Response</td>\n",
       "      <td>Response</td>\n",
       "      <td>Response</td>\n",
       "      <td>Response</td>\n",
       "      <td>Response</td>\n",
       "      <td>Response</td>\n",
       "      <td>Response</td>\n",
       "    </tr>\n",
       "    <tr>\n",
       "      <td>1</td>\n",
       "      <td>3292879998</td>\n",
       "      <td>Yes</td>\n",
       "      <td>Yes</td>\n",
       "      <td>Star Wars: Episode I  The Phantom Menace</td>\n",
       "      <td>Star Wars: Episode II  Attack of the Clones</td>\n",
       "      <td>Star Wars: Episode III  Revenge of the Sith</td>\n",
       "      <td>Star Wars: Episode IV  A New Hope</td>\n",
       "      <td>Star Wars: Episode V The Empire Strikes Back</td>\n",
       "      <td>Star Wars: Episode VI Return of the Jedi</td>\n",
       "      <td>3</td>\n",
       "      <td>...</td>\n",
       "      <td>Very favorably</td>\n",
       "      <td>I don't understand this question</td>\n",
       "      <td>Yes</td>\n",
       "      <td>No</td>\n",
       "      <td>No</td>\n",
       "      <td>Male</td>\n",
       "      <td>18-29</td>\n",
       "      <td>NaN</td>\n",
       "      <td>High school degree</td>\n",
       "      <td>South Atlantic</td>\n",
       "    </tr>\n",
       "    <tr>\n",
       "      <td>2</td>\n",
       "      <td>3292879538</td>\n",
       "      <td>No</td>\n",
       "      <td>NaN</td>\n",
       "      <td>NaN</td>\n",
       "      <td>NaN</td>\n",
       "      <td>NaN</td>\n",
       "      <td>NaN</td>\n",
       "      <td>NaN</td>\n",
       "      <td>NaN</td>\n",
       "      <td>NaN</td>\n",
       "      <td>...</td>\n",
       "      <td>NaN</td>\n",
       "      <td>NaN</td>\n",
       "      <td>NaN</td>\n",
       "      <td>NaN</td>\n",
       "      <td>Yes</td>\n",
       "      <td>Male</td>\n",
       "      <td>18-29</td>\n",
       "      <td>$0 - $24,999</td>\n",
       "      <td>Bachelor degree</td>\n",
       "      <td>West South Central</td>\n",
       "    </tr>\n",
       "    <tr>\n",
       "      <td>3</td>\n",
       "      <td>3292765271</td>\n",
       "      <td>Yes</td>\n",
       "      <td>No</td>\n",
       "      <td>Star Wars: Episode I  The Phantom Menace</td>\n",
       "      <td>Star Wars: Episode II  Attack of the Clones</td>\n",
       "      <td>Star Wars: Episode III  Revenge of the Sith</td>\n",
       "      <td>NaN</td>\n",
       "      <td>NaN</td>\n",
       "      <td>NaN</td>\n",
       "      <td>1</td>\n",
       "      <td>...</td>\n",
       "      <td>Unfamiliar (N/A)</td>\n",
       "      <td>I don't understand this question</td>\n",
       "      <td>No</td>\n",
       "      <td>NaN</td>\n",
       "      <td>No</td>\n",
       "      <td>Male</td>\n",
       "      <td>18-29</td>\n",
       "      <td>$0 - $24,999</td>\n",
       "      <td>High school degree</td>\n",
       "      <td>West North Central</td>\n",
       "    </tr>\n",
       "    <tr>\n",
       "      <td>4</td>\n",
       "      <td>3292763116</td>\n",
       "      <td>Yes</td>\n",
       "      <td>Yes</td>\n",
       "      <td>Star Wars: Episode I  The Phantom Menace</td>\n",
       "      <td>Star Wars: Episode II  Attack of the Clones</td>\n",
       "      <td>Star Wars: Episode III  Revenge of the Sith</td>\n",
       "      <td>Star Wars: Episode IV  A New Hope</td>\n",
       "      <td>Star Wars: Episode V The Empire Strikes Back</td>\n",
       "      <td>Star Wars: Episode VI Return of the Jedi</td>\n",
       "      <td>5</td>\n",
       "      <td>...</td>\n",
       "      <td>Very favorably</td>\n",
       "      <td>I don't understand this question</td>\n",
       "      <td>No</td>\n",
       "      <td>NaN</td>\n",
       "      <td>Yes</td>\n",
       "      <td>Male</td>\n",
       "      <td>18-29</td>\n",
       "      <td>$100,000 - $149,999</td>\n",
       "      <td>Some college or Associate degree</td>\n",
       "      <td>West North Central</td>\n",
       "    </tr>\n",
       "  </tbody>\n",
       "</table>\n",
       "<p>5 rows × 38 columns</p>\n",
       "</div>"
      ],
      "text/plain": [
       "   RespondentID Have you seen any of the 6 films in the Star Wars franchise?  \\\n",
       "0             2                                           Response             \n",
       "1    3292879998                                                Yes             \n",
       "2    3292879538                                                 No             \n",
       "3    3292765271                                                Yes             \n",
       "4    3292763116                                                Yes             \n",
       "\n",
       "  Do you consider yourself to be a fan of the Star Wars film franchise?  \\\n",
       "0                                           Response                      \n",
       "1                                                Yes                      \n",
       "2                                                NaN                      \n",
       "3                                                 No                      \n",
       "4                                                Yes                      \n",
       "\n",
       "  Which of the following Star Wars films have you seen? Please select all that apply.  \\\n",
       "0           Star Wars: Episode I  The Phantom Menace                                    \n",
       "1           Star Wars: Episode I  The Phantom Menace                                    \n",
       "2                                                NaN                                    \n",
       "3           Star Wars: Episode I  The Phantom Menace                                    \n",
       "4           Star Wars: Episode I  The Phantom Menace                                    \n",
       "\n",
       "                                    Unnamed: 4  \\\n",
       "0  Star Wars: Episode II  Attack of the Clones   \n",
       "1  Star Wars: Episode II  Attack of the Clones   \n",
       "2                                          NaN   \n",
       "3  Star Wars: Episode II  Attack of the Clones   \n",
       "4  Star Wars: Episode II  Attack of the Clones   \n",
       "\n",
       "                                    Unnamed: 5  \\\n",
       "0  Star Wars: Episode III  Revenge of the Sith   \n",
       "1  Star Wars: Episode III  Revenge of the Sith   \n",
       "2                                          NaN   \n",
       "3  Star Wars: Episode III  Revenge of the Sith   \n",
       "4  Star Wars: Episode III  Revenge of the Sith   \n",
       "\n",
       "                          Unnamed: 6  \\\n",
       "0  Star Wars: Episode IV  A New Hope   \n",
       "1  Star Wars: Episode IV  A New Hope   \n",
       "2                                NaN   \n",
       "3                                NaN   \n",
       "4  Star Wars: Episode IV  A New Hope   \n",
       "\n",
       "                                     Unnamed: 7  \\\n",
       "0  Star Wars: Episode V The Empire Strikes Back   \n",
       "1  Star Wars: Episode V The Empire Strikes Back   \n",
       "2                                           NaN   \n",
       "3                                           NaN   \n",
       "4  Star Wars: Episode V The Empire Strikes Back   \n",
       "\n",
       "                                 Unnamed: 8  \\\n",
       "0  Star Wars: Episode VI Return of the Jedi   \n",
       "1  Star Wars: Episode VI Return of the Jedi   \n",
       "2                                       NaN   \n",
       "3                                       NaN   \n",
       "4  Star Wars: Episode VI Return of the Jedi   \n",
       "\n",
       "  Please rank the Star Wars films in order of preference with 1 being your favorite film in the franchise and 6 being your least favorite film.  \\\n",
       "0           Star Wars: Episode I  The Phantom Menace                                                                                              \n",
       "1                                                  3                                                                                              \n",
       "2                                                NaN                                                                                              \n",
       "3                                                  1                                                                                              \n",
       "4                                                  5                                                                                              \n",
       "\n",
       "   ...       Unnamed: 28       Which character shot first?  \\\n",
       "0  ...              Yoda                          Response   \n",
       "1  ...    Very favorably  I don't understand this question   \n",
       "2  ...               NaN                               NaN   \n",
       "3  ...  Unfamiliar (N/A)  I don't understand this question   \n",
       "4  ...    Very favorably  I don't understand this question   \n",
       "\n",
       "  Are you familiar with the Expanded Universe?  \\\n",
       "0                                     Response   \n",
       "1                                          Yes   \n",
       "2                                          NaN   \n",
       "3                                           No   \n",
       "4                                           No   \n",
       "\n",
       "  Do you consider yourself to be a fan of the Expanded Universe?æ  \\\n",
       "0                                           Response                 \n",
       "1                                                 No                 \n",
       "2                                                NaN                 \n",
       "3                                                NaN                 \n",
       "4                                                NaN                 \n",
       "\n",
       "  Do you consider yourself to be a fan of the Star Trek franchise?    Gender  \\\n",
       "0                                           Response                Response   \n",
       "1                                                 No                    Male   \n",
       "2                                                Yes                    Male   \n",
       "3                                                 No                    Male   \n",
       "4                                                Yes                    Male   \n",
       "\n",
       "        Age     Household Income                         Education  \\\n",
       "0  Response             Response                          Response   \n",
       "1     18-29                  NaN                High school degree   \n",
       "2     18-29         $0 - $24,999                   Bachelor degree   \n",
       "3     18-29         $0 - $24,999                High school degree   \n",
       "4     18-29  $100,000 - $149,999  Some college or Associate degree   \n",
       "\n",
       "  Location (Census Region)  \n",
       "0                 Response  \n",
       "1           South Atlantic  \n",
       "2       West South Central  \n",
       "3       West North Central  \n",
       "4       West North Central  \n",
       "\n",
       "[5 rows x 38 columns]"
      ]
     },
     "execution_count": 3,
     "metadata": {},
     "output_type": "execute_result"
    }
   ],
   "source": [
    "\n",
    "star.head()"
   ]
  },
  {
   "cell_type": "code",
   "execution_count": null,
   "metadata": {},
   "outputs": [],
   "source": [
    "# Column Name Change"
   ]
  },
  {
   "cell_type": "code",
   "execution_count": 4,
   "metadata": {},
   "outputs": [],
   "source": [
    "colname=['ID','Q1','Q2','Q3Option1','Q3Option2','Q3Option3','Q3Option4','Q3Option5','Q3Option6','Q4Option1','Q4Option2','Q4Option3','Q4Option4','Q4Option5','Q4Option6','Q5Option1','Q5Option2','Q5Option3','Q5Option4','Q5Option5','Q5Option6','Q5Option7','Q5Option8','Q5Option9','Q5Option10','Q5Option11','Q5Option12','Q5Option13','Q5Option14','Q6','Q7','Q8','Q9','Q10','Q11','Q12','Q13','Q14']"
   ]
  },
  {
   "cell_type": "code",
   "execution_count": 5,
   "metadata": {},
   "outputs": [],
   "source": [
    "star=pd.read_csv(r\"D:\\Study\\RMIT MC-208\\Semester 3\\Practical DataScience\\Assignment 1\\StarWars.csv\",encoding='latin1',header=None,skiprows=0,names=colname)"
   ]
  },
  {
   "cell_type": "code",
   "execution_count": 6,
   "metadata": {
    "scrolled": true
   },
   "outputs": [
    {
     "data": {
      "text/html": [
       "<div>\n",
       "<style scoped>\n",
       "    .dataframe tbody tr th:only-of-type {\n",
       "        vertical-align: middle;\n",
       "    }\n",
       "\n",
       "    .dataframe tbody tr th {\n",
       "        vertical-align: top;\n",
       "    }\n",
       "\n",
       "    .dataframe thead th {\n",
       "        text-align: right;\n",
       "    }\n",
       "</style>\n",
       "<table border=\"1\" class=\"dataframe\">\n",
       "  <thead>\n",
       "    <tr style=\"text-align: right;\">\n",
       "      <th></th>\n",
       "      <th>ID</th>\n",
       "      <th>Q1</th>\n",
       "      <th>Q2</th>\n",
       "      <th>Q3Option1</th>\n",
       "      <th>Q3Option2</th>\n",
       "      <th>Q3Option3</th>\n",
       "      <th>Q3Option4</th>\n",
       "      <th>Q3Option5</th>\n",
       "      <th>Q3Option6</th>\n",
       "      <th>Q4Option1</th>\n",
       "      <th>...</th>\n",
       "      <th>Q5Option14</th>\n",
       "      <th>Q6</th>\n",
       "      <th>Q7</th>\n",
       "      <th>Q8</th>\n",
       "      <th>Q9</th>\n",
       "      <th>Q10</th>\n",
       "      <th>Q11</th>\n",
       "      <th>Q12</th>\n",
       "      <th>Q13</th>\n",
       "      <th>Q14</th>\n",
       "    </tr>\n",
       "  </thead>\n",
       "  <tbody>\n",
       "    <tr>\n",
       "      <td>0</td>\n",
       "      <td>RespondentID</td>\n",
       "      <td>Have you seen any of the 6 films in the Star W...</td>\n",
       "      <td>Do you consider yourself to be a fan of the St...</td>\n",
       "      <td>Which of the following Star Wars films have yo...</td>\n",
       "      <td>NaN</td>\n",
       "      <td>NaN</td>\n",
       "      <td>NaN</td>\n",
       "      <td>NaN</td>\n",
       "      <td>NaN</td>\n",
       "      <td>Please rank the Star Wars films in order of pr...</td>\n",
       "      <td>...</td>\n",
       "      <td>NaN</td>\n",
       "      <td>Which character shot first?</td>\n",
       "      <td>Are you familiar with the Expanded Universe?</td>\n",
       "      <td>Do you consider yourself to be a fan of the Ex...</td>\n",
       "      <td>Do you consider yourself to be a fan of the St...</td>\n",
       "      <td>Gender</td>\n",
       "      <td>Age</td>\n",
       "      <td>Household Income</td>\n",
       "      <td>Education</td>\n",
       "      <td>Location (Census Region)</td>\n",
       "    </tr>\n",
       "    <tr>\n",
       "      <td>1</td>\n",
       "      <td>2</td>\n",
       "      <td>Response</td>\n",
       "      <td>Response</td>\n",
       "      <td>Star Wars: Episode I  The Phantom Menace</td>\n",
       "      <td>Star Wars: Episode II  Attack of the Clones</td>\n",
       "      <td>Star Wars: Episode III  Revenge of the Sith</td>\n",
       "      <td>Star Wars: Episode IV  A New Hope</td>\n",
       "      <td>Star Wars: Episode V The Empire Strikes Back</td>\n",
       "      <td>Star Wars: Episode VI Return of the Jedi</td>\n",
       "      <td>Star Wars: Episode I  The Phantom Menace</td>\n",
       "      <td>...</td>\n",
       "      <td>Yoda</td>\n",
       "      <td>Response</td>\n",
       "      <td>Response</td>\n",
       "      <td>Response</td>\n",
       "      <td>Response</td>\n",
       "      <td>Response</td>\n",
       "      <td>Response</td>\n",
       "      <td>Response</td>\n",
       "      <td>Response</td>\n",
       "      <td>Response</td>\n",
       "    </tr>\n",
       "    <tr>\n",
       "      <td>2</td>\n",
       "      <td>3292879998</td>\n",
       "      <td>Yes</td>\n",
       "      <td>Yes</td>\n",
       "      <td>Star Wars: Episode I  The Phantom Menace</td>\n",
       "      <td>Star Wars: Episode II  Attack of the Clones</td>\n",
       "      <td>Star Wars: Episode III  Revenge of the Sith</td>\n",
       "      <td>Star Wars: Episode IV  A New Hope</td>\n",
       "      <td>Star Wars: Episode V The Empire Strikes Back</td>\n",
       "      <td>Star Wars: Episode VI Return of the Jedi</td>\n",
       "      <td>3</td>\n",
       "      <td>...</td>\n",
       "      <td>Very favorably</td>\n",
       "      <td>I don't understand this question</td>\n",
       "      <td>Yes</td>\n",
       "      <td>No</td>\n",
       "      <td>No</td>\n",
       "      <td>Male</td>\n",
       "      <td>18-29</td>\n",
       "      <td>NaN</td>\n",
       "      <td>High school degree</td>\n",
       "      <td>South Atlantic</td>\n",
       "    </tr>\n",
       "    <tr>\n",
       "      <td>3</td>\n",
       "      <td>3292879538</td>\n",
       "      <td>No</td>\n",
       "      <td>NaN</td>\n",
       "      <td>NaN</td>\n",
       "      <td>NaN</td>\n",
       "      <td>NaN</td>\n",
       "      <td>NaN</td>\n",
       "      <td>NaN</td>\n",
       "      <td>NaN</td>\n",
       "      <td>NaN</td>\n",
       "      <td>...</td>\n",
       "      <td>NaN</td>\n",
       "      <td>NaN</td>\n",
       "      <td>NaN</td>\n",
       "      <td>NaN</td>\n",
       "      <td>Yes</td>\n",
       "      <td>Male</td>\n",
       "      <td>18-29</td>\n",
       "      <td>$0 - $24,999</td>\n",
       "      <td>Bachelor degree</td>\n",
       "      <td>West South Central</td>\n",
       "    </tr>\n",
       "    <tr>\n",
       "      <td>4</td>\n",
       "      <td>3292765271</td>\n",
       "      <td>Yes</td>\n",
       "      <td>No</td>\n",
       "      <td>Star Wars: Episode I  The Phantom Menace</td>\n",
       "      <td>Star Wars: Episode II  Attack of the Clones</td>\n",
       "      <td>Star Wars: Episode III  Revenge of the Sith</td>\n",
       "      <td>NaN</td>\n",
       "      <td>NaN</td>\n",
       "      <td>NaN</td>\n",
       "      <td>1</td>\n",
       "      <td>...</td>\n",
       "      <td>Unfamiliar (N/A)</td>\n",
       "      <td>I don't understand this question</td>\n",
       "      <td>No</td>\n",
       "      <td>NaN</td>\n",
       "      <td>No</td>\n",
       "      <td>Male</td>\n",
       "      <td>18-29</td>\n",
       "      <td>$0 - $24,999</td>\n",
       "      <td>High school degree</td>\n",
       "      <td>West North Central</td>\n",
       "    </tr>\n",
       "  </tbody>\n",
       "</table>\n",
       "<p>5 rows × 38 columns</p>\n",
       "</div>"
      ],
      "text/plain": [
       "             ID                                                 Q1  \\\n",
       "0  RespondentID  Have you seen any of the 6 films in the Star W...   \n",
       "1             2                                           Response   \n",
       "2    3292879998                                                Yes   \n",
       "3    3292879538                                                 No   \n",
       "4    3292765271                                                Yes   \n",
       "\n",
       "                                                  Q2  \\\n",
       "0  Do you consider yourself to be a fan of the St...   \n",
       "1                                           Response   \n",
       "2                                                Yes   \n",
       "3                                                NaN   \n",
       "4                                                 No   \n",
       "\n",
       "                                           Q3Option1  \\\n",
       "0  Which of the following Star Wars films have yo...   \n",
       "1           Star Wars: Episode I  The Phantom Menace   \n",
       "2           Star Wars: Episode I  The Phantom Menace   \n",
       "3                                                NaN   \n",
       "4           Star Wars: Episode I  The Phantom Menace   \n",
       "\n",
       "                                     Q3Option2  \\\n",
       "0                                          NaN   \n",
       "1  Star Wars: Episode II  Attack of the Clones   \n",
       "2  Star Wars: Episode II  Attack of the Clones   \n",
       "3                                          NaN   \n",
       "4  Star Wars: Episode II  Attack of the Clones   \n",
       "\n",
       "                                     Q3Option3  \\\n",
       "0                                          NaN   \n",
       "1  Star Wars: Episode III  Revenge of the Sith   \n",
       "2  Star Wars: Episode III  Revenge of the Sith   \n",
       "3                                          NaN   \n",
       "4  Star Wars: Episode III  Revenge of the Sith   \n",
       "\n",
       "                           Q3Option4  \\\n",
       "0                                NaN   \n",
       "1  Star Wars: Episode IV  A New Hope   \n",
       "2  Star Wars: Episode IV  A New Hope   \n",
       "3                                NaN   \n",
       "4                                NaN   \n",
       "\n",
       "                                      Q3Option5  \\\n",
       "0                                           NaN   \n",
       "1  Star Wars: Episode V The Empire Strikes Back   \n",
       "2  Star Wars: Episode V The Empire Strikes Back   \n",
       "3                                           NaN   \n",
       "4                                           NaN   \n",
       "\n",
       "                                  Q3Option6  \\\n",
       "0                                       NaN   \n",
       "1  Star Wars: Episode VI Return of the Jedi   \n",
       "2  Star Wars: Episode VI Return of the Jedi   \n",
       "3                                       NaN   \n",
       "4                                       NaN   \n",
       "\n",
       "                                           Q4Option1  ...        Q5Option14  \\\n",
       "0  Please rank the Star Wars films in order of pr...  ...               NaN   \n",
       "1           Star Wars: Episode I  The Phantom Menace  ...              Yoda   \n",
       "2                                                  3  ...    Very favorably   \n",
       "3                                                NaN  ...               NaN   \n",
       "4                                                  1  ...  Unfamiliar (N/A)   \n",
       "\n",
       "                                 Q6  \\\n",
       "0       Which character shot first?   \n",
       "1                          Response   \n",
       "2  I don't understand this question   \n",
       "3                               NaN   \n",
       "4  I don't understand this question   \n",
       "\n",
       "                                             Q7  \\\n",
       "0  Are you familiar with the Expanded Universe?   \n",
       "1                                      Response   \n",
       "2                                           Yes   \n",
       "3                                           NaN   \n",
       "4                                            No   \n",
       "\n",
       "                                                  Q8  \\\n",
       "0  Do you consider yourself to be a fan of the Ex...   \n",
       "1                                           Response   \n",
       "2                                                 No   \n",
       "3                                                NaN   \n",
       "4                                                NaN   \n",
       "\n",
       "                                                  Q9       Q10       Q11  \\\n",
       "0  Do you consider yourself to be a fan of the St...    Gender       Age   \n",
       "1                                           Response  Response  Response   \n",
       "2                                                 No      Male     18-29   \n",
       "3                                                Yes      Male     18-29   \n",
       "4                                                 No      Male     18-29   \n",
       "\n",
       "                Q12                 Q13                       Q14  \n",
       "0  Household Income           Education  Location (Census Region)  \n",
       "1          Response            Response                  Response  \n",
       "2               NaN  High school degree            South Atlantic  \n",
       "3      $0 - $24,999     Bachelor degree        West South Central  \n",
       "4      $0 - $24,999  High school degree        West North Central  \n",
       "\n",
       "[5 rows x 38 columns]"
      ]
     },
     "execution_count": 6,
     "metadata": {},
     "output_type": "execute_result"
    }
   ],
   "source": [
    "star.head()"
   ]
  },
  {
   "cell_type": "code",
   "execution_count": null,
   "metadata": {},
   "outputs": [],
   "source": [
    "# Droping Unnecessary Row"
   ]
  },
  {
   "cell_type": "code",
   "execution_count": 7,
   "metadata": {},
   "outputs": [
    {
     "data": {
      "text/html": [
       "<div>\n",
       "<style scoped>\n",
       "    .dataframe tbody tr th:only-of-type {\n",
       "        vertical-align: middle;\n",
       "    }\n",
       "\n",
       "    .dataframe tbody tr th {\n",
       "        vertical-align: top;\n",
       "    }\n",
       "\n",
       "    .dataframe thead th {\n",
       "        text-align: right;\n",
       "    }\n",
       "</style>\n",
       "<table border=\"1\" class=\"dataframe\">\n",
       "  <thead>\n",
       "    <tr style=\"text-align: right;\">\n",
       "      <th></th>\n",
       "      <th>ID</th>\n",
       "      <th>Q1</th>\n",
       "      <th>Q2</th>\n",
       "      <th>Q3Option1</th>\n",
       "      <th>Q3Option2</th>\n",
       "      <th>Q3Option3</th>\n",
       "      <th>Q3Option4</th>\n",
       "      <th>Q3Option5</th>\n",
       "      <th>Q3Option6</th>\n",
       "      <th>Q4Option1</th>\n",
       "      <th>...</th>\n",
       "      <th>Q5Option14</th>\n",
       "      <th>Q6</th>\n",
       "      <th>Q7</th>\n",
       "      <th>Q8</th>\n",
       "      <th>Q9</th>\n",
       "      <th>Q10</th>\n",
       "      <th>Q11</th>\n",
       "      <th>Q12</th>\n",
       "      <th>Q13</th>\n",
       "      <th>Q14</th>\n",
       "    </tr>\n",
       "  </thead>\n",
       "  <tbody>\n",
       "    <tr>\n",
       "      <td>1</td>\n",
       "      <td>2</td>\n",
       "      <td>Response</td>\n",
       "      <td>Response</td>\n",
       "      <td>Star Wars: Episode I  The Phantom Menace</td>\n",
       "      <td>Star Wars: Episode II  Attack of the Clones</td>\n",
       "      <td>Star Wars: Episode III  Revenge of the Sith</td>\n",
       "      <td>Star Wars: Episode IV  A New Hope</td>\n",
       "      <td>Star Wars: Episode V The Empire Strikes Back</td>\n",
       "      <td>Star Wars: Episode VI Return of the Jedi</td>\n",
       "      <td>Star Wars: Episode I  The Phantom Menace</td>\n",
       "      <td>...</td>\n",
       "      <td>Yoda</td>\n",
       "      <td>Response</td>\n",
       "      <td>Response</td>\n",
       "      <td>Response</td>\n",
       "      <td>Response</td>\n",
       "      <td>Response</td>\n",
       "      <td>Response</td>\n",
       "      <td>Response</td>\n",
       "      <td>Response</td>\n",
       "      <td>Response</td>\n",
       "    </tr>\n",
       "    <tr>\n",
       "      <td>2</td>\n",
       "      <td>3292879998</td>\n",
       "      <td>Yes</td>\n",
       "      <td>Yes</td>\n",
       "      <td>Star Wars: Episode I  The Phantom Menace</td>\n",
       "      <td>Star Wars: Episode II  Attack of the Clones</td>\n",
       "      <td>Star Wars: Episode III  Revenge of the Sith</td>\n",
       "      <td>Star Wars: Episode IV  A New Hope</td>\n",
       "      <td>Star Wars: Episode V The Empire Strikes Back</td>\n",
       "      <td>Star Wars: Episode VI Return of the Jedi</td>\n",
       "      <td>3</td>\n",
       "      <td>...</td>\n",
       "      <td>Very favorably</td>\n",
       "      <td>I don't understand this question</td>\n",
       "      <td>Yes</td>\n",
       "      <td>No</td>\n",
       "      <td>No</td>\n",
       "      <td>Male</td>\n",
       "      <td>18-29</td>\n",
       "      <td>NaN</td>\n",
       "      <td>High school degree</td>\n",
       "      <td>South Atlantic</td>\n",
       "    </tr>\n",
       "    <tr>\n",
       "      <td>3</td>\n",
       "      <td>3292879538</td>\n",
       "      <td>No</td>\n",
       "      <td>NaN</td>\n",
       "      <td>NaN</td>\n",
       "      <td>NaN</td>\n",
       "      <td>NaN</td>\n",
       "      <td>NaN</td>\n",
       "      <td>NaN</td>\n",
       "      <td>NaN</td>\n",
       "      <td>NaN</td>\n",
       "      <td>...</td>\n",
       "      <td>NaN</td>\n",
       "      <td>NaN</td>\n",
       "      <td>NaN</td>\n",
       "      <td>NaN</td>\n",
       "      <td>Yes</td>\n",
       "      <td>Male</td>\n",
       "      <td>18-29</td>\n",
       "      <td>$0 - $24,999</td>\n",
       "      <td>Bachelor degree</td>\n",
       "      <td>West South Central</td>\n",
       "    </tr>\n",
       "    <tr>\n",
       "      <td>4</td>\n",
       "      <td>3292765271</td>\n",
       "      <td>Yes</td>\n",
       "      <td>No</td>\n",
       "      <td>Star Wars: Episode I  The Phantom Menace</td>\n",
       "      <td>Star Wars: Episode II  Attack of the Clones</td>\n",
       "      <td>Star Wars: Episode III  Revenge of the Sith</td>\n",
       "      <td>NaN</td>\n",
       "      <td>NaN</td>\n",
       "      <td>NaN</td>\n",
       "      <td>1</td>\n",
       "      <td>...</td>\n",
       "      <td>Unfamiliar (N/A)</td>\n",
       "      <td>I don't understand this question</td>\n",
       "      <td>No</td>\n",
       "      <td>NaN</td>\n",
       "      <td>No</td>\n",
       "      <td>Male</td>\n",
       "      <td>18-29</td>\n",
       "      <td>$0 - $24,999</td>\n",
       "      <td>High school degree</td>\n",
       "      <td>West North Central</td>\n",
       "    </tr>\n",
       "    <tr>\n",
       "      <td>5</td>\n",
       "      <td>3292763116</td>\n",
       "      <td>Yes</td>\n",
       "      <td>Yes</td>\n",
       "      <td>Star Wars: Episode I  The Phantom Menace</td>\n",
       "      <td>Star Wars: Episode II  Attack of the Clones</td>\n",
       "      <td>Star Wars: Episode III  Revenge of the Sith</td>\n",
       "      <td>Star Wars: Episode IV  A New Hope</td>\n",
       "      <td>Star Wars: Episode V The Empire Strikes Back</td>\n",
       "      <td>Star Wars: Episode VI Return of the Jedi</td>\n",
       "      <td>5</td>\n",
       "      <td>...</td>\n",
       "      <td>Very favorably</td>\n",
       "      <td>I don't understand this question</td>\n",
       "      <td>No</td>\n",
       "      <td>NaN</td>\n",
       "      <td>Yes</td>\n",
       "      <td>Male</td>\n",
       "      <td>18-29</td>\n",
       "      <td>$100,000 - $149,999</td>\n",
       "      <td>Some college or Associate degree</td>\n",
       "      <td>West North Central</td>\n",
       "    </tr>\n",
       "  </tbody>\n",
       "</table>\n",
       "<p>5 rows × 38 columns</p>\n",
       "</div>"
      ],
      "text/plain": [
       "           ID        Q1        Q2                                 Q3Option1  \\\n",
       "1           2  Response  Response  Star Wars: Episode I  The Phantom Menace   \n",
       "2  3292879998       Yes       Yes  Star Wars: Episode I  The Phantom Menace   \n",
       "3  3292879538        No       NaN                                       NaN   \n",
       "4  3292765271       Yes        No  Star Wars: Episode I  The Phantom Menace   \n",
       "5  3292763116       Yes       Yes  Star Wars: Episode I  The Phantom Menace   \n",
       "\n",
       "                                     Q3Option2  \\\n",
       "1  Star Wars: Episode II  Attack of the Clones   \n",
       "2  Star Wars: Episode II  Attack of the Clones   \n",
       "3                                          NaN   \n",
       "4  Star Wars: Episode II  Attack of the Clones   \n",
       "5  Star Wars: Episode II  Attack of the Clones   \n",
       "\n",
       "                                     Q3Option3  \\\n",
       "1  Star Wars: Episode III  Revenge of the Sith   \n",
       "2  Star Wars: Episode III  Revenge of the Sith   \n",
       "3                                          NaN   \n",
       "4  Star Wars: Episode III  Revenge of the Sith   \n",
       "5  Star Wars: Episode III  Revenge of the Sith   \n",
       "\n",
       "                           Q3Option4  \\\n",
       "1  Star Wars: Episode IV  A New Hope   \n",
       "2  Star Wars: Episode IV  A New Hope   \n",
       "3                                NaN   \n",
       "4                                NaN   \n",
       "5  Star Wars: Episode IV  A New Hope   \n",
       "\n",
       "                                      Q3Option5  \\\n",
       "1  Star Wars: Episode V The Empire Strikes Back   \n",
       "2  Star Wars: Episode V The Empire Strikes Back   \n",
       "3                                           NaN   \n",
       "4                                           NaN   \n",
       "5  Star Wars: Episode V The Empire Strikes Back   \n",
       "\n",
       "                                  Q3Option6  \\\n",
       "1  Star Wars: Episode VI Return of the Jedi   \n",
       "2  Star Wars: Episode VI Return of the Jedi   \n",
       "3                                       NaN   \n",
       "4                                       NaN   \n",
       "5  Star Wars: Episode VI Return of the Jedi   \n",
       "\n",
       "                                  Q4Option1  ...        Q5Option14  \\\n",
       "1  Star Wars: Episode I  The Phantom Menace  ...              Yoda   \n",
       "2                                         3  ...    Very favorably   \n",
       "3                                       NaN  ...               NaN   \n",
       "4                                         1  ...  Unfamiliar (N/A)   \n",
       "5                                         5  ...    Very favorably   \n",
       "\n",
       "                                 Q6        Q7        Q8        Q9       Q10  \\\n",
       "1                          Response  Response  Response  Response  Response   \n",
       "2  I don't understand this question       Yes        No        No      Male   \n",
       "3                               NaN       NaN       NaN       Yes      Male   \n",
       "4  I don't understand this question        No       NaN        No      Male   \n",
       "5  I don't understand this question        No       NaN       Yes      Male   \n",
       "\n",
       "        Q11                  Q12                               Q13  \\\n",
       "1  Response             Response                          Response   \n",
       "2     18-29                  NaN                High school degree   \n",
       "3     18-29         $0 - $24,999                   Bachelor degree   \n",
       "4     18-29         $0 - $24,999                High school degree   \n",
       "5     18-29  $100,000 - $149,999  Some college or Associate degree   \n",
       "\n",
       "                  Q14  \n",
       "1            Response  \n",
       "2      South Atlantic  \n",
       "3  West South Central  \n",
       "4  West North Central  \n",
       "5  West North Central  \n",
       "\n",
       "[5 rows x 38 columns]"
      ]
     },
     "execution_count": 7,
     "metadata": {},
     "output_type": "execute_result"
    }
   ],
   "source": [
    "star.drop([0],axis=0,inplace=True)\n",
    "star.head()"
   ]
  },
  {
   "cell_type": "code",
   "execution_count": null,
   "metadata": {},
   "outputs": [],
   "source": [
    "# Data Type Checking"
   ]
  },
  {
   "cell_type": "code",
   "execution_count": 8,
   "metadata": {},
   "outputs": [
    {
     "data": {
      "text/plain": [
       "ID            object\n",
       "Q1            object\n",
       "Q2            object\n",
       "Q3Option1     object\n",
       "Q3Option2     object\n",
       "Q3Option3     object\n",
       "Q3Option4     object\n",
       "Q3Option5     object\n",
       "Q3Option6     object\n",
       "Q4Option1     object\n",
       "Q4Option2     object\n",
       "Q4Option3     object\n",
       "Q4Option4     object\n",
       "Q4Option5     object\n",
       "Q4Option6     object\n",
       "Q5Option1     object\n",
       "Q5Option2     object\n",
       "Q5Option3     object\n",
       "Q5Option4     object\n",
       "Q5Option5     object\n",
       "Q5Option6     object\n",
       "Q5Option7     object\n",
       "Q5Option8     object\n",
       "Q5Option9     object\n",
       "Q5Option10    object\n",
       "Q5Option11    object\n",
       "Q5Option12    object\n",
       "Q5Option13    object\n",
       "Q5Option14    object\n",
       "Q6            object\n",
       "Q7            object\n",
       "Q8            object\n",
       "Q9            object\n",
       "Q10           object\n",
       "Q11           object\n",
       "Q12           object\n",
       "Q13           object\n",
       "Q14           object\n",
       "dtype: object"
      ]
     },
     "execution_count": 8,
     "metadata": {},
     "output_type": "execute_result"
    }
   ],
   "source": [
    "star.dtypes"
   ]
  },
  {
   "cell_type": "code",
   "execution_count": null,
   "metadata": {},
   "outputs": [],
   "source": [
    " # Copying main dataset into another variable"
   ]
  },
  {
   "cell_type": "code",
   "execution_count": 9,
   "metadata": {},
   "outputs": [],
   "source": [
    "fakestar=star.copy()"
   ]
  },
  {
   "cell_type": "code",
   "execution_count": 10,
   "metadata": {},
   "outputs": [
    {
     "data": {
      "text/plain": [
       "Yes         935\n",
       "No          250\n",
       "Yes           1\n",
       "Response      1\n",
       "Name: Q1, dtype: int64"
      ]
     },
     "execution_count": 10,
     "metadata": {},
     "output_type": "execute_result"
    }
   ],
   "source": [
    "fakestar['Q1'].value_counts()"
   ]
  },
  {
   "cell_type": "code",
   "execution_count": null,
   "metadata": {},
   "outputs": [],
   "source": [
    " # Deleting Extra White Space"
   ]
  },
  {
   "cell_type": "code",
   "execution_count": 11,
   "metadata": {},
   "outputs": [],
   "source": [
    "fakestar['Q1']=fakestar['Q1'].str.strip()"
   ]
  },
  {
   "cell_type": "code",
   "execution_count": 12,
   "metadata": {},
   "outputs": [
    {
     "data": {
      "text/plain": [
       "Yes         936\n",
       "No          250\n",
       "Response      1\n",
       "Name: Q1, dtype: int64"
      ]
     },
     "execution_count": 12,
     "metadata": {},
     "output_type": "execute_result"
    }
   ],
   "source": [
    "fakestar['Q1'].value_counts()"
   ]
  },
  {
   "cell_type": "code",
   "execution_count": 13,
   "metadata": {},
   "outputs": [
    {
     "data": {
      "text/plain": [
       "Yes         551\n",
       "No          283\n",
       "Yess          1\n",
       "Response      1\n",
       "Noo           1\n",
       "Name: Q2, dtype: int64"
      ]
     },
     "execution_count": 13,
     "metadata": {},
     "output_type": "execute_result"
    }
   ],
   "source": [
    "fakestar['Q2'].value_counts()"
   ]
  },
  {
   "cell_type": "code",
   "execution_count": 14,
   "metadata": {},
   "outputs": [
    {
     "data": {
      "text/plain": [
       "(1187, 38)"
      ]
     },
     "execution_count": 14,
     "metadata": {},
     "output_type": "execute_result"
    }
   ],
   "source": [
    "fakestar.shape"
   ]
  },
  {
   "cell_type": "code",
   "execution_count": 15,
   "metadata": {},
   "outputs": [
    {
     "data": {
      "text/plain": [
       "(133, 38)"
      ]
     },
     "execution_count": 15,
     "metadata": {},
     "output_type": "execute_result"
    }
   ],
   "source": [
    "fakestar.dropna(how='any').shape"
   ]
  },
  {
   "cell_type": "code",
   "execution_count": 16,
   "metadata": {},
   "outputs": [
    {
     "data": {
      "text/plain": [
       "(1187, 38)"
      ]
     },
     "execution_count": 16,
     "metadata": {},
     "output_type": "execute_result"
    }
   ],
   "source": [
    "fakestar.shape"
   ]
  },
  {
   "cell_type": "code",
   "execution_count": 17,
   "metadata": {},
   "outputs": [
    {
     "data": {
      "text/plain": [
       "(1187, 38)"
      ]
     },
     "execution_count": 17,
     "metadata": {},
     "output_type": "execute_result"
    }
   ],
   "source": [
    "fakestar.dropna(how='all').shape"
   ]
  },
  {
   "cell_type": "code",
   "execution_count": 18,
   "metadata": {},
   "outputs": [
    {
     "data": {
      "text/html": [
       "<div>\n",
       "<style scoped>\n",
       "    .dataframe tbody tr th:only-of-type {\n",
       "        vertical-align: middle;\n",
       "    }\n",
       "\n",
       "    .dataframe tbody tr th {\n",
       "        vertical-align: top;\n",
       "    }\n",
       "\n",
       "    .dataframe thead th {\n",
       "        text-align: right;\n",
       "    }\n",
       "</style>\n",
       "<table border=\"1\" class=\"dataframe\">\n",
       "  <thead>\n",
       "    <tr style=\"text-align: right;\">\n",
       "      <th></th>\n",
       "      <th>ID</th>\n",
       "      <th>Q1</th>\n",
       "      <th>Q2</th>\n",
       "      <th>Q3Option1</th>\n",
       "      <th>Q3Option2</th>\n",
       "      <th>Q3Option3</th>\n",
       "      <th>Q3Option4</th>\n",
       "      <th>Q3Option5</th>\n",
       "      <th>Q3Option6</th>\n",
       "      <th>Q4Option1</th>\n",
       "      <th>...</th>\n",
       "      <th>Q5Option14</th>\n",
       "      <th>Q6</th>\n",
       "      <th>Q7</th>\n",
       "      <th>Q8</th>\n",
       "      <th>Q9</th>\n",
       "      <th>Q10</th>\n",
       "      <th>Q11</th>\n",
       "      <th>Q12</th>\n",
       "      <th>Q13</th>\n",
       "      <th>Q14</th>\n",
       "    </tr>\n",
       "  </thead>\n",
       "  <tbody>\n",
       "    <tr>\n",
       "      <td>1</td>\n",
       "      <td>False</td>\n",
       "      <td>False</td>\n",
       "      <td>False</td>\n",
       "      <td>False</td>\n",
       "      <td>False</td>\n",
       "      <td>False</td>\n",
       "      <td>False</td>\n",
       "      <td>False</td>\n",
       "      <td>False</td>\n",
       "      <td>False</td>\n",
       "      <td>...</td>\n",
       "      <td>False</td>\n",
       "      <td>False</td>\n",
       "      <td>False</td>\n",
       "      <td>False</td>\n",
       "      <td>False</td>\n",
       "      <td>False</td>\n",
       "      <td>False</td>\n",
       "      <td>False</td>\n",
       "      <td>False</td>\n",
       "      <td>False</td>\n",
       "    </tr>\n",
       "    <tr>\n",
       "      <td>2</td>\n",
       "      <td>False</td>\n",
       "      <td>False</td>\n",
       "      <td>False</td>\n",
       "      <td>False</td>\n",
       "      <td>False</td>\n",
       "      <td>False</td>\n",
       "      <td>False</td>\n",
       "      <td>False</td>\n",
       "      <td>False</td>\n",
       "      <td>False</td>\n",
       "      <td>...</td>\n",
       "      <td>False</td>\n",
       "      <td>False</td>\n",
       "      <td>False</td>\n",
       "      <td>False</td>\n",
       "      <td>False</td>\n",
       "      <td>False</td>\n",
       "      <td>False</td>\n",
       "      <td>True</td>\n",
       "      <td>False</td>\n",
       "      <td>False</td>\n",
       "    </tr>\n",
       "    <tr>\n",
       "      <td>3</td>\n",
       "      <td>False</td>\n",
       "      <td>False</td>\n",
       "      <td>True</td>\n",
       "      <td>True</td>\n",
       "      <td>True</td>\n",
       "      <td>True</td>\n",
       "      <td>True</td>\n",
       "      <td>True</td>\n",
       "      <td>True</td>\n",
       "      <td>True</td>\n",
       "      <td>...</td>\n",
       "      <td>True</td>\n",
       "      <td>True</td>\n",
       "      <td>True</td>\n",
       "      <td>True</td>\n",
       "      <td>False</td>\n",
       "      <td>False</td>\n",
       "      <td>False</td>\n",
       "      <td>False</td>\n",
       "      <td>False</td>\n",
       "      <td>False</td>\n",
       "    </tr>\n",
       "    <tr>\n",
       "      <td>4</td>\n",
       "      <td>False</td>\n",
       "      <td>False</td>\n",
       "      <td>False</td>\n",
       "      <td>False</td>\n",
       "      <td>False</td>\n",
       "      <td>False</td>\n",
       "      <td>True</td>\n",
       "      <td>True</td>\n",
       "      <td>True</td>\n",
       "      <td>False</td>\n",
       "      <td>...</td>\n",
       "      <td>False</td>\n",
       "      <td>False</td>\n",
       "      <td>False</td>\n",
       "      <td>True</td>\n",
       "      <td>False</td>\n",
       "      <td>False</td>\n",
       "      <td>False</td>\n",
       "      <td>False</td>\n",
       "      <td>False</td>\n",
       "      <td>False</td>\n",
       "    </tr>\n",
       "    <tr>\n",
       "      <td>5</td>\n",
       "      <td>False</td>\n",
       "      <td>False</td>\n",
       "      <td>False</td>\n",
       "      <td>False</td>\n",
       "      <td>False</td>\n",
       "      <td>False</td>\n",
       "      <td>False</td>\n",
       "      <td>False</td>\n",
       "      <td>False</td>\n",
       "      <td>False</td>\n",
       "      <td>...</td>\n",
       "      <td>False</td>\n",
       "      <td>False</td>\n",
       "      <td>False</td>\n",
       "      <td>True</td>\n",
       "      <td>False</td>\n",
       "      <td>False</td>\n",
       "      <td>False</td>\n",
       "      <td>False</td>\n",
       "      <td>False</td>\n",
       "      <td>False</td>\n",
       "    </tr>\n",
       "    <tr>\n",
       "      <td>...</td>\n",
       "      <td>...</td>\n",
       "      <td>...</td>\n",
       "      <td>...</td>\n",
       "      <td>...</td>\n",
       "      <td>...</td>\n",
       "      <td>...</td>\n",
       "      <td>...</td>\n",
       "      <td>...</td>\n",
       "      <td>...</td>\n",
       "      <td>...</td>\n",
       "      <td>...</td>\n",
       "      <td>...</td>\n",
       "      <td>...</td>\n",
       "      <td>...</td>\n",
       "      <td>...</td>\n",
       "      <td>...</td>\n",
       "      <td>...</td>\n",
       "      <td>...</td>\n",
       "      <td>...</td>\n",
       "      <td>...</td>\n",
       "      <td>...</td>\n",
       "    </tr>\n",
       "    <tr>\n",
       "      <td>1183</td>\n",
       "      <td>False</td>\n",
       "      <td>False</td>\n",
       "      <td>False</td>\n",
       "      <td>False</td>\n",
       "      <td>False</td>\n",
       "      <td>False</td>\n",
       "      <td>False</td>\n",
       "      <td>False</td>\n",
       "      <td>False</td>\n",
       "      <td>False</td>\n",
       "      <td>...</td>\n",
       "      <td>False</td>\n",
       "      <td>False</td>\n",
       "      <td>False</td>\n",
       "      <td>True</td>\n",
       "      <td>False</td>\n",
       "      <td>False</td>\n",
       "      <td>False</td>\n",
       "      <td>False</td>\n",
       "      <td>False</td>\n",
       "      <td>False</td>\n",
       "    </tr>\n",
       "    <tr>\n",
       "      <td>1184</td>\n",
       "      <td>False</td>\n",
       "      <td>False</td>\n",
       "      <td>False</td>\n",
       "      <td>False</td>\n",
       "      <td>False</td>\n",
       "      <td>False</td>\n",
       "      <td>False</td>\n",
       "      <td>False</td>\n",
       "      <td>False</td>\n",
       "      <td>False</td>\n",
       "      <td>...</td>\n",
       "      <td>False</td>\n",
       "      <td>False</td>\n",
       "      <td>False</td>\n",
       "      <td>True</td>\n",
       "      <td>False</td>\n",
       "      <td>False</td>\n",
       "      <td>False</td>\n",
       "      <td>False</td>\n",
       "      <td>False</td>\n",
       "      <td>False</td>\n",
       "    </tr>\n",
       "    <tr>\n",
       "      <td>1185</td>\n",
       "      <td>False</td>\n",
       "      <td>False</td>\n",
       "      <td>True</td>\n",
       "      <td>True</td>\n",
       "      <td>True</td>\n",
       "      <td>True</td>\n",
       "      <td>True</td>\n",
       "      <td>True</td>\n",
       "      <td>True</td>\n",
       "      <td>True</td>\n",
       "      <td>...</td>\n",
       "      <td>True</td>\n",
       "      <td>True</td>\n",
       "      <td>True</td>\n",
       "      <td>True</td>\n",
       "      <td>False</td>\n",
       "      <td>False</td>\n",
       "      <td>False</td>\n",
       "      <td>False</td>\n",
       "      <td>False</td>\n",
       "      <td>False</td>\n",
       "    </tr>\n",
       "    <tr>\n",
       "      <td>1186</td>\n",
       "      <td>False</td>\n",
       "      <td>False</td>\n",
       "      <td>False</td>\n",
       "      <td>False</td>\n",
       "      <td>False</td>\n",
       "      <td>False</td>\n",
       "      <td>False</td>\n",
       "      <td>False</td>\n",
       "      <td>False</td>\n",
       "      <td>False</td>\n",
       "      <td>...</td>\n",
       "      <td>False</td>\n",
       "      <td>False</td>\n",
       "      <td>False</td>\n",
       "      <td>True</td>\n",
       "      <td>False</td>\n",
       "      <td>False</td>\n",
       "      <td>False</td>\n",
       "      <td>False</td>\n",
       "      <td>False</td>\n",
       "      <td>False</td>\n",
       "    </tr>\n",
       "    <tr>\n",
       "      <td>1187</td>\n",
       "      <td>False</td>\n",
       "      <td>False</td>\n",
       "      <td>False</td>\n",
       "      <td>False</td>\n",
       "      <td>False</td>\n",
       "      <td>True</td>\n",
       "      <td>True</td>\n",
       "      <td>False</td>\n",
       "      <td>False</td>\n",
       "      <td>False</td>\n",
       "      <td>...</td>\n",
       "      <td>False</td>\n",
       "      <td>False</td>\n",
       "      <td>False</td>\n",
       "      <td>True</td>\n",
       "      <td>False</td>\n",
       "      <td>False</td>\n",
       "      <td>False</td>\n",
       "      <td>False</td>\n",
       "      <td>False</td>\n",
       "      <td>False</td>\n",
       "    </tr>\n",
       "  </tbody>\n",
       "</table>\n",
       "<p>1187 rows × 38 columns</p>\n",
       "</div>"
      ],
      "text/plain": [
       "         ID     Q1     Q2  Q3Option1  Q3Option2  Q3Option3  Q3Option4  \\\n",
       "1     False  False  False      False      False      False      False   \n",
       "2     False  False  False      False      False      False      False   \n",
       "3     False  False   True       True       True       True       True   \n",
       "4     False  False  False      False      False      False       True   \n",
       "5     False  False  False      False      False      False      False   \n",
       "...     ...    ...    ...        ...        ...        ...        ...   \n",
       "1183  False  False  False      False      False      False      False   \n",
       "1184  False  False  False      False      False      False      False   \n",
       "1185  False  False   True       True       True       True       True   \n",
       "1186  False  False  False      False      False      False      False   \n",
       "1187  False  False  False      False      False       True       True   \n",
       "\n",
       "      Q3Option5  Q3Option6  Q4Option1  ...  Q5Option14     Q6     Q7     Q8  \\\n",
       "1         False      False      False  ...       False  False  False  False   \n",
       "2         False      False      False  ...       False  False  False  False   \n",
       "3          True       True       True  ...        True   True   True   True   \n",
       "4          True       True      False  ...       False  False  False   True   \n",
       "5         False      False      False  ...       False  False  False   True   \n",
       "...         ...        ...        ...  ...         ...    ...    ...    ...   \n",
       "1183      False      False      False  ...       False  False  False   True   \n",
       "1184      False      False      False  ...       False  False  False   True   \n",
       "1185       True       True       True  ...        True   True   True   True   \n",
       "1186      False      False      False  ...       False  False  False   True   \n",
       "1187      False      False      False  ...       False  False  False   True   \n",
       "\n",
       "         Q9    Q10    Q11    Q12    Q13    Q14  \n",
       "1     False  False  False  False  False  False  \n",
       "2     False  False  False   True  False  False  \n",
       "3     False  False  False  False  False  False  \n",
       "4     False  False  False  False  False  False  \n",
       "5     False  False  False  False  False  False  \n",
       "...     ...    ...    ...    ...    ...    ...  \n",
       "1183  False  False  False  False  False  False  \n",
       "1184  False  False  False  False  False  False  \n",
       "1185  False  False  False  False  False  False  \n",
       "1186  False  False  False  False  False  False  \n",
       "1187  False  False  False  False  False  False  \n",
       "\n",
       "[1187 rows x 38 columns]"
      ]
     },
     "execution_count": 18,
     "metadata": {},
     "output_type": "execute_result"
    }
   ],
   "source": [
    "fakestar.isnull()"
   ]
  },
  {
   "cell_type": "code",
   "execution_count": 21,
   "metadata": {},
   "outputs": [
    {
     "data": {
      "text/plain": [
       "ID              0\n",
       "Q1              0\n",
       "Q2            350\n",
       "Q3Option1     513\n",
       "Q3Option2     615\n",
       "Q3Option3     636\n",
       "Q3Option4     579\n",
       "Q3Option5     428\n",
       "Q3Option6     448\n",
       "Q4Option1     351\n",
       "Q4Option2     350\n",
       "Q4Option3     351\n",
       "Q4Option4     350\n",
       "Q4Option5     350\n",
       "Q4Option6     350\n",
       "Q5Option1     357\n",
       "Q5Option2     355\n",
       "Q5Option3     355\n",
       "Q5Option4     363\n",
       "Q5Option5     361\n",
       "Q5Option6     372\n",
       "Q5Option7     360\n",
       "Q5Option8     366\n",
       "Q5Option9     374\n",
       "Q5Option10    359\n",
       "Q5Option11    356\n",
       "Q5Option12    365\n",
       "Q5Option13    372\n",
       "Q5Option14    360\n",
       "Q6            358\n",
       "Q7            358\n",
       "Q8            973\n",
       "Q9            118\n",
       "Q10           140\n",
       "Q11           140\n",
       "Q12           328\n",
       "Q13           150\n",
       "Q14           143\n",
       "dtype: int64"
      ]
     },
     "execution_count": 21,
     "metadata": {},
     "output_type": "execute_result"
    }
   ],
   "source": [
    "fakestar.isnull().sum()\n"
   ]
  },
  {
   "cell_type": "code",
   "execution_count": 22,
   "metadata": {},
   "outputs": [
    {
     "data": {
      "text/html": [
       "<div>\n",
       "<style scoped>\n",
       "    .dataframe tbody tr th:only-of-type {\n",
       "        vertical-align: middle;\n",
       "    }\n",
       "\n",
       "    .dataframe tbody tr th {\n",
       "        vertical-align: top;\n",
       "    }\n",
       "\n",
       "    .dataframe thead th {\n",
       "        text-align: right;\n",
       "    }\n",
       "</style>\n",
       "<table border=\"1\" class=\"dataframe\">\n",
       "  <thead>\n",
       "    <tr style=\"text-align: right;\">\n",
       "      <th></th>\n",
       "      <th>ID</th>\n",
       "      <th>Q1</th>\n",
       "      <th>Q2</th>\n",
       "      <th>Q3Option1</th>\n",
       "      <th>Q3Option2</th>\n",
       "      <th>Q3Option3</th>\n",
       "      <th>Q3Option4</th>\n",
       "      <th>Q3Option5</th>\n",
       "      <th>Q3Option6</th>\n",
       "      <th>Q4Option1</th>\n",
       "      <th>...</th>\n",
       "      <th>Q5Option14</th>\n",
       "      <th>Q6</th>\n",
       "      <th>Q7</th>\n",
       "      <th>Q8</th>\n",
       "      <th>Q9</th>\n",
       "      <th>Q10</th>\n",
       "      <th>Q11</th>\n",
       "      <th>Q12</th>\n",
       "      <th>Q13</th>\n",
       "      <th>Q14</th>\n",
       "    </tr>\n",
       "  </thead>\n",
       "  <tbody>\n",
       "    <tr>\n",
       "      <td>2</td>\n",
       "      <td>3292879998</td>\n",
       "      <td>Yes</td>\n",
       "      <td>Yes</td>\n",
       "      <td>Star Wars: Episode I  The Phantom Menace</td>\n",
       "      <td>Star Wars: Episode II  Attack of the Clones</td>\n",
       "      <td>Star Wars: Episode III  Revenge of the Sith</td>\n",
       "      <td>Star Wars: Episode IV  A New Hope</td>\n",
       "      <td>Star Wars: Episode V The Empire Strikes Back</td>\n",
       "      <td>Star Wars: Episode VI Return of the Jedi</td>\n",
       "      <td>3</td>\n",
       "      <td>...</td>\n",
       "      <td>Very favorably</td>\n",
       "      <td>I don't understand this question</td>\n",
       "      <td>Yes</td>\n",
       "      <td>No</td>\n",
       "      <td>No</td>\n",
       "      <td>Male</td>\n",
       "      <td>18-29</td>\n",
       "      <td>NaN</td>\n",
       "      <td>High school degree</td>\n",
       "      <td>South Atlantic</td>\n",
       "    </tr>\n",
       "    <tr>\n",
       "      <td>3</td>\n",
       "      <td>3292879538</td>\n",
       "      <td>No</td>\n",
       "      <td>NaN</td>\n",
       "      <td>NaN</td>\n",
       "      <td>NaN</td>\n",
       "      <td>NaN</td>\n",
       "      <td>NaN</td>\n",
       "      <td>NaN</td>\n",
       "      <td>NaN</td>\n",
       "      <td>NaN</td>\n",
       "      <td>...</td>\n",
       "      <td>NaN</td>\n",
       "      <td>NaN</td>\n",
       "      <td>NaN</td>\n",
       "      <td>NaN</td>\n",
       "      <td>Yes</td>\n",
       "      <td>Male</td>\n",
       "      <td>18-29</td>\n",
       "      <td>$0 - $24,999</td>\n",
       "      <td>Bachelor degree</td>\n",
       "      <td>West South Central</td>\n",
       "    </tr>\n",
       "    <tr>\n",
       "      <td>4</td>\n",
       "      <td>3292765271</td>\n",
       "      <td>Yes</td>\n",
       "      <td>No</td>\n",
       "      <td>Star Wars: Episode I  The Phantom Menace</td>\n",
       "      <td>Star Wars: Episode II  Attack of the Clones</td>\n",
       "      <td>Star Wars: Episode III  Revenge of the Sith</td>\n",
       "      <td>NaN</td>\n",
       "      <td>NaN</td>\n",
       "      <td>NaN</td>\n",
       "      <td>1</td>\n",
       "      <td>...</td>\n",
       "      <td>Unfamiliar (N/A)</td>\n",
       "      <td>I don't understand this question</td>\n",
       "      <td>No</td>\n",
       "      <td>NaN</td>\n",
       "      <td>No</td>\n",
       "      <td>Male</td>\n",
       "      <td>18-29</td>\n",
       "      <td>$0 - $24,999</td>\n",
       "      <td>High school degree</td>\n",
       "      <td>West North Central</td>\n",
       "    </tr>\n",
       "    <tr>\n",
       "      <td>5</td>\n",
       "      <td>3292763116</td>\n",
       "      <td>Yes</td>\n",
       "      <td>Yes</td>\n",
       "      <td>Star Wars: Episode I  The Phantom Menace</td>\n",
       "      <td>Star Wars: Episode II  Attack of the Clones</td>\n",
       "      <td>Star Wars: Episode III  Revenge of the Sith</td>\n",
       "      <td>Star Wars: Episode IV  A New Hope</td>\n",
       "      <td>Star Wars: Episode V The Empire Strikes Back</td>\n",
       "      <td>Star Wars: Episode VI Return of the Jedi</td>\n",
       "      <td>5</td>\n",
       "      <td>...</td>\n",
       "      <td>Very favorably</td>\n",
       "      <td>I don't understand this question</td>\n",
       "      <td>No</td>\n",
       "      <td>NaN</td>\n",
       "      <td>Yes</td>\n",
       "      <td>Male</td>\n",
       "      <td>18-29</td>\n",
       "      <td>$100,000 - $149,999</td>\n",
       "      <td>Some college or Associate degree</td>\n",
       "      <td>West North Central</td>\n",
       "    </tr>\n",
       "    <tr>\n",
       "      <td>6</td>\n",
       "      <td>3292731220</td>\n",
       "      <td>Yes</td>\n",
       "      <td>Yes</td>\n",
       "      <td>Star Wars: Episode I  The Phantom Menace</td>\n",
       "      <td>Star Wars: Episode II  Attack of the Clones</td>\n",
       "      <td>Star Wars: Episode III  Revenge of the Sith</td>\n",
       "      <td>Star Wars: Episode IV  A New Hope</td>\n",
       "      <td>Star Wars: Episode V The Empire Strikes Back</td>\n",
       "      <td>Star Wars: Episode VI Return of the Jedi</td>\n",
       "      <td>5</td>\n",
       "      <td>...</td>\n",
       "      <td>Somewhat favorably</td>\n",
       "      <td>Greedo</td>\n",
       "      <td>Yes</td>\n",
       "      <td>No</td>\n",
       "      <td>No</td>\n",
       "      <td>Male</td>\n",
       "      <td>18-29</td>\n",
       "      <td>$100,000 - $149,999</td>\n",
       "      <td>Some college or Associate degree</td>\n",
       "      <td>West North Central</td>\n",
       "    </tr>\n",
       "  </tbody>\n",
       "</table>\n",
       "<p>5 rows × 38 columns</p>\n",
       "</div>"
      ],
      "text/plain": [
       "           ID   Q1   Q2                                 Q3Option1  \\\n",
       "2  3292879998  Yes  Yes  Star Wars: Episode I  The Phantom Menace   \n",
       "3  3292879538   No  NaN                                       NaN   \n",
       "4  3292765271  Yes   No  Star Wars: Episode I  The Phantom Menace   \n",
       "5  3292763116  Yes  Yes  Star Wars: Episode I  The Phantom Menace   \n",
       "6  3292731220  Yes  Yes  Star Wars: Episode I  The Phantom Menace   \n",
       "\n",
       "                                     Q3Option2  \\\n",
       "2  Star Wars: Episode II  Attack of the Clones   \n",
       "3                                          NaN   \n",
       "4  Star Wars: Episode II  Attack of the Clones   \n",
       "5  Star Wars: Episode II  Attack of the Clones   \n",
       "6  Star Wars: Episode II  Attack of the Clones   \n",
       "\n",
       "                                     Q3Option3  \\\n",
       "2  Star Wars: Episode III  Revenge of the Sith   \n",
       "3                                          NaN   \n",
       "4  Star Wars: Episode III  Revenge of the Sith   \n",
       "5  Star Wars: Episode III  Revenge of the Sith   \n",
       "6  Star Wars: Episode III  Revenge of the Sith   \n",
       "\n",
       "                           Q3Option4  \\\n",
       "2  Star Wars: Episode IV  A New Hope   \n",
       "3                                NaN   \n",
       "4                                NaN   \n",
       "5  Star Wars: Episode IV  A New Hope   \n",
       "6  Star Wars: Episode IV  A New Hope   \n",
       "\n",
       "                                      Q3Option5  \\\n",
       "2  Star Wars: Episode V The Empire Strikes Back   \n",
       "3                                           NaN   \n",
       "4                                           NaN   \n",
       "5  Star Wars: Episode V The Empire Strikes Back   \n",
       "6  Star Wars: Episode V The Empire Strikes Back   \n",
       "\n",
       "                                  Q3Option6 Q4Option1  ...  \\\n",
       "2  Star Wars: Episode VI Return of the Jedi         3  ...   \n",
       "3                                       NaN       NaN  ...   \n",
       "4                                       NaN         1  ...   \n",
       "5  Star Wars: Episode VI Return of the Jedi         5  ...   \n",
       "6  Star Wars: Episode VI Return of the Jedi         5  ...   \n",
       "\n",
       "           Q5Option14                                Q6   Q7   Q8   Q9   Q10  \\\n",
       "2      Very favorably  I don't understand this question  Yes   No   No  Male   \n",
       "3                 NaN                               NaN  NaN  NaN  Yes  Male   \n",
       "4    Unfamiliar (N/A)  I don't understand this question   No  NaN   No  Male   \n",
       "5      Very favorably  I don't understand this question   No  NaN  Yes  Male   \n",
       "6  Somewhat favorably                            Greedo  Yes   No   No  Male   \n",
       "\n",
       "     Q11                  Q12                               Q13  \\\n",
       "2  18-29                  NaN                High school degree   \n",
       "3  18-29         $0 - $24,999                   Bachelor degree   \n",
       "4  18-29         $0 - $24,999                High school degree   \n",
       "5  18-29  $100,000 - $149,999  Some college or Associate degree   \n",
       "6  18-29  $100,000 - $149,999  Some college or Associate degree   \n",
       "\n",
       "                  Q14  \n",
       "2      South Atlantic  \n",
       "3  West South Central  \n",
       "4  West North Central  \n",
       "5  West North Central  \n",
       "6  West North Central  \n",
       "\n",
       "[5 rows x 38 columns]"
      ]
     },
     "execution_count": 22,
     "metadata": {},
     "output_type": "execute_result"
    }
   ],
   "source": [
    "fakestar.drop([1],axis=0,inplace=True)\n",
    "fakestar.head()\n"
   ]
  },
  {
   "cell_type": "code",
   "execution_count": null,
   "metadata": {},
   "outputs": [],
   "source": [
    "# Checking Typos"
   ]
  },
  {
   "cell_type": "code",
   "execution_count": 23,
   "metadata": {},
   "outputs": [
    {
     "data": {
      "text/plain": [
       "No     639\n",
       "Yes    426\n",
       "yes      1\n",
       "Noo      1\n",
       "no       1\n",
       "Name: Q9, dtype: int64"
      ]
     },
     "execution_count": 23,
     "metadata": {},
     "output_type": "execute_result"
    }
   ],
   "source": [
    "fakestar['Q9'].value_counts()\n"
   ]
  },
  {
   "cell_type": "code",
   "execution_count": 24,
   "metadata": {},
   "outputs": [
    {
     "ename": "SyntaxError",
     "evalue": "invalid syntax (<ipython-input-24-071873d5de05>, line 1)",
     "output_type": "error",
     "traceback": [
      "\u001b[1;36m  File \u001b[1;32m\"<ipython-input-24-071873d5de05>\"\u001b[1;36m, line \u001b[1;32m1\u001b[0m\n\u001b[1;33m    fakestar.'Q9'.str.upper()\u001b[0m\n\u001b[1;37m                ^\u001b[0m\n\u001b[1;31mSyntaxError\u001b[0m\u001b[1;31m:\u001b[0m invalid syntax\n"
     ]
    }
   ],
   "source": [
    "fakestar.'Q9'.str.upper()"
   ]
  },
  {
   "cell_type": "code",
   "execution_count": 25,
   "metadata": {},
   "outputs": [],
   "source": [
    "fakestar['Q9'].replace('no', 'No', inplace=True)"
   ]
  },
  {
   "cell_type": "code",
   "execution_count": 26,
   "metadata": {},
   "outputs": [
    {
     "data": {
      "text/plain": [
       "No     639\n",
       "Yes    426\n",
       "yes      1\n",
       "Noo      1\n",
       "no       1\n",
       "Name: Q9, dtype: int64"
      ]
     },
     "execution_count": 26,
     "metadata": {},
     "output_type": "execute_result"
    }
   ],
   "source": [
    "fakestar['Q9'].value_counts()"
   ]
  },
  {
   "cell_type": "code",
   "execution_count": 27,
   "metadata": {},
   "outputs": [],
   "source": [
    "fakestar['Q2'].replace('Noo', 'No', inplace=True)"
   ]
  },
  {
   "cell_type": "code",
   "execution_count": 28,
   "metadata": {},
   "outputs": [
    {
     "name": "stdout",
     "output_type": "stream",
     "text": [
      "No lines in history match specification\n"
     ]
    }
   ],
   "source": [
    "%rerun 41\n"
   ]
  },
  {
   "cell_type": "code",
   "execution_count": 29,
   "metadata": {},
   "outputs": [
    {
     "data": {
      "text/html": [
       "<div>\n",
       "<style scoped>\n",
       "    .dataframe tbody tr th:only-of-type {\n",
       "        vertical-align: middle;\n",
       "    }\n",
       "\n",
       "    .dataframe tbody tr th {\n",
       "        vertical-align: top;\n",
       "    }\n",
       "\n",
       "    .dataframe thead th {\n",
       "        text-align: right;\n",
       "    }\n",
       "</style>\n",
       "<table border=\"1\" class=\"dataframe\">\n",
       "  <thead>\n",
       "    <tr style=\"text-align: right;\">\n",
       "      <th></th>\n",
       "      <th>ID</th>\n",
       "      <th>Q1</th>\n",
       "      <th>Q2</th>\n",
       "      <th>Q3Option1</th>\n",
       "      <th>Q3Option2</th>\n",
       "      <th>Q3Option3</th>\n",
       "      <th>Q3Option4</th>\n",
       "      <th>Q3Option5</th>\n",
       "      <th>Q3Option6</th>\n",
       "      <th>Q4Option1</th>\n",
       "      <th>...</th>\n",
       "      <th>Q5Option14</th>\n",
       "      <th>Q6</th>\n",
       "      <th>Q7</th>\n",
       "      <th>Q8</th>\n",
       "      <th>Q9</th>\n",
       "      <th>Q10</th>\n",
       "      <th>Q11</th>\n",
       "      <th>Q12</th>\n",
       "      <th>Q13</th>\n",
       "      <th>Q14</th>\n",
       "    </tr>\n",
       "  </thead>\n",
       "  <tbody>\n",
       "    <tr>\n",
       "      <td>2</td>\n",
       "      <td>3292879998</td>\n",
       "      <td>Yes</td>\n",
       "      <td>Yes</td>\n",
       "      <td>Star Wars: Episode I  The Phantom Menace</td>\n",
       "      <td>Star Wars: Episode II  Attack of the Clones</td>\n",
       "      <td>Star Wars: Episode III  Revenge of the Sith</td>\n",
       "      <td>Star Wars: Episode IV  A New Hope</td>\n",
       "      <td>Star Wars: Episode V The Empire Strikes Back</td>\n",
       "      <td>Star Wars: Episode VI Return of the Jedi</td>\n",
       "      <td>3</td>\n",
       "      <td>...</td>\n",
       "      <td>Very favorably</td>\n",
       "      <td>I don't understand this question</td>\n",
       "      <td>Yes</td>\n",
       "      <td>No</td>\n",
       "      <td>No</td>\n",
       "      <td>Male</td>\n",
       "      <td>18-29</td>\n",
       "      <td>NaN</td>\n",
       "      <td>High school degree</td>\n",
       "      <td>South Atlantic</td>\n",
       "    </tr>\n",
       "    <tr>\n",
       "      <td>3</td>\n",
       "      <td>3292879538</td>\n",
       "      <td>No</td>\n",
       "      <td>NaN</td>\n",
       "      <td>NaN</td>\n",
       "      <td>NaN</td>\n",
       "      <td>NaN</td>\n",
       "      <td>NaN</td>\n",
       "      <td>NaN</td>\n",
       "      <td>NaN</td>\n",
       "      <td>NaN</td>\n",
       "      <td>...</td>\n",
       "      <td>NaN</td>\n",
       "      <td>NaN</td>\n",
       "      <td>NaN</td>\n",
       "      <td>NaN</td>\n",
       "      <td>Yes</td>\n",
       "      <td>Male</td>\n",
       "      <td>18-29</td>\n",
       "      <td>$0 - $24,999</td>\n",
       "      <td>Bachelor degree</td>\n",
       "      <td>West South Central</td>\n",
       "    </tr>\n",
       "    <tr>\n",
       "      <td>4</td>\n",
       "      <td>3292765271</td>\n",
       "      <td>Yes</td>\n",
       "      <td>No</td>\n",
       "      <td>Star Wars: Episode I  The Phantom Menace</td>\n",
       "      <td>Star Wars: Episode II  Attack of the Clones</td>\n",
       "      <td>Star Wars: Episode III  Revenge of the Sith</td>\n",
       "      <td>NaN</td>\n",
       "      <td>NaN</td>\n",
       "      <td>NaN</td>\n",
       "      <td>1</td>\n",
       "      <td>...</td>\n",
       "      <td>Unfamiliar (N/A)</td>\n",
       "      <td>I don't understand this question</td>\n",
       "      <td>No</td>\n",
       "      <td>NaN</td>\n",
       "      <td>No</td>\n",
       "      <td>Male</td>\n",
       "      <td>18-29</td>\n",
       "      <td>$0 - $24,999</td>\n",
       "      <td>High school degree</td>\n",
       "      <td>West North Central</td>\n",
       "    </tr>\n",
       "    <tr>\n",
       "      <td>5</td>\n",
       "      <td>3292763116</td>\n",
       "      <td>Yes</td>\n",
       "      <td>Yes</td>\n",
       "      <td>Star Wars: Episode I  The Phantom Menace</td>\n",
       "      <td>Star Wars: Episode II  Attack of the Clones</td>\n",
       "      <td>Star Wars: Episode III  Revenge of the Sith</td>\n",
       "      <td>Star Wars: Episode IV  A New Hope</td>\n",
       "      <td>Star Wars: Episode V The Empire Strikes Back</td>\n",
       "      <td>Star Wars: Episode VI Return of the Jedi</td>\n",
       "      <td>5</td>\n",
       "      <td>...</td>\n",
       "      <td>Very favorably</td>\n",
       "      <td>I don't understand this question</td>\n",
       "      <td>No</td>\n",
       "      <td>NaN</td>\n",
       "      <td>Yes</td>\n",
       "      <td>Male</td>\n",
       "      <td>18-29</td>\n",
       "      <td>$100,000 - $149,999</td>\n",
       "      <td>Some college or Associate degree</td>\n",
       "      <td>West North Central</td>\n",
       "    </tr>\n",
       "    <tr>\n",
       "      <td>6</td>\n",
       "      <td>3292731220</td>\n",
       "      <td>Yes</td>\n",
       "      <td>Yes</td>\n",
       "      <td>Star Wars: Episode I  The Phantom Menace</td>\n",
       "      <td>Star Wars: Episode II  Attack of the Clones</td>\n",
       "      <td>Star Wars: Episode III  Revenge of the Sith</td>\n",
       "      <td>Star Wars: Episode IV  A New Hope</td>\n",
       "      <td>Star Wars: Episode V The Empire Strikes Back</td>\n",
       "      <td>Star Wars: Episode VI Return of the Jedi</td>\n",
       "      <td>5</td>\n",
       "      <td>...</td>\n",
       "      <td>Somewhat favorably</td>\n",
       "      <td>Greedo</td>\n",
       "      <td>Yes</td>\n",
       "      <td>No</td>\n",
       "      <td>No</td>\n",
       "      <td>Male</td>\n",
       "      <td>18-29</td>\n",
       "      <td>$100,000 - $149,999</td>\n",
       "      <td>Some college or Associate degree</td>\n",
       "      <td>West North Central</td>\n",
       "    </tr>\n",
       "  </tbody>\n",
       "</table>\n",
       "<p>5 rows × 38 columns</p>\n",
       "</div>"
      ],
      "text/plain": [
       "           ID   Q1   Q2                                 Q3Option1  \\\n",
       "2  3292879998  Yes  Yes  Star Wars: Episode I  The Phantom Menace   \n",
       "3  3292879538   No  NaN                                       NaN   \n",
       "4  3292765271  Yes   No  Star Wars: Episode I  The Phantom Menace   \n",
       "5  3292763116  Yes  Yes  Star Wars: Episode I  The Phantom Menace   \n",
       "6  3292731220  Yes  Yes  Star Wars: Episode I  The Phantom Menace   \n",
       "\n",
       "                                     Q3Option2  \\\n",
       "2  Star Wars: Episode II  Attack of the Clones   \n",
       "3                                          NaN   \n",
       "4  Star Wars: Episode II  Attack of the Clones   \n",
       "5  Star Wars: Episode II  Attack of the Clones   \n",
       "6  Star Wars: Episode II  Attack of the Clones   \n",
       "\n",
       "                                     Q3Option3  \\\n",
       "2  Star Wars: Episode III  Revenge of the Sith   \n",
       "3                                          NaN   \n",
       "4  Star Wars: Episode III  Revenge of the Sith   \n",
       "5  Star Wars: Episode III  Revenge of the Sith   \n",
       "6  Star Wars: Episode III  Revenge of the Sith   \n",
       "\n",
       "                           Q3Option4  \\\n",
       "2  Star Wars: Episode IV  A New Hope   \n",
       "3                                NaN   \n",
       "4                                NaN   \n",
       "5  Star Wars: Episode IV  A New Hope   \n",
       "6  Star Wars: Episode IV  A New Hope   \n",
       "\n",
       "                                      Q3Option5  \\\n",
       "2  Star Wars: Episode V The Empire Strikes Back   \n",
       "3                                           NaN   \n",
       "4                                           NaN   \n",
       "5  Star Wars: Episode V The Empire Strikes Back   \n",
       "6  Star Wars: Episode V The Empire Strikes Back   \n",
       "\n",
       "                                  Q3Option6 Q4Option1  ...  \\\n",
       "2  Star Wars: Episode VI Return of the Jedi         3  ...   \n",
       "3                                       NaN       NaN  ...   \n",
       "4                                       NaN         1  ...   \n",
       "5  Star Wars: Episode VI Return of the Jedi         5  ...   \n",
       "6  Star Wars: Episode VI Return of the Jedi         5  ...   \n",
       "\n",
       "           Q5Option14                                Q6   Q7   Q8   Q9   Q10  \\\n",
       "2      Very favorably  I don't understand this question  Yes   No   No  Male   \n",
       "3                 NaN                               NaN  NaN  NaN  Yes  Male   \n",
       "4    Unfamiliar (N/A)  I don't understand this question   No  NaN   No  Male   \n",
       "5      Very favorably  I don't understand this question   No  NaN  Yes  Male   \n",
       "6  Somewhat favorably                            Greedo  Yes   No   No  Male   \n",
       "\n",
       "     Q11                  Q12                               Q13  \\\n",
       "2  18-29                  NaN                High school degree   \n",
       "3  18-29         $0 - $24,999                   Bachelor degree   \n",
       "4  18-29         $0 - $24,999                High school degree   \n",
       "5  18-29  $100,000 - $149,999  Some college or Associate degree   \n",
       "6  18-29  $100,000 - $149,999  Some college or Associate degree   \n",
       "\n",
       "                  Q14  \n",
       "2      South Atlantic  \n",
       "3  West South Central  \n",
       "4  West North Central  \n",
       "5  West North Central  \n",
       "6  West North Central  \n",
       "\n",
       "[5 rows x 38 columns]"
      ]
     },
     "execution_count": 29,
     "metadata": {},
     "output_type": "execute_result"
    }
   ],
   "source": [
    "fakestar.head()"
   ]
  },
  {
   "cell_type": "code",
   "execution_count": 30,
   "metadata": {},
   "outputs": [
    {
     "data": {
      "text/plain": [
       "East North Central    181\n",
       "Pacific               175\n",
       "South Atlantic        170\n",
       "Middle Atlantic       122\n",
       "West South Central    110\n",
       "West North Central     93\n",
       "Mountain               79\n",
       "New England            75\n",
       "East South Central     38\n",
       "Name: Q14, dtype: int64"
      ]
     },
     "execution_count": 30,
     "metadata": {},
     "output_type": "execute_result"
    }
   ],
   "source": [
    "fakestar['Q14'].value_counts()"
   ]
  },
  {
   "cell_type": "code",
   "execution_count": null,
   "metadata": {},
   "outputs": [],
   "source": [
    "#Sanity Check"
   ]
  },
  {
   "cell_type": "code",
   "execution_count": 507,
   "metadata": {},
   "outputs": [],
   "source": [
    "fakestar['Q11'].value_counts()\n"
   ]
  },
  {
   "cell_type": "code",
   "execution_count": null,
   "metadata": {},
   "outputs": [],
   "source": [
    "fakestar['Q11'].replace('500','> 60',inplace=True)"
   ]
  },
  {
   "cell_type": "code",
   "execution_count": 31,
   "metadata": {},
   "outputs": [],
   "source": [
    "fakestar['Q8'].replace('Yess ','Yes ',inplace=True)"
   ]
  },
  {
   "cell_type": "code",
   "execution_count": 32,
   "metadata": {},
   "outputs": [
    {
     "name": "stdout",
     "output_type": "stream",
     "text": [
      "No lines in history match specification\n"
     ]
    }
   ],
   "source": [
    "%rerun 69"
   ]
  },
  {
   "cell_type": "code",
   "execution_count": 33,
   "metadata": {},
   "outputs": [
    {
     "data": {
      "text/plain": [
       "No     639\n",
       "Yes    426\n",
       "yes      1\n",
       "Noo      1\n",
       "no       1\n",
       "Name: Q9, dtype: int64"
      ]
     },
     "execution_count": 33,
     "metadata": {},
     "output_type": "execute_result"
    }
   ],
   "source": [
    "fakestar['Q9'].value_counts()"
   ]
  },
  {
   "cell_type": "code",
   "execution_count": 34,
   "metadata": {},
   "outputs": [],
   "source": [
    "fakestar['Q9'].replace('no','No',inplace=True)"
   ]
  },
  {
   "cell_type": "code",
   "execution_count": 35,
   "metadata": {},
   "outputs": [
    {
     "data": {
      "text/plain": [
       "No     639\n",
       "Yes    426\n",
       "yes      1\n",
       "Noo      1\n",
       "no       1\n",
       "Name: Q9, dtype: int64"
      ]
     },
     "execution_count": 35,
     "metadata": {},
     "output_type": "execute_result"
    }
   ],
   "source": [
    "fakestar['Q9'].value_counts()"
   ]
  },
  {
   "cell_type": "code",
   "execution_count": 36,
   "metadata": {},
   "outputs": [
    {
     "data": {
      "text/plain": [
       "2        No\n",
       "3       Yes\n",
       "4        No\n",
       "5       Yes\n",
       "6        No\n",
       "       ... \n",
       "1183    Yes\n",
       "1184    Yes\n",
       "1185     No\n",
       "1186    Yes\n",
       "1187     No\n",
       "Name: Q9, Length: 1186, dtype: object"
      ]
     },
     "execution_count": 36,
     "metadata": {},
     "output_type": "execute_result"
    }
   ],
   "source": [
    "fakestar['Q9'].str.strip()"
   ]
  },
  {
   "cell_type": "code",
   "execution_count": 37,
   "metadata": {},
   "outputs": [
    {
     "data": {
      "text/plain": [
       "No     639\n",
       "Yes    426\n",
       "yes      1\n",
       "Noo      1\n",
       "no       1\n",
       "Name: Q9, dtype: int64"
      ]
     },
     "execution_count": 37,
     "metadata": {},
     "output_type": "execute_result"
    }
   ],
   "source": [
    "fakestar['Q9'].value_counts()"
   ]
  },
  {
   "cell_type": "code",
   "execution_count": 38,
   "metadata": {},
   "outputs": [],
   "source": [
    "fakestar['Q9'].replace('No','No',inplace=True)"
   ]
  },
  {
   "cell_type": "code",
   "execution_count": 39,
   "metadata": {},
   "outputs": [
    {
     "data": {
      "text/plain": [
       "No     639\n",
       "Yes    426\n",
       "yes      1\n",
       "Noo      1\n",
       "no       1\n",
       "Name: Q9, dtype: int64"
      ]
     },
     "execution_count": 39,
     "metadata": {},
     "output_type": "execute_result"
    }
   ],
   "source": [
    "fakestar['Q9'].value_counts()"
   ]
  },
  {
   "cell_type": "code",
   "execution_count": 40,
   "metadata": {},
   "outputs": [],
   "source": [
    "fakestar['Q9']=fakestar['Q9'].str.strip()"
   ]
  },
  {
   "cell_type": "code",
   "execution_count": 41,
   "metadata": {},
   "outputs": [
    {
     "data": {
      "text/plain": [
       "Female    546\n",
       "Male      496\n",
       "female      2\n",
       "F           1\n",
       "male        1\n",
       "Name: Q10, dtype: int64"
      ]
     },
     "execution_count": 41,
     "metadata": {},
     "output_type": "execute_result"
    }
   ],
   "source": [
    "fakestar['Q10'].value_counts()"
   ]
  },
  {
   "cell_type": "code",
   "execution_count": 42,
   "metadata": {},
   "outputs": [],
   "source": [
    "fakestar['Q10'].replace('female','Female',inplace=True)"
   ]
  },
  {
   "cell_type": "code",
   "execution_count": 43,
   "metadata": {},
   "outputs": [
    {
     "data": {
      "text/plain": [
       "Female    548\n",
       "Male      496\n",
       "F           1\n",
       "male        1\n",
       "Name: Q10, dtype: int64"
      ]
     },
     "execution_count": 43,
     "metadata": {},
     "output_type": "execute_result"
    }
   ],
   "source": [
    "fakestar['Q10'].value_counts()"
   ]
  },
  {
   "cell_type": "code",
   "execution_count": 44,
   "metadata": {},
   "outputs": [],
   "source": [
    "fakestar['Q10'].replace('F','Female',inplace=True)"
   ]
  },
  {
   "cell_type": "code",
   "execution_count": 45,
   "metadata": {},
   "outputs": [
    {
     "data": {
      "text/plain": [
       "Female    549\n",
       "Male      496\n",
       "male        1\n",
       "Name: Q10, dtype: int64"
      ]
     },
     "execution_count": 45,
     "metadata": {},
     "output_type": "execute_result"
    }
   ],
   "source": [
    "fakestar['Q10'].value_counts()"
   ]
  },
  {
   "cell_type": "code",
   "execution_count": 46,
   "metadata": {},
   "outputs": [],
   "source": [
    "fakestar['Q10'].replace('male','Male',inplace=True)"
   ]
  },
  {
   "cell_type": "code",
   "execution_count": 47,
   "metadata": {},
   "outputs": [
    {
     "data": {
      "text/plain": [
       "Female    549\n",
       "Male      497\n",
       "Name: Q10, dtype: int64"
      ]
     },
     "execution_count": 47,
     "metadata": {},
     "output_type": "execute_result"
    }
   ],
   "source": [
    "fakestar['Q10'].value_counts()"
   ]
  },
  {
   "cell_type": "code",
   "execution_count": 48,
   "metadata": {},
   "outputs": [
    {
     "data": {
      "text/plain": [
       "45-60    291\n",
       "> 60     269\n",
       "30-44    268\n",
       "18-29    217\n",
       "500        1\n",
       "Name: Q11, dtype: int64"
      ]
     },
     "execution_count": 48,
     "metadata": {},
     "output_type": "execute_result"
    }
   ],
   "source": [
    "fakestar['Q11'].value_counts()"
   ]
  },
  {
   "cell_type": "code",
   "execution_count": 49,
   "metadata": {},
   "outputs": [],
   "source": [
    "fakestar['Q11'].replace('500','45-60',inplace=True)"
   ]
  },
  {
   "cell_type": "code",
   "execution_count": 50,
   "metadata": {},
   "outputs": [
    {
     "data": {
      "text/plain": [
       "45-60    292\n",
       "> 60     269\n",
       "30-44    268\n",
       "18-29    217\n",
       "Name: Q11, dtype: int64"
      ]
     },
     "execution_count": 50,
     "metadata": {},
     "output_type": "execute_result"
    }
   ],
   "source": [
    "fakestar['Q11'].value_counts()"
   ]
  },
  {
   "cell_type": "code",
   "execution_count": 51,
   "metadata": {},
   "outputs": [
    {
     "data": {
      "text/plain": [
       "$50,000 - $99,999      298\n",
       "$25,000 - $49,999      186\n",
       "$100,000 - $149,999    141\n",
       "$0 - $24,999           138\n",
       "$150,000+               95\n",
       "Name: Q12, dtype: int64"
      ]
     },
     "execution_count": 51,
     "metadata": {},
     "output_type": "execute_result"
    }
   ],
   "source": [
    "fakestar['Q12'].value_counts()"
   ]
  },
  {
   "cell_type": "code",
   "execution_count": 52,
   "metadata": {},
   "outputs": [
    {
     "data": {
      "text/plain": [
       "Some college or Associate degree    328\n",
       "Bachelor degree                     321\n",
       "Graduate degree                     275\n",
       "High school degree                  105\n",
       "Less than high school degree          7\n",
       "Name: Q13, dtype: int64"
      ]
     },
     "execution_count": 52,
     "metadata": {},
     "output_type": "execute_result"
    }
   ],
   "source": [
    "fakestar['Q13'].value_counts()"
   ]
  },
  {
   "cell_type": "code",
   "execution_count": 53,
   "metadata": {},
   "outputs": [
    {
     "data": {
      "text/plain": [
       "East North Central    181\n",
       "Pacific               175\n",
       "South Atlantic        170\n",
       "Middle Atlantic       122\n",
       "West South Central    110\n",
       "West North Central     93\n",
       "Mountain               79\n",
       "New England            75\n",
       "East South Central     38\n",
       "Name: Q14, dtype: int64"
      ]
     },
     "execution_count": 53,
     "metadata": {},
     "output_type": "execute_result"
    }
   ],
   "source": [
    "fakestar['Q14'].value_counts()"
   ]
  },
  {
   "cell_type": "code",
   "execution_count": null,
   "metadata": {},
   "outputs": [],
   "source": [
    "# Making Column Names to Upper Case"
   ]
  },
  {
   "cell_type": "code",
   "execution_count": 54,
   "metadata": {},
   "outputs": [
    {
     "data": {
      "text/plain": [
       "Index(['ID', 'Q1', 'Q2', 'Q3OPTION1', 'Q3OPTION2', 'Q3OPTION3', 'Q3OPTION4',\n",
       "       'Q3OPTION5', 'Q3OPTION6', 'Q4OPTION1', 'Q4OPTION2', 'Q4OPTION3',\n",
       "       'Q4OPTION4', 'Q4OPTION5', 'Q4OPTION6', 'Q5OPTION1', 'Q5OPTION2',\n",
       "       'Q5OPTION3', 'Q5OPTION4', 'Q5OPTION5', 'Q5OPTION6', 'Q5OPTION7',\n",
       "       'Q5OPTION8', 'Q5OPTION9', 'Q5OPTION10', 'Q5OPTION11', 'Q5OPTION12',\n",
       "       'Q5OPTION13', 'Q5OPTION14', 'Q6', 'Q7', 'Q8', 'Q9', 'Q10', 'Q11', 'Q12',\n",
       "       'Q13', 'Q14'],\n",
       "      dtype='object')"
      ]
     },
     "execution_count": 54,
     "metadata": {},
     "output_type": "execute_result"
    }
   ],
   "source": [
    "fakestar.columns.str.upper()"
   ]
  },
  {
   "cell_type": "code",
   "execution_count": 55,
   "metadata": {},
   "outputs": [
    {
     "data": {
      "text/html": [
       "<div>\n",
       "<style scoped>\n",
       "    .dataframe tbody tr th:only-of-type {\n",
       "        vertical-align: middle;\n",
       "    }\n",
       "\n",
       "    .dataframe tbody tr th {\n",
       "        vertical-align: top;\n",
       "    }\n",
       "\n",
       "    .dataframe thead th {\n",
       "        text-align: right;\n",
       "    }\n",
       "</style>\n",
       "<table border=\"1\" class=\"dataframe\">\n",
       "  <thead>\n",
       "    <tr style=\"text-align: right;\">\n",
       "      <th></th>\n",
       "      <th>ID</th>\n",
       "      <th>Q1</th>\n",
       "      <th>Q2</th>\n",
       "      <th>Q3Option1</th>\n",
       "      <th>Q3Option2</th>\n",
       "      <th>Q3Option3</th>\n",
       "      <th>Q3Option4</th>\n",
       "      <th>Q3Option5</th>\n",
       "      <th>Q3Option6</th>\n",
       "      <th>Q4Option1</th>\n",
       "      <th>...</th>\n",
       "      <th>Q5Option14</th>\n",
       "      <th>Q6</th>\n",
       "      <th>Q7</th>\n",
       "      <th>Q8</th>\n",
       "      <th>Q9</th>\n",
       "      <th>Q10</th>\n",
       "      <th>Q11</th>\n",
       "      <th>Q12</th>\n",
       "      <th>Q13</th>\n",
       "      <th>Q14</th>\n",
       "    </tr>\n",
       "  </thead>\n",
       "  <tbody>\n",
       "    <tr>\n",
       "      <td>2</td>\n",
       "      <td>3292879998</td>\n",
       "      <td>Yes</td>\n",
       "      <td>Yes</td>\n",
       "      <td>Star Wars: Episode I  The Phantom Menace</td>\n",
       "      <td>Star Wars: Episode II  Attack of the Clones</td>\n",
       "      <td>Star Wars: Episode III  Revenge of the Sith</td>\n",
       "      <td>Star Wars: Episode IV  A New Hope</td>\n",
       "      <td>Star Wars: Episode V The Empire Strikes Back</td>\n",
       "      <td>Star Wars: Episode VI Return of the Jedi</td>\n",
       "      <td>3</td>\n",
       "      <td>...</td>\n",
       "      <td>Very favorably</td>\n",
       "      <td>I don't understand this question</td>\n",
       "      <td>Yes</td>\n",
       "      <td>No</td>\n",
       "      <td>No</td>\n",
       "      <td>Male</td>\n",
       "      <td>18-29</td>\n",
       "      <td>NaN</td>\n",
       "      <td>High school degree</td>\n",
       "      <td>South Atlantic</td>\n",
       "    </tr>\n",
       "    <tr>\n",
       "      <td>3</td>\n",
       "      <td>3292879538</td>\n",
       "      <td>No</td>\n",
       "      <td>NaN</td>\n",
       "      <td>NaN</td>\n",
       "      <td>NaN</td>\n",
       "      <td>NaN</td>\n",
       "      <td>NaN</td>\n",
       "      <td>NaN</td>\n",
       "      <td>NaN</td>\n",
       "      <td>NaN</td>\n",
       "      <td>...</td>\n",
       "      <td>NaN</td>\n",
       "      <td>NaN</td>\n",
       "      <td>NaN</td>\n",
       "      <td>NaN</td>\n",
       "      <td>Yes</td>\n",
       "      <td>Male</td>\n",
       "      <td>18-29</td>\n",
       "      <td>$0 - $24,999</td>\n",
       "      <td>Bachelor degree</td>\n",
       "      <td>West South Central</td>\n",
       "    </tr>\n",
       "    <tr>\n",
       "      <td>4</td>\n",
       "      <td>3292765271</td>\n",
       "      <td>Yes</td>\n",
       "      <td>No</td>\n",
       "      <td>Star Wars: Episode I  The Phantom Menace</td>\n",
       "      <td>Star Wars: Episode II  Attack of the Clones</td>\n",
       "      <td>Star Wars: Episode III  Revenge of the Sith</td>\n",
       "      <td>NaN</td>\n",
       "      <td>NaN</td>\n",
       "      <td>NaN</td>\n",
       "      <td>1</td>\n",
       "      <td>...</td>\n",
       "      <td>Unfamiliar (N/A)</td>\n",
       "      <td>I don't understand this question</td>\n",
       "      <td>No</td>\n",
       "      <td>NaN</td>\n",
       "      <td>No</td>\n",
       "      <td>Male</td>\n",
       "      <td>18-29</td>\n",
       "      <td>$0 - $24,999</td>\n",
       "      <td>High school degree</td>\n",
       "      <td>West North Central</td>\n",
       "    </tr>\n",
       "    <tr>\n",
       "      <td>5</td>\n",
       "      <td>3292763116</td>\n",
       "      <td>Yes</td>\n",
       "      <td>Yes</td>\n",
       "      <td>Star Wars: Episode I  The Phantom Menace</td>\n",
       "      <td>Star Wars: Episode II  Attack of the Clones</td>\n",
       "      <td>Star Wars: Episode III  Revenge of the Sith</td>\n",
       "      <td>Star Wars: Episode IV  A New Hope</td>\n",
       "      <td>Star Wars: Episode V The Empire Strikes Back</td>\n",
       "      <td>Star Wars: Episode VI Return of the Jedi</td>\n",
       "      <td>5</td>\n",
       "      <td>...</td>\n",
       "      <td>Very favorably</td>\n",
       "      <td>I don't understand this question</td>\n",
       "      <td>No</td>\n",
       "      <td>NaN</td>\n",
       "      <td>Yes</td>\n",
       "      <td>Male</td>\n",
       "      <td>18-29</td>\n",
       "      <td>$100,000 - $149,999</td>\n",
       "      <td>Some college or Associate degree</td>\n",
       "      <td>West North Central</td>\n",
       "    </tr>\n",
       "    <tr>\n",
       "      <td>6</td>\n",
       "      <td>3292731220</td>\n",
       "      <td>Yes</td>\n",
       "      <td>Yes</td>\n",
       "      <td>Star Wars: Episode I  The Phantom Menace</td>\n",
       "      <td>Star Wars: Episode II  Attack of the Clones</td>\n",
       "      <td>Star Wars: Episode III  Revenge of the Sith</td>\n",
       "      <td>Star Wars: Episode IV  A New Hope</td>\n",
       "      <td>Star Wars: Episode V The Empire Strikes Back</td>\n",
       "      <td>Star Wars: Episode VI Return of the Jedi</td>\n",
       "      <td>5</td>\n",
       "      <td>...</td>\n",
       "      <td>Somewhat favorably</td>\n",
       "      <td>Greedo</td>\n",
       "      <td>Yes</td>\n",
       "      <td>No</td>\n",
       "      <td>No</td>\n",
       "      <td>Male</td>\n",
       "      <td>18-29</td>\n",
       "      <td>$100,000 - $149,999</td>\n",
       "      <td>Some college or Associate degree</td>\n",
       "      <td>West North Central</td>\n",
       "    </tr>\n",
       "    <tr>\n",
       "      <td>...</td>\n",
       "      <td>...</td>\n",
       "      <td>...</td>\n",
       "      <td>...</td>\n",
       "      <td>...</td>\n",
       "      <td>...</td>\n",
       "      <td>...</td>\n",
       "      <td>...</td>\n",
       "      <td>...</td>\n",
       "      <td>...</td>\n",
       "      <td>...</td>\n",
       "      <td>...</td>\n",
       "      <td>...</td>\n",
       "      <td>...</td>\n",
       "      <td>...</td>\n",
       "      <td>...</td>\n",
       "      <td>...</td>\n",
       "      <td>...</td>\n",
       "      <td>...</td>\n",
       "      <td>...</td>\n",
       "      <td>...</td>\n",
       "      <td>...</td>\n",
       "    </tr>\n",
       "    <tr>\n",
       "      <td>1183</td>\n",
       "      <td>3288388730</td>\n",
       "      <td>Yes</td>\n",
       "      <td>Yes</td>\n",
       "      <td>Star Wars: Episode I  The Phantom Menace</td>\n",
       "      <td>Star Wars: Episode II  Attack of the Clones</td>\n",
       "      <td>Star Wars: Episode III  Revenge of the Sith</td>\n",
       "      <td>Star Wars: Episode IV  A New Hope</td>\n",
       "      <td>Star Wars: Episode V The Empire Strikes Back</td>\n",
       "      <td>Star Wars: Episode VI Return of the Jedi</td>\n",
       "      <td>5</td>\n",
       "      <td>...</td>\n",
       "      <td>Very favorably</td>\n",
       "      <td>Han</td>\n",
       "      <td>No</td>\n",
       "      <td>NaN</td>\n",
       "      <td>Yes</td>\n",
       "      <td>Female</td>\n",
       "      <td>18-29</td>\n",
       "      <td>$0 - $24,999</td>\n",
       "      <td>Some college or Associate degree</td>\n",
       "      <td>East North Central</td>\n",
       "    </tr>\n",
       "    <tr>\n",
       "      <td>1184</td>\n",
       "      <td>3288378779</td>\n",
       "      <td>Yes</td>\n",
       "      <td>Yes</td>\n",
       "      <td>Star Wars: Episode I  The Phantom Menace</td>\n",
       "      <td>Star Wars: Episode II  Attack of the Clones</td>\n",
       "      <td>Star Wars: Episode III  Revenge of the Sith</td>\n",
       "      <td>Star Wars: Episode IV  A New Hope</td>\n",
       "      <td>Star Wars: Episode V The Empire Strikes Back</td>\n",
       "      <td>Star Wars: Episode VI Return of the Jedi</td>\n",
       "      <td>4</td>\n",
       "      <td>...</td>\n",
       "      <td>Very favorably</td>\n",
       "      <td>I don't understand this question</td>\n",
       "      <td>No</td>\n",
       "      <td>NaN</td>\n",
       "      <td>Yes</td>\n",
       "      <td>Female</td>\n",
       "      <td>30-44</td>\n",
       "      <td>$50,000 - $99,999</td>\n",
       "      <td>Bachelor degree</td>\n",
       "      <td>Mountain</td>\n",
       "    </tr>\n",
       "    <tr>\n",
       "      <td>1185</td>\n",
       "      <td>3288375286</td>\n",
       "      <td>No</td>\n",
       "      <td>NaN</td>\n",
       "      <td>NaN</td>\n",
       "      <td>NaN</td>\n",
       "      <td>NaN</td>\n",
       "      <td>NaN</td>\n",
       "      <td>NaN</td>\n",
       "      <td>NaN</td>\n",
       "      <td>NaN</td>\n",
       "      <td>...</td>\n",
       "      <td>NaN</td>\n",
       "      <td>NaN</td>\n",
       "      <td>NaN</td>\n",
       "      <td>NaN</td>\n",
       "      <td>No</td>\n",
       "      <td>Female</td>\n",
       "      <td>30-44</td>\n",
       "      <td>$50,000 - $99,999</td>\n",
       "      <td>Bachelor degree</td>\n",
       "      <td>Middle Atlantic</td>\n",
       "    </tr>\n",
       "    <tr>\n",
       "      <td>1186</td>\n",
       "      <td>3288373068</td>\n",
       "      <td>Yes</td>\n",
       "      <td>Yes</td>\n",
       "      <td>Star Wars: Episode I  The Phantom Menace</td>\n",
       "      <td>Star Wars: Episode II  Attack of the Clones</td>\n",
       "      <td>Star Wars: Episode III  Revenge of the Sith</td>\n",
       "      <td>Star Wars: Episode IV  A New Hope</td>\n",
       "      <td>Star Wars: Episode V The Empire Strikes Back</td>\n",
       "      <td>Star Wars: Episode VI Return of the Jedi</td>\n",
       "      <td>4</td>\n",
       "      <td>...</td>\n",
       "      <td>Very favorably</td>\n",
       "      <td>Han</td>\n",
       "      <td>No</td>\n",
       "      <td>NaN</td>\n",
       "      <td>Yes</td>\n",
       "      <td>Female</td>\n",
       "      <td>45-60</td>\n",
       "      <td>$100,000 - $149,999</td>\n",
       "      <td>Some college or Associate degree</td>\n",
       "      <td>East North Central</td>\n",
       "    </tr>\n",
       "    <tr>\n",
       "      <td>1187</td>\n",
       "      <td>3288372923</td>\n",
       "      <td>Yes</td>\n",
       "      <td>No</td>\n",
       "      <td>Star Wars: Episode I  The Phantom Menace</td>\n",
       "      <td>Star Wars: Episode II  Attack of the Clones</td>\n",
       "      <td>NaN</td>\n",
       "      <td>NaN</td>\n",
       "      <td>Star Wars: Episode V The Empire Strikes Back</td>\n",
       "      <td>Star Wars: Episode VI Return of the Jedi</td>\n",
       "      <td>6</td>\n",
       "      <td>...</td>\n",
       "      <td>Very unfavorably</td>\n",
       "      <td>I don't understand this question</td>\n",
       "      <td>No</td>\n",
       "      <td>NaN</td>\n",
       "      <td>No</td>\n",
       "      <td>Female</td>\n",
       "      <td>&gt; 60</td>\n",
       "      <td>$50,000 - $99,999</td>\n",
       "      <td>Graduate degree</td>\n",
       "      <td>Pacific</td>\n",
       "    </tr>\n",
       "  </tbody>\n",
       "</table>\n",
       "<p>1186 rows × 38 columns</p>\n",
       "</div>"
      ],
      "text/plain": [
       "              ID   Q1   Q2                                 Q3Option1  \\\n",
       "2     3292879998  Yes  Yes  Star Wars: Episode I  The Phantom Menace   \n",
       "3     3292879538   No  NaN                                       NaN   \n",
       "4     3292765271  Yes   No  Star Wars: Episode I  The Phantom Menace   \n",
       "5     3292763116  Yes  Yes  Star Wars: Episode I  The Phantom Menace   \n",
       "6     3292731220  Yes  Yes  Star Wars: Episode I  The Phantom Menace   \n",
       "...          ...  ...  ...                                       ...   \n",
       "1183  3288388730  Yes  Yes  Star Wars: Episode I  The Phantom Menace   \n",
       "1184  3288378779  Yes  Yes  Star Wars: Episode I  The Phantom Menace   \n",
       "1185  3288375286   No  NaN                                       NaN   \n",
       "1186  3288373068  Yes  Yes  Star Wars: Episode I  The Phantom Menace   \n",
       "1187  3288372923  Yes   No  Star Wars: Episode I  The Phantom Menace   \n",
       "\n",
       "                                        Q3Option2  \\\n",
       "2     Star Wars: Episode II  Attack of the Clones   \n",
       "3                                             NaN   \n",
       "4     Star Wars: Episode II  Attack of the Clones   \n",
       "5     Star Wars: Episode II  Attack of the Clones   \n",
       "6     Star Wars: Episode II  Attack of the Clones   \n",
       "...                                           ...   \n",
       "1183  Star Wars: Episode II  Attack of the Clones   \n",
       "1184  Star Wars: Episode II  Attack of the Clones   \n",
       "1185                                          NaN   \n",
       "1186  Star Wars: Episode II  Attack of the Clones   \n",
       "1187  Star Wars: Episode II  Attack of the Clones   \n",
       "\n",
       "                                        Q3Option3  \\\n",
       "2     Star Wars: Episode III  Revenge of the Sith   \n",
       "3                                             NaN   \n",
       "4     Star Wars: Episode III  Revenge of the Sith   \n",
       "5     Star Wars: Episode III  Revenge of the Sith   \n",
       "6     Star Wars: Episode III  Revenge of the Sith   \n",
       "...                                           ...   \n",
       "1183  Star Wars: Episode III  Revenge of the Sith   \n",
       "1184  Star Wars: Episode III  Revenge of the Sith   \n",
       "1185                                          NaN   \n",
       "1186  Star Wars: Episode III  Revenge of the Sith   \n",
       "1187                                          NaN   \n",
       "\n",
       "                              Q3Option4  \\\n",
       "2     Star Wars: Episode IV  A New Hope   \n",
       "3                                   NaN   \n",
       "4                                   NaN   \n",
       "5     Star Wars: Episode IV  A New Hope   \n",
       "6     Star Wars: Episode IV  A New Hope   \n",
       "...                                 ...   \n",
       "1183  Star Wars: Episode IV  A New Hope   \n",
       "1184  Star Wars: Episode IV  A New Hope   \n",
       "1185                                NaN   \n",
       "1186  Star Wars: Episode IV  A New Hope   \n",
       "1187                                NaN   \n",
       "\n",
       "                                         Q3Option5  \\\n",
       "2     Star Wars: Episode V The Empire Strikes Back   \n",
       "3                                              NaN   \n",
       "4                                              NaN   \n",
       "5     Star Wars: Episode V The Empire Strikes Back   \n",
       "6     Star Wars: Episode V The Empire Strikes Back   \n",
       "...                                            ...   \n",
       "1183  Star Wars: Episode V The Empire Strikes Back   \n",
       "1184  Star Wars: Episode V The Empire Strikes Back   \n",
       "1185                                           NaN   \n",
       "1186  Star Wars: Episode V The Empire Strikes Back   \n",
       "1187  Star Wars: Episode V The Empire Strikes Back   \n",
       "\n",
       "                                     Q3Option6 Q4Option1  ...  \\\n",
       "2     Star Wars: Episode VI Return of the Jedi         3  ...   \n",
       "3                                          NaN       NaN  ...   \n",
       "4                                          NaN         1  ...   \n",
       "5     Star Wars: Episode VI Return of the Jedi         5  ...   \n",
       "6     Star Wars: Episode VI Return of the Jedi         5  ...   \n",
       "...                                        ...       ...  ...   \n",
       "1183  Star Wars: Episode VI Return of the Jedi         5  ...   \n",
       "1184  Star Wars: Episode VI Return of the Jedi         4  ...   \n",
       "1185                                       NaN       NaN  ...   \n",
       "1186  Star Wars: Episode VI Return of the Jedi         4  ...   \n",
       "1187  Star Wars: Episode VI Return of the Jedi         6  ...   \n",
       "\n",
       "              Q5Option14                                Q6   Q7   Q8   Q9  \\\n",
       "2         Very favorably  I don't understand this question  Yes   No   No   \n",
       "3                    NaN                               NaN  NaN  NaN  Yes   \n",
       "4       Unfamiliar (N/A)  I don't understand this question   No  NaN   No   \n",
       "5         Very favorably  I don't understand this question   No  NaN  Yes   \n",
       "6     Somewhat favorably                            Greedo  Yes   No   No   \n",
       "...                  ...                               ...  ...  ...  ...   \n",
       "1183      Very favorably                               Han   No  NaN  Yes   \n",
       "1184      Very favorably  I don't understand this question   No  NaN  Yes   \n",
       "1185                 NaN                               NaN  NaN  NaN   No   \n",
       "1186      Very favorably                               Han   No  NaN  Yes   \n",
       "1187    Very unfavorably  I don't understand this question   No  NaN   No   \n",
       "\n",
       "         Q10    Q11                  Q12                               Q13  \\\n",
       "2       Male  18-29                  NaN                High school degree   \n",
       "3       Male  18-29         $0 - $24,999                   Bachelor degree   \n",
       "4       Male  18-29         $0 - $24,999                High school degree   \n",
       "5       Male  18-29  $100,000 - $149,999  Some college or Associate degree   \n",
       "6       Male  18-29  $100,000 - $149,999  Some college or Associate degree   \n",
       "...      ...    ...                  ...                               ...   \n",
       "1183  Female  18-29         $0 - $24,999  Some college or Associate degree   \n",
       "1184  Female  30-44    $50,000 - $99,999                   Bachelor degree   \n",
       "1185  Female  30-44    $50,000 - $99,999                   Bachelor degree   \n",
       "1186  Female  45-60  $100,000 - $149,999  Some college or Associate degree   \n",
       "1187  Female   > 60    $50,000 - $99,999                   Graduate degree   \n",
       "\n",
       "                     Q14  \n",
       "2         South Atlantic  \n",
       "3     West South Central  \n",
       "4     West North Central  \n",
       "5     West North Central  \n",
       "6     West North Central  \n",
       "...                  ...  \n",
       "1183  East North Central  \n",
       "1184            Mountain  \n",
       "1185     Middle Atlantic  \n",
       "1186  East North Central  \n",
       "1187             Pacific  \n",
       "\n",
       "[1186 rows x 38 columns]"
      ]
     },
     "execution_count": 55,
     "metadata": {},
     "output_type": "execute_result"
    }
   ],
   "source": [
    "fakestar[colname]"
   ]
  },
  {
   "cell_type": "code",
   "execution_count": 56,
   "metadata": {},
   "outputs": [
    {
     "data": {
      "text/html": [
       "<div>\n",
       "<style scoped>\n",
       "    .dataframe tbody tr th:only-of-type {\n",
       "        vertical-align: middle;\n",
       "    }\n",
       "\n",
       "    .dataframe tbody tr th {\n",
       "        vertical-align: top;\n",
       "    }\n",
       "\n",
       "    .dataframe thead th {\n",
       "        text-align: right;\n",
       "    }\n",
       "</style>\n",
       "<table border=\"1\" class=\"dataframe\">\n",
       "  <thead>\n",
       "    <tr style=\"text-align: right;\">\n",
       "      <th></th>\n",
       "      <th>ID</th>\n",
       "      <th>Q1</th>\n",
       "      <th>Q2</th>\n",
       "      <th>Q3Option1</th>\n",
       "      <th>Q3Option2</th>\n",
       "      <th>Q3Option3</th>\n",
       "      <th>Q3Option4</th>\n",
       "      <th>Q3Option5</th>\n",
       "      <th>Q3Option6</th>\n",
       "      <th>Q4Option1</th>\n",
       "      <th>...</th>\n",
       "      <th>Q5Option14</th>\n",
       "      <th>Q6</th>\n",
       "      <th>Q7</th>\n",
       "      <th>Q8</th>\n",
       "      <th>Q9</th>\n",
       "      <th>Q10</th>\n",
       "      <th>Q11</th>\n",
       "      <th>Q12</th>\n",
       "      <th>Q13</th>\n",
       "      <th>Q14</th>\n",
       "    </tr>\n",
       "  </thead>\n",
       "  <tbody>\n",
       "    <tr>\n",
       "      <td>2</td>\n",
       "      <td>3292879998</td>\n",
       "      <td>Yes</td>\n",
       "      <td>Yes</td>\n",
       "      <td>Star Wars: Episode I  The Phantom Menace</td>\n",
       "      <td>Star Wars: Episode II  Attack of the Clones</td>\n",
       "      <td>Star Wars: Episode III  Revenge of the Sith</td>\n",
       "      <td>Star Wars: Episode IV  A New Hope</td>\n",
       "      <td>Star Wars: Episode V The Empire Strikes Back</td>\n",
       "      <td>Star Wars: Episode VI Return of the Jedi</td>\n",
       "      <td>3</td>\n",
       "      <td>...</td>\n",
       "      <td>Very favorably</td>\n",
       "      <td>I don't understand this question</td>\n",
       "      <td>Yes</td>\n",
       "      <td>No</td>\n",
       "      <td>No</td>\n",
       "      <td>Male</td>\n",
       "      <td>18-29</td>\n",
       "      <td>NaN</td>\n",
       "      <td>High school degree</td>\n",
       "      <td>South Atlantic</td>\n",
       "    </tr>\n",
       "    <tr>\n",
       "      <td>3</td>\n",
       "      <td>3292879538</td>\n",
       "      <td>No</td>\n",
       "      <td>NaN</td>\n",
       "      <td>NaN</td>\n",
       "      <td>NaN</td>\n",
       "      <td>NaN</td>\n",
       "      <td>NaN</td>\n",
       "      <td>NaN</td>\n",
       "      <td>NaN</td>\n",
       "      <td>NaN</td>\n",
       "      <td>...</td>\n",
       "      <td>NaN</td>\n",
       "      <td>NaN</td>\n",
       "      <td>NaN</td>\n",
       "      <td>NaN</td>\n",
       "      <td>Yes</td>\n",
       "      <td>Male</td>\n",
       "      <td>18-29</td>\n",
       "      <td>$0 - $24,999</td>\n",
       "      <td>Bachelor degree</td>\n",
       "      <td>West South Central</td>\n",
       "    </tr>\n",
       "    <tr>\n",
       "      <td>4</td>\n",
       "      <td>3292765271</td>\n",
       "      <td>Yes</td>\n",
       "      <td>No</td>\n",
       "      <td>Star Wars: Episode I  The Phantom Menace</td>\n",
       "      <td>Star Wars: Episode II  Attack of the Clones</td>\n",
       "      <td>Star Wars: Episode III  Revenge of the Sith</td>\n",
       "      <td>NaN</td>\n",
       "      <td>NaN</td>\n",
       "      <td>NaN</td>\n",
       "      <td>1</td>\n",
       "      <td>...</td>\n",
       "      <td>Unfamiliar (N/A)</td>\n",
       "      <td>I don't understand this question</td>\n",
       "      <td>No</td>\n",
       "      <td>NaN</td>\n",
       "      <td>No</td>\n",
       "      <td>Male</td>\n",
       "      <td>18-29</td>\n",
       "      <td>$0 - $24,999</td>\n",
       "      <td>High school degree</td>\n",
       "      <td>West North Central</td>\n",
       "    </tr>\n",
       "    <tr>\n",
       "      <td>5</td>\n",
       "      <td>3292763116</td>\n",
       "      <td>Yes</td>\n",
       "      <td>Yes</td>\n",
       "      <td>Star Wars: Episode I  The Phantom Menace</td>\n",
       "      <td>Star Wars: Episode II  Attack of the Clones</td>\n",
       "      <td>Star Wars: Episode III  Revenge of the Sith</td>\n",
       "      <td>Star Wars: Episode IV  A New Hope</td>\n",
       "      <td>Star Wars: Episode V The Empire Strikes Back</td>\n",
       "      <td>Star Wars: Episode VI Return of the Jedi</td>\n",
       "      <td>5</td>\n",
       "      <td>...</td>\n",
       "      <td>Very favorably</td>\n",
       "      <td>I don't understand this question</td>\n",
       "      <td>No</td>\n",
       "      <td>NaN</td>\n",
       "      <td>Yes</td>\n",
       "      <td>Male</td>\n",
       "      <td>18-29</td>\n",
       "      <td>$100,000 - $149,999</td>\n",
       "      <td>Some college or Associate degree</td>\n",
       "      <td>West North Central</td>\n",
       "    </tr>\n",
       "    <tr>\n",
       "      <td>6</td>\n",
       "      <td>3292731220</td>\n",
       "      <td>Yes</td>\n",
       "      <td>Yes</td>\n",
       "      <td>Star Wars: Episode I  The Phantom Menace</td>\n",
       "      <td>Star Wars: Episode II  Attack of the Clones</td>\n",
       "      <td>Star Wars: Episode III  Revenge of the Sith</td>\n",
       "      <td>Star Wars: Episode IV  A New Hope</td>\n",
       "      <td>Star Wars: Episode V The Empire Strikes Back</td>\n",
       "      <td>Star Wars: Episode VI Return of the Jedi</td>\n",
       "      <td>5</td>\n",
       "      <td>...</td>\n",
       "      <td>Somewhat favorably</td>\n",
       "      <td>Greedo</td>\n",
       "      <td>Yes</td>\n",
       "      <td>No</td>\n",
       "      <td>No</td>\n",
       "      <td>Male</td>\n",
       "      <td>18-29</td>\n",
       "      <td>$100,000 - $149,999</td>\n",
       "      <td>Some college or Associate degree</td>\n",
       "      <td>West North Central</td>\n",
       "    </tr>\n",
       "    <tr>\n",
       "      <td>...</td>\n",
       "      <td>...</td>\n",
       "      <td>...</td>\n",
       "      <td>...</td>\n",
       "      <td>...</td>\n",
       "      <td>...</td>\n",
       "      <td>...</td>\n",
       "      <td>...</td>\n",
       "      <td>...</td>\n",
       "      <td>...</td>\n",
       "      <td>...</td>\n",
       "      <td>...</td>\n",
       "      <td>...</td>\n",
       "      <td>...</td>\n",
       "      <td>...</td>\n",
       "      <td>...</td>\n",
       "      <td>...</td>\n",
       "      <td>...</td>\n",
       "      <td>...</td>\n",
       "      <td>...</td>\n",
       "      <td>...</td>\n",
       "      <td>...</td>\n",
       "    </tr>\n",
       "    <tr>\n",
       "      <td>1183</td>\n",
       "      <td>3288388730</td>\n",
       "      <td>Yes</td>\n",
       "      <td>Yes</td>\n",
       "      <td>Star Wars: Episode I  The Phantom Menace</td>\n",
       "      <td>Star Wars: Episode II  Attack of the Clones</td>\n",
       "      <td>Star Wars: Episode III  Revenge of the Sith</td>\n",
       "      <td>Star Wars: Episode IV  A New Hope</td>\n",
       "      <td>Star Wars: Episode V The Empire Strikes Back</td>\n",
       "      <td>Star Wars: Episode VI Return of the Jedi</td>\n",
       "      <td>5</td>\n",
       "      <td>...</td>\n",
       "      <td>Very favorably</td>\n",
       "      <td>Han</td>\n",
       "      <td>No</td>\n",
       "      <td>NaN</td>\n",
       "      <td>Yes</td>\n",
       "      <td>Female</td>\n",
       "      <td>18-29</td>\n",
       "      <td>$0 - $24,999</td>\n",
       "      <td>Some college or Associate degree</td>\n",
       "      <td>East North Central</td>\n",
       "    </tr>\n",
       "    <tr>\n",
       "      <td>1184</td>\n",
       "      <td>3288378779</td>\n",
       "      <td>Yes</td>\n",
       "      <td>Yes</td>\n",
       "      <td>Star Wars: Episode I  The Phantom Menace</td>\n",
       "      <td>Star Wars: Episode II  Attack of the Clones</td>\n",
       "      <td>Star Wars: Episode III  Revenge of the Sith</td>\n",
       "      <td>Star Wars: Episode IV  A New Hope</td>\n",
       "      <td>Star Wars: Episode V The Empire Strikes Back</td>\n",
       "      <td>Star Wars: Episode VI Return of the Jedi</td>\n",
       "      <td>4</td>\n",
       "      <td>...</td>\n",
       "      <td>Very favorably</td>\n",
       "      <td>I don't understand this question</td>\n",
       "      <td>No</td>\n",
       "      <td>NaN</td>\n",
       "      <td>Yes</td>\n",
       "      <td>Female</td>\n",
       "      <td>30-44</td>\n",
       "      <td>$50,000 - $99,999</td>\n",
       "      <td>Bachelor degree</td>\n",
       "      <td>Mountain</td>\n",
       "    </tr>\n",
       "    <tr>\n",
       "      <td>1185</td>\n",
       "      <td>3288375286</td>\n",
       "      <td>No</td>\n",
       "      <td>NaN</td>\n",
       "      <td>NaN</td>\n",
       "      <td>NaN</td>\n",
       "      <td>NaN</td>\n",
       "      <td>NaN</td>\n",
       "      <td>NaN</td>\n",
       "      <td>NaN</td>\n",
       "      <td>NaN</td>\n",
       "      <td>...</td>\n",
       "      <td>NaN</td>\n",
       "      <td>NaN</td>\n",
       "      <td>NaN</td>\n",
       "      <td>NaN</td>\n",
       "      <td>No</td>\n",
       "      <td>Female</td>\n",
       "      <td>30-44</td>\n",
       "      <td>$50,000 - $99,999</td>\n",
       "      <td>Bachelor degree</td>\n",
       "      <td>Middle Atlantic</td>\n",
       "    </tr>\n",
       "    <tr>\n",
       "      <td>1186</td>\n",
       "      <td>3288373068</td>\n",
       "      <td>Yes</td>\n",
       "      <td>Yes</td>\n",
       "      <td>Star Wars: Episode I  The Phantom Menace</td>\n",
       "      <td>Star Wars: Episode II  Attack of the Clones</td>\n",
       "      <td>Star Wars: Episode III  Revenge of the Sith</td>\n",
       "      <td>Star Wars: Episode IV  A New Hope</td>\n",
       "      <td>Star Wars: Episode V The Empire Strikes Back</td>\n",
       "      <td>Star Wars: Episode VI Return of the Jedi</td>\n",
       "      <td>4</td>\n",
       "      <td>...</td>\n",
       "      <td>Very favorably</td>\n",
       "      <td>Han</td>\n",
       "      <td>No</td>\n",
       "      <td>NaN</td>\n",
       "      <td>Yes</td>\n",
       "      <td>Female</td>\n",
       "      <td>45-60</td>\n",
       "      <td>$100,000 - $149,999</td>\n",
       "      <td>Some college or Associate degree</td>\n",
       "      <td>East North Central</td>\n",
       "    </tr>\n",
       "    <tr>\n",
       "      <td>1187</td>\n",
       "      <td>3288372923</td>\n",
       "      <td>Yes</td>\n",
       "      <td>No</td>\n",
       "      <td>Star Wars: Episode I  The Phantom Menace</td>\n",
       "      <td>Star Wars: Episode II  Attack of the Clones</td>\n",
       "      <td>NaN</td>\n",
       "      <td>NaN</td>\n",
       "      <td>Star Wars: Episode V The Empire Strikes Back</td>\n",
       "      <td>Star Wars: Episode VI Return of the Jedi</td>\n",
       "      <td>6</td>\n",
       "      <td>...</td>\n",
       "      <td>Very unfavorably</td>\n",
       "      <td>I don't understand this question</td>\n",
       "      <td>No</td>\n",
       "      <td>NaN</td>\n",
       "      <td>No</td>\n",
       "      <td>Female</td>\n",
       "      <td>&gt; 60</td>\n",
       "      <td>$50,000 - $99,999</td>\n",
       "      <td>Graduate degree</td>\n",
       "      <td>Pacific</td>\n",
       "    </tr>\n",
       "  </tbody>\n",
       "</table>\n",
       "<p>1186 rows × 38 columns</p>\n",
       "</div>"
      ],
      "text/plain": [
       "              ID   Q1   Q2                                 Q3Option1  \\\n",
       "2     3292879998  Yes  Yes  Star Wars: Episode I  The Phantom Menace   \n",
       "3     3292879538   No  NaN                                       NaN   \n",
       "4     3292765271  Yes   No  Star Wars: Episode I  The Phantom Menace   \n",
       "5     3292763116  Yes  Yes  Star Wars: Episode I  The Phantom Menace   \n",
       "6     3292731220  Yes  Yes  Star Wars: Episode I  The Phantom Menace   \n",
       "...          ...  ...  ...                                       ...   \n",
       "1183  3288388730  Yes  Yes  Star Wars: Episode I  The Phantom Menace   \n",
       "1184  3288378779  Yes  Yes  Star Wars: Episode I  The Phantom Menace   \n",
       "1185  3288375286   No  NaN                                       NaN   \n",
       "1186  3288373068  Yes  Yes  Star Wars: Episode I  The Phantom Menace   \n",
       "1187  3288372923  Yes   No  Star Wars: Episode I  The Phantom Menace   \n",
       "\n",
       "                                        Q3Option2  \\\n",
       "2     Star Wars: Episode II  Attack of the Clones   \n",
       "3                                             NaN   \n",
       "4     Star Wars: Episode II  Attack of the Clones   \n",
       "5     Star Wars: Episode II  Attack of the Clones   \n",
       "6     Star Wars: Episode II  Attack of the Clones   \n",
       "...                                           ...   \n",
       "1183  Star Wars: Episode II  Attack of the Clones   \n",
       "1184  Star Wars: Episode II  Attack of the Clones   \n",
       "1185                                          NaN   \n",
       "1186  Star Wars: Episode II  Attack of the Clones   \n",
       "1187  Star Wars: Episode II  Attack of the Clones   \n",
       "\n",
       "                                        Q3Option3  \\\n",
       "2     Star Wars: Episode III  Revenge of the Sith   \n",
       "3                                             NaN   \n",
       "4     Star Wars: Episode III  Revenge of the Sith   \n",
       "5     Star Wars: Episode III  Revenge of the Sith   \n",
       "6     Star Wars: Episode III  Revenge of the Sith   \n",
       "...                                           ...   \n",
       "1183  Star Wars: Episode III  Revenge of the Sith   \n",
       "1184  Star Wars: Episode III  Revenge of the Sith   \n",
       "1185                                          NaN   \n",
       "1186  Star Wars: Episode III  Revenge of the Sith   \n",
       "1187                                          NaN   \n",
       "\n",
       "                              Q3Option4  \\\n",
       "2     Star Wars: Episode IV  A New Hope   \n",
       "3                                   NaN   \n",
       "4                                   NaN   \n",
       "5     Star Wars: Episode IV  A New Hope   \n",
       "6     Star Wars: Episode IV  A New Hope   \n",
       "...                                 ...   \n",
       "1183  Star Wars: Episode IV  A New Hope   \n",
       "1184  Star Wars: Episode IV  A New Hope   \n",
       "1185                                NaN   \n",
       "1186  Star Wars: Episode IV  A New Hope   \n",
       "1187                                NaN   \n",
       "\n",
       "                                         Q3Option5  \\\n",
       "2     Star Wars: Episode V The Empire Strikes Back   \n",
       "3                                              NaN   \n",
       "4                                              NaN   \n",
       "5     Star Wars: Episode V The Empire Strikes Back   \n",
       "6     Star Wars: Episode V The Empire Strikes Back   \n",
       "...                                            ...   \n",
       "1183  Star Wars: Episode V The Empire Strikes Back   \n",
       "1184  Star Wars: Episode V The Empire Strikes Back   \n",
       "1185                                           NaN   \n",
       "1186  Star Wars: Episode V The Empire Strikes Back   \n",
       "1187  Star Wars: Episode V The Empire Strikes Back   \n",
       "\n",
       "                                     Q3Option6 Q4Option1  ...  \\\n",
       "2     Star Wars: Episode VI Return of the Jedi         3  ...   \n",
       "3                                          NaN       NaN  ...   \n",
       "4                                          NaN         1  ...   \n",
       "5     Star Wars: Episode VI Return of the Jedi         5  ...   \n",
       "6     Star Wars: Episode VI Return of the Jedi         5  ...   \n",
       "...                                        ...       ...  ...   \n",
       "1183  Star Wars: Episode VI Return of the Jedi         5  ...   \n",
       "1184  Star Wars: Episode VI Return of the Jedi         4  ...   \n",
       "1185                                       NaN       NaN  ...   \n",
       "1186  Star Wars: Episode VI Return of the Jedi         4  ...   \n",
       "1187  Star Wars: Episode VI Return of the Jedi         6  ...   \n",
       "\n",
       "              Q5Option14                                Q6   Q7   Q8   Q9  \\\n",
       "2         Very favorably  I don't understand this question  Yes   No   No   \n",
       "3                    NaN                               NaN  NaN  NaN  Yes   \n",
       "4       Unfamiliar (N/A)  I don't understand this question   No  NaN   No   \n",
       "5         Very favorably  I don't understand this question   No  NaN  Yes   \n",
       "6     Somewhat favorably                            Greedo  Yes   No   No   \n",
       "...                  ...                               ...  ...  ...  ...   \n",
       "1183      Very favorably                               Han   No  NaN  Yes   \n",
       "1184      Very favorably  I don't understand this question   No  NaN  Yes   \n",
       "1185                 NaN                               NaN  NaN  NaN   No   \n",
       "1186      Very favorably                               Han   No  NaN  Yes   \n",
       "1187    Very unfavorably  I don't understand this question   No  NaN   No   \n",
       "\n",
       "         Q10    Q11                  Q12                               Q13  \\\n",
       "2       Male  18-29                  NaN                High school degree   \n",
       "3       Male  18-29         $0 - $24,999                   Bachelor degree   \n",
       "4       Male  18-29         $0 - $24,999                High school degree   \n",
       "5       Male  18-29  $100,000 - $149,999  Some college or Associate degree   \n",
       "6       Male  18-29  $100,000 - $149,999  Some college or Associate degree   \n",
       "...      ...    ...                  ...                               ...   \n",
       "1183  Female  18-29         $0 - $24,999  Some college or Associate degree   \n",
       "1184  Female  30-44    $50,000 - $99,999                   Bachelor degree   \n",
       "1185  Female  30-44    $50,000 - $99,999                   Bachelor degree   \n",
       "1186  Female  45-60  $100,000 - $149,999  Some college or Associate degree   \n",
       "1187  Female   > 60    $50,000 - $99,999                   Graduate degree   \n",
       "\n",
       "                     Q14  \n",
       "2         South Atlantic  \n",
       "3     West South Central  \n",
       "4     West North Central  \n",
       "5     West North Central  \n",
       "6     West North Central  \n",
       "...                  ...  \n",
       "1183  East North Central  \n",
       "1184            Mountain  \n",
       "1185     Middle Atlantic  \n",
       "1186  East North Central  \n",
       "1187             Pacific  \n",
       "\n",
       "[1186 rows x 38 columns]"
      ]
     },
     "execution_count": 56,
     "metadata": {},
     "output_type": "execute_result"
    }
   ],
   "source": [
    "fakestar[colname]"
   ]
  },
  {
   "cell_type": "code",
   "execution_count": 57,
   "metadata": {},
   "outputs": [
    {
     "data": {
      "text/plain": [
       "Female    549\n",
       "Male      497\n",
       "Name: Q10, dtype: int64"
      ]
     },
     "execution_count": 57,
     "metadata": {},
     "output_type": "execute_result"
    }
   ],
   "source": [
    "fakestar['Q10'].value_counts()"
   ]
  },
  {
   "cell_type": "code",
   "execution_count": null,
   "metadata": {},
   "outputs": [],
   "source": [
    "# Making Column Values to Upper Case"
   ]
  },
  {
   "cell_type": "code",
   "execution_count": 58,
   "metadata": {},
   "outputs": [],
   "source": [
    "fakestar['Q1']=fakestar['Q1'].str.upper()"
   ]
  },
  {
   "cell_type": "code",
   "execution_count": 59,
   "metadata": {},
   "outputs": [
    {
     "data": {
      "text/html": [
       "<div>\n",
       "<style scoped>\n",
       "    .dataframe tbody tr th:only-of-type {\n",
       "        vertical-align: middle;\n",
       "    }\n",
       "\n",
       "    .dataframe tbody tr th {\n",
       "        vertical-align: top;\n",
       "    }\n",
       "\n",
       "    .dataframe thead th {\n",
       "        text-align: right;\n",
       "    }\n",
       "</style>\n",
       "<table border=\"1\" class=\"dataframe\">\n",
       "  <thead>\n",
       "    <tr style=\"text-align: right;\">\n",
       "      <th></th>\n",
       "      <th>ID</th>\n",
       "      <th>Q1</th>\n",
       "      <th>Q2</th>\n",
       "      <th>Q3Option1</th>\n",
       "      <th>Q3Option2</th>\n",
       "      <th>Q3Option3</th>\n",
       "      <th>Q3Option4</th>\n",
       "      <th>Q3Option5</th>\n",
       "      <th>Q3Option6</th>\n",
       "      <th>Q4Option1</th>\n",
       "      <th>...</th>\n",
       "      <th>Q5Option14</th>\n",
       "      <th>Q6</th>\n",
       "      <th>Q7</th>\n",
       "      <th>Q8</th>\n",
       "      <th>Q9</th>\n",
       "      <th>Q10</th>\n",
       "      <th>Q11</th>\n",
       "      <th>Q12</th>\n",
       "      <th>Q13</th>\n",
       "      <th>Q14</th>\n",
       "    </tr>\n",
       "  </thead>\n",
       "  <tbody>\n",
       "    <tr>\n",
       "      <td>2</td>\n",
       "      <td>3292879998</td>\n",
       "      <td>YES</td>\n",
       "      <td>Yes</td>\n",
       "      <td>Star Wars: Episode I  The Phantom Menace</td>\n",
       "      <td>Star Wars: Episode II  Attack of the Clones</td>\n",
       "      <td>Star Wars: Episode III  Revenge of the Sith</td>\n",
       "      <td>Star Wars: Episode IV  A New Hope</td>\n",
       "      <td>Star Wars: Episode V The Empire Strikes Back</td>\n",
       "      <td>Star Wars: Episode VI Return of the Jedi</td>\n",
       "      <td>3</td>\n",
       "      <td>...</td>\n",
       "      <td>Very favorably</td>\n",
       "      <td>I don't understand this question</td>\n",
       "      <td>Yes</td>\n",
       "      <td>No</td>\n",
       "      <td>No</td>\n",
       "      <td>Male</td>\n",
       "      <td>18-29</td>\n",
       "      <td>NaN</td>\n",
       "      <td>High school degree</td>\n",
       "      <td>South Atlantic</td>\n",
       "    </tr>\n",
       "    <tr>\n",
       "      <td>3</td>\n",
       "      <td>3292879538</td>\n",
       "      <td>NO</td>\n",
       "      <td>NaN</td>\n",
       "      <td>NaN</td>\n",
       "      <td>NaN</td>\n",
       "      <td>NaN</td>\n",
       "      <td>NaN</td>\n",
       "      <td>NaN</td>\n",
       "      <td>NaN</td>\n",
       "      <td>NaN</td>\n",
       "      <td>...</td>\n",
       "      <td>NaN</td>\n",
       "      <td>NaN</td>\n",
       "      <td>NaN</td>\n",
       "      <td>NaN</td>\n",
       "      <td>Yes</td>\n",
       "      <td>Male</td>\n",
       "      <td>18-29</td>\n",
       "      <td>$0 - $24,999</td>\n",
       "      <td>Bachelor degree</td>\n",
       "      <td>West South Central</td>\n",
       "    </tr>\n",
       "    <tr>\n",
       "      <td>4</td>\n",
       "      <td>3292765271</td>\n",
       "      <td>YES</td>\n",
       "      <td>No</td>\n",
       "      <td>Star Wars: Episode I  The Phantom Menace</td>\n",
       "      <td>Star Wars: Episode II  Attack of the Clones</td>\n",
       "      <td>Star Wars: Episode III  Revenge of the Sith</td>\n",
       "      <td>NaN</td>\n",
       "      <td>NaN</td>\n",
       "      <td>NaN</td>\n",
       "      <td>1</td>\n",
       "      <td>...</td>\n",
       "      <td>Unfamiliar (N/A)</td>\n",
       "      <td>I don't understand this question</td>\n",
       "      <td>No</td>\n",
       "      <td>NaN</td>\n",
       "      <td>No</td>\n",
       "      <td>Male</td>\n",
       "      <td>18-29</td>\n",
       "      <td>$0 - $24,999</td>\n",
       "      <td>High school degree</td>\n",
       "      <td>West North Central</td>\n",
       "    </tr>\n",
       "    <tr>\n",
       "      <td>5</td>\n",
       "      <td>3292763116</td>\n",
       "      <td>YES</td>\n",
       "      <td>Yes</td>\n",
       "      <td>Star Wars: Episode I  The Phantom Menace</td>\n",
       "      <td>Star Wars: Episode II  Attack of the Clones</td>\n",
       "      <td>Star Wars: Episode III  Revenge of the Sith</td>\n",
       "      <td>Star Wars: Episode IV  A New Hope</td>\n",
       "      <td>Star Wars: Episode V The Empire Strikes Back</td>\n",
       "      <td>Star Wars: Episode VI Return of the Jedi</td>\n",
       "      <td>5</td>\n",
       "      <td>...</td>\n",
       "      <td>Very favorably</td>\n",
       "      <td>I don't understand this question</td>\n",
       "      <td>No</td>\n",
       "      <td>NaN</td>\n",
       "      <td>Yes</td>\n",
       "      <td>Male</td>\n",
       "      <td>18-29</td>\n",
       "      <td>$100,000 - $149,999</td>\n",
       "      <td>Some college or Associate degree</td>\n",
       "      <td>West North Central</td>\n",
       "    </tr>\n",
       "    <tr>\n",
       "      <td>6</td>\n",
       "      <td>3292731220</td>\n",
       "      <td>YES</td>\n",
       "      <td>Yes</td>\n",
       "      <td>Star Wars: Episode I  The Phantom Menace</td>\n",
       "      <td>Star Wars: Episode II  Attack of the Clones</td>\n",
       "      <td>Star Wars: Episode III  Revenge of the Sith</td>\n",
       "      <td>Star Wars: Episode IV  A New Hope</td>\n",
       "      <td>Star Wars: Episode V The Empire Strikes Back</td>\n",
       "      <td>Star Wars: Episode VI Return of the Jedi</td>\n",
       "      <td>5</td>\n",
       "      <td>...</td>\n",
       "      <td>Somewhat favorably</td>\n",
       "      <td>Greedo</td>\n",
       "      <td>Yes</td>\n",
       "      <td>No</td>\n",
       "      <td>No</td>\n",
       "      <td>Male</td>\n",
       "      <td>18-29</td>\n",
       "      <td>$100,000 - $149,999</td>\n",
       "      <td>Some college or Associate degree</td>\n",
       "      <td>West North Central</td>\n",
       "    </tr>\n",
       "    <tr>\n",
       "      <td>...</td>\n",
       "      <td>...</td>\n",
       "      <td>...</td>\n",
       "      <td>...</td>\n",
       "      <td>...</td>\n",
       "      <td>...</td>\n",
       "      <td>...</td>\n",
       "      <td>...</td>\n",
       "      <td>...</td>\n",
       "      <td>...</td>\n",
       "      <td>...</td>\n",
       "      <td>...</td>\n",
       "      <td>...</td>\n",
       "      <td>...</td>\n",
       "      <td>...</td>\n",
       "      <td>...</td>\n",
       "      <td>...</td>\n",
       "      <td>...</td>\n",
       "      <td>...</td>\n",
       "      <td>...</td>\n",
       "      <td>...</td>\n",
       "      <td>...</td>\n",
       "    </tr>\n",
       "    <tr>\n",
       "      <td>1183</td>\n",
       "      <td>3288388730</td>\n",
       "      <td>YES</td>\n",
       "      <td>Yes</td>\n",
       "      <td>Star Wars: Episode I  The Phantom Menace</td>\n",
       "      <td>Star Wars: Episode II  Attack of the Clones</td>\n",
       "      <td>Star Wars: Episode III  Revenge of the Sith</td>\n",
       "      <td>Star Wars: Episode IV  A New Hope</td>\n",
       "      <td>Star Wars: Episode V The Empire Strikes Back</td>\n",
       "      <td>Star Wars: Episode VI Return of the Jedi</td>\n",
       "      <td>5</td>\n",
       "      <td>...</td>\n",
       "      <td>Very favorably</td>\n",
       "      <td>Han</td>\n",
       "      <td>No</td>\n",
       "      <td>NaN</td>\n",
       "      <td>Yes</td>\n",
       "      <td>Female</td>\n",
       "      <td>18-29</td>\n",
       "      <td>$0 - $24,999</td>\n",
       "      <td>Some college or Associate degree</td>\n",
       "      <td>East North Central</td>\n",
       "    </tr>\n",
       "    <tr>\n",
       "      <td>1184</td>\n",
       "      <td>3288378779</td>\n",
       "      <td>YES</td>\n",
       "      <td>Yes</td>\n",
       "      <td>Star Wars: Episode I  The Phantom Menace</td>\n",
       "      <td>Star Wars: Episode II  Attack of the Clones</td>\n",
       "      <td>Star Wars: Episode III  Revenge of the Sith</td>\n",
       "      <td>Star Wars: Episode IV  A New Hope</td>\n",
       "      <td>Star Wars: Episode V The Empire Strikes Back</td>\n",
       "      <td>Star Wars: Episode VI Return of the Jedi</td>\n",
       "      <td>4</td>\n",
       "      <td>...</td>\n",
       "      <td>Very favorably</td>\n",
       "      <td>I don't understand this question</td>\n",
       "      <td>No</td>\n",
       "      <td>NaN</td>\n",
       "      <td>Yes</td>\n",
       "      <td>Female</td>\n",
       "      <td>30-44</td>\n",
       "      <td>$50,000 - $99,999</td>\n",
       "      <td>Bachelor degree</td>\n",
       "      <td>Mountain</td>\n",
       "    </tr>\n",
       "    <tr>\n",
       "      <td>1185</td>\n",
       "      <td>3288375286</td>\n",
       "      <td>NO</td>\n",
       "      <td>NaN</td>\n",
       "      <td>NaN</td>\n",
       "      <td>NaN</td>\n",
       "      <td>NaN</td>\n",
       "      <td>NaN</td>\n",
       "      <td>NaN</td>\n",
       "      <td>NaN</td>\n",
       "      <td>NaN</td>\n",
       "      <td>...</td>\n",
       "      <td>NaN</td>\n",
       "      <td>NaN</td>\n",
       "      <td>NaN</td>\n",
       "      <td>NaN</td>\n",
       "      <td>No</td>\n",
       "      <td>Female</td>\n",
       "      <td>30-44</td>\n",
       "      <td>$50,000 - $99,999</td>\n",
       "      <td>Bachelor degree</td>\n",
       "      <td>Middle Atlantic</td>\n",
       "    </tr>\n",
       "    <tr>\n",
       "      <td>1186</td>\n",
       "      <td>3288373068</td>\n",
       "      <td>YES</td>\n",
       "      <td>Yes</td>\n",
       "      <td>Star Wars: Episode I  The Phantom Menace</td>\n",
       "      <td>Star Wars: Episode II  Attack of the Clones</td>\n",
       "      <td>Star Wars: Episode III  Revenge of the Sith</td>\n",
       "      <td>Star Wars: Episode IV  A New Hope</td>\n",
       "      <td>Star Wars: Episode V The Empire Strikes Back</td>\n",
       "      <td>Star Wars: Episode VI Return of the Jedi</td>\n",
       "      <td>4</td>\n",
       "      <td>...</td>\n",
       "      <td>Very favorably</td>\n",
       "      <td>Han</td>\n",
       "      <td>No</td>\n",
       "      <td>NaN</td>\n",
       "      <td>Yes</td>\n",
       "      <td>Female</td>\n",
       "      <td>45-60</td>\n",
       "      <td>$100,000 - $149,999</td>\n",
       "      <td>Some college or Associate degree</td>\n",
       "      <td>East North Central</td>\n",
       "    </tr>\n",
       "    <tr>\n",
       "      <td>1187</td>\n",
       "      <td>3288372923</td>\n",
       "      <td>YES</td>\n",
       "      <td>No</td>\n",
       "      <td>Star Wars: Episode I  The Phantom Menace</td>\n",
       "      <td>Star Wars: Episode II  Attack of the Clones</td>\n",
       "      <td>NaN</td>\n",
       "      <td>NaN</td>\n",
       "      <td>Star Wars: Episode V The Empire Strikes Back</td>\n",
       "      <td>Star Wars: Episode VI Return of the Jedi</td>\n",
       "      <td>6</td>\n",
       "      <td>...</td>\n",
       "      <td>Very unfavorably</td>\n",
       "      <td>I don't understand this question</td>\n",
       "      <td>No</td>\n",
       "      <td>NaN</td>\n",
       "      <td>No</td>\n",
       "      <td>Female</td>\n",
       "      <td>&gt; 60</td>\n",
       "      <td>$50,000 - $99,999</td>\n",
       "      <td>Graduate degree</td>\n",
       "      <td>Pacific</td>\n",
       "    </tr>\n",
       "  </tbody>\n",
       "</table>\n",
       "<p>1186 rows × 38 columns</p>\n",
       "</div>"
      ],
      "text/plain": [
       "              ID   Q1   Q2                                 Q3Option1  \\\n",
       "2     3292879998  YES  Yes  Star Wars: Episode I  The Phantom Menace   \n",
       "3     3292879538   NO  NaN                                       NaN   \n",
       "4     3292765271  YES   No  Star Wars: Episode I  The Phantom Menace   \n",
       "5     3292763116  YES  Yes  Star Wars: Episode I  The Phantom Menace   \n",
       "6     3292731220  YES  Yes  Star Wars: Episode I  The Phantom Menace   \n",
       "...          ...  ...  ...                                       ...   \n",
       "1183  3288388730  YES  Yes  Star Wars: Episode I  The Phantom Menace   \n",
       "1184  3288378779  YES  Yes  Star Wars: Episode I  The Phantom Menace   \n",
       "1185  3288375286   NO  NaN                                       NaN   \n",
       "1186  3288373068  YES  Yes  Star Wars: Episode I  The Phantom Menace   \n",
       "1187  3288372923  YES   No  Star Wars: Episode I  The Phantom Menace   \n",
       "\n",
       "                                        Q3Option2  \\\n",
       "2     Star Wars: Episode II  Attack of the Clones   \n",
       "3                                             NaN   \n",
       "4     Star Wars: Episode II  Attack of the Clones   \n",
       "5     Star Wars: Episode II  Attack of the Clones   \n",
       "6     Star Wars: Episode II  Attack of the Clones   \n",
       "...                                           ...   \n",
       "1183  Star Wars: Episode II  Attack of the Clones   \n",
       "1184  Star Wars: Episode II  Attack of the Clones   \n",
       "1185                                          NaN   \n",
       "1186  Star Wars: Episode II  Attack of the Clones   \n",
       "1187  Star Wars: Episode II  Attack of the Clones   \n",
       "\n",
       "                                        Q3Option3  \\\n",
       "2     Star Wars: Episode III  Revenge of the Sith   \n",
       "3                                             NaN   \n",
       "4     Star Wars: Episode III  Revenge of the Sith   \n",
       "5     Star Wars: Episode III  Revenge of the Sith   \n",
       "6     Star Wars: Episode III  Revenge of the Sith   \n",
       "...                                           ...   \n",
       "1183  Star Wars: Episode III  Revenge of the Sith   \n",
       "1184  Star Wars: Episode III  Revenge of the Sith   \n",
       "1185                                          NaN   \n",
       "1186  Star Wars: Episode III  Revenge of the Sith   \n",
       "1187                                          NaN   \n",
       "\n",
       "                              Q3Option4  \\\n",
       "2     Star Wars: Episode IV  A New Hope   \n",
       "3                                   NaN   \n",
       "4                                   NaN   \n",
       "5     Star Wars: Episode IV  A New Hope   \n",
       "6     Star Wars: Episode IV  A New Hope   \n",
       "...                                 ...   \n",
       "1183  Star Wars: Episode IV  A New Hope   \n",
       "1184  Star Wars: Episode IV  A New Hope   \n",
       "1185                                NaN   \n",
       "1186  Star Wars: Episode IV  A New Hope   \n",
       "1187                                NaN   \n",
       "\n",
       "                                         Q3Option5  \\\n",
       "2     Star Wars: Episode V The Empire Strikes Back   \n",
       "3                                              NaN   \n",
       "4                                              NaN   \n",
       "5     Star Wars: Episode V The Empire Strikes Back   \n",
       "6     Star Wars: Episode V The Empire Strikes Back   \n",
       "...                                            ...   \n",
       "1183  Star Wars: Episode V The Empire Strikes Back   \n",
       "1184  Star Wars: Episode V The Empire Strikes Back   \n",
       "1185                                           NaN   \n",
       "1186  Star Wars: Episode V The Empire Strikes Back   \n",
       "1187  Star Wars: Episode V The Empire Strikes Back   \n",
       "\n",
       "                                     Q3Option6 Q4Option1  ...  \\\n",
       "2     Star Wars: Episode VI Return of the Jedi         3  ...   \n",
       "3                                          NaN       NaN  ...   \n",
       "4                                          NaN         1  ...   \n",
       "5     Star Wars: Episode VI Return of the Jedi         5  ...   \n",
       "6     Star Wars: Episode VI Return of the Jedi         5  ...   \n",
       "...                                        ...       ...  ...   \n",
       "1183  Star Wars: Episode VI Return of the Jedi         5  ...   \n",
       "1184  Star Wars: Episode VI Return of the Jedi         4  ...   \n",
       "1185                                       NaN       NaN  ...   \n",
       "1186  Star Wars: Episode VI Return of the Jedi         4  ...   \n",
       "1187  Star Wars: Episode VI Return of the Jedi         6  ...   \n",
       "\n",
       "              Q5Option14                                Q6   Q7   Q8   Q9  \\\n",
       "2         Very favorably  I don't understand this question  Yes   No   No   \n",
       "3                    NaN                               NaN  NaN  NaN  Yes   \n",
       "4       Unfamiliar (N/A)  I don't understand this question   No  NaN   No   \n",
       "5         Very favorably  I don't understand this question   No  NaN  Yes   \n",
       "6     Somewhat favorably                            Greedo  Yes   No   No   \n",
       "...                  ...                               ...  ...  ...  ...   \n",
       "1183      Very favorably                               Han   No  NaN  Yes   \n",
       "1184      Very favorably  I don't understand this question   No  NaN  Yes   \n",
       "1185                 NaN                               NaN  NaN  NaN   No   \n",
       "1186      Very favorably                               Han   No  NaN  Yes   \n",
       "1187    Very unfavorably  I don't understand this question   No  NaN   No   \n",
       "\n",
       "         Q10    Q11                  Q12                               Q13  \\\n",
       "2       Male  18-29                  NaN                High school degree   \n",
       "3       Male  18-29         $0 - $24,999                   Bachelor degree   \n",
       "4       Male  18-29         $0 - $24,999                High school degree   \n",
       "5       Male  18-29  $100,000 - $149,999  Some college or Associate degree   \n",
       "6       Male  18-29  $100,000 - $149,999  Some college or Associate degree   \n",
       "...      ...    ...                  ...                               ...   \n",
       "1183  Female  18-29         $0 - $24,999  Some college or Associate degree   \n",
       "1184  Female  30-44    $50,000 - $99,999                   Bachelor degree   \n",
       "1185  Female  30-44    $50,000 - $99,999                   Bachelor degree   \n",
       "1186  Female  45-60  $100,000 - $149,999  Some college or Associate degree   \n",
       "1187  Female   > 60    $50,000 - $99,999                   Graduate degree   \n",
       "\n",
       "                     Q14  \n",
       "2         South Atlantic  \n",
       "3     West South Central  \n",
       "4     West North Central  \n",
       "5     West North Central  \n",
       "6     West North Central  \n",
       "...                  ...  \n",
       "1183  East North Central  \n",
       "1184            Mountain  \n",
       "1185     Middle Atlantic  \n",
       "1186  East North Central  \n",
       "1187             Pacific  \n",
       "\n",
       "[1186 rows x 38 columns]"
      ]
     },
     "execution_count": 59,
     "metadata": {},
     "output_type": "execute_result"
    }
   ],
   "source": [
    "fakestar"
   ]
  },
  {
   "cell_type": "code",
   "execution_count": 60,
   "metadata": {
    "scrolled": true
   },
   "outputs": [
    {
     "data": {
      "text/html": [
       "<div>\n",
       "<style scoped>\n",
       "    .dataframe tbody tr th:only-of-type {\n",
       "        vertical-align: middle;\n",
       "    }\n",
       "\n",
       "    .dataframe tbody tr th {\n",
       "        vertical-align: top;\n",
       "    }\n",
       "\n",
       "    .dataframe thead th {\n",
       "        text-align: right;\n",
       "    }\n",
       "</style>\n",
       "<table border=\"1\" class=\"dataframe\">\n",
       "  <thead>\n",
       "    <tr style=\"text-align: right;\">\n",
       "      <th></th>\n",
       "      <th>ID</th>\n",
       "      <th>Q1</th>\n",
       "      <th>Q2</th>\n",
       "      <th>Q3Option1</th>\n",
       "      <th>Q3Option2</th>\n",
       "      <th>Q3Option3</th>\n",
       "      <th>Q3Option4</th>\n",
       "      <th>Q3Option5</th>\n",
       "      <th>Q3Option6</th>\n",
       "      <th>Q4Option1</th>\n",
       "      <th>...</th>\n",
       "      <th>Q5Option14</th>\n",
       "      <th>Q6</th>\n",
       "      <th>Q7</th>\n",
       "      <th>Q8</th>\n",
       "      <th>Q9</th>\n",
       "      <th>Q10</th>\n",
       "      <th>Q11</th>\n",
       "      <th>Q12</th>\n",
       "      <th>Q13</th>\n",
       "      <th>Q14</th>\n",
       "    </tr>\n",
       "  </thead>\n",
       "  <tbody>\n",
       "    <tr>\n",
       "      <td>2</td>\n",
       "      <td>3292879998</td>\n",
       "      <td>YES</td>\n",
       "      <td>Yes</td>\n",
       "      <td>Star Wars: Episode I  The Phantom Menace</td>\n",
       "      <td>Star Wars: Episode II  Attack of the Clones</td>\n",
       "      <td>Star Wars: Episode III  Revenge of the Sith</td>\n",
       "      <td>Star Wars: Episode IV  A New Hope</td>\n",
       "      <td>Star Wars: Episode V The Empire Strikes Back</td>\n",
       "      <td>Star Wars: Episode VI Return of the Jedi</td>\n",
       "      <td>3</td>\n",
       "      <td>...</td>\n",
       "      <td>Very favorably</td>\n",
       "      <td>I don't understand this question</td>\n",
       "      <td>Yes</td>\n",
       "      <td>No</td>\n",
       "      <td>No</td>\n",
       "      <td>Male</td>\n",
       "      <td>18-29</td>\n",
       "      <td>NaN</td>\n",
       "      <td>High school degree</td>\n",
       "      <td>South Atlantic</td>\n",
       "    </tr>\n",
       "    <tr>\n",
       "      <td>3</td>\n",
       "      <td>3292879538</td>\n",
       "      <td>NO</td>\n",
       "      <td>NaN</td>\n",
       "      <td>NaN</td>\n",
       "      <td>NaN</td>\n",
       "      <td>NaN</td>\n",
       "      <td>NaN</td>\n",
       "      <td>NaN</td>\n",
       "      <td>NaN</td>\n",
       "      <td>NaN</td>\n",
       "      <td>...</td>\n",
       "      <td>NaN</td>\n",
       "      <td>NaN</td>\n",
       "      <td>NaN</td>\n",
       "      <td>NaN</td>\n",
       "      <td>Yes</td>\n",
       "      <td>Male</td>\n",
       "      <td>18-29</td>\n",
       "      <td>$0 - $24,999</td>\n",
       "      <td>Bachelor degree</td>\n",
       "      <td>West South Central</td>\n",
       "    </tr>\n",
       "    <tr>\n",
       "      <td>4</td>\n",
       "      <td>3292765271</td>\n",
       "      <td>YES</td>\n",
       "      <td>No</td>\n",
       "      <td>Star Wars: Episode I  The Phantom Menace</td>\n",
       "      <td>Star Wars: Episode II  Attack of the Clones</td>\n",
       "      <td>Star Wars: Episode III  Revenge of the Sith</td>\n",
       "      <td>NaN</td>\n",
       "      <td>NaN</td>\n",
       "      <td>NaN</td>\n",
       "      <td>1</td>\n",
       "      <td>...</td>\n",
       "      <td>Unfamiliar (N/A)</td>\n",
       "      <td>I don't understand this question</td>\n",
       "      <td>No</td>\n",
       "      <td>NaN</td>\n",
       "      <td>No</td>\n",
       "      <td>Male</td>\n",
       "      <td>18-29</td>\n",
       "      <td>$0 - $24,999</td>\n",
       "      <td>High school degree</td>\n",
       "      <td>West North Central</td>\n",
       "    </tr>\n",
       "    <tr>\n",
       "      <td>5</td>\n",
       "      <td>3292763116</td>\n",
       "      <td>YES</td>\n",
       "      <td>Yes</td>\n",
       "      <td>Star Wars: Episode I  The Phantom Menace</td>\n",
       "      <td>Star Wars: Episode II  Attack of the Clones</td>\n",
       "      <td>Star Wars: Episode III  Revenge of the Sith</td>\n",
       "      <td>Star Wars: Episode IV  A New Hope</td>\n",
       "      <td>Star Wars: Episode V The Empire Strikes Back</td>\n",
       "      <td>Star Wars: Episode VI Return of the Jedi</td>\n",
       "      <td>5</td>\n",
       "      <td>...</td>\n",
       "      <td>Very favorably</td>\n",
       "      <td>I don't understand this question</td>\n",
       "      <td>No</td>\n",
       "      <td>NaN</td>\n",
       "      <td>Yes</td>\n",
       "      <td>Male</td>\n",
       "      <td>18-29</td>\n",
       "      <td>$100,000 - $149,999</td>\n",
       "      <td>Some college or Associate degree</td>\n",
       "      <td>West North Central</td>\n",
       "    </tr>\n",
       "    <tr>\n",
       "      <td>6</td>\n",
       "      <td>3292731220</td>\n",
       "      <td>YES</td>\n",
       "      <td>Yes</td>\n",
       "      <td>Star Wars: Episode I  The Phantom Menace</td>\n",
       "      <td>Star Wars: Episode II  Attack of the Clones</td>\n",
       "      <td>Star Wars: Episode III  Revenge of the Sith</td>\n",
       "      <td>Star Wars: Episode IV  A New Hope</td>\n",
       "      <td>Star Wars: Episode V The Empire Strikes Back</td>\n",
       "      <td>Star Wars: Episode VI Return of the Jedi</td>\n",
       "      <td>5</td>\n",
       "      <td>...</td>\n",
       "      <td>Somewhat favorably</td>\n",
       "      <td>Greedo</td>\n",
       "      <td>Yes</td>\n",
       "      <td>No</td>\n",
       "      <td>No</td>\n",
       "      <td>Male</td>\n",
       "      <td>18-29</td>\n",
       "      <td>$100,000 - $149,999</td>\n",
       "      <td>Some college or Associate degree</td>\n",
       "      <td>West North Central</td>\n",
       "    </tr>\n",
       "    <tr>\n",
       "      <td>...</td>\n",
       "      <td>...</td>\n",
       "      <td>...</td>\n",
       "      <td>...</td>\n",
       "      <td>...</td>\n",
       "      <td>...</td>\n",
       "      <td>...</td>\n",
       "      <td>...</td>\n",
       "      <td>...</td>\n",
       "      <td>...</td>\n",
       "      <td>...</td>\n",
       "      <td>...</td>\n",
       "      <td>...</td>\n",
       "      <td>...</td>\n",
       "      <td>...</td>\n",
       "      <td>...</td>\n",
       "      <td>...</td>\n",
       "      <td>...</td>\n",
       "      <td>...</td>\n",
       "      <td>...</td>\n",
       "      <td>...</td>\n",
       "      <td>...</td>\n",
       "    </tr>\n",
       "    <tr>\n",
       "      <td>1183</td>\n",
       "      <td>3288388730</td>\n",
       "      <td>YES</td>\n",
       "      <td>Yes</td>\n",
       "      <td>Star Wars: Episode I  The Phantom Menace</td>\n",
       "      <td>Star Wars: Episode II  Attack of the Clones</td>\n",
       "      <td>Star Wars: Episode III  Revenge of the Sith</td>\n",
       "      <td>Star Wars: Episode IV  A New Hope</td>\n",
       "      <td>Star Wars: Episode V The Empire Strikes Back</td>\n",
       "      <td>Star Wars: Episode VI Return of the Jedi</td>\n",
       "      <td>5</td>\n",
       "      <td>...</td>\n",
       "      <td>Very favorably</td>\n",
       "      <td>Han</td>\n",
       "      <td>No</td>\n",
       "      <td>NaN</td>\n",
       "      <td>Yes</td>\n",
       "      <td>Female</td>\n",
       "      <td>18-29</td>\n",
       "      <td>$0 - $24,999</td>\n",
       "      <td>Some college or Associate degree</td>\n",
       "      <td>East North Central</td>\n",
       "    </tr>\n",
       "    <tr>\n",
       "      <td>1184</td>\n",
       "      <td>3288378779</td>\n",
       "      <td>YES</td>\n",
       "      <td>Yes</td>\n",
       "      <td>Star Wars: Episode I  The Phantom Menace</td>\n",
       "      <td>Star Wars: Episode II  Attack of the Clones</td>\n",
       "      <td>Star Wars: Episode III  Revenge of the Sith</td>\n",
       "      <td>Star Wars: Episode IV  A New Hope</td>\n",
       "      <td>Star Wars: Episode V The Empire Strikes Back</td>\n",
       "      <td>Star Wars: Episode VI Return of the Jedi</td>\n",
       "      <td>4</td>\n",
       "      <td>...</td>\n",
       "      <td>Very favorably</td>\n",
       "      <td>I don't understand this question</td>\n",
       "      <td>No</td>\n",
       "      <td>NaN</td>\n",
       "      <td>Yes</td>\n",
       "      <td>Female</td>\n",
       "      <td>30-44</td>\n",
       "      <td>$50,000 - $99,999</td>\n",
       "      <td>Bachelor degree</td>\n",
       "      <td>Mountain</td>\n",
       "    </tr>\n",
       "    <tr>\n",
       "      <td>1185</td>\n",
       "      <td>3288375286</td>\n",
       "      <td>NO</td>\n",
       "      <td>NaN</td>\n",
       "      <td>NaN</td>\n",
       "      <td>NaN</td>\n",
       "      <td>NaN</td>\n",
       "      <td>NaN</td>\n",
       "      <td>NaN</td>\n",
       "      <td>NaN</td>\n",
       "      <td>NaN</td>\n",
       "      <td>...</td>\n",
       "      <td>NaN</td>\n",
       "      <td>NaN</td>\n",
       "      <td>NaN</td>\n",
       "      <td>NaN</td>\n",
       "      <td>No</td>\n",
       "      <td>Female</td>\n",
       "      <td>30-44</td>\n",
       "      <td>$50,000 - $99,999</td>\n",
       "      <td>Bachelor degree</td>\n",
       "      <td>Middle Atlantic</td>\n",
       "    </tr>\n",
       "    <tr>\n",
       "      <td>1186</td>\n",
       "      <td>3288373068</td>\n",
       "      <td>YES</td>\n",
       "      <td>Yes</td>\n",
       "      <td>Star Wars: Episode I  The Phantom Menace</td>\n",
       "      <td>Star Wars: Episode II  Attack of the Clones</td>\n",
       "      <td>Star Wars: Episode III  Revenge of the Sith</td>\n",
       "      <td>Star Wars: Episode IV  A New Hope</td>\n",
       "      <td>Star Wars: Episode V The Empire Strikes Back</td>\n",
       "      <td>Star Wars: Episode VI Return of the Jedi</td>\n",
       "      <td>4</td>\n",
       "      <td>...</td>\n",
       "      <td>Very favorably</td>\n",
       "      <td>Han</td>\n",
       "      <td>No</td>\n",
       "      <td>NaN</td>\n",
       "      <td>Yes</td>\n",
       "      <td>Female</td>\n",
       "      <td>45-60</td>\n",
       "      <td>$100,000 - $149,999</td>\n",
       "      <td>Some college or Associate degree</td>\n",
       "      <td>East North Central</td>\n",
       "    </tr>\n",
       "    <tr>\n",
       "      <td>1187</td>\n",
       "      <td>3288372923</td>\n",
       "      <td>YES</td>\n",
       "      <td>No</td>\n",
       "      <td>Star Wars: Episode I  The Phantom Menace</td>\n",
       "      <td>Star Wars: Episode II  Attack of the Clones</td>\n",
       "      <td>NaN</td>\n",
       "      <td>NaN</td>\n",
       "      <td>Star Wars: Episode V The Empire Strikes Back</td>\n",
       "      <td>Star Wars: Episode VI Return of the Jedi</td>\n",
       "      <td>6</td>\n",
       "      <td>...</td>\n",
       "      <td>Very unfavorably</td>\n",
       "      <td>I don't understand this question</td>\n",
       "      <td>No</td>\n",
       "      <td>NaN</td>\n",
       "      <td>No</td>\n",
       "      <td>Female</td>\n",
       "      <td>&gt; 60</td>\n",
       "      <td>$50,000 - $99,999</td>\n",
       "      <td>Graduate degree</td>\n",
       "      <td>Pacific</td>\n",
       "    </tr>\n",
       "  </tbody>\n",
       "</table>\n",
       "<p>1186 rows × 38 columns</p>\n",
       "</div>"
      ],
      "text/plain": [
       "              ID   Q1   Q2                                 Q3Option1  \\\n",
       "2     3292879998  YES  Yes  Star Wars: Episode I  The Phantom Menace   \n",
       "3     3292879538   NO  NaN                                       NaN   \n",
       "4     3292765271  YES   No  Star Wars: Episode I  The Phantom Menace   \n",
       "5     3292763116  YES  Yes  Star Wars: Episode I  The Phantom Menace   \n",
       "6     3292731220  YES  Yes  Star Wars: Episode I  The Phantom Menace   \n",
       "...          ...  ...  ...                                       ...   \n",
       "1183  3288388730  YES  Yes  Star Wars: Episode I  The Phantom Menace   \n",
       "1184  3288378779  YES  Yes  Star Wars: Episode I  The Phantom Menace   \n",
       "1185  3288375286   NO  NaN                                       NaN   \n",
       "1186  3288373068  YES  Yes  Star Wars: Episode I  The Phantom Menace   \n",
       "1187  3288372923  YES   No  Star Wars: Episode I  The Phantom Menace   \n",
       "\n",
       "                                        Q3Option2  \\\n",
       "2     Star Wars: Episode II  Attack of the Clones   \n",
       "3                                             NaN   \n",
       "4     Star Wars: Episode II  Attack of the Clones   \n",
       "5     Star Wars: Episode II  Attack of the Clones   \n",
       "6     Star Wars: Episode II  Attack of the Clones   \n",
       "...                                           ...   \n",
       "1183  Star Wars: Episode II  Attack of the Clones   \n",
       "1184  Star Wars: Episode II  Attack of the Clones   \n",
       "1185                                          NaN   \n",
       "1186  Star Wars: Episode II  Attack of the Clones   \n",
       "1187  Star Wars: Episode II  Attack of the Clones   \n",
       "\n",
       "                                        Q3Option3  \\\n",
       "2     Star Wars: Episode III  Revenge of the Sith   \n",
       "3                                             NaN   \n",
       "4     Star Wars: Episode III  Revenge of the Sith   \n",
       "5     Star Wars: Episode III  Revenge of the Sith   \n",
       "6     Star Wars: Episode III  Revenge of the Sith   \n",
       "...                                           ...   \n",
       "1183  Star Wars: Episode III  Revenge of the Sith   \n",
       "1184  Star Wars: Episode III  Revenge of the Sith   \n",
       "1185                                          NaN   \n",
       "1186  Star Wars: Episode III  Revenge of the Sith   \n",
       "1187                                          NaN   \n",
       "\n",
       "                              Q3Option4  \\\n",
       "2     Star Wars: Episode IV  A New Hope   \n",
       "3                                   NaN   \n",
       "4                                   NaN   \n",
       "5     Star Wars: Episode IV  A New Hope   \n",
       "6     Star Wars: Episode IV  A New Hope   \n",
       "...                                 ...   \n",
       "1183  Star Wars: Episode IV  A New Hope   \n",
       "1184  Star Wars: Episode IV  A New Hope   \n",
       "1185                                NaN   \n",
       "1186  Star Wars: Episode IV  A New Hope   \n",
       "1187                                NaN   \n",
       "\n",
       "                                         Q3Option5  \\\n",
       "2     Star Wars: Episode V The Empire Strikes Back   \n",
       "3                                              NaN   \n",
       "4                                              NaN   \n",
       "5     Star Wars: Episode V The Empire Strikes Back   \n",
       "6     Star Wars: Episode V The Empire Strikes Back   \n",
       "...                                            ...   \n",
       "1183  Star Wars: Episode V The Empire Strikes Back   \n",
       "1184  Star Wars: Episode V The Empire Strikes Back   \n",
       "1185                                           NaN   \n",
       "1186  Star Wars: Episode V The Empire Strikes Back   \n",
       "1187  Star Wars: Episode V The Empire Strikes Back   \n",
       "\n",
       "                                     Q3Option6 Q4Option1  ...  \\\n",
       "2     Star Wars: Episode VI Return of the Jedi         3  ...   \n",
       "3                                          NaN       NaN  ...   \n",
       "4                                          NaN         1  ...   \n",
       "5     Star Wars: Episode VI Return of the Jedi         5  ...   \n",
       "6     Star Wars: Episode VI Return of the Jedi         5  ...   \n",
       "...                                        ...       ...  ...   \n",
       "1183  Star Wars: Episode VI Return of the Jedi         5  ...   \n",
       "1184  Star Wars: Episode VI Return of the Jedi         4  ...   \n",
       "1185                                       NaN       NaN  ...   \n",
       "1186  Star Wars: Episode VI Return of the Jedi         4  ...   \n",
       "1187  Star Wars: Episode VI Return of the Jedi         6  ...   \n",
       "\n",
       "              Q5Option14                                Q6   Q7   Q8   Q9  \\\n",
       "2         Very favorably  I don't understand this question  Yes   No   No   \n",
       "3                    NaN                               NaN  NaN  NaN  Yes   \n",
       "4       Unfamiliar (N/A)  I don't understand this question   No  NaN   No   \n",
       "5         Very favorably  I don't understand this question   No  NaN  Yes   \n",
       "6     Somewhat favorably                            Greedo  Yes   No   No   \n",
       "...                  ...                               ...  ...  ...  ...   \n",
       "1183      Very favorably                               Han   No  NaN  Yes   \n",
       "1184      Very favorably  I don't understand this question   No  NaN  Yes   \n",
       "1185                 NaN                               NaN  NaN  NaN   No   \n",
       "1186      Very favorably                               Han   No  NaN  Yes   \n",
       "1187    Very unfavorably  I don't understand this question   No  NaN   No   \n",
       "\n",
       "         Q10    Q11                  Q12                               Q13  \\\n",
       "2       Male  18-29                  NaN                High school degree   \n",
       "3       Male  18-29         $0 - $24,999                   Bachelor degree   \n",
       "4       Male  18-29         $0 - $24,999                High school degree   \n",
       "5       Male  18-29  $100,000 - $149,999  Some college or Associate degree   \n",
       "6       Male  18-29  $100,000 - $149,999  Some college or Associate degree   \n",
       "...      ...    ...                  ...                               ...   \n",
       "1183  Female  18-29         $0 - $24,999  Some college or Associate degree   \n",
       "1184  Female  30-44    $50,000 - $99,999                   Bachelor degree   \n",
       "1185  Female  30-44    $50,000 - $99,999                   Bachelor degree   \n",
       "1186  Female  45-60  $100,000 - $149,999  Some college or Associate degree   \n",
       "1187  Female   > 60    $50,000 - $99,999                   Graduate degree   \n",
       "\n",
       "                     Q14  \n",
       "2         South Atlantic  \n",
       "3     West South Central  \n",
       "4     West North Central  \n",
       "5     West North Central  \n",
       "6     West North Central  \n",
       "...                  ...  \n",
       "1183  East North Central  \n",
       "1184            Mountain  \n",
       "1185     Middle Atlantic  \n",
       "1186  East North Central  \n",
       "1187             Pacific  \n",
       "\n",
       "[1186 rows x 38 columns]"
      ]
     },
     "execution_count": 60,
     "metadata": {},
     "output_type": "execute_result"
    }
   ],
   "source": [
    "fakestar"
   ]
  },
  {
   "cell_type": "code",
   "execution_count": 69,
   "metadata": {},
   "outputs": [],
   "source": [
    "fakestar['Q5Option1']=fakestar['Q5Option1'].str.upper()"
   ]
  },
  {
   "cell_type": "code",
   "execution_count": 70,
   "metadata": {},
   "outputs": [],
   "source": [
    "fakestar['Q5Option2']=fakestar['Q5Option2'].str.upper()"
   ]
  },
  {
   "cell_type": "code",
   "execution_count": 71,
   "metadata": {},
   "outputs": [],
   "source": [
    "fakestar['Q5Option3']=fakestar['Q5Option3'].str.upper()"
   ]
  },
  {
   "cell_type": "code",
   "execution_count": 72,
   "metadata": {},
   "outputs": [],
   "source": [
    "fakestar['Q5Option4']=fakestar['Q5Option4'].str.upper()"
   ]
  },
  {
   "cell_type": "code",
   "execution_count": 73,
   "metadata": {},
   "outputs": [],
   "source": [
    "fakestar['Q5Option5']=fakestar['Q5Option5'].str.upper()"
   ]
  },
  {
   "cell_type": "code",
   "execution_count": 74,
   "metadata": {},
   "outputs": [],
   "source": [
    "fakestar['Q5Option6']=fakestar['Q5Option6'].str.upper()"
   ]
  },
  {
   "cell_type": "code",
   "execution_count": 75,
   "metadata": {},
   "outputs": [],
   "source": [
    "fakestar['Q5Option7']=fakestar['Q5Option7'].str.upper()"
   ]
  },
  {
   "cell_type": "code",
   "execution_count": 76,
   "metadata": {},
   "outputs": [],
   "source": [
    "fakestar['Q5Option8']=fakestar['Q5Option8'].str.upper()"
   ]
  },
  {
   "cell_type": "code",
   "execution_count": 77,
   "metadata": {},
   "outputs": [],
   "source": [
    "fakestar['Q5Option9']=fakestar['Q5Option9'].str.upper()\n"
   ]
  },
  {
   "cell_type": "code",
   "execution_count": 78,
   "metadata": {},
   "outputs": [],
   "source": [
    "fakestar['Q5Option10']=fakestar['Q5Option10'].str.upper()"
   ]
  },
  {
   "cell_type": "code",
   "execution_count": 79,
   "metadata": {},
   "outputs": [],
   "source": [
    "fakestar['Q5Option11']=fakestar['Q5Option11'].str.upper()"
   ]
  },
  {
   "cell_type": "code",
   "execution_count": 80,
   "metadata": {},
   "outputs": [],
   "source": [
    "fakestar['Q5Option12']=fakestar['Q5Option12'].str.upper()"
   ]
  },
  {
   "cell_type": "code",
   "execution_count": 81,
   "metadata": {},
   "outputs": [],
   "source": [
    "fakestar['Q5Option13']=fakestar['Q5Option13'].str.upper()"
   ]
  },
  {
   "cell_type": "code",
   "execution_count": 82,
   "metadata": {},
   "outputs": [],
   "source": [
    "fakestar['Q5Option14']=fakestar['Q5Option14'].str.upper()"
   ]
  },
  {
   "cell_type": "code",
   "execution_count": 83,
   "metadata": {},
   "outputs": [],
   "source": [
    "fakestar['Q6']=fakestar['Q6'].str.upper()"
   ]
  },
  {
   "cell_type": "code",
   "execution_count": 84,
   "metadata": {},
   "outputs": [],
   "source": [
    "fakestar['Q7']=fakestar['Q7'].str.upper()"
   ]
  },
  {
   "cell_type": "code",
   "execution_count": 85,
   "metadata": {},
   "outputs": [],
   "source": [
    "fakestar['Q8']=fakestar['Q8'].str.upper()"
   ]
  },
  {
   "cell_type": "code",
   "execution_count": 86,
   "metadata": {},
   "outputs": [],
   "source": [
    "fakestar['Q9']=fakestar['Q9'].str.upper()"
   ]
  },
  {
   "cell_type": "code",
   "execution_count": 87,
   "metadata": {},
   "outputs": [],
   "source": [
    "fakestar['Q10']=fakestar['Q10'].str.upper()"
   ]
  },
  {
   "cell_type": "code",
   "execution_count": 88,
   "metadata": {},
   "outputs": [],
   "source": [
    "fakestar['Q11']=fakestar['Q11'].str.upper()"
   ]
  },
  {
   "cell_type": "code",
   "execution_count": 89,
   "metadata": {},
   "outputs": [],
   "source": [
    "fakestar['Q12']=fakestar['Q12'].str.upper()"
   ]
  },
  {
   "cell_type": "code",
   "execution_count": 90,
   "metadata": {},
   "outputs": [],
   "source": [
    "fakestar['Q13']=fakestar['Q13'].str.upper()"
   ]
  },
  {
   "cell_type": "code",
   "execution_count": 91,
   "metadata": {},
   "outputs": [],
   "source": [
    "fakestar['Q14']=fakestar['Q14'].str.upper()"
   ]
  },
  {
   "cell_type": "code",
   "execution_count": 92,
   "metadata": {},
   "outputs": [
    {
     "data": {
      "text/html": [
       "<div>\n",
       "<style scoped>\n",
       "    .dataframe tbody tr th:only-of-type {\n",
       "        vertical-align: middle;\n",
       "    }\n",
       "\n",
       "    .dataframe tbody tr th {\n",
       "        vertical-align: top;\n",
       "    }\n",
       "\n",
       "    .dataframe thead th {\n",
       "        text-align: right;\n",
       "    }\n",
       "</style>\n",
       "<table border=\"1\" class=\"dataframe\">\n",
       "  <thead>\n",
       "    <tr style=\"text-align: right;\">\n",
       "      <th></th>\n",
       "      <th>ID</th>\n",
       "      <th>Q1</th>\n",
       "      <th>Q2</th>\n",
       "      <th>Q3Option1</th>\n",
       "      <th>Q3Option2</th>\n",
       "      <th>Q3Option3</th>\n",
       "      <th>Q3Option4</th>\n",
       "      <th>Q3Option5</th>\n",
       "      <th>Q3Option6</th>\n",
       "      <th>Q4Option1</th>\n",
       "      <th>...</th>\n",
       "      <th>Q5Option14</th>\n",
       "      <th>Q6</th>\n",
       "      <th>Q7</th>\n",
       "      <th>Q8</th>\n",
       "      <th>Q9</th>\n",
       "      <th>Q10</th>\n",
       "      <th>Q11</th>\n",
       "      <th>Q12</th>\n",
       "      <th>Q13</th>\n",
       "      <th>Q14</th>\n",
       "    </tr>\n",
       "  </thead>\n",
       "  <tbody>\n",
       "    <tr>\n",
       "      <td>2</td>\n",
       "      <td>3292879998</td>\n",
       "      <td>YES</td>\n",
       "      <td>Yes</td>\n",
       "      <td>Star Wars: Episode I  The Phantom Menace</td>\n",
       "      <td>Star Wars: Episode II  Attack of the Clones</td>\n",
       "      <td>Star Wars: Episode III  Revenge of the Sith</td>\n",
       "      <td>Star Wars: Episode IV  A New Hope</td>\n",
       "      <td>Star Wars: Episode V The Empire Strikes Back</td>\n",
       "      <td>Star Wars: Episode VI Return of the Jedi</td>\n",
       "      <td>3</td>\n",
       "      <td>...</td>\n",
       "      <td>VERY FAVORABLY</td>\n",
       "      <td>I DON'T UNDERSTAND THIS QUESTION</td>\n",
       "      <td>YES</td>\n",
       "      <td>NO</td>\n",
       "      <td>NO</td>\n",
       "      <td>MALE</td>\n",
       "      <td>18-29</td>\n",
       "      <td>NaN</td>\n",
       "      <td>HIGH SCHOOL DEGREE</td>\n",
       "      <td>SOUTH ATLANTIC</td>\n",
       "    </tr>\n",
       "    <tr>\n",
       "      <td>3</td>\n",
       "      <td>3292879538</td>\n",
       "      <td>NO</td>\n",
       "      <td>NaN</td>\n",
       "      <td>NaN</td>\n",
       "      <td>NaN</td>\n",
       "      <td>NaN</td>\n",
       "      <td>NaN</td>\n",
       "      <td>NaN</td>\n",
       "      <td>NaN</td>\n",
       "      <td>NaN</td>\n",
       "      <td>...</td>\n",
       "      <td>NaN</td>\n",
       "      <td>NaN</td>\n",
       "      <td>NaN</td>\n",
       "      <td>NaN</td>\n",
       "      <td>YES</td>\n",
       "      <td>MALE</td>\n",
       "      <td>18-29</td>\n",
       "      <td>$0 - $24,999</td>\n",
       "      <td>BACHELOR DEGREE</td>\n",
       "      <td>WEST SOUTH CENTRAL</td>\n",
       "    </tr>\n",
       "    <tr>\n",
       "      <td>4</td>\n",
       "      <td>3292765271</td>\n",
       "      <td>YES</td>\n",
       "      <td>No</td>\n",
       "      <td>Star Wars: Episode I  The Phantom Menace</td>\n",
       "      <td>Star Wars: Episode II  Attack of the Clones</td>\n",
       "      <td>Star Wars: Episode III  Revenge of the Sith</td>\n",
       "      <td>NaN</td>\n",
       "      <td>NaN</td>\n",
       "      <td>NaN</td>\n",
       "      <td>1</td>\n",
       "      <td>...</td>\n",
       "      <td>UNFAMILIAR (N/A)</td>\n",
       "      <td>I DON'T UNDERSTAND THIS QUESTION</td>\n",
       "      <td>NO</td>\n",
       "      <td>NaN</td>\n",
       "      <td>NO</td>\n",
       "      <td>MALE</td>\n",
       "      <td>18-29</td>\n",
       "      <td>$0 - $24,999</td>\n",
       "      <td>HIGH SCHOOL DEGREE</td>\n",
       "      <td>WEST NORTH CENTRAL</td>\n",
       "    </tr>\n",
       "    <tr>\n",
       "      <td>5</td>\n",
       "      <td>3292763116</td>\n",
       "      <td>YES</td>\n",
       "      <td>Yes</td>\n",
       "      <td>Star Wars: Episode I  The Phantom Menace</td>\n",
       "      <td>Star Wars: Episode II  Attack of the Clones</td>\n",
       "      <td>Star Wars: Episode III  Revenge of the Sith</td>\n",
       "      <td>Star Wars: Episode IV  A New Hope</td>\n",
       "      <td>Star Wars: Episode V The Empire Strikes Back</td>\n",
       "      <td>Star Wars: Episode VI Return of the Jedi</td>\n",
       "      <td>5</td>\n",
       "      <td>...</td>\n",
       "      <td>VERY FAVORABLY</td>\n",
       "      <td>I DON'T UNDERSTAND THIS QUESTION</td>\n",
       "      <td>NO</td>\n",
       "      <td>NaN</td>\n",
       "      <td>YES</td>\n",
       "      <td>MALE</td>\n",
       "      <td>18-29</td>\n",
       "      <td>$100,000 - $149,999</td>\n",
       "      <td>SOME COLLEGE OR ASSOCIATE DEGREE</td>\n",
       "      <td>WEST NORTH CENTRAL</td>\n",
       "    </tr>\n",
       "    <tr>\n",
       "      <td>6</td>\n",
       "      <td>3292731220</td>\n",
       "      <td>YES</td>\n",
       "      <td>Yes</td>\n",
       "      <td>Star Wars: Episode I  The Phantom Menace</td>\n",
       "      <td>Star Wars: Episode II  Attack of the Clones</td>\n",
       "      <td>Star Wars: Episode III  Revenge of the Sith</td>\n",
       "      <td>Star Wars: Episode IV  A New Hope</td>\n",
       "      <td>Star Wars: Episode V The Empire Strikes Back</td>\n",
       "      <td>Star Wars: Episode VI Return of the Jedi</td>\n",
       "      <td>5</td>\n",
       "      <td>...</td>\n",
       "      <td>SOMEWHAT FAVORABLY</td>\n",
       "      <td>GREEDO</td>\n",
       "      <td>YES</td>\n",
       "      <td>NO</td>\n",
       "      <td>NO</td>\n",
       "      <td>MALE</td>\n",
       "      <td>18-29</td>\n",
       "      <td>$100,000 - $149,999</td>\n",
       "      <td>SOME COLLEGE OR ASSOCIATE DEGREE</td>\n",
       "      <td>WEST NORTH CENTRAL</td>\n",
       "    </tr>\n",
       "    <tr>\n",
       "      <td>...</td>\n",
       "      <td>...</td>\n",
       "      <td>...</td>\n",
       "      <td>...</td>\n",
       "      <td>...</td>\n",
       "      <td>...</td>\n",
       "      <td>...</td>\n",
       "      <td>...</td>\n",
       "      <td>...</td>\n",
       "      <td>...</td>\n",
       "      <td>...</td>\n",
       "      <td>...</td>\n",
       "      <td>...</td>\n",
       "      <td>...</td>\n",
       "      <td>...</td>\n",
       "      <td>...</td>\n",
       "      <td>...</td>\n",
       "      <td>...</td>\n",
       "      <td>...</td>\n",
       "      <td>...</td>\n",
       "      <td>...</td>\n",
       "      <td>...</td>\n",
       "    </tr>\n",
       "    <tr>\n",
       "      <td>1183</td>\n",
       "      <td>3288388730</td>\n",
       "      <td>YES</td>\n",
       "      <td>Yes</td>\n",
       "      <td>Star Wars: Episode I  The Phantom Menace</td>\n",
       "      <td>Star Wars: Episode II  Attack of the Clones</td>\n",
       "      <td>Star Wars: Episode III  Revenge of the Sith</td>\n",
       "      <td>Star Wars: Episode IV  A New Hope</td>\n",
       "      <td>Star Wars: Episode V The Empire Strikes Back</td>\n",
       "      <td>Star Wars: Episode VI Return of the Jedi</td>\n",
       "      <td>5</td>\n",
       "      <td>...</td>\n",
       "      <td>VERY FAVORABLY</td>\n",
       "      <td>HAN</td>\n",
       "      <td>NO</td>\n",
       "      <td>NaN</td>\n",
       "      <td>YES</td>\n",
       "      <td>FEMALE</td>\n",
       "      <td>18-29</td>\n",
       "      <td>$0 - $24,999</td>\n",
       "      <td>SOME COLLEGE OR ASSOCIATE DEGREE</td>\n",
       "      <td>EAST NORTH CENTRAL</td>\n",
       "    </tr>\n",
       "    <tr>\n",
       "      <td>1184</td>\n",
       "      <td>3288378779</td>\n",
       "      <td>YES</td>\n",
       "      <td>Yes</td>\n",
       "      <td>Star Wars: Episode I  The Phantom Menace</td>\n",
       "      <td>Star Wars: Episode II  Attack of the Clones</td>\n",
       "      <td>Star Wars: Episode III  Revenge of the Sith</td>\n",
       "      <td>Star Wars: Episode IV  A New Hope</td>\n",
       "      <td>Star Wars: Episode V The Empire Strikes Back</td>\n",
       "      <td>Star Wars: Episode VI Return of the Jedi</td>\n",
       "      <td>4</td>\n",
       "      <td>...</td>\n",
       "      <td>VERY FAVORABLY</td>\n",
       "      <td>I DON'T UNDERSTAND THIS QUESTION</td>\n",
       "      <td>NO</td>\n",
       "      <td>NaN</td>\n",
       "      <td>YES</td>\n",
       "      <td>FEMALE</td>\n",
       "      <td>30-44</td>\n",
       "      <td>$50,000 - $99,999</td>\n",
       "      <td>BACHELOR DEGREE</td>\n",
       "      <td>MOUNTAIN</td>\n",
       "    </tr>\n",
       "    <tr>\n",
       "      <td>1185</td>\n",
       "      <td>3288375286</td>\n",
       "      <td>NO</td>\n",
       "      <td>NaN</td>\n",
       "      <td>NaN</td>\n",
       "      <td>NaN</td>\n",
       "      <td>NaN</td>\n",
       "      <td>NaN</td>\n",
       "      <td>NaN</td>\n",
       "      <td>NaN</td>\n",
       "      <td>NaN</td>\n",
       "      <td>...</td>\n",
       "      <td>NaN</td>\n",
       "      <td>NaN</td>\n",
       "      <td>NaN</td>\n",
       "      <td>NaN</td>\n",
       "      <td>NO</td>\n",
       "      <td>FEMALE</td>\n",
       "      <td>30-44</td>\n",
       "      <td>$50,000 - $99,999</td>\n",
       "      <td>BACHELOR DEGREE</td>\n",
       "      <td>MIDDLE ATLANTIC</td>\n",
       "    </tr>\n",
       "    <tr>\n",
       "      <td>1186</td>\n",
       "      <td>3288373068</td>\n",
       "      <td>YES</td>\n",
       "      <td>Yes</td>\n",
       "      <td>Star Wars: Episode I  The Phantom Menace</td>\n",
       "      <td>Star Wars: Episode II  Attack of the Clones</td>\n",
       "      <td>Star Wars: Episode III  Revenge of the Sith</td>\n",
       "      <td>Star Wars: Episode IV  A New Hope</td>\n",
       "      <td>Star Wars: Episode V The Empire Strikes Back</td>\n",
       "      <td>Star Wars: Episode VI Return of the Jedi</td>\n",
       "      <td>4</td>\n",
       "      <td>...</td>\n",
       "      <td>VERY FAVORABLY</td>\n",
       "      <td>HAN</td>\n",
       "      <td>NO</td>\n",
       "      <td>NaN</td>\n",
       "      <td>YES</td>\n",
       "      <td>FEMALE</td>\n",
       "      <td>45-60</td>\n",
       "      <td>$100,000 - $149,999</td>\n",
       "      <td>SOME COLLEGE OR ASSOCIATE DEGREE</td>\n",
       "      <td>EAST NORTH CENTRAL</td>\n",
       "    </tr>\n",
       "    <tr>\n",
       "      <td>1187</td>\n",
       "      <td>3288372923</td>\n",
       "      <td>YES</td>\n",
       "      <td>No</td>\n",
       "      <td>Star Wars: Episode I  The Phantom Menace</td>\n",
       "      <td>Star Wars: Episode II  Attack of the Clones</td>\n",
       "      <td>NaN</td>\n",
       "      <td>NaN</td>\n",
       "      <td>Star Wars: Episode V The Empire Strikes Back</td>\n",
       "      <td>Star Wars: Episode VI Return of the Jedi</td>\n",
       "      <td>6</td>\n",
       "      <td>...</td>\n",
       "      <td>VERY UNFAVORABLY</td>\n",
       "      <td>I DON'T UNDERSTAND THIS QUESTION</td>\n",
       "      <td>NO</td>\n",
       "      <td>NaN</td>\n",
       "      <td>NO</td>\n",
       "      <td>FEMALE</td>\n",
       "      <td>&gt; 60</td>\n",
       "      <td>$50,000 - $99,999</td>\n",
       "      <td>GRADUATE DEGREE</td>\n",
       "      <td>PACIFIC</td>\n",
       "    </tr>\n",
       "  </tbody>\n",
       "</table>\n",
       "<p>1186 rows × 38 columns</p>\n",
       "</div>"
      ],
      "text/plain": [
       "              ID   Q1   Q2                                 Q3Option1  \\\n",
       "2     3292879998  YES  Yes  Star Wars: Episode I  The Phantom Menace   \n",
       "3     3292879538   NO  NaN                                       NaN   \n",
       "4     3292765271  YES   No  Star Wars: Episode I  The Phantom Menace   \n",
       "5     3292763116  YES  Yes  Star Wars: Episode I  The Phantom Menace   \n",
       "6     3292731220  YES  Yes  Star Wars: Episode I  The Phantom Menace   \n",
       "...          ...  ...  ...                                       ...   \n",
       "1183  3288388730  YES  Yes  Star Wars: Episode I  The Phantom Menace   \n",
       "1184  3288378779  YES  Yes  Star Wars: Episode I  The Phantom Menace   \n",
       "1185  3288375286   NO  NaN                                       NaN   \n",
       "1186  3288373068  YES  Yes  Star Wars: Episode I  The Phantom Menace   \n",
       "1187  3288372923  YES   No  Star Wars: Episode I  The Phantom Menace   \n",
       "\n",
       "                                        Q3Option2  \\\n",
       "2     Star Wars: Episode II  Attack of the Clones   \n",
       "3                                             NaN   \n",
       "4     Star Wars: Episode II  Attack of the Clones   \n",
       "5     Star Wars: Episode II  Attack of the Clones   \n",
       "6     Star Wars: Episode II  Attack of the Clones   \n",
       "...                                           ...   \n",
       "1183  Star Wars: Episode II  Attack of the Clones   \n",
       "1184  Star Wars: Episode II  Attack of the Clones   \n",
       "1185                                          NaN   \n",
       "1186  Star Wars: Episode II  Attack of the Clones   \n",
       "1187  Star Wars: Episode II  Attack of the Clones   \n",
       "\n",
       "                                        Q3Option3  \\\n",
       "2     Star Wars: Episode III  Revenge of the Sith   \n",
       "3                                             NaN   \n",
       "4     Star Wars: Episode III  Revenge of the Sith   \n",
       "5     Star Wars: Episode III  Revenge of the Sith   \n",
       "6     Star Wars: Episode III  Revenge of the Sith   \n",
       "...                                           ...   \n",
       "1183  Star Wars: Episode III  Revenge of the Sith   \n",
       "1184  Star Wars: Episode III  Revenge of the Sith   \n",
       "1185                                          NaN   \n",
       "1186  Star Wars: Episode III  Revenge of the Sith   \n",
       "1187                                          NaN   \n",
       "\n",
       "                              Q3Option4  \\\n",
       "2     Star Wars: Episode IV  A New Hope   \n",
       "3                                   NaN   \n",
       "4                                   NaN   \n",
       "5     Star Wars: Episode IV  A New Hope   \n",
       "6     Star Wars: Episode IV  A New Hope   \n",
       "...                                 ...   \n",
       "1183  Star Wars: Episode IV  A New Hope   \n",
       "1184  Star Wars: Episode IV  A New Hope   \n",
       "1185                                NaN   \n",
       "1186  Star Wars: Episode IV  A New Hope   \n",
       "1187                                NaN   \n",
       "\n",
       "                                         Q3Option5  \\\n",
       "2     Star Wars: Episode V The Empire Strikes Back   \n",
       "3                                              NaN   \n",
       "4                                              NaN   \n",
       "5     Star Wars: Episode V The Empire Strikes Back   \n",
       "6     Star Wars: Episode V The Empire Strikes Back   \n",
       "...                                            ...   \n",
       "1183  Star Wars: Episode V The Empire Strikes Back   \n",
       "1184  Star Wars: Episode V The Empire Strikes Back   \n",
       "1185                                           NaN   \n",
       "1186  Star Wars: Episode V The Empire Strikes Back   \n",
       "1187  Star Wars: Episode V The Empire Strikes Back   \n",
       "\n",
       "                                     Q3Option6 Q4Option1  ...  \\\n",
       "2     Star Wars: Episode VI Return of the Jedi         3  ...   \n",
       "3                                          NaN       NaN  ...   \n",
       "4                                          NaN         1  ...   \n",
       "5     Star Wars: Episode VI Return of the Jedi         5  ...   \n",
       "6     Star Wars: Episode VI Return of the Jedi         5  ...   \n",
       "...                                        ...       ...  ...   \n",
       "1183  Star Wars: Episode VI Return of the Jedi         5  ...   \n",
       "1184  Star Wars: Episode VI Return of the Jedi         4  ...   \n",
       "1185                                       NaN       NaN  ...   \n",
       "1186  Star Wars: Episode VI Return of the Jedi         4  ...   \n",
       "1187  Star Wars: Episode VI Return of the Jedi         6  ...   \n",
       "\n",
       "              Q5Option14                                Q6   Q7   Q8   Q9  \\\n",
       "2         VERY FAVORABLY  I DON'T UNDERSTAND THIS QUESTION  YES   NO   NO   \n",
       "3                    NaN                               NaN  NaN  NaN  YES   \n",
       "4       UNFAMILIAR (N/A)  I DON'T UNDERSTAND THIS QUESTION   NO  NaN   NO   \n",
       "5         VERY FAVORABLY  I DON'T UNDERSTAND THIS QUESTION   NO  NaN  YES   \n",
       "6     SOMEWHAT FAVORABLY                            GREEDO  YES   NO   NO   \n",
       "...                  ...                               ...  ...  ...  ...   \n",
       "1183      VERY FAVORABLY                               HAN   NO  NaN  YES   \n",
       "1184      VERY FAVORABLY  I DON'T UNDERSTAND THIS QUESTION   NO  NaN  YES   \n",
       "1185                 NaN                               NaN  NaN  NaN   NO   \n",
       "1186      VERY FAVORABLY                               HAN   NO  NaN  YES   \n",
       "1187    VERY UNFAVORABLY  I DON'T UNDERSTAND THIS QUESTION   NO  NaN   NO   \n",
       "\n",
       "         Q10    Q11                  Q12                               Q13  \\\n",
       "2       MALE  18-29                  NaN                HIGH SCHOOL DEGREE   \n",
       "3       MALE  18-29         $0 - $24,999                   BACHELOR DEGREE   \n",
       "4       MALE  18-29         $0 - $24,999                HIGH SCHOOL DEGREE   \n",
       "5       MALE  18-29  $100,000 - $149,999  SOME COLLEGE OR ASSOCIATE DEGREE   \n",
       "6       MALE  18-29  $100,000 - $149,999  SOME COLLEGE OR ASSOCIATE DEGREE   \n",
       "...      ...    ...                  ...                               ...   \n",
       "1183  FEMALE  18-29         $0 - $24,999  SOME COLLEGE OR ASSOCIATE DEGREE   \n",
       "1184  FEMALE  30-44    $50,000 - $99,999                   BACHELOR DEGREE   \n",
       "1185  FEMALE  30-44    $50,000 - $99,999                   BACHELOR DEGREE   \n",
       "1186  FEMALE  45-60  $100,000 - $149,999  SOME COLLEGE OR ASSOCIATE DEGREE   \n",
       "1187  FEMALE   > 60    $50,000 - $99,999                   GRADUATE DEGREE   \n",
       "\n",
       "                     Q14  \n",
       "2         SOUTH ATLANTIC  \n",
       "3     WEST SOUTH CENTRAL  \n",
       "4     WEST NORTH CENTRAL  \n",
       "5     WEST NORTH CENTRAL  \n",
       "6     WEST NORTH CENTRAL  \n",
       "...                  ...  \n",
       "1183  EAST NORTH CENTRAL  \n",
       "1184            MOUNTAIN  \n",
       "1185     MIDDLE ATLANTIC  \n",
       "1186  EAST NORTH CENTRAL  \n",
       "1187             PACIFIC  \n",
       "\n",
       "[1186 rows x 38 columns]"
      ]
     },
     "execution_count": 92,
     "metadata": {},
     "output_type": "execute_result"
    }
   ],
   "source": [
    "fakestar\n"
   ]
  },
  {
   "cell_type": "code",
   "execution_count": 95,
   "metadata": {},
   "outputs": [
    {
     "data": {
      "text/html": [
       "<div>\n",
       "<style scoped>\n",
       "    .dataframe tbody tr th:only-of-type {\n",
       "        vertical-align: middle;\n",
       "    }\n",
       "\n",
       "    .dataframe tbody tr th {\n",
       "        vertical-align: top;\n",
       "    }\n",
       "\n",
       "    .dataframe thead th {\n",
       "        text-align: right;\n",
       "    }\n",
       "</style>\n",
       "<table border=\"1\" class=\"dataframe\">\n",
       "  <thead>\n",
       "    <tr style=\"text-align: right;\">\n",
       "      <th></th>\n",
       "      <th>ID</th>\n",
       "      <th>Q1</th>\n",
       "      <th>Q2</th>\n",
       "      <th>Q3Option1</th>\n",
       "      <th>Q3Option2</th>\n",
       "      <th>Q3Option3</th>\n",
       "      <th>Q3Option4</th>\n",
       "      <th>Q3Option5</th>\n",
       "      <th>Q3Option6</th>\n",
       "      <th>Q4Option1</th>\n",
       "      <th>...</th>\n",
       "      <th>Q5Option14</th>\n",
       "      <th>Q6</th>\n",
       "      <th>Q7</th>\n",
       "      <th>Q8</th>\n",
       "      <th>Q9</th>\n",
       "      <th>Q10</th>\n",
       "      <th>Q11</th>\n",
       "      <th>Q12</th>\n",
       "      <th>Q13</th>\n",
       "      <th>Q14</th>\n",
       "    </tr>\n",
       "  </thead>\n",
       "  <tbody>\n",
       "    <tr>\n",
       "      <td>2</td>\n",
       "      <td>False</td>\n",
       "      <td>False</td>\n",
       "      <td>False</td>\n",
       "      <td>False</td>\n",
       "      <td>False</td>\n",
       "      <td>False</td>\n",
       "      <td>False</td>\n",
       "      <td>False</td>\n",
       "      <td>False</td>\n",
       "      <td>False</td>\n",
       "      <td>...</td>\n",
       "      <td>False</td>\n",
       "      <td>False</td>\n",
       "      <td>False</td>\n",
       "      <td>False</td>\n",
       "      <td>False</td>\n",
       "      <td>False</td>\n",
       "      <td>False</td>\n",
       "      <td>True</td>\n",
       "      <td>False</td>\n",
       "      <td>False</td>\n",
       "    </tr>\n",
       "    <tr>\n",
       "      <td>3</td>\n",
       "      <td>False</td>\n",
       "      <td>False</td>\n",
       "      <td>True</td>\n",
       "      <td>True</td>\n",
       "      <td>True</td>\n",
       "      <td>True</td>\n",
       "      <td>True</td>\n",
       "      <td>True</td>\n",
       "      <td>True</td>\n",
       "      <td>True</td>\n",
       "      <td>...</td>\n",
       "      <td>True</td>\n",
       "      <td>True</td>\n",
       "      <td>True</td>\n",
       "      <td>True</td>\n",
       "      <td>False</td>\n",
       "      <td>False</td>\n",
       "      <td>False</td>\n",
       "      <td>False</td>\n",
       "      <td>False</td>\n",
       "      <td>False</td>\n",
       "    </tr>\n",
       "    <tr>\n",
       "      <td>4</td>\n",
       "      <td>False</td>\n",
       "      <td>False</td>\n",
       "      <td>False</td>\n",
       "      <td>False</td>\n",
       "      <td>False</td>\n",
       "      <td>False</td>\n",
       "      <td>True</td>\n",
       "      <td>True</td>\n",
       "      <td>True</td>\n",
       "      <td>False</td>\n",
       "      <td>...</td>\n",
       "      <td>False</td>\n",
       "      <td>False</td>\n",
       "      <td>False</td>\n",
       "      <td>True</td>\n",
       "      <td>False</td>\n",
       "      <td>False</td>\n",
       "      <td>False</td>\n",
       "      <td>False</td>\n",
       "      <td>False</td>\n",
       "      <td>False</td>\n",
       "    </tr>\n",
       "    <tr>\n",
       "      <td>5</td>\n",
       "      <td>False</td>\n",
       "      <td>False</td>\n",
       "      <td>False</td>\n",
       "      <td>False</td>\n",
       "      <td>False</td>\n",
       "      <td>False</td>\n",
       "      <td>False</td>\n",
       "      <td>False</td>\n",
       "      <td>False</td>\n",
       "      <td>False</td>\n",
       "      <td>...</td>\n",
       "      <td>False</td>\n",
       "      <td>False</td>\n",
       "      <td>False</td>\n",
       "      <td>True</td>\n",
       "      <td>False</td>\n",
       "      <td>False</td>\n",
       "      <td>False</td>\n",
       "      <td>False</td>\n",
       "      <td>False</td>\n",
       "      <td>False</td>\n",
       "    </tr>\n",
       "    <tr>\n",
       "      <td>6</td>\n",
       "      <td>False</td>\n",
       "      <td>False</td>\n",
       "      <td>False</td>\n",
       "      <td>False</td>\n",
       "      <td>False</td>\n",
       "      <td>False</td>\n",
       "      <td>False</td>\n",
       "      <td>False</td>\n",
       "      <td>False</td>\n",
       "      <td>False</td>\n",
       "      <td>...</td>\n",
       "      <td>False</td>\n",
       "      <td>False</td>\n",
       "      <td>False</td>\n",
       "      <td>False</td>\n",
       "      <td>False</td>\n",
       "      <td>False</td>\n",
       "      <td>False</td>\n",
       "      <td>False</td>\n",
       "      <td>False</td>\n",
       "      <td>False</td>\n",
       "    </tr>\n",
       "    <tr>\n",
       "      <td>...</td>\n",
       "      <td>...</td>\n",
       "      <td>...</td>\n",
       "      <td>...</td>\n",
       "      <td>...</td>\n",
       "      <td>...</td>\n",
       "      <td>...</td>\n",
       "      <td>...</td>\n",
       "      <td>...</td>\n",
       "      <td>...</td>\n",
       "      <td>...</td>\n",
       "      <td>...</td>\n",
       "      <td>...</td>\n",
       "      <td>...</td>\n",
       "      <td>...</td>\n",
       "      <td>...</td>\n",
       "      <td>...</td>\n",
       "      <td>...</td>\n",
       "      <td>...</td>\n",
       "      <td>...</td>\n",
       "      <td>...</td>\n",
       "      <td>...</td>\n",
       "    </tr>\n",
       "    <tr>\n",
       "      <td>1183</td>\n",
       "      <td>False</td>\n",
       "      <td>False</td>\n",
       "      <td>False</td>\n",
       "      <td>False</td>\n",
       "      <td>False</td>\n",
       "      <td>False</td>\n",
       "      <td>False</td>\n",
       "      <td>False</td>\n",
       "      <td>False</td>\n",
       "      <td>False</td>\n",
       "      <td>...</td>\n",
       "      <td>False</td>\n",
       "      <td>False</td>\n",
       "      <td>False</td>\n",
       "      <td>True</td>\n",
       "      <td>False</td>\n",
       "      <td>False</td>\n",
       "      <td>False</td>\n",
       "      <td>False</td>\n",
       "      <td>False</td>\n",
       "      <td>False</td>\n",
       "    </tr>\n",
       "    <tr>\n",
       "      <td>1184</td>\n",
       "      <td>False</td>\n",
       "      <td>False</td>\n",
       "      <td>False</td>\n",
       "      <td>False</td>\n",
       "      <td>False</td>\n",
       "      <td>False</td>\n",
       "      <td>False</td>\n",
       "      <td>False</td>\n",
       "      <td>False</td>\n",
       "      <td>False</td>\n",
       "      <td>...</td>\n",
       "      <td>False</td>\n",
       "      <td>False</td>\n",
       "      <td>False</td>\n",
       "      <td>True</td>\n",
       "      <td>False</td>\n",
       "      <td>False</td>\n",
       "      <td>False</td>\n",
       "      <td>False</td>\n",
       "      <td>False</td>\n",
       "      <td>False</td>\n",
       "    </tr>\n",
       "    <tr>\n",
       "      <td>1185</td>\n",
       "      <td>False</td>\n",
       "      <td>False</td>\n",
       "      <td>True</td>\n",
       "      <td>True</td>\n",
       "      <td>True</td>\n",
       "      <td>True</td>\n",
       "      <td>True</td>\n",
       "      <td>True</td>\n",
       "      <td>True</td>\n",
       "      <td>True</td>\n",
       "      <td>...</td>\n",
       "      <td>True</td>\n",
       "      <td>True</td>\n",
       "      <td>True</td>\n",
       "      <td>True</td>\n",
       "      <td>False</td>\n",
       "      <td>False</td>\n",
       "      <td>False</td>\n",
       "      <td>False</td>\n",
       "      <td>False</td>\n",
       "      <td>False</td>\n",
       "    </tr>\n",
       "    <tr>\n",
       "      <td>1186</td>\n",
       "      <td>False</td>\n",
       "      <td>False</td>\n",
       "      <td>False</td>\n",
       "      <td>False</td>\n",
       "      <td>False</td>\n",
       "      <td>False</td>\n",
       "      <td>False</td>\n",
       "      <td>False</td>\n",
       "      <td>False</td>\n",
       "      <td>False</td>\n",
       "      <td>...</td>\n",
       "      <td>False</td>\n",
       "      <td>False</td>\n",
       "      <td>False</td>\n",
       "      <td>True</td>\n",
       "      <td>False</td>\n",
       "      <td>False</td>\n",
       "      <td>False</td>\n",
       "      <td>False</td>\n",
       "      <td>False</td>\n",
       "      <td>False</td>\n",
       "    </tr>\n",
       "    <tr>\n",
       "      <td>1187</td>\n",
       "      <td>False</td>\n",
       "      <td>False</td>\n",
       "      <td>False</td>\n",
       "      <td>False</td>\n",
       "      <td>False</td>\n",
       "      <td>True</td>\n",
       "      <td>True</td>\n",
       "      <td>False</td>\n",
       "      <td>False</td>\n",
       "      <td>False</td>\n",
       "      <td>...</td>\n",
       "      <td>False</td>\n",
       "      <td>False</td>\n",
       "      <td>False</td>\n",
       "      <td>True</td>\n",
       "      <td>False</td>\n",
       "      <td>False</td>\n",
       "      <td>False</td>\n",
       "      <td>False</td>\n",
       "      <td>False</td>\n",
       "      <td>False</td>\n",
       "    </tr>\n",
       "  </tbody>\n",
       "</table>\n",
       "<p>1186 rows × 38 columns</p>\n",
       "</div>"
      ],
      "text/plain": [
       "         ID     Q1     Q2  Q3Option1  Q3Option2  Q3Option3  Q3Option4  \\\n",
       "2     False  False  False      False      False      False      False   \n",
       "3     False  False   True       True       True       True       True   \n",
       "4     False  False  False      False      False      False       True   \n",
       "5     False  False  False      False      False      False      False   \n",
       "6     False  False  False      False      False      False      False   \n",
       "...     ...    ...    ...        ...        ...        ...        ...   \n",
       "1183  False  False  False      False      False      False      False   \n",
       "1184  False  False  False      False      False      False      False   \n",
       "1185  False  False   True       True       True       True       True   \n",
       "1186  False  False  False      False      False      False      False   \n",
       "1187  False  False  False      False      False       True       True   \n",
       "\n",
       "      Q3Option5  Q3Option6  Q4Option1  ...  Q5Option14     Q6     Q7     Q8  \\\n",
       "2         False      False      False  ...       False  False  False  False   \n",
       "3          True       True       True  ...        True   True   True   True   \n",
       "4          True       True      False  ...       False  False  False   True   \n",
       "5         False      False      False  ...       False  False  False   True   \n",
       "6         False      False      False  ...       False  False  False  False   \n",
       "...         ...        ...        ...  ...         ...    ...    ...    ...   \n",
       "1183      False      False      False  ...       False  False  False   True   \n",
       "1184      False      False      False  ...       False  False  False   True   \n",
       "1185       True       True       True  ...        True   True   True   True   \n",
       "1186      False      False      False  ...       False  False  False   True   \n",
       "1187      False      False      False  ...       False  False  False   True   \n",
       "\n",
       "         Q9    Q10    Q11    Q12    Q13    Q14  \n",
       "2     False  False  False   True  False  False  \n",
       "3     False  False  False  False  False  False  \n",
       "4     False  False  False  False  False  False  \n",
       "5     False  False  False  False  False  False  \n",
       "6     False  False  False  False  False  False  \n",
       "...     ...    ...    ...    ...    ...    ...  \n",
       "1183  False  False  False  False  False  False  \n",
       "1184  False  False  False  False  False  False  \n",
       "1185  False  False  False  False  False  False  \n",
       "1186  False  False  False  False  False  False  \n",
       "1187  False  False  False  False  False  False  \n",
       "\n",
       "[1186 rows x 38 columns]"
      ]
     },
     "execution_count": 95,
     "metadata": {},
     "output_type": "execute_result"
    }
   ],
   "source": [
    "fakestar.isnull()"
   ]
  },
  {
   "cell_type": "code",
   "execution_count": 96,
   "metadata": {},
   "outputs": [
    {
     "data": {
      "text/plain": [
       "ID              0\n",
       "Q1              0\n",
       "Q2            350\n",
       "Q3Option1     513\n",
       "Q3Option2     615\n",
       "Q3Option3     636\n",
       "Q3Option4     579\n",
       "Q3Option5     428\n",
       "Q3Option6     448\n",
       "Q4Option1     351\n",
       "Q4Option2     350\n",
       "Q4Option3     351\n",
       "Q4Option4     350\n",
       "Q4Option5     350\n",
       "Q4Option6     350\n",
       "Q5Option1     357\n",
       "Q5Option2     355\n",
       "Q5Option3     355\n",
       "Q5Option4     363\n",
       "Q5Option5     361\n",
       "Q5Option6     372\n",
       "Q5Option7     360\n",
       "Q5Option8     366\n",
       "Q5Option9     374\n",
       "Q5Option10    359\n",
       "Q5Option11    356\n",
       "Q5Option12    365\n",
       "Q5Option13    372\n",
       "Q5Option14    360\n",
       "Q6            358\n",
       "Q7            358\n",
       "Q8            973\n",
       "Q9            118\n",
       "Q10           140\n",
       "Q11           140\n",
       "Q12           328\n",
       "Q13           150\n",
       "Q14           143\n",
       "dtype: int64"
      ]
     },
     "execution_count": 96,
     "metadata": {},
     "output_type": "execute_result"
    }
   ],
   "source": [
    "fakestar.isnull().sum()"
   ]
  },
  {
   "cell_type": "code",
   "execution_count": 97,
   "metadata": {},
   "outputs": [
    {
     "data": {
      "text/plain": [
       "<bound method IndexOpsMixin.value_counts of 2       Yes\n",
       "3       NaN\n",
       "4        No\n",
       "5       Yes\n",
       "6       Yes\n",
       "       ... \n",
       "1183    Yes\n",
       "1184    Yes\n",
       "1185    NaN\n",
       "1186    Yes\n",
       "1187     No\n",
       "Name: Q2, Length: 1186, dtype: object>"
      ]
     },
     "execution_count": 97,
     "metadata": {},
     "output_type": "execute_result"
    }
   ],
   "source": [
    "fakestar['Q2'].value_counts"
   ]
  },
  {
   "cell_type": "code",
   "execution_count": 98,
   "metadata": {},
   "outputs": [
    {
     "data": {
      "text/plain": [
       "Yes     551\n",
       "NaN     350\n",
       "No      284\n",
       "Yess      1\n",
       "Name: Q2, dtype: int64"
      ]
     },
     "execution_count": 98,
     "metadata": {},
     "output_type": "execute_result"
    }
   ],
   "source": [
    "fakestar['Q2'].value_counts(dropna=False)"
   ]
  },
  {
   "cell_type": "code",
   "execution_count": 99,
   "metadata": {},
   "outputs": [],
   "source": [
    "fakestar['Q2'].fillna(value='NO',inplace=True)"
   ]
  },
  {
   "cell_type": "code",
   "execution_count": 100,
   "metadata": {},
   "outputs": [
    {
     "data": {
      "text/plain": [
       "Yes     551\n",
       "NO      350\n",
       "No      284\n",
       "Yess      1\n",
       "Name: Q2, dtype: int64"
      ]
     },
     "execution_count": 100,
     "metadata": {},
     "output_type": "execute_result"
    }
   ],
   "source": [
    "fakestar['Q2'].value_counts()"
   ]
  },
  {
   "cell_type": "code",
   "execution_count": 102,
   "metadata": {},
   "outputs": [
    {
     "data": {
      "text/plain": [
       "Star Wars: Episode I  The Phantom Menace    673\n",
       "NaN                                         513\n",
       "Name: Q3Option1, dtype: int64"
      ]
     },
     "execution_count": 102,
     "metadata": {},
     "output_type": "execute_result"
    }
   ],
   "source": [
    "fakestar['Q3Option1'].value_counts(dropna=False)"
   ]
  },
  {
   "cell_type": "code",
   "execution_count": 103,
   "metadata": {},
   "outputs": [],
   "source": [
    "fakestar['Q3Option1'].fillna(value='NO',inplace=True)"
   ]
  },
  {
   "cell_type": "code",
   "execution_count": 104,
   "metadata": {},
   "outputs": [
    {
     "data": {
      "text/plain": [
       "Star Wars: Episode I  The Phantom Menace    673\n",
       "NO                                          513\n",
       "Name: Q3Option1, dtype: int64"
      ]
     },
     "execution_count": 104,
     "metadata": {},
     "output_type": "execute_result"
    }
   ],
   "source": [
    "fakestar['Q3Option1'].value_counts()"
   ]
  },
  {
   "cell_type": "code",
   "execution_count": 105,
   "metadata": {},
   "outputs": [
    {
     "data": {
      "text/plain": [
       "NaN                                            615\n",
       "Star Wars: Episode II  Attack of the Clones    571\n",
       "Name: Q3Option2, dtype: int64"
      ]
     },
     "execution_count": 105,
     "metadata": {},
     "output_type": "execute_result"
    }
   ],
   "source": [
    "fakestar['Q3Option2'].value_counts(dropna=False)"
   ]
  },
  {
   "cell_type": "code",
   "execution_count": 106,
   "metadata": {},
   "outputs": [],
   "source": [
    "fakestar['Q3Option2'].fillna(value='NO',inplace=True)"
   ]
  },
  {
   "cell_type": "code",
   "execution_count": 107,
   "metadata": {},
   "outputs": [
    {
     "data": {
      "text/plain": [
       "NO                                             615\n",
       "Star Wars: Episode II  Attack of the Clones    571\n",
       "Name: Q3Option2, dtype: int64"
      ]
     },
     "execution_count": 107,
     "metadata": {},
     "output_type": "execute_result"
    }
   ],
   "source": [
    "fakestar['Q3Option2'].value_counts()"
   ]
  },
  {
   "cell_type": "code",
   "execution_count": 108,
   "metadata": {},
   "outputs": [
    {
     "data": {
      "text/plain": [
       "NaN                                            636\n",
       "Star Wars: Episode III  Revenge of the Sith    550\n",
       "Name: Q3Option3, dtype: int64"
      ]
     },
     "execution_count": 108,
     "metadata": {},
     "output_type": "execute_result"
    }
   ],
   "source": [
    "fakestar['Q3Option3'].value_counts(dropna=False)"
   ]
  },
  {
   "cell_type": "code",
   "execution_count": 109,
   "metadata": {},
   "outputs": [],
   "source": [
    "fakestar['Q3Option3'].fillna(value='NO',inplace=True)"
   ]
  },
  {
   "cell_type": "code",
   "execution_count": 110,
   "metadata": {},
   "outputs": [
    {
     "data": {
      "text/plain": [
       "NO                                             636\n",
       "Star Wars: Episode III  Revenge of the Sith    550\n",
       "Name: Q3Option3, dtype: int64"
      ]
     },
     "execution_count": 110,
     "metadata": {},
     "output_type": "execute_result"
    }
   ],
   "source": [
    "fakestar['Q3Option3'].value_counts()"
   ]
  },
  {
   "cell_type": "code",
   "execution_count": 111,
   "metadata": {},
   "outputs": [
    {
     "data": {
      "text/plain": [
       "Star Wars: Episode IV  A New Hope    607\n",
       "NaN                                  579\n",
       "Name: Q3Option4, dtype: int64"
      ]
     },
     "execution_count": 111,
     "metadata": {},
     "output_type": "execute_result"
    }
   ],
   "source": [
    "fakestar['Q3Option4'].value_counts(dropna=False)"
   ]
  },
  {
   "cell_type": "code",
   "execution_count": 112,
   "metadata": {},
   "outputs": [],
   "source": [
    "fakestar['Q3Option4'].fillna(value='NO',inplace=True)"
   ]
  },
  {
   "cell_type": "code",
   "execution_count": 113,
   "metadata": {},
   "outputs": [
    {
     "data": {
      "text/plain": [
       "Star Wars: Episode IV  A New Hope    607\n",
       "NO                                   579\n",
       "Name: Q3Option4, dtype: int64"
      ]
     },
     "execution_count": 113,
     "metadata": {},
     "output_type": "execute_result"
    }
   ],
   "source": [
    "fakestar['Q3Option4'].value_counts()"
   ]
  },
  {
   "cell_type": "code",
   "execution_count": 114,
   "metadata": {},
   "outputs": [
    {
     "data": {
      "text/plain": [
       "Star Wars: Episode V The Empire Strikes Back    758\n",
       "NaN                                             428\n",
       "Name: Q3Option5, dtype: int64"
      ]
     },
     "execution_count": 114,
     "metadata": {},
     "output_type": "execute_result"
    }
   ],
   "source": [
    "fakestar['Q3Option5'].value_counts(dropna=False)"
   ]
  },
  {
   "cell_type": "code",
   "execution_count": 115,
   "metadata": {},
   "outputs": [],
   "source": [
    "fakestar['Q3Option5'].fillna(value='NO',inplace=True)"
   ]
  },
  {
   "cell_type": "code",
   "execution_count": 116,
   "metadata": {},
   "outputs": [
    {
     "data": {
      "text/plain": [
       "Star Wars: Episode V The Empire Strikes Back    758\n",
       "NO                                              428\n",
       "Name: Q3Option5, dtype: int64"
      ]
     },
     "execution_count": 116,
     "metadata": {},
     "output_type": "execute_result"
    }
   ],
   "source": [
    "fakestar['Q3Option5'].value_counts()"
   ]
  },
  {
   "cell_type": "code",
   "execution_count": 117,
   "metadata": {},
   "outputs": [
    {
     "data": {
      "text/plain": [
       "Star Wars: Episode VI Return of the Jedi    738\n",
       "NaN                                         448\n",
       "Name: Q3Option6, dtype: int64"
      ]
     },
     "execution_count": 117,
     "metadata": {},
     "output_type": "execute_result"
    }
   ],
   "source": [
    "fakestar['Q3Option6'].value_counts(dropna=False)"
   ]
  },
  {
   "cell_type": "code",
   "execution_count": 118,
   "metadata": {},
   "outputs": [],
   "source": [
    "fakestar['Q3Option6'].fillna(value='NO',inplace=True)"
   ]
  },
  {
   "cell_type": "code",
   "execution_count": 119,
   "metadata": {},
   "outputs": [
    {
     "data": {
      "text/plain": [
       "Star Wars: Episode VI Return of the Jedi    738\n",
       "NO                                          448\n",
       "Name: Q3Option6, dtype: int64"
      ]
     },
     "execution_count": 119,
     "metadata": {},
     "output_type": "execute_result"
    }
   ],
   "source": [
    "fakestar['Q3Option6'].value_counts()"
   ]
  },
  {
   "cell_type": "code",
   "execution_count": 120,
   "metadata": {},
   "outputs": [
    {
     "data": {
      "text/plain": [
       "NaN    351\n",
       "4      237\n",
       "6      168\n",
       "3      130\n",
       "1      129\n",
       "5      100\n",
       "2       71\n",
       "Name: Q4Option1, dtype: int64"
      ]
     },
     "execution_count": 120,
     "metadata": {},
     "output_type": "execute_result"
    }
   ],
   "source": [
    "fakestar['Q4Option1'].value_counts(dropna=False)"
   ]
  },
  {
   "cell_type": "code",
   "execution_count": null,
   "metadata": {},
   "outputs": [],
   "source": [
    " #Handling With Missing Values"
   ]
  },
  {
   "cell_type": "code",
   "execution_count": 121,
   "metadata": {},
   "outputs": [],
   "source": [
    "fakestar['Q4Option1'].fillna(value='NO RATING',inplace=True)"
   ]
  },
  {
   "cell_type": "code",
   "execution_count": 122,
   "metadata": {},
   "outputs": [
    {
     "data": {
      "text/plain": [
       "NO RATING    351\n",
       "4            237\n",
       "6            168\n",
       "3            130\n",
       "1            129\n",
       "5            100\n",
       "2             71\n",
       "Name: Q4Option1, dtype: int64"
      ]
     },
     "execution_count": 122,
     "metadata": {},
     "output_type": "execute_result"
    }
   ],
   "source": [
    "fakestar['Q4Option1'].value_counts()"
   ]
  },
  {
   "cell_type": "code",
   "execution_count": 123,
   "metadata": {},
   "outputs": [
    {
     "data": {
      "text/plain": [
       "NaN    350\n",
       "5      300\n",
       "4      183\n",
       "2      116\n",
       "3      103\n",
       "6      102\n",
       "1       32\n",
       "Name: Q4Option2, dtype: int64"
      ]
     },
     "execution_count": 123,
     "metadata": {},
     "output_type": "execute_result"
    }
   ],
   "source": [
    "fakestar['Q4Option2'].value_counts(dropna=False)"
   ]
  },
  {
   "cell_type": "code",
   "execution_count": 124,
   "metadata": {},
   "outputs": [],
   "source": [
    "fakestar['Q4Option2'].fillna(value='NO RATING',inplace=True)"
   ]
  },
  {
   "cell_type": "code",
   "execution_count": 125,
   "metadata": {},
   "outputs": [
    {
     "data": {
      "text/plain": [
       "NO RATING    350\n",
       "5            300\n",
       "4            183\n",
       "2            116\n",
       "3            103\n",
       "6            102\n",
       "1             32\n",
       "Name: Q4Option2, dtype: int64"
      ]
     },
     "execution_count": 125,
     "metadata": {},
     "output_type": "execute_result"
    }
   ],
   "source": [
    "fakestar['Q4Option2'].value_counts()"
   ]
  },
  {
   "cell_type": "code",
   "execution_count": 126,
   "metadata": {},
   "outputs": [
    {
     "data": {
      "text/plain": [
       "NaN    351\n",
       "6      217\n",
       "5      203\n",
       "4      182\n",
       "3      150\n",
       "2       47\n",
       "1       36\n",
       "Name: Q4Option3, dtype: int64"
      ]
     },
     "execution_count": 126,
     "metadata": {},
     "output_type": "execute_result"
    }
   ],
   "source": [
    "fakestar['Q4Option3'].value_counts(dropna=False)"
   ]
  },
  {
   "cell_type": "code",
   "execution_count": 127,
   "metadata": {},
   "outputs": [],
   "source": [
    "fakestar['Q4Option4'].fillna(value='NO RATING',inplace=True)"
   ]
  },
  {
   "cell_type": "code",
   "execution_count": 128,
   "metadata": {},
   "outputs": [
    {
     "data": {
      "text/plain": [
       "NO RATING    350\n",
       "1            204\n",
       "6            161\n",
       "2            135\n",
       "4            130\n",
       "3            127\n",
       "5             79\n",
       "Name: Q4Option4, dtype: int64"
      ]
     },
     "execution_count": 128,
     "metadata": {},
     "output_type": "execute_result"
    }
   ],
   "source": [
    "fakestar['Q4Option4'].value_counts()"
   ]
  },
  {
   "cell_type": "code",
   "execution_count": 129,
   "metadata": {},
   "outputs": [
    {
     "data": {
      "text/plain": [
       "NaN    350\n",
       "2      232\n",
       "3      220\n",
       "1      146\n",
       "6      145\n",
       "4       57\n",
       "5       36\n",
       "Name: Q4Option6, dtype: int64"
      ]
     },
     "execution_count": 129,
     "metadata": {},
     "output_type": "execute_result"
    }
   ],
   "source": [
    "fakestar['Q4Option6'].value_counts(dropna=False)"
   ]
  },
  {
   "cell_type": "code",
   "execution_count": 130,
   "metadata": {},
   "outputs": [],
   "source": [
    "fakestar['Q4Option6'].fillna(value='NO RATING',inplace=True)"
   ]
  },
  {
   "cell_type": "code",
   "execution_count": 131,
   "metadata": {},
   "outputs": [
    {
     "data": {
      "text/plain": [
       "NO RATING    350\n",
       "2            232\n",
       "3            220\n",
       "1            146\n",
       "6            145\n",
       "4             57\n",
       "5             36\n",
       "Name: Q4Option6, dtype: int64"
      ]
     },
     "execution_count": 131,
     "metadata": {},
     "output_type": "execute_result"
    }
   ],
   "source": [
    "fakestar['Q4Option6'].value_counts()"
   ]
  },
  {
   "cell_type": "code",
   "execution_count": 132,
   "metadata": {},
   "outputs": [
    {
     "data": {
      "text/plain": [
       "VERY FAVORABLY                                 610\n",
       "NaN                                            357\n",
       "SOMEWHAT FAVORABLY                             151\n",
       "NEITHER FAVORABLY NOR UNFAVORABLY (NEUTRAL)     44\n",
       "UNFAMILIAR (N/A)                                15\n",
       "SOMEWHAT UNFAVORABLY                             8\n",
       "VERY UNFAVORABLY                                 1\n",
       "Name: Q5Option1, dtype: int64"
      ]
     },
     "execution_count": 132,
     "metadata": {},
     "output_type": "execute_result"
    }
   ],
   "source": [
    "fakestar['Q5Option1'].value_counts(dropna=False)"
   ]
  },
  {
   "cell_type": "code",
   "execution_count": 133,
   "metadata": {},
   "outputs": [],
   "source": [
    "fakestar['Q5Option1'].fillna(value='NO RATING',inplace=True)"
   ]
  },
  {
   "cell_type": "code",
   "execution_count": 134,
   "metadata": {},
   "outputs": [
    {
     "data": {
      "text/plain": [
       "VERY FAVORABLY                                 610\n",
       "NO RATING                                      357\n",
       "SOMEWHAT FAVORABLY                             151\n",
       "NEITHER FAVORABLY NOR UNFAVORABLY (NEUTRAL)     44\n",
       "UNFAMILIAR (N/A)                                15\n",
       "SOMEWHAT UNFAVORABLY                             8\n",
       "VERY UNFAVORABLY                                 1\n",
       "Name: Q5Option1, dtype: int64"
      ]
     },
     "execution_count": 134,
     "metadata": {},
     "output_type": "execute_result"
    }
   ],
   "source": [
    "fakestar['Q5Option1'].value_counts()"
   ]
  },
  {
   "cell_type": "code",
   "execution_count": 135,
   "metadata": {},
   "outputs": [
    {
     "data": {
      "text/plain": [
       "VERY FAVORABLY                                 552\n",
       "NaN                                            355\n",
       "SOMEWHAT FAVORABLY                             219\n",
       "NEITHER FAVORABLY NOR UNFAVORABLY (NEUTRAL)     38\n",
       "SOMEWHAT UNFAVORABLY                            13\n",
       "UNFAMILIAR (N/A)                                 6\n",
       "VERY UNFAVORABLY                                 3\n",
       "Name: Q5Option2, dtype: int64"
      ]
     },
     "execution_count": 135,
     "metadata": {},
     "output_type": "execute_result"
    }
   ],
   "source": [
    "fakestar['Q5Option2'].value_counts(dropna=False)"
   ]
  },
  {
   "cell_type": "code",
   "execution_count": 136,
   "metadata": {},
   "outputs": [],
   "source": [
    "fakestar['Q5Option2'].fillna(value='NO RATING',inplace=True)"
   ]
  },
  {
   "cell_type": "code",
   "execution_count": 137,
   "metadata": {},
   "outputs": [
    {
     "data": {
      "text/plain": [
       "VERY FAVORABLY                                 552\n",
       "NO RATING                                      355\n",
       "SOMEWHAT FAVORABLY                             219\n",
       "NEITHER FAVORABLY NOR UNFAVORABLY (NEUTRAL)     38\n",
       "SOMEWHAT UNFAVORABLY                            13\n",
       "UNFAMILIAR (N/A)                                 6\n",
       "VERY UNFAVORABLY                                 3\n",
       "Name: Q5Option2, dtype: int64"
      ]
     },
     "execution_count": 137,
     "metadata": {},
     "output_type": "execute_result"
    }
   ],
   "source": [
    "fakestar['Q5Option2'].value_counts()"
   ]
  },
  {
   "cell_type": "code",
   "execution_count": 138,
   "metadata": {},
   "outputs": [
    {
     "data": {
      "text/plain": [
       "VERY FAVORABLY                                 547\n",
       "NaN                                            355\n",
       "SOMEWHAT FAVORABLY                             210\n",
       "NEITHER FAVORABLY NOR UNFAVORABLY (NEUTRAL)     48\n",
       "SOMEWHAT UNFAVORABLY                            12\n",
       "UNFAMILIAR (N/A)                                 8\n",
       "VERY UNFAVORABLY                                 6\n",
       "Name: Q5Option3, dtype: int64"
      ]
     },
     "execution_count": 138,
     "metadata": {},
     "output_type": "execute_result"
    }
   ],
   "source": [
    "fakestar['Q5Option3'].value_counts(dropna=False)"
   ]
  },
  {
   "cell_type": "code",
   "execution_count": 139,
   "metadata": {},
   "outputs": [],
   "source": [
    "fakestar['Q5Option3'].fillna(value='NO RATING',inplace=True)"
   ]
  },
  {
   "cell_type": "code",
   "execution_count": 140,
   "metadata": {},
   "outputs": [
    {
     "data": {
      "text/plain": [
       "VERY FAVORABLY                                 547\n",
       "NO RATING                                      355\n",
       "SOMEWHAT FAVORABLY                             210\n",
       "NEITHER FAVORABLY NOR UNFAVORABLY (NEUTRAL)     48\n",
       "SOMEWHAT UNFAVORABLY                            12\n",
       "UNFAMILIAR (N/A)                                 8\n",
       "VERY UNFAVORABLY                                 6\n",
       "Name: Q5Option3, dtype: int64"
      ]
     },
     "execution_count": 140,
     "metadata": {},
     "output_type": "execute_result"
    }
   ],
   "source": [
    "fakestar['Q5Option3'].value_counts()"
   ]
  },
  {
   "cell_type": "code",
   "execution_count": 141,
   "metadata": {},
   "outputs": [
    {
     "data": {
      "text/plain": [
       "NaN                                            363\n",
       "SOMEWHAT FAVORABLY                             269\n",
       "VERY FAVORABLY                                 245\n",
       "NEITHER FAVORABLY NOR UNFAVORABLY (NEUTRAL)    135\n",
       "SOMEWHAT UNFAVORABLY                            83\n",
       "UNFAMILIAR (N/A)                                52\n",
       "VERY UNFAVORABLY                                39\n",
       "Name: Q5Option4, dtype: int64"
      ]
     },
     "execution_count": 141,
     "metadata": {},
     "output_type": "execute_result"
    }
   ],
   "source": [
    "fakestar['Q5Option4'].value_counts(dropna=False)"
   ]
  },
  {
   "cell_type": "code",
   "execution_count": 142,
   "metadata": {},
   "outputs": [],
   "source": [
    "fakestar['Q5Option4'].fillna(value='NO RATING',inplace=True)"
   ]
  },
  {
   "cell_type": "code",
   "execution_count": 143,
   "metadata": {},
   "outputs": [
    {
     "data": {
      "text/plain": [
       "NO RATING                                      363\n",
       "SOMEWHAT FAVORABLY                             269\n",
       "VERY FAVORABLY                                 245\n",
       "NEITHER FAVORABLY NOR UNFAVORABLY (NEUTRAL)    135\n",
       "SOMEWHAT UNFAVORABLY                            83\n",
       "UNFAMILIAR (N/A)                                52\n",
       "VERY UNFAVORABLY                                39\n",
       "Name: Q5Option4, dtype: int64"
      ]
     },
     "execution_count": 143,
     "metadata": {},
     "output_type": "execute_result"
    }
   ],
   "source": [
    "fakestar['Q5Option4'].value_counts()"
   ]
  },
  {
   "cell_type": "code",
   "execution_count": 144,
   "metadata": {},
   "outputs": [
    {
     "data": {
      "text/plain": [
       "VERY FAVORABLY                                 591\n",
       "NaN                                            361\n",
       "SOMEWHAT FAVORABLY                             159\n",
       "NEITHER FAVORABLY NOR UNFAVORABLY (NEUTRAL)     43\n",
       "UNFAMILIAR (N/A)                                17\n",
       "SOMEWHAT UNFAVORABLY                             8\n",
       "VERY UNFAVORABLY                                 7\n",
       "Name: Q5Option5, dtype: int64"
      ]
     },
     "execution_count": 144,
     "metadata": {},
     "output_type": "execute_result"
    }
   ],
   "source": [
    "fakestar['Q5Option5'].value_counts(dropna=False)"
   ]
  },
  {
   "cell_type": "code",
   "execution_count": 146,
   "metadata": {},
   "outputs": [],
   "source": [
    "fakestar['Q5Option5'].fillna(value='NO RATING',inplace=True)"
   ]
  },
  {
   "cell_type": "code",
   "execution_count": 147,
   "metadata": {},
   "outputs": [
    {
     "data": {
      "text/plain": [
       "VERY FAVORABLY                                 591\n",
       "NO RATING                                      361\n",
       "SOMEWHAT FAVORABLY                             159\n",
       "NEITHER FAVORABLY NOR UNFAVORABLY (NEUTRAL)     43\n",
       "UNFAMILIAR (N/A)                                17\n",
       "SOMEWHAT UNFAVORABLY                             8\n",
       "VERY UNFAVORABLY                                 7\n",
       "Name: Q5Option5, dtype: int64"
      ]
     },
     "execution_count": 147,
     "metadata": {},
     "output_type": "execute_result"
    }
   ],
   "source": [
    "fakestar['Q5Option5'].value_counts()"
   ]
  },
  {
   "cell_type": "code",
   "execution_count": 148,
   "metadata": {},
   "outputs": [
    {
     "data": {
      "text/plain": [
       "NaN                                            372\n",
       "NEITHER FAVORABLY NOR UNFAVORABLY (NEUTRAL)    213\n",
       "UNFAMILIAR (N/A)                               156\n",
       "SOMEWHAT FAVORABLY                             143\n",
       "VERY UNFAVORABLY                               124\n",
       "VERY FAVORABLY                                 110\n",
       "SOMEWHAT UNFAVORABLY                            68\n",
       "Name: Q5Option6, dtype: int64"
      ]
     },
     "execution_count": 148,
     "metadata": {},
     "output_type": "execute_result"
    }
   ],
   "source": [
    "fakestar['Q5Option6'].value_counts(dropna=False)"
   ]
  },
  {
   "cell_type": "code",
   "execution_count": 149,
   "metadata": {},
   "outputs": [],
   "source": [
    "fakestar['Q5Option6'].fillna(value='NO RATING',inplace=True)"
   ]
  },
  {
   "cell_type": "code",
   "execution_count": 150,
   "metadata": {},
   "outputs": [
    {
     "data": {
      "text/plain": [
       "NO RATING                                      372\n",
       "NEITHER FAVORABLY NOR UNFAVORABLY (NEUTRAL)    213\n",
       "UNFAMILIAR (N/A)                               156\n",
       "SOMEWHAT FAVORABLY                             143\n",
       "VERY UNFAVORABLY                               124\n",
       "VERY FAVORABLY                                 110\n",
       "SOMEWHAT UNFAVORABLY                            68\n",
       "Name: Q5Option6, dtype: int64"
      ]
     },
     "execution_count": 150,
     "metadata": {},
     "output_type": "execute_result"
    }
   ],
   "source": [
    "fakestar['Q5Option6'].value_counts(dropna=False)"
   ]
  },
  {
   "cell_type": "code",
   "execution_count": 151,
   "metadata": {},
   "outputs": [],
   "source": [
    "fakestar['Q5Option7'].fillna(value='NO RATING',inplace=True)"
   ]
  },
  {
   "cell_type": "code",
   "execution_count": 152,
   "metadata": {},
   "outputs": [
    {
     "data": {
      "text/plain": [
       "NO RATING                                      360\n",
       "VERY FAVORABLY                                 310\n",
       "SOMEWHAT FAVORABLY                             171\n",
       "VERY UNFAVORABLY                               149\n",
       "SOMEWHAT UNFAVORABLY                           102\n",
       "NEITHER FAVORABLY NOR UNFAVORABLY (NEUTRAL)     84\n",
       "UNFAMILIAR (N/A)                                10\n",
       "Name: Q5Option7, dtype: int64"
      ]
     },
     "execution_count": 152,
     "metadata": {},
     "output_type": "execute_result"
    }
   ],
   "source": [
    "fakestar['Q5Option7'].value_counts(dropna=False)"
   ]
  },
  {
   "cell_type": "code",
   "execution_count": 153,
   "metadata": {},
   "outputs": [
    {
     "data": {
      "text/plain": [
       "NaN                                            366\n",
       "NEITHER FAVORABLY NOR UNFAVORABLY (NEUTRAL)    236\n",
       "SOMEWHAT FAVORABLY                             223\n",
       "UNFAMILIAR (N/A)                               148\n",
       "VERY FAVORABLY                                 142\n",
       "SOMEWHAT UNFAVORABLY                            63\n",
       "VERY UNFAVORABLY                                 8\n",
       "Name: Q5Option8, dtype: int64"
      ]
     },
     "execution_count": 153,
     "metadata": {},
     "output_type": "execute_result"
    }
   ],
   "source": [
    "fakestar['Q5Option8'].value_counts(dropna=False)"
   ]
  },
  {
   "cell_type": "code",
   "execution_count": 154,
   "metadata": {},
   "outputs": [],
   "source": [
    "fakestar['Q5Option8'].fillna(value='NO RATING',inplace=True)"
   ]
  },
  {
   "cell_type": "code",
   "execution_count": 155,
   "metadata": {},
   "outputs": [
    {
     "data": {
      "text/plain": [
       "NO RATING                                      366\n",
       "NEITHER FAVORABLY NOR UNFAVORABLY (NEUTRAL)    236\n",
       "SOMEWHAT FAVORABLY                             223\n",
       "UNFAMILIAR (N/A)                               148\n",
       "VERY FAVORABLY                                 142\n",
       "SOMEWHAT UNFAVORABLY                            63\n",
       "VERY UNFAVORABLY                                 8\n",
       "Name: Q5Option8, dtype: int64"
      ]
     },
     "execution_count": 155,
     "metadata": {},
     "output_type": "execute_result"
    }
   ],
   "source": [
    "fakestar['Q5Option8'].value_counts(dropna=False)"
   ]
  },
  {
   "cell_type": "code",
   "execution_count": 156,
   "metadata": {},
   "outputs": [
    {
     "data": {
      "text/plain": [
       "NaN                                            374\n",
       "NEITHER FAVORABLY NOR UNFAVORABLY (NEUTRAL)    248\n",
       "SOMEWHAT FAVORABLY                             153\n",
       "VERY FAVORABLY                                 138\n",
       "UNFAMILIAR (N/A)                               132\n",
       "SOMEWHAT UNFAVORABLY                            96\n",
       "VERY UNFAVORABLY                                45\n",
       "Name: Q5Option9, dtype: int64"
      ]
     },
     "execution_count": 156,
     "metadata": {},
     "output_type": "execute_result"
    }
   ],
   "source": [
    "fakestar['Q5Option9'].value_counts(dropna=False)"
   ]
  },
  {
   "cell_type": "code",
   "execution_count": 158,
   "metadata": {},
   "outputs": [],
   "source": [
    "fakestar['Q5Option9'].fillna(value='NO RATING',inplace=True)"
   ]
  },
  {
   "cell_type": "code",
   "execution_count": 159,
   "metadata": {},
   "outputs": [
    {
     "data": {
      "text/plain": [
       "NO RATING                                      374\n",
       "NEITHER FAVORABLY NOR UNFAVORABLY (NEUTRAL)    248\n",
       "SOMEWHAT FAVORABLY                             153\n",
       "VERY FAVORABLY                                 138\n",
       "UNFAMILIAR (N/A)                               132\n",
       "SOMEWHAT UNFAVORABLY                            96\n",
       "VERY UNFAVORABLY                                45\n",
       "Name: Q5Option9, dtype: int64"
      ]
     },
     "execution_count": 159,
     "metadata": {},
     "output_type": "execute_result"
    }
   ],
   "source": [
    "fakestar['Q5Option9'].value_counts(dropna=False)"
   ]
  },
  {
   "cell_type": "code",
   "execution_count": 160,
   "metadata": {},
   "outputs": [
    {
     "data": {
      "text/plain": [
       "VERY FAVORABLY                                 474\n",
       "NaN                                            359\n",
       "SOMEWHAT FAVORABLY                             229\n",
       "NEITHER FAVORABLY NOR UNFAVORABLY (NEUTRAL)     79\n",
       "SOMEWHAT UNFAVORABLY                            23\n",
       "UNFAMILIAR (N/A)                                15\n",
       "VERY UNFAVORABLY                                 7\n",
       "Name: Q5Option10, dtype: int64"
      ]
     },
     "execution_count": 160,
     "metadata": {},
     "output_type": "execute_result"
    }
   ],
   "source": [
    "fakestar['Q5Option10'].value_counts(dropna=False)"
   ]
  },
  {
   "cell_type": "code",
   "execution_count": 161,
   "metadata": {},
   "outputs": [],
   "source": [
    "fakestar['Q5Option10'].fillna(value='NO RATING',inplace=True)"
   ]
  },
  {
   "cell_type": "code",
   "execution_count": 162,
   "metadata": {},
   "outputs": [
    {
     "data": {
      "text/plain": [
       "VERY FAVORABLY                                 474\n",
       "NO RATING                                      359\n",
       "SOMEWHAT FAVORABLY                             229\n",
       "NEITHER FAVORABLY NOR UNFAVORABLY (NEUTRAL)     79\n",
       "SOMEWHAT UNFAVORABLY                            23\n",
       "UNFAMILIAR (N/A)                                15\n",
       "VERY UNFAVORABLY                                 7\n",
       "Name: Q5Option10, dtype: int64"
      ]
     },
     "execution_count": 162,
     "metadata": {},
     "output_type": "execute_result"
    }
   ],
   "source": [
    "fakestar['Q5Option10'].value_counts(dropna=False)"
   ]
  },
  {
   "cell_type": "code",
   "execution_count": 163,
   "metadata": {},
   "outputs": [
    {
     "data": {
      "text/plain": [
       "VERY FAVORABLY                                 562\n",
       "NaN                                            356\n",
       "SOMEWHAT FAVORABLY                             185\n",
       "NEITHER FAVORABLY NOR UNFAVORABLY (NEUTRAL)     57\n",
       "SOMEWHAT UNFAVORABLY                            10\n",
       "UNFAMILIAR (N/A)                                10\n",
       "VERY UNFAVORABLY                                 6\n",
       "Name: Q5Option11, dtype: int64"
      ]
     },
     "execution_count": 163,
     "metadata": {},
     "output_type": "execute_result"
    }
   ],
   "source": [
    "fakestar['Q5Option11'].value_counts(dropna=False)"
   ]
  },
  {
   "cell_type": "code",
   "execution_count": 164,
   "metadata": {},
   "outputs": [],
   "source": [
    "fakestar['Q5Option11'].fillna(value='NO RATING',inplace=True)"
   ]
  },
  {
   "cell_type": "code",
   "execution_count": 165,
   "metadata": {},
   "outputs": [
    {
     "data": {
      "text/plain": [
       "VERY FAVORABLY                                 562\n",
       "NO RATING                                      356\n",
       "SOMEWHAT FAVORABLY                             185\n",
       "NEITHER FAVORABLY NOR UNFAVORABLY (NEUTRAL)     57\n",
       "SOMEWHAT UNFAVORABLY                            10\n",
       "UNFAMILIAR (N/A)                                10\n",
       "VERY UNFAVORABLY                                 6\n",
       "Name: Q5Option11, dtype: int64"
      ]
     },
     "execution_count": 165,
     "metadata": {},
     "output_type": "execute_result"
    }
   ],
   "source": [
    "fakestar['Q5Option11'].value_counts(dropna=False)"
   ]
  },
  {
   "cell_type": "code",
   "execution_count": 166,
   "metadata": {},
   "outputs": [
    {
     "data": {
      "text/plain": [
       "NaN                                            365\n",
       "VERY UNFAVORABLY                               204\n",
       "NEITHER FAVORABLY NOR UNFAVORABLY (NEUTRAL)    164\n",
       "SOMEWHAT FAVORABLY                             130\n",
       "VERY FAVORABLY                                 112\n",
       "UNFAMILIAR (N/A)                               109\n",
       "SOMEWHAT UNFAVORABLY                           102\n",
       "Name: Q5Option12, dtype: int64"
      ]
     },
     "execution_count": 166,
     "metadata": {},
     "output_type": "execute_result"
    }
   ],
   "source": [
    "fakestar['Q5Option12'].value_counts(dropna=False)"
   ]
  },
  {
   "cell_type": "code",
   "execution_count": 167,
   "metadata": {},
   "outputs": [],
   "source": [
    "fakestar['Q5Option12'].fillna(value='NO RATING',inplace=True)"
   ]
  },
  {
   "cell_type": "code",
   "execution_count": 168,
   "metadata": {},
   "outputs": [
    {
     "data": {
      "text/plain": [
       "NO RATING                                      365\n",
       "VERY UNFAVORABLY                               204\n",
       "NEITHER FAVORABLY NOR UNFAVORABLY (NEUTRAL)    164\n",
       "SOMEWHAT FAVORABLY                             130\n",
       "VERY FAVORABLY                                 112\n",
       "UNFAMILIAR (N/A)                               109\n",
       "SOMEWHAT UNFAVORABLY                           102\n",
       "Name: Q5Option12, dtype: int64"
      ]
     },
     "execution_count": 168,
     "metadata": {},
     "output_type": "execute_result"
    }
   ],
   "source": [
    "fakestar['Q5Option12'].value_counts(dropna=False)"
   ]
  },
  {
   "cell_type": "code",
   "execution_count": 169,
   "metadata": {},
   "outputs": [
    {
     "data": {
      "text/plain": [
       "NaN                                            372\n",
       "NEITHER FAVORABLY NOR UNFAVORABLY (NEUTRAL)    207\n",
       "SOMEWHAT FAVORABLY                             183\n",
       "VERY FAVORABLY                                 168\n",
       "UNFAMILIAR (N/A)                               164\n",
       "SOMEWHAT UNFAVORABLY                            58\n",
       "VERY UNFAVORABLY                                34\n",
       "Name: Q5Option13, dtype: int64"
      ]
     },
     "execution_count": 169,
     "metadata": {},
     "output_type": "execute_result"
    }
   ],
   "source": [
    "fakestar['Q5Option13'].value_counts(dropna=False)"
   ]
  },
  {
   "cell_type": "code",
   "execution_count": 170,
   "metadata": {},
   "outputs": [],
   "source": [
    "fakestar['Q5Option13'].fillna(value='NO RATING',inplace=True)"
   ]
  },
  {
   "cell_type": "code",
   "execution_count": 171,
   "metadata": {},
   "outputs": [
    {
     "data": {
      "text/plain": [
       "NO RATING                                      372\n",
       "NEITHER FAVORABLY NOR UNFAVORABLY (NEUTRAL)    207\n",
       "SOMEWHAT FAVORABLY                             183\n",
       "VERY FAVORABLY                                 168\n",
       "UNFAMILIAR (N/A)                               164\n",
       "SOMEWHAT UNFAVORABLY                            58\n",
       "VERY UNFAVORABLY                                34\n",
       "Name: Q5Option13, dtype: int64"
      ]
     },
     "execution_count": 171,
     "metadata": {},
     "output_type": "execute_result"
    }
   ],
   "source": [
    "fakestar['Q5Option13'].value_counts(dropna=False)"
   ]
  },
  {
   "cell_type": "code",
   "execution_count": 172,
   "metadata": {},
   "outputs": [
    {
     "data": {
      "text/plain": [
       "VERY FAVORABLY                                 605\n",
       "NaN                                            360\n",
       "SOMEWHAT FAVORABLY                             144\n",
       "NEITHER FAVORABLY NOR UNFAVORABLY (NEUTRAL)     51\n",
       "UNFAMILIAR (N/A)                                10\n",
       "SOMEWHAT UNFAVORABLY                             8\n",
       "VERY UNFAVORABLY                                 8\n",
       "Name: Q5Option14, dtype: int64"
      ]
     },
     "execution_count": 172,
     "metadata": {},
     "output_type": "execute_result"
    }
   ],
   "source": [
    "fakestar['Q5Option14'].value_counts(dropna=False)"
   ]
  },
  {
   "cell_type": "code",
   "execution_count": 173,
   "metadata": {},
   "outputs": [],
   "source": [
    "fakestar['Q5Option14'].fillna(value='NO RATING',inplace=True)"
   ]
  },
  {
   "cell_type": "code",
   "execution_count": 174,
   "metadata": {},
   "outputs": [
    {
     "data": {
      "text/plain": [
       "VERY FAVORABLY                                 605\n",
       "NO RATING                                      360\n",
       "SOMEWHAT FAVORABLY                             144\n",
       "NEITHER FAVORABLY NOR UNFAVORABLY (NEUTRAL)     51\n",
       "UNFAMILIAR (N/A)                                10\n",
       "SOMEWHAT UNFAVORABLY                             8\n",
       "VERY UNFAVORABLY                                 8\n",
       "Name: Q5Option14, dtype: int64"
      ]
     },
     "execution_count": 174,
     "metadata": {},
     "output_type": "execute_result"
    }
   ],
   "source": [
    "fakestar['Q5Option14'].value_counts(dropna=False)"
   ]
  },
  {
   "cell_type": "code",
   "execution_count": 175,
   "metadata": {},
   "outputs": [
    {
     "data": {
      "text/plain": [
       "NaN                                 358\n",
       "HAN                                 325\n",
       "I DON'T UNDERSTAND THIS QUESTION    306\n",
       "GREEDO                              197\n",
       "Name: Q6, dtype: int64"
      ]
     },
     "execution_count": 175,
     "metadata": {},
     "output_type": "execute_result"
    }
   ],
   "source": [
    "fakestar['Q6'].value_counts(dropna=False)"
   ]
  },
  {
   "cell_type": "code",
   "execution_count": 176,
   "metadata": {},
   "outputs": [],
   "source": [
    "fakestar['Q6'].fillna(value='NO RESPONSE',inplace=True)"
   ]
  },
  {
   "cell_type": "code",
   "execution_count": 177,
   "metadata": {},
   "outputs": [
    {
     "data": {
      "text/plain": [
       "NO RESPONSE                         358\n",
       "HAN                                 325\n",
       "I DON'T UNDERSTAND THIS QUESTION    306\n",
       "GREEDO                              197\n",
       "Name: Q6, dtype: int64"
      ]
     },
     "execution_count": 177,
     "metadata": {},
     "output_type": "execute_result"
    }
   ],
   "source": [
    "fakestar['Q6'].value_counts(dropna=False)"
   ]
  },
  {
   "cell_type": "code",
   "execution_count": 178,
   "metadata": {},
   "outputs": [],
   "source": [
    "fakestar['Q7'].fillna(value='NO RESPONSE',inplace=True)"
   ]
  },
  {
   "cell_type": "code",
   "execution_count": 179,
   "metadata": {},
   "outputs": [
    {
     "data": {
      "text/plain": [
       "NO             615\n",
       "NO RESPONSE    358\n",
       "YES            213\n",
       "Name: Q7, dtype: int64"
      ]
     },
     "execution_count": 179,
     "metadata": {},
     "output_type": "execute_result"
    }
   ],
   "source": [
    "fakestar['Q7'].value_counts(dropna=False)"
   ]
  },
  {
   "cell_type": "code",
   "execution_count": 180,
   "metadata": {},
   "outputs": [
    {
     "data": {
      "text/plain": [
       "NaN     973\n",
       "NO      114\n",
       "YES      98\n",
       "YESS      1\n",
       "Name: Q8, dtype: int64"
      ]
     },
     "execution_count": 180,
     "metadata": {},
     "output_type": "execute_result"
    }
   ],
   "source": [
    "fakestar['Q8'].value_counts(dropna=False)"
   ]
  },
  {
   "cell_type": "code",
   "execution_count": 181,
   "metadata": {},
   "outputs": [],
   "source": [
    "fakestar['Q8'].fillna(value='NO RESPONSE',inplace=True)"
   ]
  },
  {
   "cell_type": "code",
   "execution_count": 182,
   "metadata": {},
   "outputs": [
    {
     "data": {
      "text/plain": [
       "NO RESPONSE    973\n",
       "NO             114\n",
       "YES             98\n",
       "YESS             1\n",
       "Name: Q8, dtype: int64"
      ]
     },
     "execution_count": 182,
     "metadata": {},
     "output_type": "execute_result"
    }
   ],
   "source": [
    "fakestar['Q8'].value_counts(dropna=False)"
   ]
  },
  {
   "cell_type": "code",
   "execution_count": 183,
   "metadata": {},
   "outputs": [],
   "source": [
    "fakestar['Q8'].replace('YESS','YES',inplace=True)"
   ]
  },
  {
   "cell_type": "code",
   "execution_count": 184,
   "metadata": {},
   "outputs": [
    {
     "data": {
      "text/plain": [
       "NO RESPONSE    973\n",
       "NO             114\n",
       "YES             99\n",
       "Name: Q8, dtype: int64"
      ]
     },
     "execution_count": 184,
     "metadata": {},
     "output_type": "execute_result"
    }
   ],
   "source": [
    "fakestar['Q8'].value_counts(dropna=False)"
   ]
  },
  {
   "cell_type": "code",
   "execution_count": 185,
   "metadata": {},
   "outputs": [
    {
     "data": {
      "text/plain": [
       "NO     640\n",
       "YES    427\n",
       "NaN    118\n",
       "NOO      1\n",
       "Name: Q9, dtype: int64"
      ]
     },
     "execution_count": 185,
     "metadata": {},
     "output_type": "execute_result"
    }
   ],
   "source": [
    "fakestar['Q9'].value_counts(dropna=False)"
   ]
  },
  {
   "cell_type": "code",
   "execution_count": 186,
   "metadata": {},
   "outputs": [],
   "source": [
    "fakestar['Q9'].fillna(value='NO RESPONSE',inplace=True)"
   ]
  },
  {
   "cell_type": "code",
   "execution_count": 187,
   "metadata": {},
   "outputs": [
    {
     "data": {
      "text/plain": [
       "NO             640\n",
       "YES            427\n",
       "NO RESPONSE    118\n",
       "NOO              1\n",
       "Name: Q9, dtype: int64"
      ]
     },
     "execution_count": 187,
     "metadata": {},
     "output_type": "execute_result"
    }
   ],
   "source": [
    "fakestar['Q9'].value_counts(dropna=False)"
   ]
  },
  {
   "cell_type": "code",
   "execution_count": 188,
   "metadata": {},
   "outputs": [],
   "source": [
    "fakestar['Q9'].replace('NOO','NO',inplace=True)"
   ]
  },
  {
   "cell_type": "code",
   "execution_count": 189,
   "metadata": {},
   "outputs": [
    {
     "data": {
      "text/plain": [
       "NO             641\n",
       "YES            427\n",
       "NO RESPONSE    118\n",
       "Name: Q9, dtype: int64"
      ]
     },
     "execution_count": 189,
     "metadata": {},
     "output_type": "execute_result"
    }
   ],
   "source": [
    "fakestar['Q9'].value_counts(dropna=False)"
   ]
  },
  {
   "cell_type": "code",
   "execution_count": 190,
   "metadata": {},
   "outputs": [
    {
     "data": {
      "text/plain": [
       "FEMALE    549\n",
       "MALE      497\n",
       "NaN       140\n",
       "Name: Q10, dtype: int64"
      ]
     },
     "execution_count": 190,
     "metadata": {},
     "output_type": "execute_result"
    }
   ],
   "source": [
    "fakestar['Q10'].value_counts(dropna=False)"
   ]
  },
  {
   "cell_type": "code",
   "execution_count": 191,
   "metadata": {},
   "outputs": [],
   "source": [
    "fakestar['Q10'].fillna(value='NO RESPONSE',inplace=True)"
   ]
  },
  {
   "cell_type": "code",
   "execution_count": 192,
   "metadata": {},
   "outputs": [
    {
     "data": {
      "text/plain": [
       "FEMALE         549\n",
       "MALE           497\n",
       "NO RESPONSE    140\n",
       "Name: Q10, dtype: int64"
      ]
     },
     "execution_count": 192,
     "metadata": {},
     "output_type": "execute_result"
    }
   ],
   "source": [
    "fakestar['Q10'].value_counts(dropna=False)"
   ]
  },
  {
   "cell_type": "code",
   "execution_count": 193,
   "metadata": {},
   "outputs": [
    {
     "data": {
      "text/plain": [
       "45-60    292\n",
       "> 60     269\n",
       "30-44    268\n",
       "18-29    217\n",
       "NaN      140\n",
       "Name: Q11, dtype: int64"
      ]
     },
     "execution_count": 193,
     "metadata": {},
     "output_type": "execute_result"
    }
   ],
   "source": [
    "fakestar['Q11'].value_counts(dropna=False)"
   ]
  },
  {
   "cell_type": "code",
   "execution_count": 194,
   "metadata": {},
   "outputs": [],
   "source": [
    "fakestar['Q11'].fillna(value='NO RESPONSE',inplace=True)"
   ]
  },
  {
   "cell_type": "code",
   "execution_count": 195,
   "metadata": {},
   "outputs": [
    {
     "data": {
      "text/plain": [
       "45-60          292\n",
       "> 60           269\n",
       "30-44          268\n",
       "18-29          217\n",
       "NO RESPONSE    140\n",
       "Name: Q11, dtype: int64"
      ]
     },
     "execution_count": 195,
     "metadata": {},
     "output_type": "execute_result"
    }
   ],
   "source": [
    "fakestar['Q11'].value_counts(dropna=False)"
   ]
  },
  {
   "cell_type": "code",
   "execution_count": 196,
   "metadata": {},
   "outputs": [
    {
     "data": {
      "text/plain": [
       "NaN                    328\n",
       "$50,000 - $99,999      298\n",
       "$25,000 - $49,999      186\n",
       "$100,000 - $149,999    141\n",
       "$0 - $24,999           138\n",
       "$150,000+               95\n",
       "Name: Q12, dtype: int64"
      ]
     },
     "execution_count": 196,
     "metadata": {},
     "output_type": "execute_result"
    }
   ],
   "source": [
    "fakestar['Q12'].value_counts(dropna=False)"
   ]
  },
  {
   "cell_type": "code",
   "execution_count": 197,
   "metadata": {},
   "outputs": [],
   "source": [
    "fakestar['Q12'].fillna(value='$50,000 - $99,999',inplace=True)"
   ]
  },
  {
   "cell_type": "code",
   "execution_count": 198,
   "metadata": {},
   "outputs": [
    {
     "data": {
      "text/plain": [
       "$50,000 - $99,999      626\n",
       "$25,000 - $49,999      186\n",
       "$100,000 - $149,999    141\n",
       "$0 - $24,999           138\n",
       "$150,000+               95\n",
       "Name: Q12, dtype: int64"
      ]
     },
     "execution_count": 198,
     "metadata": {},
     "output_type": "execute_result"
    }
   ],
   "source": [
    "fakestar['Q12'].value_counts(dropna=False)"
   ]
  },
  {
   "cell_type": "code",
   "execution_count": 199,
   "metadata": {},
   "outputs": [
    {
     "data": {
      "text/plain": [
       "SOME COLLEGE OR ASSOCIATE DEGREE    328\n",
       "BACHELOR DEGREE                     321\n",
       "GRADUATE DEGREE                     275\n",
       "NaN                                 150\n",
       "HIGH SCHOOL DEGREE                  105\n",
       "LESS THAN HIGH SCHOOL DEGREE          7\n",
       "Name: Q13, dtype: int64"
      ]
     },
     "execution_count": 199,
     "metadata": {},
     "output_type": "execute_result"
    }
   ],
   "source": [
    "fakestar['Q13'].value_counts(dropna=False)"
   ]
  },
  {
   "cell_type": "code",
   "execution_count": 200,
   "metadata": {},
   "outputs": [],
   "source": [
    "fakestar['Q13'].fillna(value='NO RESPONSE',inplace=True)"
   ]
  },
  {
   "cell_type": "code",
   "execution_count": 201,
   "metadata": {},
   "outputs": [
    {
     "data": {
      "text/plain": [
       "SOME COLLEGE OR ASSOCIATE DEGREE    328\n",
       "BACHELOR DEGREE                     321\n",
       "GRADUATE DEGREE                     275\n",
       "NO RESPONSE                         150\n",
       "HIGH SCHOOL DEGREE                  105\n",
       "LESS THAN HIGH SCHOOL DEGREE          7\n",
       "Name: Q13, dtype: int64"
      ]
     },
     "execution_count": 201,
     "metadata": {},
     "output_type": "execute_result"
    }
   ],
   "source": [
    "fakestar['Q13'].value_counts(dropna=False)"
   ]
  },
  {
   "cell_type": "code",
   "execution_count": 202,
   "metadata": {},
   "outputs": [
    {
     "data": {
      "text/plain": [
       "EAST NORTH CENTRAL    181\n",
       "PACIFIC               175\n",
       "SOUTH ATLANTIC        170\n",
       "NaN                   143\n",
       "MIDDLE ATLANTIC       122\n",
       "WEST SOUTH CENTRAL    110\n",
       "WEST NORTH CENTRAL     93\n",
       "MOUNTAIN               79\n",
       "NEW ENGLAND            75\n",
       "EAST SOUTH CENTRAL     38\n",
       "Name: Q14, dtype: int64"
      ]
     },
     "execution_count": 202,
     "metadata": {},
     "output_type": "execute_result"
    }
   ],
   "source": [
    "fakestar['Q14'].value_counts(dropna=False)"
   ]
  },
  {
   "cell_type": "code",
   "execution_count": 203,
   "metadata": {},
   "outputs": [],
   "source": [
    "fakestar['Q14'].fillna(value='NO RESPONSE',inplace=True)"
   ]
  },
  {
   "cell_type": "code",
   "execution_count": 204,
   "metadata": {},
   "outputs": [
    {
     "data": {
      "text/plain": [
       "EAST NORTH CENTRAL    181\n",
       "PACIFIC               175\n",
       "SOUTH ATLANTIC        170\n",
       "NO RESPONSE           143\n",
       "MIDDLE ATLANTIC       122\n",
       "WEST SOUTH CENTRAL    110\n",
       "WEST NORTH CENTRAL     93\n",
       "MOUNTAIN               79\n",
       "NEW ENGLAND            75\n",
       "EAST SOUTH CENTRAL     38\n",
       "Name: Q14, dtype: int64"
      ]
     },
     "execution_count": 204,
     "metadata": {},
     "output_type": "execute_result"
    }
   ],
   "source": [
    "fakestar['Q14'].value_counts(dropna=False)"
   ]
  },
  {
   "cell_type": "code",
   "execution_count": 205,
   "metadata": {},
   "outputs": [
    {
     "data": {
      "text/plain": [
       "ID              0\n",
       "Q1              0\n",
       "Q2              0\n",
       "Q3Option1       0\n",
       "Q3Option2       0\n",
       "Q3Option3       0\n",
       "Q3Option4       0\n",
       "Q3Option5       0\n",
       "Q3Option6       0\n",
       "Q4Option1       0\n",
       "Q4Option2       0\n",
       "Q4Option3     351\n",
       "Q4Option4       0\n",
       "Q4Option5     350\n",
       "Q4Option6       0\n",
       "Q5Option1       0\n",
       "Q5Option2       0\n",
       "Q5Option3       0\n",
       "Q5Option4       0\n",
       "Q5Option5       0\n",
       "Q5Option6       0\n",
       "Q5Option7       0\n",
       "Q5Option8       0\n",
       "Q5Option9       0\n",
       "Q5Option10      0\n",
       "Q5Option11      0\n",
       "Q5Option12      0\n",
       "Q5Option13      0\n",
       "Q5Option14      0\n",
       "Q6              0\n",
       "Q7              0\n",
       "Q8              0\n",
       "Q9              0\n",
       "Q10             0\n",
       "Q11             0\n",
       "Q12             0\n",
       "Q13             0\n",
       "Q14             0\n",
       "dtype: int64"
      ]
     },
     "execution_count": 205,
     "metadata": {},
     "output_type": "execute_result"
    }
   ],
   "source": [
    "fakestar.isnull().sum()"
   ]
  },
  {
   "cell_type": "code",
   "execution_count": 207,
   "metadata": {},
   "outputs": [
    {
     "data": {
      "text/plain": [
       "NaN    351\n",
       "6      217\n",
       "5      203\n",
       "4      182\n",
       "3      150\n",
       "2       47\n",
       "1       36\n",
       "Name: Q4Option3, dtype: int64"
      ]
     },
     "execution_count": 207,
     "metadata": {},
     "output_type": "execute_result"
    }
   ],
   "source": [
    "fakestar['Q4Option3'].value_counts(dropna=False)"
   ]
  },
  {
   "cell_type": "code",
   "execution_count": 208,
   "metadata": {},
   "outputs": [],
   "source": [
    "fakestar['Q4Option3'].fillna(value='NO RESPONSE',inplace=True)"
   ]
  },
  {
   "cell_type": "code",
   "execution_count": 209,
   "metadata": {},
   "outputs": [
    {
     "data": {
      "text/plain": [
       "NO RESPONSE    351\n",
       "6              217\n",
       "5              203\n",
       "4              182\n",
       "3              150\n",
       "2               47\n",
       "1               36\n",
       "Name: Q4Option3, dtype: int64"
      ]
     },
     "execution_count": 209,
     "metadata": {},
     "output_type": "execute_result"
    }
   ],
   "source": [
    "fakestar['Q4Option3'].value_counts(dropna=False)"
   ]
  },
  {
   "cell_type": "code",
   "execution_count": 210,
   "metadata": {},
   "outputs": [
    {
     "data": {
      "text/plain": [
       "NaN    350\n",
       "1      289\n",
       "2      235\n",
       "5      118\n",
       "3      106\n",
       "4       47\n",
       "6       41\n",
       "Name: Q4Option5, dtype: int64"
      ]
     },
     "execution_count": 210,
     "metadata": {},
     "output_type": "execute_result"
    }
   ],
   "source": [
    "fakestar['Q4Option5'].value_counts(dropna=False)"
   ]
  },
  {
   "cell_type": "code",
   "execution_count": 211,
   "metadata": {},
   "outputs": [],
   "source": [
    "fakestar['Q4Option5'].fillna(value='NO RESPONSE',inplace=True)"
   ]
  },
  {
   "cell_type": "code",
   "execution_count": 212,
   "metadata": {},
   "outputs": [
    {
     "data": {
      "text/plain": [
       "NO RESPONSE    350\n",
       "1              289\n",
       "2              235\n",
       "5              118\n",
       "3              106\n",
       "4               47\n",
       "6               41\n",
       "Name: Q4Option5, dtype: int64"
      ]
     },
     "execution_count": 212,
     "metadata": {},
     "output_type": "execute_result"
    }
   ],
   "source": [
    "fakestar['Q4Option5'].value_counts(dropna=False)"
   ]
  },
  {
   "cell_type": "code",
   "execution_count": 213,
   "metadata": {
    "scrolled": true
   },
   "outputs": [
    {
     "data": {
      "text/html": [
       "<div>\n",
       "<style scoped>\n",
       "    .dataframe tbody tr th:only-of-type {\n",
       "        vertical-align: middle;\n",
       "    }\n",
       "\n",
       "    .dataframe tbody tr th {\n",
       "        vertical-align: top;\n",
       "    }\n",
       "\n",
       "    .dataframe thead th {\n",
       "        text-align: right;\n",
       "    }\n",
       "</style>\n",
       "<table border=\"1\" class=\"dataframe\">\n",
       "  <thead>\n",
       "    <tr style=\"text-align: right;\">\n",
       "      <th></th>\n",
       "      <th>ID</th>\n",
       "      <th>Q1</th>\n",
       "      <th>Q2</th>\n",
       "      <th>Q3Option1</th>\n",
       "      <th>Q3Option2</th>\n",
       "      <th>Q3Option3</th>\n",
       "      <th>Q3Option4</th>\n",
       "      <th>Q3Option5</th>\n",
       "      <th>Q3Option6</th>\n",
       "      <th>Q4Option1</th>\n",
       "      <th>...</th>\n",
       "      <th>Q5Option14</th>\n",
       "      <th>Q6</th>\n",
       "      <th>Q7</th>\n",
       "      <th>Q8</th>\n",
       "      <th>Q9</th>\n",
       "      <th>Q10</th>\n",
       "      <th>Q11</th>\n",
       "      <th>Q12</th>\n",
       "      <th>Q13</th>\n",
       "      <th>Q14</th>\n",
       "    </tr>\n",
       "  </thead>\n",
       "  <tbody>\n",
       "    <tr>\n",
       "      <td>2</td>\n",
       "      <td>3292879998</td>\n",
       "      <td>YES</td>\n",
       "      <td>Yes</td>\n",
       "      <td>Star Wars: Episode I  The Phantom Menace</td>\n",
       "      <td>Star Wars: Episode II  Attack of the Clones</td>\n",
       "      <td>Star Wars: Episode III  Revenge of the Sith</td>\n",
       "      <td>Star Wars: Episode IV  A New Hope</td>\n",
       "      <td>Star Wars: Episode V The Empire Strikes Back</td>\n",
       "      <td>Star Wars: Episode VI Return of the Jedi</td>\n",
       "      <td>3</td>\n",
       "      <td>...</td>\n",
       "      <td>VERY FAVORABLY</td>\n",
       "      <td>I DON'T UNDERSTAND THIS QUESTION</td>\n",
       "      <td>YES</td>\n",
       "      <td>NO</td>\n",
       "      <td>NO</td>\n",
       "      <td>MALE</td>\n",
       "      <td>18-29</td>\n",
       "      <td>$50,000 - $99,999</td>\n",
       "      <td>HIGH SCHOOL DEGREE</td>\n",
       "      <td>SOUTH ATLANTIC</td>\n",
       "    </tr>\n",
       "    <tr>\n",
       "      <td>3</td>\n",
       "      <td>3292879538</td>\n",
       "      <td>NO</td>\n",
       "      <td>NO</td>\n",
       "      <td>NO</td>\n",
       "      <td>NO</td>\n",
       "      <td>NO</td>\n",
       "      <td>NO</td>\n",
       "      <td>NO</td>\n",
       "      <td>NO</td>\n",
       "      <td>NO RATING</td>\n",
       "      <td>...</td>\n",
       "      <td>NO RATING</td>\n",
       "      <td>NO RESPONSE</td>\n",
       "      <td>NO RESPONSE</td>\n",
       "      <td>NO RESPONSE</td>\n",
       "      <td>YES</td>\n",
       "      <td>MALE</td>\n",
       "      <td>18-29</td>\n",
       "      <td>$0 - $24,999</td>\n",
       "      <td>BACHELOR DEGREE</td>\n",
       "      <td>WEST SOUTH CENTRAL</td>\n",
       "    </tr>\n",
       "    <tr>\n",
       "      <td>4</td>\n",
       "      <td>3292765271</td>\n",
       "      <td>YES</td>\n",
       "      <td>No</td>\n",
       "      <td>Star Wars: Episode I  The Phantom Menace</td>\n",
       "      <td>Star Wars: Episode II  Attack of the Clones</td>\n",
       "      <td>Star Wars: Episode III  Revenge of the Sith</td>\n",
       "      <td>NO</td>\n",
       "      <td>NO</td>\n",
       "      <td>NO</td>\n",
       "      <td>1</td>\n",
       "      <td>...</td>\n",
       "      <td>UNFAMILIAR (N/A)</td>\n",
       "      <td>I DON'T UNDERSTAND THIS QUESTION</td>\n",
       "      <td>NO</td>\n",
       "      <td>NO RESPONSE</td>\n",
       "      <td>NO</td>\n",
       "      <td>MALE</td>\n",
       "      <td>18-29</td>\n",
       "      <td>$0 - $24,999</td>\n",
       "      <td>HIGH SCHOOL DEGREE</td>\n",
       "      <td>WEST NORTH CENTRAL</td>\n",
       "    </tr>\n",
       "    <tr>\n",
       "      <td>5</td>\n",
       "      <td>3292763116</td>\n",
       "      <td>YES</td>\n",
       "      <td>Yes</td>\n",
       "      <td>Star Wars: Episode I  The Phantom Menace</td>\n",
       "      <td>Star Wars: Episode II  Attack of the Clones</td>\n",
       "      <td>Star Wars: Episode III  Revenge of the Sith</td>\n",
       "      <td>Star Wars: Episode IV  A New Hope</td>\n",
       "      <td>Star Wars: Episode V The Empire Strikes Back</td>\n",
       "      <td>Star Wars: Episode VI Return of the Jedi</td>\n",
       "      <td>5</td>\n",
       "      <td>...</td>\n",
       "      <td>VERY FAVORABLY</td>\n",
       "      <td>I DON'T UNDERSTAND THIS QUESTION</td>\n",
       "      <td>NO</td>\n",
       "      <td>NO RESPONSE</td>\n",
       "      <td>YES</td>\n",
       "      <td>MALE</td>\n",
       "      <td>18-29</td>\n",
       "      <td>$100,000 - $149,999</td>\n",
       "      <td>SOME COLLEGE OR ASSOCIATE DEGREE</td>\n",
       "      <td>WEST NORTH CENTRAL</td>\n",
       "    </tr>\n",
       "    <tr>\n",
       "      <td>6</td>\n",
       "      <td>3292731220</td>\n",
       "      <td>YES</td>\n",
       "      <td>Yes</td>\n",
       "      <td>Star Wars: Episode I  The Phantom Menace</td>\n",
       "      <td>Star Wars: Episode II  Attack of the Clones</td>\n",
       "      <td>Star Wars: Episode III  Revenge of the Sith</td>\n",
       "      <td>Star Wars: Episode IV  A New Hope</td>\n",
       "      <td>Star Wars: Episode V The Empire Strikes Back</td>\n",
       "      <td>Star Wars: Episode VI Return of the Jedi</td>\n",
       "      <td>5</td>\n",
       "      <td>...</td>\n",
       "      <td>SOMEWHAT FAVORABLY</td>\n",
       "      <td>GREEDO</td>\n",
       "      <td>YES</td>\n",
       "      <td>NO</td>\n",
       "      <td>NO</td>\n",
       "      <td>MALE</td>\n",
       "      <td>18-29</td>\n",
       "      <td>$100,000 - $149,999</td>\n",
       "      <td>SOME COLLEGE OR ASSOCIATE DEGREE</td>\n",
       "      <td>WEST NORTH CENTRAL</td>\n",
       "    </tr>\n",
       "    <tr>\n",
       "      <td>...</td>\n",
       "      <td>...</td>\n",
       "      <td>...</td>\n",
       "      <td>...</td>\n",
       "      <td>...</td>\n",
       "      <td>...</td>\n",
       "      <td>...</td>\n",
       "      <td>...</td>\n",
       "      <td>...</td>\n",
       "      <td>...</td>\n",
       "      <td>...</td>\n",
       "      <td>...</td>\n",
       "      <td>...</td>\n",
       "      <td>...</td>\n",
       "      <td>...</td>\n",
       "      <td>...</td>\n",
       "      <td>...</td>\n",
       "      <td>...</td>\n",
       "      <td>...</td>\n",
       "      <td>...</td>\n",
       "      <td>...</td>\n",
       "      <td>...</td>\n",
       "    </tr>\n",
       "    <tr>\n",
       "      <td>1183</td>\n",
       "      <td>3288388730</td>\n",
       "      <td>YES</td>\n",
       "      <td>Yes</td>\n",
       "      <td>Star Wars: Episode I  The Phantom Menace</td>\n",
       "      <td>Star Wars: Episode II  Attack of the Clones</td>\n",
       "      <td>Star Wars: Episode III  Revenge of the Sith</td>\n",
       "      <td>Star Wars: Episode IV  A New Hope</td>\n",
       "      <td>Star Wars: Episode V The Empire Strikes Back</td>\n",
       "      <td>Star Wars: Episode VI Return of the Jedi</td>\n",
       "      <td>5</td>\n",
       "      <td>...</td>\n",
       "      <td>VERY FAVORABLY</td>\n",
       "      <td>HAN</td>\n",
       "      <td>NO</td>\n",
       "      <td>NO RESPONSE</td>\n",
       "      <td>YES</td>\n",
       "      <td>FEMALE</td>\n",
       "      <td>18-29</td>\n",
       "      <td>$0 - $24,999</td>\n",
       "      <td>SOME COLLEGE OR ASSOCIATE DEGREE</td>\n",
       "      <td>EAST NORTH CENTRAL</td>\n",
       "    </tr>\n",
       "    <tr>\n",
       "      <td>1184</td>\n",
       "      <td>3288378779</td>\n",
       "      <td>YES</td>\n",
       "      <td>Yes</td>\n",
       "      <td>Star Wars: Episode I  The Phantom Menace</td>\n",
       "      <td>Star Wars: Episode II  Attack of the Clones</td>\n",
       "      <td>Star Wars: Episode III  Revenge of the Sith</td>\n",
       "      <td>Star Wars: Episode IV  A New Hope</td>\n",
       "      <td>Star Wars: Episode V The Empire Strikes Back</td>\n",
       "      <td>Star Wars: Episode VI Return of the Jedi</td>\n",
       "      <td>4</td>\n",
       "      <td>...</td>\n",
       "      <td>VERY FAVORABLY</td>\n",
       "      <td>I DON'T UNDERSTAND THIS QUESTION</td>\n",
       "      <td>NO</td>\n",
       "      <td>NO RESPONSE</td>\n",
       "      <td>YES</td>\n",
       "      <td>FEMALE</td>\n",
       "      <td>30-44</td>\n",
       "      <td>$50,000 - $99,999</td>\n",
       "      <td>BACHELOR DEGREE</td>\n",
       "      <td>MOUNTAIN</td>\n",
       "    </tr>\n",
       "    <tr>\n",
       "      <td>1185</td>\n",
       "      <td>3288375286</td>\n",
       "      <td>NO</td>\n",
       "      <td>NO</td>\n",
       "      <td>NO</td>\n",
       "      <td>NO</td>\n",
       "      <td>NO</td>\n",
       "      <td>NO</td>\n",
       "      <td>NO</td>\n",
       "      <td>NO</td>\n",
       "      <td>NO RATING</td>\n",
       "      <td>...</td>\n",
       "      <td>NO RATING</td>\n",
       "      <td>NO RESPONSE</td>\n",
       "      <td>NO RESPONSE</td>\n",
       "      <td>NO RESPONSE</td>\n",
       "      <td>NO</td>\n",
       "      <td>FEMALE</td>\n",
       "      <td>30-44</td>\n",
       "      <td>$50,000 - $99,999</td>\n",
       "      <td>BACHELOR DEGREE</td>\n",
       "      <td>MIDDLE ATLANTIC</td>\n",
       "    </tr>\n",
       "    <tr>\n",
       "      <td>1186</td>\n",
       "      <td>3288373068</td>\n",
       "      <td>YES</td>\n",
       "      <td>Yes</td>\n",
       "      <td>Star Wars: Episode I  The Phantom Menace</td>\n",
       "      <td>Star Wars: Episode II  Attack of the Clones</td>\n",
       "      <td>Star Wars: Episode III  Revenge of the Sith</td>\n",
       "      <td>Star Wars: Episode IV  A New Hope</td>\n",
       "      <td>Star Wars: Episode V The Empire Strikes Back</td>\n",
       "      <td>Star Wars: Episode VI Return of the Jedi</td>\n",
       "      <td>4</td>\n",
       "      <td>...</td>\n",
       "      <td>VERY FAVORABLY</td>\n",
       "      <td>HAN</td>\n",
       "      <td>NO</td>\n",
       "      <td>NO RESPONSE</td>\n",
       "      <td>YES</td>\n",
       "      <td>FEMALE</td>\n",
       "      <td>45-60</td>\n",
       "      <td>$100,000 - $149,999</td>\n",
       "      <td>SOME COLLEGE OR ASSOCIATE DEGREE</td>\n",
       "      <td>EAST NORTH CENTRAL</td>\n",
       "    </tr>\n",
       "    <tr>\n",
       "      <td>1187</td>\n",
       "      <td>3288372923</td>\n",
       "      <td>YES</td>\n",
       "      <td>No</td>\n",
       "      <td>Star Wars: Episode I  The Phantom Menace</td>\n",
       "      <td>Star Wars: Episode II  Attack of the Clones</td>\n",
       "      <td>NO</td>\n",
       "      <td>NO</td>\n",
       "      <td>Star Wars: Episode V The Empire Strikes Back</td>\n",
       "      <td>Star Wars: Episode VI Return of the Jedi</td>\n",
       "      <td>6</td>\n",
       "      <td>...</td>\n",
       "      <td>VERY UNFAVORABLY</td>\n",
       "      <td>I DON'T UNDERSTAND THIS QUESTION</td>\n",
       "      <td>NO</td>\n",
       "      <td>NO RESPONSE</td>\n",
       "      <td>NO</td>\n",
       "      <td>FEMALE</td>\n",
       "      <td>&gt; 60</td>\n",
       "      <td>$50,000 - $99,999</td>\n",
       "      <td>GRADUATE DEGREE</td>\n",
       "      <td>PACIFIC</td>\n",
       "    </tr>\n",
       "  </tbody>\n",
       "</table>\n",
       "<p>1186 rows × 38 columns</p>\n",
       "</div>"
      ],
      "text/plain": [
       "              ID   Q1   Q2                                 Q3Option1  \\\n",
       "2     3292879998  YES  Yes  Star Wars: Episode I  The Phantom Menace   \n",
       "3     3292879538   NO   NO                                        NO   \n",
       "4     3292765271  YES   No  Star Wars: Episode I  The Phantom Menace   \n",
       "5     3292763116  YES  Yes  Star Wars: Episode I  The Phantom Menace   \n",
       "6     3292731220  YES  Yes  Star Wars: Episode I  The Phantom Menace   \n",
       "...          ...  ...  ...                                       ...   \n",
       "1183  3288388730  YES  Yes  Star Wars: Episode I  The Phantom Menace   \n",
       "1184  3288378779  YES  Yes  Star Wars: Episode I  The Phantom Menace   \n",
       "1185  3288375286   NO   NO                                        NO   \n",
       "1186  3288373068  YES  Yes  Star Wars: Episode I  The Phantom Menace   \n",
       "1187  3288372923  YES   No  Star Wars: Episode I  The Phantom Menace   \n",
       "\n",
       "                                        Q3Option2  \\\n",
       "2     Star Wars: Episode II  Attack of the Clones   \n",
       "3                                              NO   \n",
       "4     Star Wars: Episode II  Attack of the Clones   \n",
       "5     Star Wars: Episode II  Attack of the Clones   \n",
       "6     Star Wars: Episode II  Attack of the Clones   \n",
       "...                                           ...   \n",
       "1183  Star Wars: Episode II  Attack of the Clones   \n",
       "1184  Star Wars: Episode II  Attack of the Clones   \n",
       "1185                                           NO   \n",
       "1186  Star Wars: Episode II  Attack of the Clones   \n",
       "1187  Star Wars: Episode II  Attack of the Clones   \n",
       "\n",
       "                                        Q3Option3  \\\n",
       "2     Star Wars: Episode III  Revenge of the Sith   \n",
       "3                                              NO   \n",
       "4     Star Wars: Episode III  Revenge of the Sith   \n",
       "5     Star Wars: Episode III  Revenge of the Sith   \n",
       "6     Star Wars: Episode III  Revenge of the Sith   \n",
       "...                                           ...   \n",
       "1183  Star Wars: Episode III  Revenge of the Sith   \n",
       "1184  Star Wars: Episode III  Revenge of the Sith   \n",
       "1185                                           NO   \n",
       "1186  Star Wars: Episode III  Revenge of the Sith   \n",
       "1187                                           NO   \n",
       "\n",
       "                              Q3Option4  \\\n",
       "2     Star Wars: Episode IV  A New Hope   \n",
       "3                                    NO   \n",
       "4                                    NO   \n",
       "5     Star Wars: Episode IV  A New Hope   \n",
       "6     Star Wars: Episode IV  A New Hope   \n",
       "...                                 ...   \n",
       "1183  Star Wars: Episode IV  A New Hope   \n",
       "1184  Star Wars: Episode IV  A New Hope   \n",
       "1185                                 NO   \n",
       "1186  Star Wars: Episode IV  A New Hope   \n",
       "1187                                 NO   \n",
       "\n",
       "                                         Q3Option5  \\\n",
       "2     Star Wars: Episode V The Empire Strikes Back   \n",
       "3                                               NO   \n",
       "4                                               NO   \n",
       "5     Star Wars: Episode V The Empire Strikes Back   \n",
       "6     Star Wars: Episode V The Empire Strikes Back   \n",
       "...                                            ...   \n",
       "1183  Star Wars: Episode V The Empire Strikes Back   \n",
       "1184  Star Wars: Episode V The Empire Strikes Back   \n",
       "1185                                            NO   \n",
       "1186  Star Wars: Episode V The Empire Strikes Back   \n",
       "1187  Star Wars: Episode V The Empire Strikes Back   \n",
       "\n",
       "                                     Q3Option6  Q4Option1  ...  \\\n",
       "2     Star Wars: Episode VI Return of the Jedi          3  ...   \n",
       "3                                           NO  NO RATING  ...   \n",
       "4                                           NO          1  ...   \n",
       "5     Star Wars: Episode VI Return of the Jedi          5  ...   \n",
       "6     Star Wars: Episode VI Return of the Jedi          5  ...   \n",
       "...                                        ...        ...  ...   \n",
       "1183  Star Wars: Episode VI Return of the Jedi          5  ...   \n",
       "1184  Star Wars: Episode VI Return of the Jedi          4  ...   \n",
       "1185                                        NO  NO RATING  ...   \n",
       "1186  Star Wars: Episode VI Return of the Jedi          4  ...   \n",
       "1187  Star Wars: Episode VI Return of the Jedi          6  ...   \n",
       "\n",
       "              Q5Option14                                Q6           Q7  \\\n",
       "2         VERY FAVORABLY  I DON'T UNDERSTAND THIS QUESTION          YES   \n",
       "3              NO RATING                       NO RESPONSE  NO RESPONSE   \n",
       "4       UNFAMILIAR (N/A)  I DON'T UNDERSTAND THIS QUESTION           NO   \n",
       "5         VERY FAVORABLY  I DON'T UNDERSTAND THIS QUESTION           NO   \n",
       "6     SOMEWHAT FAVORABLY                            GREEDO          YES   \n",
       "...                  ...                               ...          ...   \n",
       "1183      VERY FAVORABLY                               HAN           NO   \n",
       "1184      VERY FAVORABLY  I DON'T UNDERSTAND THIS QUESTION           NO   \n",
       "1185           NO RATING                       NO RESPONSE  NO RESPONSE   \n",
       "1186      VERY FAVORABLY                               HAN           NO   \n",
       "1187    VERY UNFAVORABLY  I DON'T UNDERSTAND THIS QUESTION           NO   \n",
       "\n",
       "               Q8   Q9     Q10    Q11                  Q12  \\\n",
       "2              NO   NO    MALE  18-29    $50,000 - $99,999   \n",
       "3     NO RESPONSE  YES    MALE  18-29         $0 - $24,999   \n",
       "4     NO RESPONSE   NO    MALE  18-29         $0 - $24,999   \n",
       "5     NO RESPONSE  YES    MALE  18-29  $100,000 - $149,999   \n",
       "6              NO   NO    MALE  18-29  $100,000 - $149,999   \n",
       "...           ...  ...     ...    ...                  ...   \n",
       "1183  NO RESPONSE  YES  FEMALE  18-29         $0 - $24,999   \n",
       "1184  NO RESPONSE  YES  FEMALE  30-44    $50,000 - $99,999   \n",
       "1185  NO RESPONSE   NO  FEMALE  30-44    $50,000 - $99,999   \n",
       "1186  NO RESPONSE  YES  FEMALE  45-60  $100,000 - $149,999   \n",
       "1187  NO RESPONSE   NO  FEMALE   > 60    $50,000 - $99,999   \n",
       "\n",
       "                                   Q13                 Q14  \n",
       "2                   HIGH SCHOOL DEGREE      SOUTH ATLANTIC  \n",
       "3                      BACHELOR DEGREE  WEST SOUTH CENTRAL  \n",
       "4                   HIGH SCHOOL DEGREE  WEST NORTH CENTRAL  \n",
       "5     SOME COLLEGE OR ASSOCIATE DEGREE  WEST NORTH CENTRAL  \n",
       "6     SOME COLLEGE OR ASSOCIATE DEGREE  WEST NORTH CENTRAL  \n",
       "...                                ...                 ...  \n",
       "1183  SOME COLLEGE OR ASSOCIATE DEGREE  EAST NORTH CENTRAL  \n",
       "1184                   BACHELOR DEGREE            MOUNTAIN  \n",
       "1185                   BACHELOR DEGREE     MIDDLE ATLANTIC  \n",
       "1186  SOME COLLEGE OR ASSOCIATE DEGREE  EAST NORTH CENTRAL  \n",
       "1187                   GRADUATE DEGREE             PACIFIC  \n",
       "\n",
       "[1186 rows x 38 columns]"
      ]
     },
     "execution_count": 213,
     "metadata": {},
     "output_type": "execute_result"
    }
   ],
   "source": [
    "fakestar"
   ]
  },
  {
   "cell_type": "code",
   "execution_count": 214,
   "metadata": {},
   "outputs": [
    {
     "data": {
      "text/html": [
       "<div>\n",
       "<style scoped>\n",
       "    .dataframe tbody tr th:only-of-type {\n",
       "        vertical-align: middle;\n",
       "    }\n",
       "\n",
       "    .dataframe tbody tr th {\n",
       "        vertical-align: top;\n",
       "    }\n",
       "\n",
       "    .dataframe thead th {\n",
       "        text-align: right;\n",
       "    }\n",
       "</style>\n",
       "<table border=\"1\" class=\"dataframe\">\n",
       "  <thead>\n",
       "    <tr style=\"text-align: right;\">\n",
       "      <th></th>\n",
       "      <th>ID</th>\n",
       "      <th>Q1</th>\n",
       "      <th>Q2</th>\n",
       "      <th>Q3Option1</th>\n",
       "      <th>Q3Option2</th>\n",
       "      <th>Q3Option3</th>\n",
       "      <th>Q3Option4</th>\n",
       "      <th>Q3Option5</th>\n",
       "      <th>Q3Option6</th>\n",
       "      <th>Q4Option1</th>\n",
       "      <th>...</th>\n",
       "      <th>Q5Option14</th>\n",
       "      <th>Q6</th>\n",
       "      <th>Q7</th>\n",
       "      <th>Q8</th>\n",
       "      <th>Q9</th>\n",
       "      <th>Q10</th>\n",
       "      <th>Q11</th>\n",
       "      <th>Q12</th>\n",
       "      <th>Q13</th>\n",
       "      <th>Q14</th>\n",
       "    </tr>\n",
       "  </thead>\n",
       "  <tbody>\n",
       "    <tr>\n",
       "      <td>2</td>\n",
       "      <td>3292879998</td>\n",
       "      <td>YES</td>\n",
       "      <td>Yes</td>\n",
       "      <td>Star Wars: Episode I  The Phantom Menace</td>\n",
       "      <td>Star Wars: Episode II  Attack of the Clones</td>\n",
       "      <td>Star Wars: Episode III  Revenge of the Sith</td>\n",
       "      <td>Star Wars: Episode IV  A New Hope</td>\n",
       "      <td>Star Wars: Episode V The Empire Strikes Back</td>\n",
       "      <td>Star Wars: Episode VI Return of the Jedi</td>\n",
       "      <td>3</td>\n",
       "      <td>...</td>\n",
       "      <td>VERY FAVORABLY</td>\n",
       "      <td>I DON'T UNDERSTAND THIS QUESTION</td>\n",
       "      <td>YES</td>\n",
       "      <td>NO</td>\n",
       "      <td>NO</td>\n",
       "      <td>MALE</td>\n",
       "      <td>18-29</td>\n",
       "      <td>$50,000 - $99,999</td>\n",
       "      <td>HIGH SCHOOL DEGREE</td>\n",
       "      <td>SOUTH ATLANTIC</td>\n",
       "    </tr>\n",
       "    <tr>\n",
       "      <td>3</td>\n",
       "      <td>3292879538</td>\n",
       "      <td>NO</td>\n",
       "      <td>NO</td>\n",
       "      <td>NO</td>\n",
       "      <td>NO</td>\n",
       "      <td>NO</td>\n",
       "      <td>NO</td>\n",
       "      <td>NO</td>\n",
       "      <td>NO</td>\n",
       "      <td>NO RATING</td>\n",
       "      <td>...</td>\n",
       "      <td>NO RATING</td>\n",
       "      <td>NO RESPONSE</td>\n",
       "      <td>NO RESPONSE</td>\n",
       "      <td>NO RESPONSE</td>\n",
       "      <td>YES</td>\n",
       "      <td>MALE</td>\n",
       "      <td>18-29</td>\n",
       "      <td>$0 - $24,999</td>\n",
       "      <td>BACHELOR DEGREE</td>\n",
       "      <td>WEST SOUTH CENTRAL</td>\n",
       "    </tr>\n",
       "    <tr>\n",
       "      <td>4</td>\n",
       "      <td>3292765271</td>\n",
       "      <td>YES</td>\n",
       "      <td>No</td>\n",
       "      <td>Star Wars: Episode I  The Phantom Menace</td>\n",
       "      <td>Star Wars: Episode II  Attack of the Clones</td>\n",
       "      <td>Star Wars: Episode III  Revenge of the Sith</td>\n",
       "      <td>NO</td>\n",
       "      <td>NO</td>\n",
       "      <td>NO</td>\n",
       "      <td>1</td>\n",
       "      <td>...</td>\n",
       "      <td>UNFAMILIAR (N/A)</td>\n",
       "      <td>I DON'T UNDERSTAND THIS QUESTION</td>\n",
       "      <td>NO</td>\n",
       "      <td>NO RESPONSE</td>\n",
       "      <td>NO</td>\n",
       "      <td>MALE</td>\n",
       "      <td>18-29</td>\n",
       "      <td>$0 - $24,999</td>\n",
       "      <td>HIGH SCHOOL DEGREE</td>\n",
       "      <td>WEST NORTH CENTRAL</td>\n",
       "    </tr>\n",
       "    <tr>\n",
       "      <td>5</td>\n",
       "      <td>3292763116</td>\n",
       "      <td>YES</td>\n",
       "      <td>Yes</td>\n",
       "      <td>Star Wars: Episode I  The Phantom Menace</td>\n",
       "      <td>Star Wars: Episode II  Attack of the Clones</td>\n",
       "      <td>Star Wars: Episode III  Revenge of the Sith</td>\n",
       "      <td>Star Wars: Episode IV  A New Hope</td>\n",
       "      <td>Star Wars: Episode V The Empire Strikes Back</td>\n",
       "      <td>Star Wars: Episode VI Return of the Jedi</td>\n",
       "      <td>5</td>\n",
       "      <td>...</td>\n",
       "      <td>VERY FAVORABLY</td>\n",
       "      <td>I DON'T UNDERSTAND THIS QUESTION</td>\n",
       "      <td>NO</td>\n",
       "      <td>NO RESPONSE</td>\n",
       "      <td>YES</td>\n",
       "      <td>MALE</td>\n",
       "      <td>18-29</td>\n",
       "      <td>$100,000 - $149,999</td>\n",
       "      <td>SOME COLLEGE OR ASSOCIATE DEGREE</td>\n",
       "      <td>WEST NORTH CENTRAL</td>\n",
       "    </tr>\n",
       "    <tr>\n",
       "      <td>6</td>\n",
       "      <td>3292731220</td>\n",
       "      <td>YES</td>\n",
       "      <td>Yes</td>\n",
       "      <td>Star Wars: Episode I  The Phantom Menace</td>\n",
       "      <td>Star Wars: Episode II  Attack of the Clones</td>\n",
       "      <td>Star Wars: Episode III  Revenge of the Sith</td>\n",
       "      <td>Star Wars: Episode IV  A New Hope</td>\n",
       "      <td>Star Wars: Episode V The Empire Strikes Back</td>\n",
       "      <td>Star Wars: Episode VI Return of the Jedi</td>\n",
       "      <td>5</td>\n",
       "      <td>...</td>\n",
       "      <td>SOMEWHAT FAVORABLY</td>\n",
       "      <td>GREEDO</td>\n",
       "      <td>YES</td>\n",
       "      <td>NO</td>\n",
       "      <td>NO</td>\n",
       "      <td>MALE</td>\n",
       "      <td>18-29</td>\n",
       "      <td>$100,000 - $149,999</td>\n",
       "      <td>SOME COLLEGE OR ASSOCIATE DEGREE</td>\n",
       "      <td>WEST NORTH CENTRAL</td>\n",
       "    </tr>\n",
       "    <tr>\n",
       "      <td>...</td>\n",
       "      <td>...</td>\n",
       "      <td>...</td>\n",
       "      <td>...</td>\n",
       "      <td>...</td>\n",
       "      <td>...</td>\n",
       "      <td>...</td>\n",
       "      <td>...</td>\n",
       "      <td>...</td>\n",
       "      <td>...</td>\n",
       "      <td>...</td>\n",
       "      <td>...</td>\n",
       "      <td>...</td>\n",
       "      <td>...</td>\n",
       "      <td>...</td>\n",
       "      <td>...</td>\n",
       "      <td>...</td>\n",
       "      <td>...</td>\n",
       "      <td>...</td>\n",
       "      <td>...</td>\n",
       "      <td>...</td>\n",
       "      <td>...</td>\n",
       "    </tr>\n",
       "    <tr>\n",
       "      <td>1183</td>\n",
       "      <td>3288388730</td>\n",
       "      <td>YES</td>\n",
       "      <td>Yes</td>\n",
       "      <td>Star Wars: Episode I  The Phantom Menace</td>\n",
       "      <td>Star Wars: Episode II  Attack of the Clones</td>\n",
       "      <td>Star Wars: Episode III  Revenge of the Sith</td>\n",
       "      <td>Star Wars: Episode IV  A New Hope</td>\n",
       "      <td>Star Wars: Episode V The Empire Strikes Back</td>\n",
       "      <td>Star Wars: Episode VI Return of the Jedi</td>\n",
       "      <td>5</td>\n",
       "      <td>...</td>\n",
       "      <td>VERY FAVORABLY</td>\n",
       "      <td>HAN</td>\n",
       "      <td>NO</td>\n",
       "      <td>NO RESPONSE</td>\n",
       "      <td>YES</td>\n",
       "      <td>FEMALE</td>\n",
       "      <td>18-29</td>\n",
       "      <td>$0 - $24,999</td>\n",
       "      <td>SOME COLLEGE OR ASSOCIATE DEGREE</td>\n",
       "      <td>EAST NORTH CENTRAL</td>\n",
       "    </tr>\n",
       "    <tr>\n",
       "      <td>1184</td>\n",
       "      <td>3288378779</td>\n",
       "      <td>YES</td>\n",
       "      <td>Yes</td>\n",
       "      <td>Star Wars: Episode I  The Phantom Menace</td>\n",
       "      <td>Star Wars: Episode II  Attack of the Clones</td>\n",
       "      <td>Star Wars: Episode III  Revenge of the Sith</td>\n",
       "      <td>Star Wars: Episode IV  A New Hope</td>\n",
       "      <td>Star Wars: Episode V The Empire Strikes Back</td>\n",
       "      <td>Star Wars: Episode VI Return of the Jedi</td>\n",
       "      <td>4</td>\n",
       "      <td>...</td>\n",
       "      <td>VERY FAVORABLY</td>\n",
       "      <td>I DON'T UNDERSTAND THIS QUESTION</td>\n",
       "      <td>NO</td>\n",
       "      <td>NO RESPONSE</td>\n",
       "      <td>YES</td>\n",
       "      <td>FEMALE</td>\n",
       "      <td>30-44</td>\n",
       "      <td>$50,000 - $99,999</td>\n",
       "      <td>BACHELOR DEGREE</td>\n",
       "      <td>MOUNTAIN</td>\n",
       "    </tr>\n",
       "    <tr>\n",
       "      <td>1185</td>\n",
       "      <td>3288375286</td>\n",
       "      <td>NO</td>\n",
       "      <td>NO</td>\n",
       "      <td>NO</td>\n",
       "      <td>NO</td>\n",
       "      <td>NO</td>\n",
       "      <td>NO</td>\n",
       "      <td>NO</td>\n",
       "      <td>NO</td>\n",
       "      <td>NO RATING</td>\n",
       "      <td>...</td>\n",
       "      <td>NO RATING</td>\n",
       "      <td>NO RESPONSE</td>\n",
       "      <td>NO RESPONSE</td>\n",
       "      <td>NO RESPONSE</td>\n",
       "      <td>NO</td>\n",
       "      <td>FEMALE</td>\n",
       "      <td>30-44</td>\n",
       "      <td>$50,000 - $99,999</td>\n",
       "      <td>BACHELOR DEGREE</td>\n",
       "      <td>MIDDLE ATLANTIC</td>\n",
       "    </tr>\n",
       "    <tr>\n",
       "      <td>1186</td>\n",
       "      <td>3288373068</td>\n",
       "      <td>YES</td>\n",
       "      <td>Yes</td>\n",
       "      <td>Star Wars: Episode I  The Phantom Menace</td>\n",
       "      <td>Star Wars: Episode II  Attack of the Clones</td>\n",
       "      <td>Star Wars: Episode III  Revenge of the Sith</td>\n",
       "      <td>Star Wars: Episode IV  A New Hope</td>\n",
       "      <td>Star Wars: Episode V The Empire Strikes Back</td>\n",
       "      <td>Star Wars: Episode VI Return of the Jedi</td>\n",
       "      <td>4</td>\n",
       "      <td>...</td>\n",
       "      <td>VERY FAVORABLY</td>\n",
       "      <td>HAN</td>\n",
       "      <td>NO</td>\n",
       "      <td>NO RESPONSE</td>\n",
       "      <td>YES</td>\n",
       "      <td>FEMALE</td>\n",
       "      <td>45-60</td>\n",
       "      <td>$100,000 - $149,999</td>\n",
       "      <td>SOME COLLEGE OR ASSOCIATE DEGREE</td>\n",
       "      <td>EAST NORTH CENTRAL</td>\n",
       "    </tr>\n",
       "    <tr>\n",
       "      <td>1187</td>\n",
       "      <td>3288372923</td>\n",
       "      <td>YES</td>\n",
       "      <td>No</td>\n",
       "      <td>Star Wars: Episode I  The Phantom Menace</td>\n",
       "      <td>Star Wars: Episode II  Attack of the Clones</td>\n",
       "      <td>NO</td>\n",
       "      <td>NO</td>\n",
       "      <td>Star Wars: Episode V The Empire Strikes Back</td>\n",
       "      <td>Star Wars: Episode VI Return of the Jedi</td>\n",
       "      <td>6</td>\n",
       "      <td>...</td>\n",
       "      <td>VERY UNFAVORABLY</td>\n",
       "      <td>I DON'T UNDERSTAND THIS QUESTION</td>\n",
       "      <td>NO</td>\n",
       "      <td>NO RESPONSE</td>\n",
       "      <td>NO</td>\n",
       "      <td>FEMALE</td>\n",
       "      <td>&gt; 60</td>\n",
       "      <td>$50,000 - $99,999</td>\n",
       "      <td>GRADUATE DEGREE</td>\n",
       "      <td>PACIFIC</td>\n",
       "    </tr>\n",
       "  </tbody>\n",
       "</table>\n",
       "<p>1186 rows × 38 columns</p>\n",
       "</div>"
      ],
      "text/plain": [
       "              ID   Q1   Q2                                 Q3Option1  \\\n",
       "2     3292879998  YES  Yes  Star Wars: Episode I  The Phantom Menace   \n",
       "3     3292879538   NO   NO                                        NO   \n",
       "4     3292765271  YES   No  Star Wars: Episode I  The Phantom Menace   \n",
       "5     3292763116  YES  Yes  Star Wars: Episode I  The Phantom Menace   \n",
       "6     3292731220  YES  Yes  Star Wars: Episode I  The Phantom Menace   \n",
       "...          ...  ...  ...                                       ...   \n",
       "1183  3288388730  YES  Yes  Star Wars: Episode I  The Phantom Menace   \n",
       "1184  3288378779  YES  Yes  Star Wars: Episode I  The Phantom Menace   \n",
       "1185  3288375286   NO   NO                                        NO   \n",
       "1186  3288373068  YES  Yes  Star Wars: Episode I  The Phantom Menace   \n",
       "1187  3288372923  YES   No  Star Wars: Episode I  The Phantom Menace   \n",
       "\n",
       "                                        Q3Option2  \\\n",
       "2     Star Wars: Episode II  Attack of the Clones   \n",
       "3                                              NO   \n",
       "4     Star Wars: Episode II  Attack of the Clones   \n",
       "5     Star Wars: Episode II  Attack of the Clones   \n",
       "6     Star Wars: Episode II  Attack of the Clones   \n",
       "...                                           ...   \n",
       "1183  Star Wars: Episode II  Attack of the Clones   \n",
       "1184  Star Wars: Episode II  Attack of the Clones   \n",
       "1185                                           NO   \n",
       "1186  Star Wars: Episode II  Attack of the Clones   \n",
       "1187  Star Wars: Episode II  Attack of the Clones   \n",
       "\n",
       "                                        Q3Option3  \\\n",
       "2     Star Wars: Episode III  Revenge of the Sith   \n",
       "3                                              NO   \n",
       "4     Star Wars: Episode III  Revenge of the Sith   \n",
       "5     Star Wars: Episode III  Revenge of the Sith   \n",
       "6     Star Wars: Episode III  Revenge of the Sith   \n",
       "...                                           ...   \n",
       "1183  Star Wars: Episode III  Revenge of the Sith   \n",
       "1184  Star Wars: Episode III  Revenge of the Sith   \n",
       "1185                                           NO   \n",
       "1186  Star Wars: Episode III  Revenge of the Sith   \n",
       "1187                                           NO   \n",
       "\n",
       "                              Q3Option4  \\\n",
       "2     Star Wars: Episode IV  A New Hope   \n",
       "3                                    NO   \n",
       "4                                    NO   \n",
       "5     Star Wars: Episode IV  A New Hope   \n",
       "6     Star Wars: Episode IV  A New Hope   \n",
       "...                                 ...   \n",
       "1183  Star Wars: Episode IV  A New Hope   \n",
       "1184  Star Wars: Episode IV  A New Hope   \n",
       "1185                                 NO   \n",
       "1186  Star Wars: Episode IV  A New Hope   \n",
       "1187                                 NO   \n",
       "\n",
       "                                         Q3Option5  \\\n",
       "2     Star Wars: Episode V The Empire Strikes Back   \n",
       "3                                               NO   \n",
       "4                                               NO   \n",
       "5     Star Wars: Episode V The Empire Strikes Back   \n",
       "6     Star Wars: Episode V The Empire Strikes Back   \n",
       "...                                            ...   \n",
       "1183  Star Wars: Episode V The Empire Strikes Back   \n",
       "1184  Star Wars: Episode V The Empire Strikes Back   \n",
       "1185                                            NO   \n",
       "1186  Star Wars: Episode V The Empire Strikes Back   \n",
       "1187  Star Wars: Episode V The Empire Strikes Back   \n",
       "\n",
       "                                     Q3Option6  Q4Option1  ...  \\\n",
       "2     Star Wars: Episode VI Return of the Jedi          3  ...   \n",
       "3                                           NO  NO RATING  ...   \n",
       "4                                           NO          1  ...   \n",
       "5     Star Wars: Episode VI Return of the Jedi          5  ...   \n",
       "6     Star Wars: Episode VI Return of the Jedi          5  ...   \n",
       "...                                        ...        ...  ...   \n",
       "1183  Star Wars: Episode VI Return of the Jedi          5  ...   \n",
       "1184  Star Wars: Episode VI Return of the Jedi          4  ...   \n",
       "1185                                        NO  NO RATING  ...   \n",
       "1186  Star Wars: Episode VI Return of the Jedi          4  ...   \n",
       "1187  Star Wars: Episode VI Return of the Jedi          6  ...   \n",
       "\n",
       "              Q5Option14                                Q6           Q7  \\\n",
       "2         VERY FAVORABLY  I DON'T UNDERSTAND THIS QUESTION          YES   \n",
       "3              NO RATING                       NO RESPONSE  NO RESPONSE   \n",
       "4       UNFAMILIAR (N/A)  I DON'T UNDERSTAND THIS QUESTION           NO   \n",
       "5         VERY FAVORABLY  I DON'T UNDERSTAND THIS QUESTION           NO   \n",
       "6     SOMEWHAT FAVORABLY                            GREEDO          YES   \n",
       "...                  ...                               ...          ...   \n",
       "1183      VERY FAVORABLY                               HAN           NO   \n",
       "1184      VERY FAVORABLY  I DON'T UNDERSTAND THIS QUESTION           NO   \n",
       "1185           NO RATING                       NO RESPONSE  NO RESPONSE   \n",
       "1186      VERY FAVORABLY                               HAN           NO   \n",
       "1187    VERY UNFAVORABLY  I DON'T UNDERSTAND THIS QUESTION           NO   \n",
       "\n",
       "               Q8   Q9     Q10    Q11                  Q12  \\\n",
       "2              NO   NO    MALE  18-29    $50,000 - $99,999   \n",
       "3     NO RESPONSE  YES    MALE  18-29         $0 - $24,999   \n",
       "4     NO RESPONSE   NO    MALE  18-29         $0 - $24,999   \n",
       "5     NO RESPONSE  YES    MALE  18-29  $100,000 - $149,999   \n",
       "6              NO   NO    MALE  18-29  $100,000 - $149,999   \n",
       "...           ...  ...     ...    ...                  ...   \n",
       "1183  NO RESPONSE  YES  FEMALE  18-29         $0 - $24,999   \n",
       "1184  NO RESPONSE  YES  FEMALE  30-44    $50,000 - $99,999   \n",
       "1185  NO RESPONSE   NO  FEMALE  30-44    $50,000 - $99,999   \n",
       "1186  NO RESPONSE  YES  FEMALE  45-60  $100,000 - $149,999   \n",
       "1187  NO RESPONSE   NO  FEMALE   > 60    $50,000 - $99,999   \n",
       "\n",
       "                                   Q13                 Q14  \n",
       "2                   HIGH SCHOOL DEGREE      SOUTH ATLANTIC  \n",
       "3                      BACHELOR DEGREE  WEST SOUTH CENTRAL  \n",
       "4                   HIGH SCHOOL DEGREE  WEST NORTH CENTRAL  \n",
       "5     SOME COLLEGE OR ASSOCIATE DEGREE  WEST NORTH CENTRAL  \n",
       "6     SOME COLLEGE OR ASSOCIATE DEGREE  WEST NORTH CENTRAL  \n",
       "...                                ...                 ...  \n",
       "1183  SOME COLLEGE OR ASSOCIATE DEGREE  EAST NORTH CENTRAL  \n",
       "1184                   BACHELOR DEGREE            MOUNTAIN  \n",
       "1185                   BACHELOR DEGREE     MIDDLE ATLANTIC  \n",
       "1186  SOME COLLEGE OR ASSOCIATE DEGREE  EAST NORTH CENTRAL  \n",
       "1187                   GRADUATE DEGREE             PACIFIC  \n",
       "\n",
       "[1186 rows x 38 columns]"
      ]
     },
     "execution_count": 214,
     "metadata": {},
     "output_type": "execute_result"
    }
   ],
   "source": [
    "fakestar"
   ]
  },
  {
   "cell_type": "code",
   "execution_count": 215,
   "metadata": {},
   "outputs": [],
   "source": [
    "import matplotlib.pyplot as plt"
   ]
  },
  {
   "cell_type": "code",
   "execution_count": 216,
   "metadata": {},
   "outputs": [
    {
     "data": {
      "text/plain": [
       "$50,000 - $99,999      626\n",
       "$25,000 - $49,999      186\n",
       "$100,000 - $149,999    141\n",
       "$0 - $24,999           138\n",
       "$150,000+               95\n",
       "Name: Q12, dtype: int64"
      ]
     },
     "execution_count": 216,
     "metadata": {},
     "output_type": "execute_result"
    }
   ],
   "source": [
    "fakestar['Q12'].value_counts()"
   ]
  },
  {
   "cell_type": "code",
   "execution_count": 217,
   "metadata": {},
   "outputs": [],
   "source": [
    "v1=lambda x:float(x[1:-1])"
   ]
  },
  {
   "cell_type": "code",
   "execution_count": 219,
   "metadata": {},
   "outputs": [
    {
     "data": {
      "text/plain": [
       "<matplotlib.collections.PathCollection at 0x1bfc2159608>"
      ]
     },
     "execution_count": 219,
     "metadata": {},
     "output_type": "execute_result"
    }
   ],
   "source": [
    "ax.scatter(fakestar['Q12'], fakestar['Q2'])"
   ]
  },
  {
   "cell_type": "code",
   "execution_count": 221,
   "metadata": {},
   "outputs": [
    {
     "data": {
      "text/plain": [
       "NO RATING    351\n",
       "4            237\n",
       "6            168\n",
       "3            130\n",
       "1            129\n",
       "5            100\n",
       "2             71\n",
       "Name: Q4Option1, dtype: int64"
      ]
     },
     "execution_count": 221,
     "metadata": {},
     "output_type": "execute_result"
    }
   ],
   "source": [
    "fakestar['Q4Option1'].value_counts()"
   ]
  },
  {
   "cell_type": "code",
   "execution_count": 222,
   "metadata": {},
   "outputs": [],
   "source": [
    "Dist_41=pd.DataFrame({'Rating':['1','2','3','4','5','6'],'val':[129,71,130,237,100,168]})"
   ]
  },
  {
   "cell_type": "code",
   "execution_count": 223,
   "metadata": {},
   "outputs": [
    {
     "data": {
      "image/png": "[encoded data removed]",
      "text/plain": [
       "<Figure size 432x288 with 1 Axes>"
      ]
     },
     "metadata": {
      "needs_background": "light"
     },
     "output_type": "display_data"
    }
   ],
   "source": [
    "ax = Dist_41.plot.bar(x='Rating', y='val', rot=0)"
   ]
  },
  {
   "cell_type": "code",
   "execution_count": 224,
   "metadata": {},
   "outputs": [],
   "source": [
    "fakestar2=fakestar.copy()"
   ]
  },
  {
   "cell_type": "code",
   "execution_count": 225,
   "metadata": {},
   "outputs": [
    {
     "data": {
      "text/html": [
       "<div>\n",
       "<style scoped>\n",
       "    .dataframe tbody tr th:only-of-type {\n",
       "        vertical-align: middle;\n",
       "    }\n",
       "\n",
       "    .dataframe tbody tr th {\n",
       "        vertical-align: top;\n",
       "    }\n",
       "\n",
       "    .dataframe thead th {\n",
       "        text-align: right;\n",
       "    }\n",
       "</style>\n",
       "<table border=\"1\" class=\"dataframe\">\n",
       "  <thead>\n",
       "    <tr style=\"text-align: right;\">\n",
       "      <th></th>\n",
       "      <th>ID</th>\n",
       "      <th>Q1</th>\n",
       "      <th>Q2</th>\n",
       "      <th>Q3Option1</th>\n",
       "      <th>Q3Option2</th>\n",
       "      <th>Q3Option3</th>\n",
       "      <th>Q3Option4</th>\n",
       "      <th>Q3Option5</th>\n",
       "      <th>Q3Option6</th>\n",
       "      <th>Q4Option1</th>\n",
       "      <th>...</th>\n",
       "      <th>Q5Option14</th>\n",
       "      <th>Q6</th>\n",
       "      <th>Q7</th>\n",
       "      <th>Q8</th>\n",
       "      <th>Q9</th>\n",
       "      <th>Q10</th>\n",
       "      <th>Q11</th>\n",
       "      <th>Q12</th>\n",
       "      <th>Q13</th>\n",
       "      <th>Q14</th>\n",
       "    </tr>\n",
       "  </thead>\n",
       "  <tbody>\n",
       "    <tr>\n",
       "      <td>2</td>\n",
       "      <td>3292879998</td>\n",
       "      <td>YES</td>\n",
       "      <td>Yes</td>\n",
       "      <td>Star Wars: Episode I  The Phantom Menace</td>\n",
       "      <td>Star Wars: Episode II  Attack of the Clones</td>\n",
       "      <td>Star Wars: Episode III  Revenge of the Sith</td>\n",
       "      <td>Star Wars: Episode IV  A New Hope</td>\n",
       "      <td>Star Wars: Episode V The Empire Strikes Back</td>\n",
       "      <td>Star Wars: Episode VI Return of the Jedi</td>\n",
       "      <td>3</td>\n",
       "      <td>...</td>\n",
       "      <td>VERY FAVORABLY</td>\n",
       "      <td>I DON'T UNDERSTAND THIS QUESTION</td>\n",
       "      <td>YES</td>\n",
       "      <td>NO</td>\n",
       "      <td>NO</td>\n",
       "      <td>MALE</td>\n",
       "      <td>18-29</td>\n",
       "      <td>$50,000 - $99,999</td>\n",
       "      <td>HIGH SCHOOL DEGREE</td>\n",
       "      <td>SOUTH ATLANTIC</td>\n",
       "    </tr>\n",
       "    <tr>\n",
       "      <td>3</td>\n",
       "      <td>3292879538</td>\n",
       "      <td>NO</td>\n",
       "      <td>NO</td>\n",
       "      <td>NO</td>\n",
       "      <td>NO</td>\n",
       "      <td>NO</td>\n",
       "      <td>NO</td>\n",
       "      <td>NO</td>\n",
       "      <td>NO</td>\n",
       "      <td>NO RATING</td>\n",
       "      <td>...</td>\n",
       "      <td>NO RATING</td>\n",
       "      <td>NO RESPONSE</td>\n",
       "      <td>NO RESPONSE</td>\n",
       "      <td>NO RESPONSE</td>\n",
       "      <td>YES</td>\n",
       "      <td>MALE</td>\n",
       "      <td>18-29</td>\n",
       "      <td>$0 - $24,999</td>\n",
       "      <td>BACHELOR DEGREE</td>\n",
       "      <td>WEST SOUTH CENTRAL</td>\n",
       "    </tr>\n",
       "    <tr>\n",
       "      <td>4</td>\n",
       "      <td>3292765271</td>\n",
       "      <td>YES</td>\n",
       "      <td>No</td>\n",
       "      <td>Star Wars: Episode I  The Phantom Menace</td>\n",
       "      <td>Star Wars: Episode II  Attack of the Clones</td>\n",
       "      <td>Star Wars: Episode III  Revenge of the Sith</td>\n",
       "      <td>NO</td>\n",
       "      <td>NO</td>\n",
       "      <td>NO</td>\n",
       "      <td>1</td>\n",
       "      <td>...</td>\n",
       "      <td>UNFAMILIAR (N/A)</td>\n",
       "      <td>I DON'T UNDERSTAND THIS QUESTION</td>\n",
       "      <td>NO</td>\n",
       "      <td>NO RESPONSE</td>\n",
       "      <td>NO</td>\n",
       "      <td>MALE</td>\n",
       "      <td>18-29</td>\n",
       "      <td>$0 - $24,999</td>\n",
       "      <td>HIGH SCHOOL DEGREE</td>\n",
       "      <td>WEST NORTH CENTRAL</td>\n",
       "    </tr>\n",
       "    <tr>\n",
       "      <td>5</td>\n",
       "      <td>3292763116</td>\n",
       "      <td>YES</td>\n",
       "      <td>Yes</td>\n",
       "      <td>Star Wars: Episode I  The Phantom Menace</td>\n",
       "      <td>Star Wars: Episode II  Attack of the Clones</td>\n",
       "      <td>Star Wars: Episode III  Revenge of the Sith</td>\n",
       "      <td>Star Wars: Episode IV  A New Hope</td>\n",
       "      <td>Star Wars: Episode V The Empire Strikes Back</td>\n",
       "      <td>Star Wars: Episode VI Return of the Jedi</td>\n",
       "      <td>5</td>\n",
       "      <td>...</td>\n",
       "      <td>VERY FAVORABLY</td>\n",
       "      <td>I DON'T UNDERSTAND THIS QUESTION</td>\n",
       "      <td>NO</td>\n",
       "      <td>NO RESPONSE</td>\n",
       "      <td>YES</td>\n",
       "      <td>MALE</td>\n",
       "      <td>18-29</td>\n",
       "      <td>$100,000 - $149,999</td>\n",
       "      <td>SOME COLLEGE OR ASSOCIATE DEGREE</td>\n",
       "      <td>WEST NORTH CENTRAL</td>\n",
       "    </tr>\n",
       "    <tr>\n",
       "      <td>6</td>\n",
       "      <td>3292731220</td>\n",
       "      <td>YES</td>\n",
       "      <td>Yes</td>\n",
       "      <td>Star Wars: Episode I  The Phantom Menace</td>\n",
       "      <td>Star Wars: Episode II  Attack of the Clones</td>\n",
       "      <td>Star Wars: Episode III  Revenge of the Sith</td>\n",
       "      <td>Star Wars: Episode IV  A New Hope</td>\n",
       "      <td>Star Wars: Episode V The Empire Strikes Back</td>\n",
       "      <td>Star Wars: Episode VI Return of the Jedi</td>\n",
       "      <td>5</td>\n",
       "      <td>...</td>\n",
       "      <td>SOMEWHAT FAVORABLY</td>\n",
       "      <td>GREEDO</td>\n",
       "      <td>YES</td>\n",
       "      <td>NO</td>\n",
       "      <td>NO</td>\n",
       "      <td>MALE</td>\n",
       "      <td>18-29</td>\n",
       "      <td>$100,000 - $149,999</td>\n",
       "      <td>SOME COLLEGE OR ASSOCIATE DEGREE</td>\n",
       "      <td>WEST NORTH CENTRAL</td>\n",
       "    </tr>\n",
       "    <tr>\n",
       "      <td>...</td>\n",
       "      <td>...</td>\n",
       "      <td>...</td>\n",
       "      <td>...</td>\n",
       "      <td>...</td>\n",
       "      <td>...</td>\n",
       "      <td>...</td>\n",
       "      <td>...</td>\n",
       "      <td>...</td>\n",
       "      <td>...</td>\n",
       "      <td>...</td>\n",
       "      <td>...</td>\n",
       "      <td>...</td>\n",
       "      <td>...</td>\n",
       "      <td>...</td>\n",
       "      <td>...</td>\n",
       "      <td>...</td>\n",
       "      <td>...</td>\n",
       "      <td>...</td>\n",
       "      <td>...</td>\n",
       "      <td>...</td>\n",
       "      <td>...</td>\n",
       "    </tr>\n",
       "    <tr>\n",
       "      <td>1183</td>\n",
       "      <td>3288388730</td>\n",
       "      <td>YES</td>\n",
       "      <td>Yes</td>\n",
       "      <td>Star Wars: Episode I  The Phantom Menace</td>\n",
       "      <td>Star Wars: Episode II  Attack of the Clones</td>\n",
       "      <td>Star Wars: Episode III  Revenge of the Sith</td>\n",
       "      <td>Star Wars: Episode IV  A New Hope</td>\n",
       "      <td>Star Wars: Episode V The Empire Strikes Back</td>\n",
       "      <td>Star Wars: Episode VI Return of the Jedi</td>\n",
       "      <td>5</td>\n",
       "      <td>...</td>\n",
       "      <td>VERY FAVORABLY</td>\n",
       "      <td>HAN</td>\n",
       "      <td>NO</td>\n",
       "      <td>NO RESPONSE</td>\n",
       "      <td>YES</td>\n",
       "      <td>FEMALE</td>\n",
       "      <td>18-29</td>\n",
       "      <td>$0 - $24,999</td>\n",
       "      <td>SOME COLLEGE OR ASSOCIATE DEGREE</td>\n",
       "      <td>EAST NORTH CENTRAL</td>\n",
       "    </tr>\n",
       "    <tr>\n",
       "      <td>1184</td>\n",
       "      <td>3288378779</td>\n",
       "      <td>YES</td>\n",
       "      <td>Yes</td>\n",
       "      <td>Star Wars: Episode I  The Phantom Menace</td>\n",
       "      <td>Star Wars: Episode II  Attack of the Clones</td>\n",
       "      <td>Star Wars: Episode III  Revenge of the Sith</td>\n",
       "      <td>Star Wars: Episode IV  A New Hope</td>\n",
       "      <td>Star Wars: Episode V The Empire Strikes Back</td>\n",
       "      <td>Star Wars: Episode VI Return of the Jedi</td>\n",
       "      <td>4</td>\n",
       "      <td>...</td>\n",
       "      <td>VERY FAVORABLY</td>\n",
       "      <td>I DON'T UNDERSTAND THIS QUESTION</td>\n",
       "      <td>NO</td>\n",
       "      <td>NO RESPONSE</td>\n",
       "      <td>YES</td>\n",
       "      <td>FEMALE</td>\n",
       "      <td>30-44</td>\n",
       "      <td>$50,000 - $99,999</td>\n",
       "      <td>BACHELOR DEGREE</td>\n",
       "      <td>MOUNTAIN</td>\n",
       "    </tr>\n",
       "    <tr>\n",
       "      <td>1185</td>\n",
       "      <td>3288375286</td>\n",
       "      <td>NO</td>\n",
       "      <td>NO</td>\n",
       "      <td>NO</td>\n",
       "      <td>NO</td>\n",
       "      <td>NO</td>\n",
       "      <td>NO</td>\n",
       "      <td>NO</td>\n",
       "      <td>NO</td>\n",
       "      <td>NO RATING</td>\n",
       "      <td>...</td>\n",
       "      <td>NO RATING</td>\n",
       "      <td>NO RESPONSE</td>\n",
       "      <td>NO RESPONSE</td>\n",
       "      <td>NO RESPONSE</td>\n",
       "      <td>NO</td>\n",
       "      <td>FEMALE</td>\n",
       "      <td>30-44</td>\n",
       "      <td>$50,000 - $99,999</td>\n",
       "      <td>BACHELOR DEGREE</td>\n",
       "      <td>MIDDLE ATLANTIC</td>\n",
       "    </tr>\n",
       "    <tr>\n",
       "      <td>1186</td>\n",
       "      <td>3288373068</td>\n",
       "      <td>YES</td>\n",
       "      <td>Yes</td>\n",
       "      <td>Star Wars: Episode I  The Phantom Menace</td>\n",
       "      <td>Star Wars: Episode II  Attack of the Clones</td>\n",
       "      <td>Star Wars: Episode III  Revenge of the Sith</td>\n",
       "      <td>Star Wars: Episode IV  A New Hope</td>\n",
       "      <td>Star Wars: Episode V The Empire Strikes Back</td>\n",
       "      <td>Star Wars: Episode VI Return of the Jedi</td>\n",
       "      <td>4</td>\n",
       "      <td>...</td>\n",
       "      <td>VERY FAVORABLY</td>\n",
       "      <td>HAN</td>\n",
       "      <td>NO</td>\n",
       "      <td>NO RESPONSE</td>\n",
       "      <td>YES</td>\n",
       "      <td>FEMALE</td>\n",
       "      <td>45-60</td>\n",
       "      <td>$100,000 - $149,999</td>\n",
       "      <td>SOME COLLEGE OR ASSOCIATE DEGREE</td>\n",
       "      <td>EAST NORTH CENTRAL</td>\n",
       "    </tr>\n",
       "    <tr>\n",
       "      <td>1187</td>\n",
       "      <td>3288372923</td>\n",
       "      <td>YES</td>\n",
       "      <td>No</td>\n",
       "      <td>Star Wars: Episode I  The Phantom Menace</td>\n",
       "      <td>Star Wars: Episode II  Attack of the Clones</td>\n",
       "      <td>NO</td>\n",
       "      <td>NO</td>\n",
       "      <td>Star Wars: Episode V The Empire Strikes Back</td>\n",
       "      <td>Star Wars: Episode VI Return of the Jedi</td>\n",
       "      <td>6</td>\n",
       "      <td>...</td>\n",
       "      <td>VERY UNFAVORABLY</td>\n",
       "      <td>I DON'T UNDERSTAND THIS QUESTION</td>\n",
       "      <td>NO</td>\n",
       "      <td>NO RESPONSE</td>\n",
       "      <td>NO</td>\n",
       "      <td>FEMALE</td>\n",
       "      <td>&gt; 60</td>\n",
       "      <td>$50,000 - $99,999</td>\n",
       "      <td>GRADUATE DEGREE</td>\n",
       "      <td>PACIFIC</td>\n",
       "    </tr>\n",
       "  </tbody>\n",
       "</table>\n",
       "<p>1186 rows × 38 columns</p>\n",
       "</div>"
      ],
      "text/plain": [
       "              ID   Q1   Q2                                 Q3Option1  \\\n",
       "2     3292879998  YES  Yes  Star Wars: Episode I  The Phantom Menace   \n",
       "3     3292879538   NO   NO                                        NO   \n",
       "4     3292765271  YES   No  Star Wars: Episode I  The Phantom Menace   \n",
       "5     3292763116  YES  Yes  Star Wars: Episode I  The Phantom Menace   \n",
       "6     3292731220  YES  Yes  Star Wars: Episode I  The Phantom Menace   \n",
       "...          ...  ...  ...                                       ...   \n",
       "1183  3288388730  YES  Yes  Star Wars: Episode I  The Phantom Menace   \n",
       "1184  3288378779  YES  Yes  Star Wars: Episode I  The Phantom Menace   \n",
       "1185  3288375286   NO   NO                                        NO   \n",
       "1186  3288373068  YES  Yes  Star Wars: Episode I  The Phantom Menace   \n",
       "1187  3288372923  YES   No  Star Wars: Episode I  The Phantom Menace   \n",
       "\n",
       "                                        Q3Option2  \\\n",
       "2     Star Wars: Episode II  Attack of the Clones   \n",
       "3                                              NO   \n",
       "4     Star Wars: Episode II  Attack of the Clones   \n",
       "5     Star Wars: Episode II  Attack of the Clones   \n",
       "6     Star Wars: Episode II  Attack of the Clones   \n",
       "...                                           ...   \n",
       "1183  Star Wars: Episode II  Attack of the Clones   \n",
       "1184  Star Wars: Episode II  Attack of the Clones   \n",
       "1185                                           NO   \n",
       "1186  Star Wars: Episode II  Attack of the Clones   \n",
       "1187  Star Wars: Episode II  Attack of the Clones   \n",
       "\n",
       "                                        Q3Option3  \\\n",
       "2     Star Wars: Episode III  Revenge of the Sith   \n",
       "3                                              NO   \n",
       "4     Star Wars: Episode III  Revenge of the Sith   \n",
       "5     Star Wars: Episode III  Revenge of the Sith   \n",
       "6     Star Wars: Episode III  Revenge of the Sith   \n",
       "...                                           ...   \n",
       "1183  Star Wars: Episode III  Revenge of the Sith   \n",
       "1184  Star Wars: Episode III  Revenge of the Sith   \n",
       "1185                                           NO   \n",
       "1186  Star Wars: Episode III  Revenge of the Sith   \n",
       "1187                                           NO   \n",
       "\n",
       "                              Q3Option4  \\\n",
       "2     Star Wars: Episode IV  A New Hope   \n",
       "3                                    NO   \n",
       "4                                    NO   \n",
       "5     Star Wars: Episode IV  A New Hope   \n",
       "6     Star Wars: Episode IV  A New Hope   \n",
       "...                                 ...   \n",
       "1183  Star Wars: Episode IV  A New Hope   \n",
       "1184  Star Wars: Episode IV  A New Hope   \n",
       "1185                                 NO   \n",
       "1186  Star Wars: Episode IV  A New Hope   \n",
       "1187                                 NO   \n",
       "\n",
       "                                         Q3Option5  \\\n",
       "2     Star Wars: Episode V The Empire Strikes Back   \n",
       "3                                               NO   \n",
       "4                                               NO   \n",
       "5     Star Wars: Episode V The Empire Strikes Back   \n",
       "6     Star Wars: Episode V The Empire Strikes Back   \n",
       "...                                            ...   \n",
       "1183  Star Wars: Episode V The Empire Strikes Back   \n",
       "1184  Star Wars: Episode V The Empire Strikes Back   \n",
       "1185                                            NO   \n",
       "1186  Star Wars: Episode V The Empire Strikes Back   \n",
       "1187  Star Wars: Episode V The Empire Strikes Back   \n",
       "\n",
       "                                     Q3Option6  Q4Option1  ...  \\\n",
       "2     Star Wars: Episode VI Return of the Jedi          3  ...   \n",
       "3                                           NO  NO RATING  ...   \n",
       "4                                           NO          1  ...   \n",
       "5     Star Wars: Episode VI Return of the Jedi          5  ...   \n",
       "6     Star Wars: Episode VI Return of the Jedi          5  ...   \n",
       "...                                        ...        ...  ...   \n",
       "1183  Star Wars: Episode VI Return of the Jedi          5  ...   \n",
       "1184  Star Wars: Episode VI Return of the Jedi          4  ...   \n",
       "1185                                        NO  NO RATING  ...   \n",
       "1186  Star Wars: Episode VI Return of the Jedi          4  ...   \n",
       "1187  Star Wars: Episode VI Return of the Jedi          6  ...   \n",
       "\n",
       "              Q5Option14                                Q6           Q7  \\\n",
       "2         VERY FAVORABLY  I DON'T UNDERSTAND THIS QUESTION          YES   \n",
       "3              NO RATING                       NO RESPONSE  NO RESPONSE   \n",
       "4       UNFAMILIAR (N/A)  I DON'T UNDERSTAND THIS QUESTION           NO   \n",
       "5         VERY FAVORABLY  I DON'T UNDERSTAND THIS QUESTION           NO   \n",
       "6     SOMEWHAT FAVORABLY                            GREEDO          YES   \n",
       "...                  ...                               ...          ...   \n",
       "1183      VERY FAVORABLY                               HAN           NO   \n",
       "1184      VERY FAVORABLY  I DON'T UNDERSTAND THIS QUESTION           NO   \n",
       "1185           NO RATING                       NO RESPONSE  NO RESPONSE   \n",
       "1186      VERY FAVORABLY                               HAN           NO   \n",
       "1187    VERY UNFAVORABLY  I DON'T UNDERSTAND THIS QUESTION           NO   \n",
       "\n",
       "               Q8   Q9     Q10    Q11                  Q12  \\\n",
       "2              NO   NO    MALE  18-29    $50,000 - $99,999   \n",
       "3     NO RESPONSE  YES    MALE  18-29         $0 - $24,999   \n",
       "4     NO RESPONSE   NO    MALE  18-29         $0 - $24,999   \n",
       "5     NO RESPONSE  YES    MALE  18-29  $100,000 - $149,999   \n",
       "6              NO   NO    MALE  18-29  $100,000 - $149,999   \n",
       "...           ...  ...     ...    ...                  ...   \n",
       "1183  NO RESPONSE  YES  FEMALE  18-29         $0 - $24,999   \n",
       "1184  NO RESPONSE  YES  FEMALE  30-44    $50,000 - $99,999   \n",
       "1185  NO RESPONSE   NO  FEMALE  30-44    $50,000 - $99,999   \n",
       "1186  NO RESPONSE  YES  FEMALE  45-60  $100,000 - $149,999   \n",
       "1187  NO RESPONSE   NO  FEMALE   > 60    $50,000 - $99,999   \n",
       "\n",
       "                                   Q13                 Q14  \n",
       "2                   HIGH SCHOOL DEGREE      SOUTH ATLANTIC  \n",
       "3                      BACHELOR DEGREE  WEST SOUTH CENTRAL  \n",
       "4                   HIGH SCHOOL DEGREE  WEST NORTH CENTRAL  \n",
       "5     SOME COLLEGE OR ASSOCIATE DEGREE  WEST NORTH CENTRAL  \n",
       "6     SOME COLLEGE OR ASSOCIATE DEGREE  WEST NORTH CENTRAL  \n",
       "...                                ...                 ...  \n",
       "1183  SOME COLLEGE OR ASSOCIATE DEGREE  EAST NORTH CENTRAL  \n",
       "1184                   BACHELOR DEGREE            MOUNTAIN  \n",
       "1185                   BACHELOR DEGREE     MIDDLE ATLANTIC  \n",
       "1186  SOME COLLEGE OR ASSOCIATE DEGREE  EAST NORTH CENTRAL  \n",
       "1187                   GRADUATE DEGREE             PACIFIC  \n",
       "\n",
       "[1186 rows x 38 columns]"
      ]
     },
     "execution_count": 225,
     "metadata": {},
     "output_type": "execute_result"
    }
   ],
   "source": [
    "fakestar2"
   ]
  },
  {
   "cell_type": "code",
   "execution_count": 226,
   "metadata": {},
   "outputs": [
    {
     "data": {
      "text/plain": [
       "ID            object\n",
       "Q1            object\n",
       "Q2            object\n",
       "Q3Option1     object\n",
       "Q3Option2     object\n",
       "Q3Option3     object\n",
       "Q3Option4     object\n",
       "Q3Option5     object\n",
       "Q3Option6     object\n",
       "Q4Option1     object\n",
       "Q4Option2     object\n",
       "Q4Option3     object\n",
       "Q4Option4     object\n",
       "Q4Option5     object\n",
       "Q4Option6     object\n",
       "Q5Option1     object\n",
       "Q5Option2     object\n",
       "Q5Option3     object\n",
       "Q5Option4     object\n",
       "Q5Option5     object\n",
       "Q5Option6     object\n",
       "Q5Option7     object\n",
       "Q5Option8     object\n",
       "Q5Option9     object\n",
       "Q5Option10    object\n",
       "Q5Option11    object\n",
       "Q5Option12    object\n",
       "Q5Option13    object\n",
       "Q5Option14    object\n",
       "Q6            object\n",
       "Q7            object\n",
       "Q8            object\n",
       "Q9            object\n",
       "Q10           object\n",
       "Q11           object\n",
       "Q12           object\n",
       "Q13           object\n",
       "Q14           object\n",
       "dtype: object"
      ]
     },
     "execution_count": 226,
     "metadata": {},
     "output_type": "execute_result"
    }
   ],
   "source": [
    "fakestar2.dtypes"
   ]
  },
  {
   "cell_type": "code",
   "execution_count": 227,
   "metadata": {},
   "outputs": [
    {
     "data": {
      "text/plain": [
       "45-60          292\n",
       "> 60           269\n",
       "30-44          268\n",
       "18-29          217\n",
       "NO RESPONSE    140\n",
       "Name: Q11, dtype: int64"
      ]
     },
     "execution_count": 227,
     "metadata": {},
     "output_type": "execute_result"
    }
   ],
   "source": [
    "fakestar2['Q11'].value_counts(dropna=False)"
   ]
  },
  {
   "cell_type": "code",
   "execution_count": 228,
   "metadata": {},
   "outputs": [],
   "source": [
    "fakestar2['Q11'].replace('18', '18-29', inplace=True)"
   ]
  },
  {
   "cell_type": "code",
   "execution_count": 229,
   "metadata": {},
   "outputs": [
    {
     "data": {
      "text/plain": [
       "45-60          292\n",
       "> 60           269\n",
       "30-44          268\n",
       "18-29          217\n",
       "NO RESPONSE    140\n",
       "Name: Q11, dtype: int64"
      ]
     },
     "execution_count": 229,
     "metadata": {},
     "output_type": "execute_result"
    }
   ],
   "source": [
    "fakestar2['Q11'].value_counts(dropna=False)"
   ]
  },
  {
   "cell_type": "code",
   "execution_count": 230,
   "metadata": {},
   "outputs": [
    {
     "data": {
      "text/plain": [
       "NO RATING    351\n",
       "4            237\n",
       "6            168\n",
       "3            130\n",
       "1            129\n",
       "5            100\n",
       "2             71\n",
       "Name: Q4Option1, dtype: int64"
      ]
     },
     "execution_count": 230,
     "metadata": {},
     "output_type": "execute_result"
    }
   ],
   "source": [
    "fakestar2['Q4Option1'].value_counts(dropna=False)"
   ]
  },
  {
   "cell_type": "code",
   "execution_count": 240,
   "metadata": {},
   "outputs": [],
   "source": [
    "fakestar2['Q4Option1'].replace('NO RATING', '0', inplace=True)"
   ]
  },
  {
   "cell_type": "code",
   "execution_count": 241,
   "metadata": {},
   "outputs": [
    {
     "data": {
      "text/plain": [
       "0    351\n",
       "4    237\n",
       "6    168\n",
       "3    130\n",
       "1    129\n",
       "5    100\n",
       "2     71\n",
       "Name: Q4Option1, dtype: int64"
      ]
     },
     "execution_count": 241,
     "metadata": {},
     "output_type": "execute_result"
    }
   ],
   "source": [
    "fakestar2['Q4Option1'].value_counts(dropna=False)"
   ]
  },
  {
   "cell_type": "code",
   "execution_count": 242,
   "metadata": {},
   "outputs": [],
   "source": [
    "fakestar2['Q4Option1']=fakestar2.Q4Option1.astype(int)"
   ]
  },
  {
   "cell_type": "code",
   "execution_count": 243,
   "metadata": {},
   "outputs": [
    {
     "data": {
      "text/plain": [
       "NO RATING    350\n",
       "5            300\n",
       "4            183\n",
       "2            116\n",
       "3            103\n",
       "6            102\n",
       "1             32\n",
       "Name: Q4Option2, dtype: int64"
      ]
     },
     "execution_count": 243,
     "metadata": {},
     "output_type": "execute_result"
    }
   ],
   "source": [
    "fakestar2['Q4Option2'].value_counts(dropna=False)"
   ]
  },
  {
   "cell_type": "code",
   "execution_count": 247,
   "metadata": {},
   "outputs": [],
   "source": [
    "fakestar2['Q4Option2'].replace('NO RATING', '0', inplace=True)"
   ]
  },
  {
   "cell_type": "code",
   "execution_count": 248,
   "metadata": {},
   "outputs": [
    {
     "data": {
      "text/plain": [
       "0    350\n",
       "5    300\n",
       "4    183\n",
       "2    116\n",
       "3    103\n",
       "6    102\n",
       "1     32\n",
       "Name: Q4Option2, dtype: int64"
      ]
     },
     "execution_count": 248,
     "metadata": {},
     "output_type": "execute_result"
    }
   ],
   "source": [
    "fakestar2['Q4Option2'].value_counts(dropna=False)"
   ]
  },
  {
   "cell_type": "code",
   "execution_count": 249,
   "metadata": {},
   "outputs": [
    {
     "data": {
      "text/plain": [
       "ID            object\n",
       "Q1            object\n",
       "Q2            object\n",
       "Q3Option1     object\n",
       "Q3Option2     object\n",
       "Q3Option3     object\n",
       "Q3Option4     object\n",
       "Q3Option5     object\n",
       "Q3Option6     object\n",
       "Q4Option1      int32\n",
       "Q4Option2     object\n",
       "Q4Option3     object\n",
       "Q4Option4     object\n",
       "Q4Option5     object\n",
       "Q4Option6     object\n",
       "Q5Option1     object\n",
       "Q5Option2     object\n",
       "Q5Option3     object\n",
       "Q5Option4     object\n",
       "Q5Option5     object\n",
       "Q5Option6     object\n",
       "Q5Option7     object\n",
       "Q5Option8     object\n",
       "Q5Option9     object\n",
       "Q5Option10    object\n",
       "Q5Option11    object\n",
       "Q5Option12    object\n",
       "Q5Option13    object\n",
       "Q5Option14    object\n",
       "Q6            object\n",
       "Q7            object\n",
       "Q8            object\n",
       "Q9            object\n",
       "Q10           object\n",
       "Q11           object\n",
       "Q12           object\n",
       "Q13           object\n",
       "Q14           object\n",
       "dtype: object"
      ]
     },
     "execution_count": 249,
     "metadata": {},
     "output_type": "execute_result"
    }
   ],
   "source": [
    "fakestar2.dtypes"
   ]
  },
  {
   "cell_type": "code",
   "execution_count": 250,
   "metadata": {},
   "outputs": [],
   "source": [
    "fakestar2['Q4Option2']=fakestar2.Q4Option2.astype(int)"
   ]
  },
  {
   "cell_type": "code",
   "execution_count": 251,
   "metadata": {},
   "outputs": [
    {
     "data": {
      "text/plain": [
       "<matplotlib.axes._subplots.AxesSubplot at 0x1bfc23204c8>"
      ]
     },
     "execution_count": 251,
     "metadata": {},
     "output_type": "execute_result"
    },
    {
     "data": {
      "image/png": "[encoded data removed]",
      "text/plain": [
       "<Figure size 432x288 with 1 Axes>"
      ]
     },
     "metadata": {
      "needs_background": "light"
     },
     "output_type": "display_data"
    }
   ],
   "source": [
    "fakestar2.plot.scatter(x='Q4Option1',y='Q4Option2')\n"
   ]
  },
  {
   "cell_type": "code",
   "execution_count": 252,
   "metadata": {},
   "outputs": [
    {
     "data": {
      "text/plain": [
       "NO RESPONSE    351\n",
       "6              217\n",
       "5              203\n",
       "4              182\n",
       "3              150\n",
       "2               47\n",
       "1               36\n",
       "Name: Q4Option3, dtype: int64"
      ]
     },
     "execution_count": 252,
     "metadata": {},
     "output_type": "execute_result"
    }
   ],
   "source": [
    "fakestar2['Q4Option3'].value_counts(dropna=False)"
   ]
  },
  {
   "cell_type": "code",
   "execution_count": 253,
   "metadata": {},
   "outputs": [
    {
     "data": {
      "text/plain": [
       "<matplotlib.axes._subplots.AxesSubplot at 0x1bfc335fd48>"
      ]
     },
     "execution_count": 253,
     "metadata": {},
     "output_type": "execute_result"
    },
    {
     "data": {
      "image/png": "[encoded data removed]",
      "text/plain": [
       "<Figure size 432x288 with 1 Axes>"
      ]
     },
     "metadata": {
      "needs_background": "light"
     },
     "output_type": "display_data"
    }
   ],
   "source": [
    "fakestar2['Q4Option2'].value_counts().sort_index().plot.bar()"
   ]
  },
  {
   "cell_type": "code",
   "execution_count": 254,
   "metadata": {},
   "outputs": [
    {
     "data": {
      "text/plain": [
       "'C:\\\\Users\\\\61469'"
      ]
     },
     "execution_count": 254,
     "metadata": {},
     "output_type": "execute_result"
    }
   ],
   "source": [
    "pwd"
   ]
  },
  {
   "cell_type": "code",
   "execution_count": 255,
   "metadata": {},
   "outputs": [],
   "source": [
    "a=fakestar2['Q4Option1'].value_counts()"
   ]
  },
  {
   "cell_type": "code",
   "execution_count": 256,
   "metadata": {},
   "outputs": [],
   "source": [
    "arr=a.to_numpy()"
   ]
  },
  {
   "cell_type": "code",
   "execution_count": 257,
   "metadata": {},
   "outputs": [
    {
     "data": {
      "text/plain": [
       "array([351, 237, 168, 130, 129, 100,  71], dtype=int64)"
      ]
     },
     "metadata": {},
     "output_type": "display_data"
    }
   ],
   "source": [
    "display(arr)"
   ]
  },
  {
   "cell_type": "code",
   "execution_count": 258,
   "metadata": {},
   "outputs": [
    {
     "data": {
      "text/plain": [
       "0    351\n",
       "4    237\n",
       "6    168\n",
       "3    130\n",
       "1    129\n",
       "5    100\n",
       "2     71\n",
       "Name: Q4Option1, dtype: int64"
      ]
     },
     "execution_count": 258,
     "metadata": {},
     "output_type": "execute_result"
    }
   ],
   "source": [
    "fakestar2['Q4Option1'].value_counts()"
   ]
  },
  {
   "cell_type": "code",
   "execution_count": 259,
   "metadata": {},
   "outputs": [],
   "source": [
    "arr2=[0,4,6,3,1,5,2]"
   ]
  },
  {
   "cell_type": "code",
   "execution_count": 260,
   "metadata": {},
   "outputs": [],
   "source": [
    "arr411=[237,168,130,129,100,71]"
   ]
  },
  {
   "cell_type": "code",
   "execution_count": 261,
   "metadata": {},
   "outputs": [],
   "source": [
    "arr412=[4,6,3,1,5,2]"
   ]
  },
  {
   "cell_type": "code",
   "execution_count": 262,
   "metadata": {},
   "outputs": [
    {
     "data": {
      "text/plain": [
       "Text(0, 0.5, 'Shell weigh234')"
      ]
     },
     "execution_count": 262,
     "metadata": {},
     "output_type": "execute_result"
    },
    {
     "data": {
      "image/png": "[encoded data removed]",
      "text/plain": [
       "<Figure size 432x288 with 1 Axes>"
      ]
     },
     "metadata": {
      "needs_background": "light"
     },
     "output_type": "display_data"
    }
   ],
   "source": [
    "plt.bar(arr412,arr411)\n",
    "plt.title('Rating for Star Wars: Episode II Attack of the Clones')\n",
    "plt.xlabel('Shell weight')\n",
    "plt.ylabel('Shell weigh234')"
   ]
  },
  {
   "cell_type": "code",
   "execution_count": 263,
   "metadata": {},
   "outputs": [],
   "source": [
    "Dist_41=pd.DataFrame(arr411,arr412)"
   ]
  },
  {
   "cell_type": "code",
   "execution_count": 264,
   "metadata": {},
   "outputs": [
    {
     "data": {
      "text/plain": [
       "0    351\n",
       "4    237\n",
       "6    168\n",
       "3    130\n",
       "1    129\n",
       "5    100\n",
       "2     71\n",
       "Name: Q4Option1, dtype: int64"
      ]
     },
     "execution_count": 264,
     "metadata": {},
     "output_type": "execute_result"
    }
   ],
   "source": [
    "fakestar2['Q4Option1'].value_counts()"
   ]
  },
  {
   "cell_type": "code",
   "execution_count": 265,
   "metadata": {},
   "outputs": [],
   "source": [
    "Dist_41=pd.DataFrame({'Rating':['4','6','3','1','5','2'],'TotalResponse':[237,168,130,129,100,71]})"
   ]
  },
  {
   "cell_type": "code",
   "execution_count": 266,
   "metadata": {},
   "outputs": [
    {
     "data": {
      "image/png": "[encoded data removed]",
      "text/plain": [
       "<Figure size 432x288 with 1 Axes>"
      ]
     },
     "metadata": {
      "needs_background": "light"
     },
     "output_type": "display_data"
    }
   ],
   "source": [
    "ax = Dist_41.plot.bar(x='Rating', y='TotalResponse', rot=0)"
   ]
  },
  {
   "cell_type": "code",
   "execution_count": 267,
   "metadata": {},
   "outputs": [
    {
     "data": {
      "text/plain": [
       "NO RATING    350\n",
       "5            300\n",
       "4            183\n",
       "2            116\n",
       "3            103\n",
       "6            102\n",
       "1             32\n",
       "Name: Q4Option2, dtype: int64"
      ]
     },
     "execution_count": 267,
     "metadata": {},
     "output_type": "execute_result"
    }
   ],
   "source": [
    "fakestar['Q4Option2'].value_counts()"
   ]
  },
  {
   "cell_type": "code",
   "execution_count": 268,
   "metadata": {},
   "outputs": [],
   "source": [
    "Dist_42=pd.DataFrame({'Rating':['5','4','2','3','6','1'],'TotalResponse':[300,183,116,103,102,32]})"
   ]
  },
  {
   "cell_type": "code",
   "execution_count": 269,
   "metadata": {},
   "outputs": [
    {
     "data": {
      "image/png": "[encoded data removed]",
      "text/plain": [
       "<Figure size 432x288 with 1 Axes>"
      ]
     },
     "metadata": {
      "needs_background": "light"
     },
     "output_type": "display_data"
    }
   ],
   "source": [
    "ax2 = Dist_41.plot.bar(x='Rating', y='TotalResponse', rot=0)"
   ]
  },
  {
   "cell_type": "code",
   "execution_count": 270,
   "metadata": {},
   "outputs": [
    {
     "data": {
      "text/plain": [
       "Text(0.5, 0, 'Rating')"
      ]
     },
     "execution_count": 270,
     "metadata": {},
     "output_type": "execute_result"
    },
    {
     "data": {
      "image/png": "[encoded data removed]",
      "text/plain": [
       "<Figure size 432x288 with 1 Axes>"
      ]
     },
     "metadata": {
      "needs_background": "light"
     },
     "output_type": "display_data"
    }
   ],
   "source": [
    "fakestar2['Q4Option2'].plot(kind='density')\n",
    "plt.title('Rating for Star Wars: Episode II Attack of the Clones')\n",
    "plt.xlabel('Rating')"
   ]
  },
  {
   "cell_type": "code",
   "execution_count": 271,
   "metadata": {},
   "outputs": [
    {
     "data": {
      "text/plain": [
       "NO RESPONSE    351\n",
       "6              217\n",
       "5              203\n",
       "4              182\n",
       "3              150\n",
       "2               47\n",
       "1               36\n",
       "Name: Q4Option3, dtype: int64"
      ]
     },
     "execution_count": 271,
     "metadata": {},
     "output_type": "execute_result"
    }
   ],
   "source": [
    "fakestar['Q4Option3'].value_counts()"
   ]
  },
  {
   "cell_type": "code",
   "execution_count": 272,
   "metadata": {},
   "outputs": [
    {
     "data": {
      "text/plain": [
       "NO RESPONSE    351\n",
       "6              217\n",
       "5              203\n",
       "4              182\n",
       "3              150\n",
       "2               47\n",
       "1               36\n",
       "Name: Q4Option3, dtype: int64"
      ]
     },
     "execution_count": 272,
     "metadata": {},
     "output_type": "execute_result"
    }
   ],
   "source": [
    "fakestar2['Q4Option3'].value_counts(dropna=False)"
   ]
  },
  {
   "cell_type": "code",
   "execution_count": 287,
   "metadata": {},
   "outputs": [],
   "source": [
    "fakestar2['Q4Option3'].replace('NO RESPONSE', '0', inplace=True)"
   ]
  },
  {
   "cell_type": "code",
   "execution_count": 288,
   "metadata": {},
   "outputs": [],
   "source": [
    "fakestar2['Q4Option4'].replace('NO RESPONSE', '0', inplace=True)"
   ]
  },
  {
   "cell_type": "code",
   "execution_count": 289,
   "metadata": {},
   "outputs": [],
   "source": [
    "fakestar2['Q4Option5'].replace('NO RESPONSE', '0', inplace=True)"
   ]
  },
  {
   "cell_type": "code",
   "execution_count": 290,
   "metadata": {},
   "outputs": [],
   "source": [
    "fakestar2['Q4Option6'].replace('NO RESPONSE', '0', inplace=True)"
   ]
  },
  {
   "cell_type": "code",
   "execution_count": 291,
   "metadata": {},
   "outputs": [],
   "source": [
    "fakestar2['Q4Option3']=fakestar2.Q4Option3.astype(int)"
   ]
  },
  {
   "cell_type": "code",
   "execution_count": 292,
   "metadata": {},
   "outputs": [],
   "source": [
    "fakestar2['Q4Option4']=fakestar2.Q4Option4.astype(int)"
   ]
  },
  {
   "cell_type": "code",
   "execution_count": 293,
   "metadata": {},
   "outputs": [],
   "source": [
    "fakestar2['Q4Option5']=fakestar2.Q4Option5.astype(int)"
   ]
  },
  {
   "cell_type": "code",
   "execution_count": 294,
   "metadata": {},
   "outputs": [],
   "source": [
    "fakestar2['Q4Option6']=fakestar2.Q4Option6.astype(int)"
   ]
  },
  {
   "cell_type": "code",
   "execution_count": 295,
   "metadata": {},
   "outputs": [
    {
     "data": {
      "text/plain": [
       "Text(0.5, 0, 'Rating')"
      ]
     },
     "execution_count": 295,
     "metadata": {},
     "output_type": "execute_result"
    },
    {
     "data": {
      "image/png": "[encoded data removed]",
      "text/plain": [
       "<Figure size 432x288 with 1 Axes>"
      ]
     },
     "metadata": {
      "needs_background": "light"
     },
     "output_type": "display_data"
    }
   ],
   "source": [
    "fakestar2['Q4Option3'].plot(kind='density')\n",
    "plt.title('Rating for Star Wars: Episode III Revenge of the Sith')\n",
    "plt.xlabel('Rating')"
   ]
  },
  {
   "cell_type": "code",
   "execution_count": 296,
   "metadata": {},
   "outputs": [
    {
     "data": {
      "text/plain": [
       "Text(0.5, 0, 'Rating')"
      ]
     },
     "execution_count": 296,
     "metadata": {},
     "output_type": "execute_result"
    },
    {
     "data": {
      "image/png": "[encoded data removed]",
      "text/plain": [
       "<Figure size 432x288 with 1 Axes>"
      ]
     },
     "metadata": {
      "needs_background": "light"
     },
     "output_type": "display_data"
    }
   ],
   "source": [
    "fakestar2['Q4Option4'].plot(kind='density')\n",
    "plt.title('Rating for Star Wars: Episode IV A New Hope')\n",
    "plt.xlabel('Rating')"
   ]
  },
  {
   "cell_type": "code",
   "execution_count": 297,
   "metadata": {},
   "outputs": [
    {
     "data": {
      "text/plain": [
       "Text(0.5, 0, 'Rating')"
      ]
     },
     "execution_count": 297,
     "metadata": {},
     "output_type": "execute_result"
    },
    {
     "data": {
      "image/png": "[encoded data removed]",
      "text/plain": [
       "<Figure size 432x288 with 1 Axes>"
      ]
     },
     "metadata": {
      "needs_background": "light"
     },
     "output_type": "display_data"
    }
   ],
   "source": [
    "fakestar2['Q4Option5'].plot(kind='density')\n",
    "plt.title('Rating for Star Wars: Episode V The Empire Strikes Back')\n",
    "plt.xlabel('Rating')"
   ]
  },
  {
   "cell_type": "code",
   "execution_count": 298,
   "metadata": {},
   "outputs": [
    {
     "data": {
      "text/plain": [
       "Text(0.5, 0, 'Rating')"
      ]
     },
     "execution_count": 298,
     "metadata": {},
     "output_type": "execute_result"
    },
    {
     "data": {
      "image/png": "[encoded data removed]",
      "text/plain": [
       "<Figure size 432x288 with 1 Axes>"
      ]
     },
     "metadata": {
      "needs_background": "light"
     },
     "output_type": "display_data"
    }
   ],
   "source": [
    "fakestar2['Q4Option6'].plot(kind='density')\n",
    "plt.title('Rating for Star Wars: Episode VI Return of the Jedi')\n",
    "plt.xlabel('Rating')"
   ]
  },
  {
   "cell_type": "code",
   "execution_count": 299,
   "metadata": {},
   "outputs": [
    {
     "data": {
      "text/plain": [
       "Text(0.5, 0, 'Rating')"
      ]
     },
     "execution_count": 299,
     "metadata": {},
     "output_type": "execute_result"
    },
    {
     "data": {
      "image/png": "[encoded data removed]",
      "text/plain": [
       "<Figure size 432x288 with 1 Axes>"
      ]
     },
     "metadata": {
      "needs_background": "light"
     },
     "output_type": "display_data"
    }
   ],
   "source": [
    "fakestar2['Q4Option1'].plot(kind='density')\n",
    "plt.title('Rating for Star Wars: Episode I The Phantom Menace')\n",
    "plt.xlabel('Rating')"
   ]
  },
  {
   "cell_type": "code",
   "execution_count": 300,
   "metadata": {},
   "outputs": [
    {
     "data": {
      "text/plain": [
       "<matplotlib.axes._subplots.AxesSubplot at 0x1bfc422f8c8>"
      ]
     },
     "execution_count": 300,
     "metadata": {},
     "output_type": "execute_result"
    },
    {
     "data": {
      "image/png": "[encoded data removed]",
      "text/plain": [
       "<Figure size 432x288 with 1 Axes>"
      ]
     },
     "metadata": {},
     "output_type": "display_data"
    }
   ],
   "source": [
    "fakestar2['Q4Option5'].value_counts().plot(kind='pie',autopct='%.2f')"
   ]
  },
  {
   "cell_type": "code",
   "execution_count": 303,
   "metadata": {},
   "outputs": [
    {
     "data": {
      "text/plain": [
       "EAST NORTH CENTRAL    0.152614\n",
       "PACIFIC               0.147555\n",
       "SOUTH ATLANTIC        0.143339\n",
       "NO RESPONSE           0.120573\n",
       "MIDDLE ATLANTIC       0.102867\n",
       "WEST SOUTH CENTRAL    0.092749\n",
       "WEST NORTH CENTRAL    0.078415\n",
       "MOUNTAIN              0.066610\n",
       "NEW ENGLAND           0.063238\n",
       "EAST SOUTH CENTRAL    0.032040\n",
       "Name: Q14, dtype: float64"
      ]
     },
     "execution_count": 303,
     "metadata": {},
     "output_type": "execute_result"
    }
   ],
   "source": [
    "fakestar2['Q14'].value_counts(normalize=True)"
   ]
  },
  {
   "cell_type": "code",
   "execution_count": 304,
   "metadata": {},
   "outputs": [],
   "source": [
    "returns=pd.DataFrame()"
   ]
  },
  {
   "cell_type": "code",
   "execution_count": 313,
   "metadata": {},
   "outputs": [
    {
     "data": {
      "text/plain": [
       "45-60          0.246206\n",
       "> 60           0.226813\n",
       "30-44          0.225970\n",
       "18-29          0.182968\n",
       "NO RESPONSE    0.118044\n",
       "Name: Q11, dtype: float64"
      ]
     },
     "execution_count": 313,
     "metadata": {},
     "output_type": "execute_result"
    }
   ],
   "source": [
    "fakestar2.Q11.value_counts(normalize=True)"
   ]
  },
  {
   "cell_type": "code",
   "execution_count": 328,
   "metadata": {},
   "outputs": [
    {
     "data": {
      "text/plain": [
       "45-60          292\n",
       "> 60           269\n",
       "30-44          268\n",
       "18-29          217\n",
       "NO RESPONSE    140\n",
       "Name: Q11, dtype: int64"
      ]
     },
     "execution_count": 328,
     "metadata": {},
     "output_type": "execute_result"
    }
   ],
   "source": [
    "fakestar['Q11'].value_counts(dropna=False)"
   ]
  },
  {
   "cell_type": "code",
   "execution_count": 320,
   "metadata": {},
   "outputs": [],
   "source": [
    "fakestar2['Q11'].replace('NO RESPONSE', '0', inplace=True)"
   ]
  },
  {
   "cell_type": "code",
   "execution_count": 321,
   "metadata": {},
   "outputs": [],
   "source": [
    "fakestar2['Q11'].replace('18-29', '1', inplace=True)"
   ]
  },
  {
   "cell_type": "code",
   "execution_count": 322,
   "metadata": {},
   "outputs": [],
   "source": [
    "fakestar2['Q11'].replace('30-44', '2', inplace=True)"
   ]
  },
  {
   "cell_type": "code",
   "execution_count": 323,
   "metadata": {},
   "outputs": [],
   "source": [
    "fakestar2['Q11'].replace('45-60', '3', inplace=True)"
   ]
  },
  {
   "cell_type": "code",
   "execution_count": 324,
   "metadata": {},
   "outputs": [],
   "source": [
    "fakestar2['Q11'].replace('> 60', '4', inplace=True)"
   ]
  },
  {
   "cell_type": "code",
   "execution_count": 326,
   "metadata": {},
   "outputs": [
    {
     "data": {
      "text/plain": [
       "1    777\n",
       "4    269\n",
       "0    140\n",
       "Name: Q11, dtype: int64"
      ]
     },
     "execution_count": 326,
     "metadata": {},
     "output_type": "execute_result"
    }
   ],
   "source": [
    "fakestar2['Q11'].value_counts(dropna=False)"
   ]
  },
  {
   "cell_type": "code",
   "execution_count": 329,
   "metadata": {},
   "outputs": [],
   "source": [
    "fakestar3=fakestar.copy()"
   ]
  },
  {
   "cell_type": "code",
   "execution_count": 330,
   "metadata": {},
   "outputs": [
    {
     "data": {
      "text/html": [
       "<div>\n",
       "<style scoped>\n",
       "    .dataframe tbody tr th:only-of-type {\n",
       "        vertical-align: middle;\n",
       "    }\n",
       "\n",
       "    .dataframe tbody tr th {\n",
       "        vertical-align: top;\n",
       "    }\n",
       "\n",
       "    .dataframe thead th {\n",
       "        text-align: right;\n",
       "    }\n",
       "</style>\n",
       "<table border=\"1\" class=\"dataframe\">\n",
       "  <thead>\n",
       "    <tr style=\"text-align: right;\">\n",
       "      <th></th>\n",
       "      <th>ID</th>\n",
       "      <th>Q1</th>\n",
       "      <th>Q2</th>\n",
       "      <th>Q3Option1</th>\n",
       "      <th>Q3Option2</th>\n",
       "      <th>Q3Option3</th>\n",
       "      <th>Q3Option4</th>\n",
       "      <th>Q3Option5</th>\n",
       "      <th>Q3Option6</th>\n",
       "      <th>Q4Option1</th>\n",
       "      <th>...</th>\n",
       "      <th>Q5Option14</th>\n",
       "      <th>Q6</th>\n",
       "      <th>Q7</th>\n",
       "      <th>Q8</th>\n",
       "      <th>Q9</th>\n",
       "      <th>Q10</th>\n",
       "      <th>Q11</th>\n",
       "      <th>Q12</th>\n",
       "      <th>Q13</th>\n",
       "      <th>Q14</th>\n",
       "    </tr>\n",
       "  </thead>\n",
       "  <tbody>\n",
       "    <tr>\n",
       "      <td>2</td>\n",
       "      <td>3292879998</td>\n",
       "      <td>YES</td>\n",
       "      <td>Yes</td>\n",
       "      <td>Star Wars: Episode I  The Phantom Menace</td>\n",
       "      <td>Star Wars: Episode II  Attack of the Clones</td>\n",
       "      <td>Star Wars: Episode III  Revenge of the Sith</td>\n",
       "      <td>Star Wars: Episode IV  A New Hope</td>\n",
       "      <td>Star Wars: Episode V The Empire Strikes Back</td>\n",
       "      <td>Star Wars: Episode VI Return of the Jedi</td>\n",
       "      <td>3</td>\n",
       "      <td>...</td>\n",
       "      <td>VERY FAVORABLY</td>\n",
       "      <td>I DON'T UNDERSTAND THIS QUESTION</td>\n",
       "      <td>YES</td>\n",
       "      <td>NO</td>\n",
       "      <td>NO</td>\n",
       "      <td>MALE</td>\n",
       "      <td>18-29</td>\n",
       "      <td>$50,000 - $99,999</td>\n",
       "      <td>HIGH SCHOOL DEGREE</td>\n",
       "      <td>SOUTH ATLANTIC</td>\n",
       "    </tr>\n",
       "    <tr>\n",
       "      <td>3</td>\n",
       "      <td>3292879538</td>\n",
       "      <td>NO</td>\n",
       "      <td>NO</td>\n",
       "      <td>NO</td>\n",
       "      <td>NO</td>\n",
       "      <td>NO</td>\n",
       "      <td>NO</td>\n",
       "      <td>NO</td>\n",
       "      <td>NO</td>\n",
       "      <td>NO RATING</td>\n",
       "      <td>...</td>\n",
       "      <td>NO RATING</td>\n",
       "      <td>NO RESPONSE</td>\n",
       "      <td>NO RESPONSE</td>\n",
       "      <td>NO RESPONSE</td>\n",
       "      <td>YES</td>\n",
       "      <td>MALE</td>\n",
       "      <td>18-29</td>\n",
       "      <td>$0 - $24,999</td>\n",
       "      <td>BACHELOR DEGREE</td>\n",
       "      <td>WEST SOUTH CENTRAL</td>\n",
       "    </tr>\n",
       "    <tr>\n",
       "      <td>4</td>\n",
       "      <td>3292765271</td>\n",
       "      <td>YES</td>\n",
       "      <td>No</td>\n",
       "      <td>Star Wars: Episode I  The Phantom Menace</td>\n",
       "      <td>Star Wars: Episode II  Attack of the Clones</td>\n",
       "      <td>Star Wars: Episode III  Revenge of the Sith</td>\n",
       "      <td>NO</td>\n",
       "      <td>NO</td>\n",
       "      <td>NO</td>\n",
       "      <td>1</td>\n",
       "      <td>...</td>\n",
       "      <td>UNFAMILIAR (N/A)</td>\n",
       "      <td>I DON'T UNDERSTAND THIS QUESTION</td>\n",
       "      <td>NO</td>\n",
       "      <td>NO RESPONSE</td>\n",
       "      <td>NO</td>\n",
       "      <td>MALE</td>\n",
       "      <td>18-29</td>\n",
       "      <td>$0 - $24,999</td>\n",
       "      <td>HIGH SCHOOL DEGREE</td>\n",
       "      <td>WEST NORTH CENTRAL</td>\n",
       "    </tr>\n",
       "    <tr>\n",
       "      <td>5</td>\n",
       "      <td>3292763116</td>\n",
       "      <td>YES</td>\n",
       "      <td>Yes</td>\n",
       "      <td>Star Wars: Episode I  The Phantom Menace</td>\n",
       "      <td>Star Wars: Episode II  Attack of the Clones</td>\n",
       "      <td>Star Wars: Episode III  Revenge of the Sith</td>\n",
       "      <td>Star Wars: Episode IV  A New Hope</td>\n",
       "      <td>Star Wars: Episode V The Empire Strikes Back</td>\n",
       "      <td>Star Wars: Episode VI Return of the Jedi</td>\n",
       "      <td>5</td>\n",
       "      <td>...</td>\n",
       "      <td>VERY FAVORABLY</td>\n",
       "      <td>I DON'T UNDERSTAND THIS QUESTION</td>\n",
       "      <td>NO</td>\n",
       "      <td>NO RESPONSE</td>\n",
       "      <td>YES</td>\n",
       "      <td>MALE</td>\n",
       "      <td>18-29</td>\n",
       "      <td>$100,000 - $149,999</td>\n",
       "      <td>SOME COLLEGE OR ASSOCIATE DEGREE</td>\n",
       "      <td>WEST NORTH CENTRAL</td>\n",
       "    </tr>\n",
       "    <tr>\n",
       "      <td>6</td>\n",
       "      <td>3292731220</td>\n",
       "      <td>YES</td>\n",
       "      <td>Yes</td>\n",
       "      <td>Star Wars: Episode I  The Phantom Menace</td>\n",
       "      <td>Star Wars: Episode II  Attack of the Clones</td>\n",
       "      <td>Star Wars: Episode III  Revenge of the Sith</td>\n",
       "      <td>Star Wars: Episode IV  A New Hope</td>\n",
       "      <td>Star Wars: Episode V The Empire Strikes Back</td>\n",
       "      <td>Star Wars: Episode VI Return of the Jedi</td>\n",
       "      <td>5</td>\n",
       "      <td>...</td>\n",
       "      <td>SOMEWHAT FAVORABLY</td>\n",
       "      <td>GREEDO</td>\n",
       "      <td>YES</td>\n",
       "      <td>NO</td>\n",
       "      <td>NO</td>\n",
       "      <td>MALE</td>\n",
       "      <td>18-29</td>\n",
       "      <td>$100,000 - $149,999</td>\n",
       "      <td>SOME COLLEGE OR ASSOCIATE DEGREE</td>\n",
       "      <td>WEST NORTH CENTRAL</td>\n",
       "    </tr>\n",
       "    <tr>\n",
       "      <td>...</td>\n",
       "      <td>...</td>\n",
       "      <td>...</td>\n",
       "      <td>...</td>\n",
       "      <td>...</td>\n",
       "      <td>...</td>\n",
       "      <td>...</td>\n",
       "      <td>...</td>\n",
       "      <td>...</td>\n",
       "      <td>...</td>\n",
       "      <td>...</td>\n",
       "      <td>...</td>\n",
       "      <td>...</td>\n",
       "      <td>...</td>\n",
       "      <td>...</td>\n",
       "      <td>...</td>\n",
       "      <td>...</td>\n",
       "      <td>...</td>\n",
       "      <td>...</td>\n",
       "      <td>...</td>\n",
       "      <td>...</td>\n",
       "      <td>...</td>\n",
       "    </tr>\n",
       "    <tr>\n",
       "      <td>1183</td>\n",
       "      <td>3288388730</td>\n",
       "      <td>YES</td>\n",
       "      <td>Yes</td>\n",
       "      <td>Star Wars: Episode I  The Phantom Menace</td>\n",
       "      <td>Star Wars: Episode II  Attack of the Clones</td>\n",
       "      <td>Star Wars: Episode III  Revenge of the Sith</td>\n",
       "      <td>Star Wars: Episode IV  A New Hope</td>\n",
       "      <td>Star Wars: Episode V The Empire Strikes Back</td>\n",
       "      <td>Star Wars: Episode VI Return of the Jedi</td>\n",
       "      <td>5</td>\n",
       "      <td>...</td>\n",
       "      <td>VERY FAVORABLY</td>\n",
       "      <td>HAN</td>\n",
       "      <td>NO</td>\n",
       "      <td>NO RESPONSE</td>\n",
       "      <td>YES</td>\n",
       "      <td>FEMALE</td>\n",
       "      <td>18-29</td>\n",
       "      <td>$0 - $24,999</td>\n",
       "      <td>SOME COLLEGE OR ASSOCIATE DEGREE</td>\n",
       "      <td>EAST NORTH CENTRAL</td>\n",
       "    </tr>\n",
       "    <tr>\n",
       "      <td>1184</td>\n",
       "      <td>3288378779</td>\n",
       "      <td>YES</td>\n",
       "      <td>Yes</td>\n",
       "      <td>Star Wars: Episode I  The Phantom Menace</td>\n",
       "      <td>Star Wars: Episode II  Attack of the Clones</td>\n",
       "      <td>Star Wars: Episode III  Revenge of the Sith</td>\n",
       "      <td>Star Wars: Episode IV  A New Hope</td>\n",
       "      <td>Star Wars: Episode V The Empire Strikes Back</td>\n",
       "      <td>Star Wars: Episode VI Return of the Jedi</td>\n",
       "      <td>4</td>\n",
       "      <td>...</td>\n",
       "      <td>VERY FAVORABLY</td>\n",
       "      <td>I DON'T UNDERSTAND THIS QUESTION</td>\n",
       "      <td>NO</td>\n",
       "      <td>NO RESPONSE</td>\n",
       "      <td>YES</td>\n",
       "      <td>FEMALE</td>\n",
       "      <td>30-44</td>\n",
       "      <td>$50,000 - $99,999</td>\n",
       "      <td>BACHELOR DEGREE</td>\n",
       "      <td>MOUNTAIN</td>\n",
       "    </tr>\n",
       "    <tr>\n",
       "      <td>1185</td>\n",
       "      <td>3288375286</td>\n",
       "      <td>NO</td>\n",
       "      <td>NO</td>\n",
       "      <td>NO</td>\n",
       "      <td>NO</td>\n",
       "      <td>NO</td>\n",
       "      <td>NO</td>\n",
       "      <td>NO</td>\n",
       "      <td>NO</td>\n",
       "      <td>NO RATING</td>\n",
       "      <td>...</td>\n",
       "      <td>NO RATING</td>\n",
       "      <td>NO RESPONSE</td>\n",
       "      <td>NO RESPONSE</td>\n",
       "      <td>NO RESPONSE</td>\n",
       "      <td>NO</td>\n",
       "      <td>FEMALE</td>\n",
       "      <td>30-44</td>\n",
       "      <td>$50,000 - $99,999</td>\n",
       "      <td>BACHELOR DEGREE</td>\n",
       "      <td>MIDDLE ATLANTIC</td>\n",
       "    </tr>\n",
       "    <tr>\n",
       "      <td>1186</td>\n",
       "      <td>3288373068</td>\n",
       "      <td>YES</td>\n",
       "      <td>Yes</td>\n",
       "      <td>Star Wars: Episode I  The Phantom Menace</td>\n",
       "      <td>Star Wars: Episode II  Attack of the Clones</td>\n",
       "      <td>Star Wars: Episode III  Revenge of the Sith</td>\n",
       "      <td>Star Wars: Episode IV  A New Hope</td>\n",
       "      <td>Star Wars: Episode V The Empire Strikes Back</td>\n",
       "      <td>Star Wars: Episode VI Return of the Jedi</td>\n",
       "      <td>4</td>\n",
       "      <td>...</td>\n",
       "      <td>VERY FAVORABLY</td>\n",
       "      <td>HAN</td>\n",
       "      <td>NO</td>\n",
       "      <td>NO RESPONSE</td>\n",
       "      <td>YES</td>\n",
       "      <td>FEMALE</td>\n",
       "      <td>45-60</td>\n",
       "      <td>$100,000 - $149,999</td>\n",
       "      <td>SOME COLLEGE OR ASSOCIATE DEGREE</td>\n",
       "      <td>EAST NORTH CENTRAL</td>\n",
       "    </tr>\n",
       "    <tr>\n",
       "      <td>1187</td>\n",
       "      <td>3288372923</td>\n",
       "      <td>YES</td>\n",
       "      <td>No</td>\n",
       "      <td>Star Wars: Episode I  The Phantom Menace</td>\n",
       "      <td>Star Wars: Episode II  Attack of the Clones</td>\n",
       "      <td>NO</td>\n",
       "      <td>NO</td>\n",
       "      <td>Star Wars: Episode V The Empire Strikes Back</td>\n",
       "      <td>Star Wars: Episode VI Return of the Jedi</td>\n",
       "      <td>6</td>\n",
       "      <td>...</td>\n",
       "      <td>VERY UNFAVORABLY</td>\n",
       "      <td>I DON'T UNDERSTAND THIS QUESTION</td>\n",
       "      <td>NO</td>\n",
       "      <td>NO RESPONSE</td>\n",
       "      <td>NO</td>\n",
       "      <td>FEMALE</td>\n",
       "      <td>&gt; 60</td>\n",
       "      <td>$50,000 - $99,999</td>\n",
       "      <td>GRADUATE DEGREE</td>\n",
       "      <td>PACIFIC</td>\n",
       "    </tr>\n",
       "  </tbody>\n",
       "</table>\n",
       "<p>1186 rows × 38 columns</p>\n",
       "</div>"
      ],
      "text/plain": [
       "              ID   Q1   Q2                                 Q3Option1  \\\n",
       "2     3292879998  YES  Yes  Star Wars: Episode I  The Phantom Menace   \n",
       "3     3292879538   NO   NO                                        NO   \n",
       "4     3292765271  YES   No  Star Wars: Episode I  The Phantom Menace   \n",
       "5     3292763116  YES  Yes  Star Wars: Episode I  The Phantom Menace   \n",
       "6     3292731220  YES  Yes  Star Wars: Episode I  The Phantom Menace   \n",
       "...          ...  ...  ...                                       ...   \n",
       "1183  3288388730  YES  Yes  Star Wars: Episode I  The Phantom Menace   \n",
       "1184  3288378779  YES  Yes  Star Wars: Episode I  The Phantom Menace   \n",
       "1185  3288375286   NO   NO                                        NO   \n",
       "1186  3288373068  YES  Yes  Star Wars: Episode I  The Phantom Menace   \n",
       "1187  3288372923  YES   No  Star Wars: Episode I  The Phantom Menace   \n",
       "\n",
       "                                        Q3Option2  \\\n",
       "2     Star Wars: Episode II  Attack of the Clones   \n",
       "3                                              NO   \n",
       "4     Star Wars: Episode II  Attack of the Clones   \n",
       "5     Star Wars: Episode II  Attack of the Clones   \n",
       "6     Star Wars: Episode II  Attack of the Clones   \n",
       "...                                           ...   \n",
       "1183  Star Wars: Episode II  Attack of the Clones   \n",
       "1184  Star Wars: Episode II  Attack of the Clones   \n",
       "1185                                           NO   \n",
       "1186  Star Wars: Episode II  Attack of the Clones   \n",
       "1187  Star Wars: Episode II  Attack of the Clones   \n",
       "\n",
       "                                        Q3Option3  \\\n",
       "2     Star Wars: Episode III  Revenge of the Sith   \n",
       "3                                              NO   \n",
       "4     Star Wars: Episode III  Revenge of the Sith   \n",
       "5     Star Wars: Episode III  Revenge of the Sith   \n",
       "6     Star Wars: Episode III  Revenge of the Sith   \n",
       "...                                           ...   \n",
       "1183  Star Wars: Episode III  Revenge of the Sith   \n",
       "1184  Star Wars: Episode III  Revenge of the Sith   \n",
       "1185                                           NO   \n",
       "1186  Star Wars: Episode III  Revenge of the Sith   \n",
       "1187                                           NO   \n",
       "\n",
       "                              Q3Option4  \\\n",
       "2     Star Wars: Episode IV  A New Hope   \n",
       "3                                    NO   \n",
       "4                                    NO   \n",
       "5     Star Wars: Episode IV  A New Hope   \n",
       "6     Star Wars: Episode IV  A New Hope   \n",
       "...                                 ...   \n",
       "1183  Star Wars: Episode IV  A New Hope   \n",
       "1184  Star Wars: Episode IV  A New Hope   \n",
       "1185                                 NO   \n",
       "1186  Star Wars: Episode IV  A New Hope   \n",
       "1187                                 NO   \n",
       "\n",
       "                                         Q3Option5  \\\n",
       "2     Star Wars: Episode V The Empire Strikes Back   \n",
       "3                                               NO   \n",
       "4                                               NO   \n",
       "5     Star Wars: Episode V The Empire Strikes Back   \n",
       "6     Star Wars: Episode V The Empire Strikes Back   \n",
       "...                                            ...   \n",
       "1183  Star Wars: Episode V The Empire Strikes Back   \n",
       "1184  Star Wars: Episode V The Empire Strikes Back   \n",
       "1185                                            NO   \n",
       "1186  Star Wars: Episode V The Empire Strikes Back   \n",
       "1187  Star Wars: Episode V The Empire Strikes Back   \n",
       "\n",
       "                                     Q3Option6  Q4Option1  ...  \\\n",
       "2     Star Wars: Episode VI Return of the Jedi          3  ...   \n",
       "3                                           NO  NO RATING  ...   \n",
       "4                                           NO          1  ...   \n",
       "5     Star Wars: Episode VI Return of the Jedi          5  ...   \n",
       "6     Star Wars: Episode VI Return of the Jedi          5  ...   \n",
       "...                                        ...        ...  ...   \n",
       "1183  Star Wars: Episode VI Return of the Jedi          5  ...   \n",
       "1184  Star Wars: Episode VI Return of the Jedi          4  ...   \n",
       "1185                                        NO  NO RATING  ...   \n",
       "1186  Star Wars: Episode VI Return of the Jedi          4  ...   \n",
       "1187  Star Wars: Episode VI Return of the Jedi          6  ...   \n",
       "\n",
       "              Q5Option14                                Q6           Q7  \\\n",
       "2         VERY FAVORABLY  I DON'T UNDERSTAND THIS QUESTION          YES   \n",
       "3              NO RATING                       NO RESPONSE  NO RESPONSE   \n",
       "4       UNFAMILIAR (N/A)  I DON'T UNDERSTAND THIS QUESTION           NO   \n",
       "5         VERY FAVORABLY  I DON'T UNDERSTAND THIS QUESTION           NO   \n",
       "6     SOMEWHAT FAVORABLY                            GREEDO          YES   \n",
       "...                  ...                               ...          ...   \n",
       "1183      VERY FAVORABLY                               HAN           NO   \n",
       "1184      VERY FAVORABLY  I DON'T UNDERSTAND THIS QUESTION           NO   \n",
       "1185           NO RATING                       NO RESPONSE  NO RESPONSE   \n",
       "1186      VERY FAVORABLY                               HAN           NO   \n",
       "1187    VERY UNFAVORABLY  I DON'T UNDERSTAND THIS QUESTION           NO   \n",
       "\n",
       "               Q8   Q9     Q10    Q11                  Q12  \\\n",
       "2              NO   NO    MALE  18-29    $50,000 - $99,999   \n",
       "3     NO RESPONSE  YES    MALE  18-29         $0 - $24,999   \n",
       "4     NO RESPONSE   NO    MALE  18-29         $0 - $24,999   \n",
       "5     NO RESPONSE  YES    MALE  18-29  $100,000 - $149,999   \n",
       "6              NO   NO    MALE  18-29  $100,000 - $149,999   \n",
       "...           ...  ...     ...    ...                  ...   \n",
       "1183  NO RESPONSE  YES  FEMALE  18-29         $0 - $24,999   \n",
       "1184  NO RESPONSE  YES  FEMALE  30-44    $50,000 - $99,999   \n",
       "1185  NO RESPONSE   NO  FEMALE  30-44    $50,000 - $99,999   \n",
       "1186  NO RESPONSE  YES  FEMALE  45-60  $100,000 - $149,999   \n",
       "1187  NO RESPONSE   NO  FEMALE   > 60    $50,000 - $99,999   \n",
       "\n",
       "                                   Q13                 Q14  \n",
       "2                   HIGH SCHOOL DEGREE      SOUTH ATLANTIC  \n",
       "3                      BACHELOR DEGREE  WEST SOUTH CENTRAL  \n",
       "4                   HIGH SCHOOL DEGREE  WEST NORTH CENTRAL  \n",
       "5     SOME COLLEGE OR ASSOCIATE DEGREE  WEST NORTH CENTRAL  \n",
       "6     SOME COLLEGE OR ASSOCIATE DEGREE  WEST NORTH CENTRAL  \n",
       "...                                ...                 ...  \n",
       "1183  SOME COLLEGE OR ASSOCIATE DEGREE  EAST NORTH CENTRAL  \n",
       "1184                   BACHELOR DEGREE            MOUNTAIN  \n",
       "1185                   BACHELOR DEGREE     MIDDLE ATLANTIC  \n",
       "1186  SOME COLLEGE OR ASSOCIATE DEGREE  EAST NORTH CENTRAL  \n",
       "1187                   GRADUATE DEGREE             PACIFIC  \n",
       "\n",
       "[1186 rows x 38 columns]"
      ]
     },
     "execution_count": 330,
     "metadata": {},
     "output_type": "execute_result"
    }
   ],
   "source": [
    "fakestar3"
   ]
  },
  {
   "cell_type": "code",
   "execution_count": 331,
   "metadata": {},
   "outputs": [
    {
     "data": {
      "text/plain": [
       "45-60          292\n",
       "> 60           269\n",
       "30-44          268\n",
       "18-29          217\n",
       "NO RESPONSE    140\n",
       "Name: Q11, dtype: int64"
      ]
     },
     "execution_count": 331,
     "metadata": {},
     "output_type": "execute_result"
    }
   ],
   "source": [
    "fakestar3['Q11'].value_counts(dropna=False)"
   ]
  },
  {
   "cell_type": "code",
   "execution_count": 332,
   "metadata": {},
   "outputs": [],
   "source": [
    "fakestar3['Q11'].replace('NO RESPONSE', '0', inplace=True)"
   ]
  },
  {
   "cell_type": "code",
   "execution_count": 334,
   "metadata": {},
   "outputs": [],
   "source": [
    "fakestar3['Q11'].replace('18-29', '1', inplace=True)"
   ]
  },
  {
   "cell_type": "code",
   "execution_count": 335,
   "metadata": {},
   "outputs": [],
   "source": [
    "fakestar3['Q11'].replace('30-44', '2', inplace=True)"
   ]
  },
  {
   "cell_type": "code",
   "execution_count": 336,
   "metadata": {},
   "outputs": [],
   "source": [
    "fakestar3['Q11'].replace('45-60', '3', inplace=True)"
   ]
  },
  {
   "cell_type": "code",
   "execution_count": 337,
   "metadata": {},
   "outputs": [],
   "source": [
    "fakestar3['Q11'].replace('> 60', '4', inplace=True)"
   ]
  },
  {
   "cell_type": "code",
   "execution_count": 338,
   "metadata": {},
   "outputs": [
    {
     "data": {
      "text/plain": [
       "3    292\n",
       "4    269\n",
       "2    268\n",
       "1    217\n",
       "0    140\n",
       "Name: Q11, dtype: int64"
      ]
     },
     "execution_count": 338,
     "metadata": {},
     "output_type": "execute_result"
    }
   ],
   "source": [
    "fakestar3['Q11'].value_counts(dropna=False)"
   ]
  },
  {
   "cell_type": "code",
   "execution_count": 345,
   "metadata": {},
   "outputs": [
    {
     "data": {
      "text/plain": [
       "3    0.246206\n",
       "4    0.226813\n",
       "2    0.225970\n",
       "1    0.182968\n",
       "0    0.118044\n",
       "Name: Q11, dtype: float64"
      ]
     },
     "execution_count": 345,
     "metadata": {},
     "output_type": "execute_result"
    }
   ],
   "source": [
    "fakestar3.Q11.value_counts(normalize=True)"
   ]
  },
  {
   "cell_type": "code",
   "execution_count": null,
   "metadata": {},
   "outputs": [],
   "source": [
    "# Task 2.2 - Analysis Based on The HypoThesis:\" Which Gender Does The Highet Paid Jobs? (Hypothesis 1)"
   ]
  },
  {
   "cell_type": "code",
   "execution_count": 365,
   "metadata": {},
   "outputs": [
    {
     "data": {
      "text/plain": [
       "$50,000 - $99,999      0.527825\n",
       "$25,000 - $49,999      0.156830\n",
       "$100,000 - $149,999    0.118887\n",
       "$0 - $24,999           0.116358\n",
       "$150,000+              0.080101\n",
       "Name: Q12, dtype: float64"
      ]
     },
     "execution_count": 365,
     "metadata": {},
     "output_type": "execute_result"
    }
   ],
   "source": [
    "fakestar3.Q12.value_counts(normalize=True)"
   ]
  },
  {
   "cell_type": "code",
   "execution_count": 370,
   "metadata": {},
   "outputs": [
    {
     "data": {
      "text/plain": [
       "FEMALE         549\n",
       "MALE           497\n",
       "NO RESPONSE    140\n",
       "Name: Q10, dtype: int64"
      ]
     },
     "execution_count": 370,
     "metadata": {},
     "output_type": "execute_result"
    }
   ],
   "source": [
    "fakestar['Q10'].value_counts(dropna=False)"
   ]
  },
  {
   "cell_type": "code",
   "execution_count": 375,
   "metadata": {},
   "outputs": [
    {
     "data": {
      "text/plain": [
       "FEMALE    0.572464\n",
       "MALE      0.427536\n",
       "Name: Q10, dtype: float64"
      ]
     },
     "execution_count": 375,
     "metadata": {},
     "output_type": "execute_result"
    }
   ],
   "source": [
    "fakestar3[fakestar3.Q12=='$0 - $24,999'].Q10.value_counts(normalize=True)"
   ]
  },
  {
   "cell_type": "code",
   "execution_count": 377,
   "metadata": {},
   "outputs": [
    {
     "data": {
      "text/plain": [
       "FEMALE    0.521505\n",
       "MALE      0.478495\n",
       "Name: Q10, dtype: float64"
      ]
     },
     "execution_count": 377,
     "metadata": {},
     "output_type": "execute_result"
    }
   ],
   "source": [
    "fakestar3[fakestar3.Q12=='$25,000 - $49,999'].Q10.value_counts(normalize=True)"
   ]
  },
  {
   "cell_type": "code",
   "execution_count": 378,
   "metadata": {},
   "outputs": [
    {
     "data": {
      "text/plain": [
       "FEMALE         0.426518\n",
       "MALE           0.349840\n",
       "NO RESPONSE    0.223642\n",
       "Name: Q10, dtype: float64"
      ]
     },
     "execution_count": 378,
     "metadata": {},
     "output_type": "execute_result"
    }
   ],
   "source": [
    "fakestar3[fakestar3.Q12=='$50,000 - $99,999'].Q10.value_counts(normalize=True)"
   ]
  },
  {
   "cell_type": "code",
   "execution_count": 379,
   "metadata": {},
   "outputs": [
    {
     "data": {
      "text/plain": [
       "MALE      0.560284\n",
       "FEMALE    0.439716\n",
       "Name: Q10, dtype: float64"
      ]
     },
     "execution_count": 379,
     "metadata": {},
     "output_type": "execute_result"
    }
   ],
   "source": [
    "fakestar3[fakestar3.Q12=='$100,000 - $149,999'].Q10.value_counts(normalize=True)"
   ]
  },
  {
   "cell_type": "code",
   "execution_count": 380,
   "metadata": {},
   "outputs": [
    {
     "data": {
      "text/plain": [
       "MALE      0.536842\n",
       "FEMALE    0.463158\n",
       "Name: Q10, dtype: float64"
      ]
     },
     "execution_count": 380,
     "metadata": {},
     "output_type": "execute_result"
    }
   ],
   "source": [
    "fakestar3[fakestar3.Q12=='$150,000+'].Q10.value_counts(normalize=True)"
   ]
  },
  {
   "cell_type": "code",
   "execution_count": 383,
   "metadata": {},
   "outputs": [],
   "source": [
    "arif=pd.DataFrame({'Female':[0.572464,0.521505,0.426518,0.439716,0.463158],'Male':[0.427536,0.478495,0.34984,0.560284,0.536842]},index=['$0 - $24,999','$25,000 - $49,999','$50,000 - $99,999','$100,000 - $149,999','$150,000+'])"
   ]
  },
  {
   "cell_type": "code",
   "execution_count": 390,
   "metadata": {},
   "outputs": [
    {
     "data": {
      "text/plain": [
       "Text(0, 0.5, 'Response in Percentage')"
      ]
     },
     "execution_count": 390,
     "metadata": {},
     "output_type": "execute_result"
    },
    {
     "data": {
      "image/png": "[encoded data removed]",
      "text/plain": [
       "<Figure size 432x288 with 1 Axes>"
      ]
     },
     "metadata": {
      "needs_background": "light"
     },
     "output_type": "display_data"
    }
   ],
   "source": [
    "lines = arif.plot.line()\n",
    "plt.title('Income Level of Different Gender')\n",
    "plt.xlabel('Income Level')\n",
    "plt.ylabel('Response in Percentage')"
   ]
  },
  {
   "cell_type": "code",
   "execution_count": 392,
   "metadata": {},
   "outputs": [],
   "source": [
    "# Task 2.2- Analysis Based on The HypoThesis:\" Which Age Group Considered Themselves as The Fan of Star Trek franchise? (Hypothesis 2)"
   ]
  },
  {
   "cell_type": "code",
   "execution_count": 395,
   "metadata": {},
   "outputs": [
    {
     "data": {
      "text/plain": [
       "45-60          292\n",
       "> 60           269\n",
       "30-44          268\n",
       "18-29          217\n",
       "NO RESPONSE    140\n",
       "Name: Q11, dtype: int64"
      ]
     },
     "execution_count": 395,
     "metadata": {},
     "output_type": "execute_result"
    }
   ],
   "source": [
    "fakestar['Q11'].value_counts(dropna=False)"
   ]
  },
  {
   "cell_type": "code",
   "execution_count": 401,
   "metadata": {},
   "outputs": [
    {
     "data": {
      "text/plain": [
       "NO     0.682028\n",
       "YES    0.317972\n",
       "Name: Q9, dtype: float64"
      ]
     },
     "execution_count": 401,
     "metadata": {},
     "output_type": "execute_result"
    }
   ],
   "source": [
    "fakestar[fakestar.Q11=='18-29'].Q9.value_counts(normalize=True)"
   ]
  },
  {
   "cell_type": "code",
   "execution_count": 400,
   "metadata": {},
   "outputs": [
    {
     "data": {
      "text/plain": [
       "3    0.246206\n",
       "4    0.226813\n",
       "2    0.225970\n",
       "1    0.182968\n",
       "0    0.118044\n",
       "Name: Q11, dtype: float64"
      ]
     },
     "execution_count": 400,
     "metadata": {},
     "output_type": "execute_result"
    }
   ],
   "source": [
    "fakestar3.Q11.value_counts(normalize=True)"
   ]
  },
  {
   "cell_type": "code",
   "execution_count": 402,
   "metadata": {},
   "outputs": [
    {
     "data": {
      "text/plain": [
       "NO     0.61194\n",
       "YES    0.38806\n",
       "Name: Q9, dtype: float64"
      ]
     },
     "execution_count": 402,
     "metadata": {},
     "output_type": "execute_result"
    }
   ],
   "source": [
    "fakestar[fakestar.Q11=='30-44'].Q9.value_counts(normalize=True)"
   ]
  },
  {
   "cell_type": "code",
   "execution_count": 403,
   "metadata": {},
   "outputs": [
    {
     "data": {
      "text/plain": [
       "NO     0.506849\n",
       "YES    0.493151\n",
       "Name: Q9, dtype: float64"
      ]
     },
     "execution_count": 403,
     "metadata": {},
     "output_type": "execute_result"
    }
   ],
   "source": [
    "fakestar[fakestar.Q11=='45-60'].Q9.value_counts(normalize=True)"
   ]
  },
  {
   "cell_type": "code",
   "execution_count": 404,
   "metadata": {},
   "outputs": [
    {
     "data": {
      "text/plain": [
       "NO     0.605948\n",
       "YES    0.394052\n",
       "Name: Q9, dtype: float64"
      ]
     },
     "execution_count": 404,
     "metadata": {},
     "output_type": "execute_result"
    }
   ],
   "source": [
    "fakestar[fakestar.Q11=='> 60'].Q9.value_counts(normalize=True)"
   ]
  },
  {
   "cell_type": "code",
   "execution_count": 405,
   "metadata": {},
   "outputs": [],
   "source": [
    "arif1=pd.DataFrame({'No':[0.682028,0.61194,0.506849,0.605948],'Yes':[0.317972,0.38806,0.493151,0.394052]},index=['18-29','30-44','45-60','> 60'])"
   ]
  },
  {
   "cell_type": "code",
   "execution_count": 409,
   "metadata": {},
   "outputs": [
    {
     "data": {
      "text/plain": [
       "Text(0, 0.5, 'Response in Percentage')"
      ]
     },
     "execution_count": 409,
     "metadata": {},
     "output_type": "execute_result"
    },
    {
     "data": {
      "image/png": "[encoded data removed]",
      "text/plain": [
       "<Figure size 432x288 with 1 Axes>"
      ]
     },
     "metadata": {
      "needs_background": "light"
     },
     "output_type": "display_data"
    }
   ],
   "source": [
    "lines = arif1.plot.bar()\n",
    "plt.title('FanBase of Star Trek Franchise')\n",
    "plt.xlabel('Age Group')\n",
    "plt.ylabel('Response in Percentage')"
   ]
  },
  {
   "cell_type": "code",
   "execution_count": 410,
   "metadata": {},
   "outputs": [],
   "source": [
    "# Task 2.2- Analysis Based on The HypoThesis:\" Whar is the level of educaion of respondents who watched any of Star Wars franchise? (Hypothesis 3)"
   ]
  },
  {
   "cell_type": "code",
   "execution_count": 416,
   "metadata": {},
   "outputs": [
    {
     "data": {
      "text/plain": [
       "Yes     551\n",
       "NO      350\n",
       "No      284\n",
       "Yess      1\n",
       "Name: Q2, dtype: int64"
      ]
     },
     "execution_count": 416,
     "metadata": {},
     "output_type": "execute_result"
    }
   ],
   "source": [
    "fakestar['Q2'].value_counts(dropna=False)"
   ]
  },
  {
   "cell_type": "code",
   "execution_count": 417,
   "metadata": {},
   "outputs": [],
   "source": [
    "fakestar['Q2'].replace('Yess', 'Yes', inplace=True)"
   ]
  },
  {
   "cell_type": "code",
   "execution_count": 418,
   "metadata": {},
   "outputs": [],
   "source": [
    "fakestar['Q2'].replace('No', 'NO', inplace=True)"
   ]
  },
  {
   "cell_type": "code",
   "execution_count": 432,
   "metadata": {},
   "outputs": [
    {
     "data": {
      "text/plain": [
       "YES    936\n",
       "NO     250\n",
       "Name: Q1, dtype: int64"
      ]
     },
     "execution_count": 432,
     "metadata": {},
     "output_type": "execute_result"
    }
   ],
   "source": [
    "fakestar['Q1'].value_counts(dropna=False)"
   ]
  },
  {
   "cell_type": "code",
   "execution_count": 420,
   "metadata": {},
   "outputs": [],
   "source": [
    "fakestar['Q2'].replace('Yes', 'YES', inplace=True)"
   ]
  },
  {
   "cell_type": "code",
   "execution_count": 425,
   "metadata": {},
   "outputs": [
    {
     "data": {
      "text/plain": [
       "NO     634\n",
       "YES    552\n",
       "Name: Q2, dtype: int64"
      ]
     },
     "execution_count": 425,
     "metadata": {},
     "output_type": "execute_result"
    }
   ],
   "source": [
    "fakestar['Q2'].value_counts(dropna=False)"
   ]
  },
  {
   "cell_type": "code",
   "execution_count": 422,
   "metadata": {},
   "outputs": [
    {
     "data": {
      "text/plain": [
       "SOME COLLEGE OR ASSOCIATE DEGREE    328\n",
       "BACHELOR DEGREE                     321\n",
       "GRADUATE DEGREE                     275\n",
       "NO RESPONSE                         150\n",
       "HIGH SCHOOL DEGREE                  105\n",
       "LESS THAN HIGH SCHOOL DEGREE          7\n",
       "Name: Q13, dtype: int64"
      ]
     },
     "execution_count": 422,
     "metadata": {},
     "output_type": "execute_result"
    }
   ],
   "source": [
    "fakestar['Q13'].value_counts(dropna=False)"
   ]
  },
  {
   "cell_type": "code",
   "execution_count": 433,
   "metadata": {},
   "outputs": [
    {
     "data": {
      "text/plain": [
       "YES    0.77439\n",
       "NO     0.22561\n",
       "Name: Q1, dtype: float64"
      ]
     },
     "execution_count": 433,
     "metadata": {},
     "output_type": "execute_result"
    }
   ],
   "source": [
    "fakestar[fakestar.Q13=='SOME COLLEGE OR ASSOCIATE DEGREE'].Q1.value_counts(normalize=True)"
   ]
  },
  {
   "cell_type": "code",
   "execution_count": 434,
   "metadata": {},
   "outputs": [
    {
     "data": {
      "text/plain": [
       "YES    0.816199\n",
       "NO     0.183801\n",
       "Name: Q1, dtype: float64"
      ]
     },
     "execution_count": 434,
     "metadata": {},
     "output_type": "execute_result"
    }
   ],
   "source": [
    "fakestar[fakestar.Q13=='BACHELOR DEGREE'].Q1.value_counts(normalize=True)"
   ]
  },
  {
   "cell_type": "code",
   "execution_count": 435,
   "metadata": {},
   "outputs": [
    {
     "data": {
      "text/plain": [
       "YES    0.821818\n",
       "NO     0.178182\n",
       "Name: Q1, dtype: float64"
      ]
     },
     "execution_count": 435,
     "metadata": {},
     "output_type": "execute_result"
    }
   ],
   "source": [
    "fakestar[fakestar.Q13=='GRADUATE DEGREE'].Q1.value_counts(normalize=True)"
   ]
  },
  {
   "cell_type": "code",
   "execution_count": 436,
   "metadata": {},
   "outputs": [
    {
     "data": {
      "text/plain": [
       "YES    0.67619\n",
       "NO     0.32381\n",
       "Name: Q1, dtype: float64"
      ]
     },
     "execution_count": 436,
     "metadata": {},
     "output_type": "execute_result"
    }
   ],
   "source": [
    "fakestar[fakestar.Q13=='HIGH SCHOOL DEGREE'].Q1.value_counts(normalize=True)"
   ]
  },
  {
   "cell_type": "code",
   "execution_count": 437,
   "metadata": {},
   "outputs": [
    {
     "data": {
      "text/plain": [
       "NO     0.571429\n",
       "YES    0.428571\n",
       "Name: Q1, dtype: float64"
      ]
     },
     "execution_count": 437,
     "metadata": {},
     "output_type": "execute_result"
    }
   ],
   "source": [
    "fakestar[fakestar.Q13=='LESS THAN HIGH SCHOOL DEGREE'].Q1.value_counts(normalize=True)"
   ]
  },
  {
   "cell_type": "code",
   "execution_count": 439,
   "metadata": {},
   "outputs": [],
   "source": [
    "arif2=pd.DataFrame({'No':[0.22561,0.183801,0.178182,0.32381,0.571429],'Yes':[0.77439,0.816199,0.821818,0.67619,0.428571]},index=['SOME COLLEGE OR ASSOCIATE DEGREE','BACHELOR DEGREE','GRADUATE DEGREE','HIGH SCHOOL DEGREE','LESS THAN HIGH SCHOOL DEGREE'])"
   ]
  },
  {
   "cell_type": "code",
   "execution_count": 441,
   "metadata": {},
   "outputs": [
    {
     "data": {
      "text/plain": [
       "Text(0, 0.5, 'Response in Percentage')"
      ]
     },
     "execution_count": 441,
     "metadata": {},
     "output_type": "execute_result"
    },
    {
     "data": {
      "image/png": "[encoded data removed]",
      "text/plain": [
       "<Figure size 432x288 with 1 Axes>"
      ]
     },
     "metadata": {
      "needs_background": "light"
     },
     "output_type": "display_data"
    }
   ],
   "source": [
    "lines = arif2.plot.bar()\n",
    "plt.title('Educational Background of Star Wars franchise Viewrs')\n",
    "plt.xlabel('Education Level')\n",
    "plt.ylabel('Response in Percentage')"
   ]
  },
  {
   "cell_type": "code",
   "execution_count": 442,
   "metadata": {},
   "outputs": [],
   "source": [
    "# Task 2: Data Exploration\n",
    "# 3. Explore whether there are relationship between people's demographics (Gender, Age, Household Income, Education, Location) and their attitude to Start War characters. \n"
   ]
  },
  {
   "cell_type": "code",
   "execution_count": 461,
   "metadata": {},
   "outputs": [
    {
     "data": {
      "text/plain": [
       "VERY FAVORABLY                                 610\n",
       "NO RATING                                      357\n",
       "SOMEWHAT FAVORABLY                             151\n",
       "NEITHER FAVORABLY NOR UNFAVORABLY (NEUTRAL)     44\n",
       "UNFAMILIAR (N/A)                                15\n",
       "SOMEWHAT UNFAVORABLY                             8\n",
       "VERY UNFAVORABLY                                 1\n",
       "Name: Q5Option1, dtype: int64"
      ]
     },
     "execution_count": 461,
     "metadata": {},
     "output_type": "execute_result"
    }
   ],
   "source": [
    "fakestar['Q5Option1'].value_counts(dropna=False)"
   ]
  },
  {
   "cell_type": "code",
   "execution_count": null,
   "metadata": {},
   "outputs": [],
   "source": [
    "#Option 1"
   ]
  },
  {
   "cell_type": "code",
   "execution_count": 462,
   "metadata": {},
   "outputs": [
    {
     "data": {
      "text/plain": [
       "MALE           0.509836\n",
       "FEMALE         0.473770\n",
       "NO RESPONSE    0.016393\n",
       "Name: Q10, dtype: float64"
      ]
     },
     "execution_count": 462,
     "metadata": {},
     "output_type": "execute_result"
    }
   ],
   "source": [
    "fakestar[fakestar.Q5Option1=='VERY FAVORABLY'].Q10.value_counts(normalize=True)"
   ]
  },
  {
   "cell_type": "code",
   "execution_count": 463,
   "metadata": {},
   "outputs": [
    {
     "data": {
      "text/plain": [
       "MALE           0.503311\n",
       "FEMALE         0.470199\n",
       "NO RESPONSE    0.026490\n",
       "Name: Q10, dtype: float64"
      ]
     },
     "execution_count": 463,
     "metadata": {},
     "output_type": "execute_result"
    }
   ],
   "source": [
    "fakestar[fakestar.Q5Option1=='SOMEWHAT FAVORABLY'].Q10.value_counts(normalize=True)"
   ]
  },
  {
   "cell_type": "code",
   "execution_count": 465,
   "metadata": {},
   "outputs": [
    {
     "data": {
      "text/plain": [
       "FEMALE         0.500000\n",
       "MALE           0.477273\n",
       "NO RESPONSE    0.022727\n",
       "Name: Q10, dtype: float64"
      ]
     },
     "execution_count": 465,
     "metadata": {},
     "output_type": "execute_result"
    }
   ],
   "source": [
    "fakestar[fakestar.Q5Option1=='NEITHER FAVORABLY NOR UNFAVORABLY (NEUTRAL)'].Q10.value_counts(normalize=True)"
   ]
  },
  {
   "cell_type": "code",
   "execution_count": 466,
   "metadata": {},
   "outputs": [
    {
     "data": {
      "text/plain": [
       "FEMALE    0.6\n",
       "MALE      0.4\n",
       "Name: Q10, dtype: float64"
      ]
     },
     "execution_count": 466,
     "metadata": {},
     "output_type": "execute_result"
    }
   ],
   "source": [
    "fakestar[fakestar.Q5Option1=='UNFAMILIAR (N/A)'].Q10.value_counts(normalize=True)"
   ]
  },
  {
   "cell_type": "code",
   "execution_count": 467,
   "metadata": {},
   "outputs": [
    {
     "data": {
      "text/plain": [
       "MALE           0.500\n",
       "FEMALE         0.375\n",
       "NO RESPONSE    0.125\n",
       "Name: Q10, dtype: float64"
      ]
     },
     "execution_count": 467,
     "metadata": {},
     "output_type": "execute_result"
    }
   ],
   "source": [
    "fakestar[fakestar.Q5Option1=='SOMEWHAT UNFAVORABLY'].Q10.value_counts(normalize=True)"
   ]
  },
  {
   "cell_type": "code",
   "execution_count": 468,
   "metadata": {},
   "outputs": [
    {
     "data": {
      "text/plain": [
       "MALE    1.0\n",
       "Name: Q10, dtype: float64"
      ]
     },
     "execution_count": 468,
     "metadata": {},
     "output_type": "execute_result"
    }
   ],
   "source": [
    "fakestar[fakestar.Q5Option1=='VERY UNFAVORABLY'].Q10.value_counts(normalize=True)"
   ]
  },
  {
   "cell_type": "code",
   "execution_count": 474,
   "metadata": {},
   "outputs": [
    {
     "data": {
      "text/plain": [
       "FEMALE         0.553571\n",
       "MALE           0.419643\n",
       "NO RESPONSE    0.026786\n",
       "Name: Q10, dtype: float64"
      ]
     },
     "execution_count": 474,
     "metadata": {},
     "output_type": "execute_result"
    }
   ],
   "source": [
    "fakestar[fakestar.Q5Option12=='VERY FAVORABLY'].Q10.value_counts(normalize=True)"
   ]
  },
  {
   "cell_type": "code",
   "execution_count": 475,
   "metadata": {},
   "outputs": [
    {
     "data": {
      "text/plain": [
       "VERY FAVORABLY                                 0.625755\n",
       "NO RATING                                      0.156942\n",
       "SOMEWHAT FAVORABLY                             0.152918\n",
       "NEITHER FAVORABLY NOR UNFAVORABLY (NEUTRAL)    0.042254\n",
       "UNFAMILIAR (N/A)                               0.012072\n",
       "SOMEWHAT UNFAVORABLY                           0.008048\n",
       "VERY UNFAVORABLY                               0.002012\n",
       "Name: Q5Option1, dtype: float64"
      ]
     },
     "execution_count": 475,
     "metadata": {},
     "output_type": "execute_result"
    }
   ],
   "source": [
    "fakestar[fakestar.Q10=='MALE'].Q5Option1.value_counts(normalize=True)"
   ]
  },
  {
   "cell_type": "code",
   "execution_count": 476,
   "metadata": {},
   "outputs": [
    {
     "data": {
      "text/plain": [
       "VERY FAVORABLY                                 0.526412\n",
       "NO RATING                                      0.282332\n",
       "SOMEWHAT FAVORABLY                             0.129326\n",
       "NEITHER FAVORABLY NOR UNFAVORABLY (NEUTRAL)    0.040073\n",
       "UNFAMILIAR (N/A)                               0.016393\n",
       "SOMEWHAT UNFAVORABLY                           0.005464\n",
       "Name: Q5Option1, dtype: float64"
      ]
     },
     "execution_count": 476,
     "metadata": {},
     "output_type": "execute_result"
    }
   ],
   "source": [
    "fakestar[fakestar.Q10=='FEMALE'].Q5Option1.value_counts(normalize=True)"
   ]
  },
  {
   "cell_type": "code",
   "execution_count": 478,
   "metadata": {},
   "outputs": [
    {
     "data": {
      "text/plain": [
       "VERY FAVORABLY                                 0.557344\n",
       "SOMEWHAT FAVORABLY                             0.217304\n",
       "NO RATING                                      0.154930\n",
       "NEITHER FAVORABLY NOR UNFAVORABLY (NEUTRAL)    0.046278\n",
       "SOMEWHAT UNFAVORABLY                           0.016097\n",
       "UNFAMILIAR (N/A)                               0.006036\n",
       "VERY UNFAVORABLY                               0.002012\n",
       "Name: Q5Option2, dtype: float64"
      ]
     },
     "execution_count": 478,
     "metadata": {},
     "output_type": "execute_result"
    }
   ],
   "source": [
    "fakestar[fakestar.Q10=='MALE'].Q5Option2.value_counts(normalize=True)"
   ]
  },
  {
   "cell_type": "code",
   "execution_count": 479,
   "metadata": {},
   "outputs": [
    {
     "data": {
      "text/plain": [
       "VERY FAVORABLY                                 0.488160\n",
       "NO RATING                                      0.280510\n",
       "SOMEWHAT FAVORABLY                             0.189435\n",
       "NEITHER FAVORABLY NOR UNFAVORABLY (NEUTRAL)    0.025501\n",
       "SOMEWHAT UNFAVORABLY                           0.007286\n",
       "UNFAMILIAR (N/A)                               0.005464\n",
       "VERY UNFAVORABLY                               0.003643\n",
       "Name: Q5Option2, dtype: float64"
      ]
     },
     "execution_count": 479,
     "metadata": {},
     "output_type": "execute_result"
    }
   ],
   "source": [
    "fakestar[fakestar.Q10=='FEMALE'].Q5Option2.value_counts(normalize=True)"
   ]
  },
  {
   "cell_type": "code",
   "execution_count": 480,
   "metadata": {},
   "outputs": [
    {
     "data": {
      "text/plain": [
       "VERY FAVORABLY                                 0.535211\n",
       "SOMEWHAT FAVORABLY                             0.231388\n",
       "NO RATING                                      0.152918\n",
       "NEITHER FAVORABLY NOR UNFAVORABLY (NEUTRAL)    0.054326\n",
       "UNFAMILIAR (N/A)                               0.010060\n",
       "SOMEWHAT UNFAVORABLY                           0.010060\n",
       "VERY UNFAVORABLY                               0.006036\n",
       "Name: Q5Option3, dtype: float64"
      ]
     },
     "execution_count": 480,
     "metadata": {},
     "output_type": "execute_result"
    }
   ],
   "source": [
    "fakestar[fakestar.Q10=='MALE'].Q5Option3.value_counts(normalize=True)"
   ]
  },
  {
   "cell_type": "code",
   "execution_count": 481,
   "metadata": {},
   "outputs": [
    {
     "data": {
      "text/plain": [
       "VERY FAVORABLY                                 0.495446\n",
       "NO RATING                                      0.282332\n",
       "SOMEWHAT FAVORABLY                             0.163934\n",
       "NEITHER FAVORABLY NOR UNFAVORABLY (NEUTRAL)    0.036430\n",
       "SOMEWHAT UNFAVORABLY                           0.010929\n",
       "UNFAMILIAR (N/A)                               0.005464\n",
       "VERY UNFAVORABLY                               0.005464\n",
       "Name: Q5Option3, dtype: float64"
      ]
     },
     "execution_count": 481,
     "metadata": {},
     "output_type": "execute_result"
    }
   ],
   "source": [
    "fakestar[fakestar.Q10=='FEMALE'].Q5Option3.value_counts(normalize=True)"
   ]
  },
  {
   "cell_type": "code",
   "execution_count": 482,
   "metadata": {},
   "outputs": [
    {
     "data": {
      "text/plain": [
       "NO RATING                                      0.285974\n",
       "VERY FAVORABLY                                 0.242259\n",
       "SOMEWHAT FAVORABLY                             0.225865\n",
       "NEITHER FAVORABLY NOR UNFAVORABLY (NEUTRAL)    0.107468\n",
       "SOMEWHAT UNFAVORABLY                           0.056466\n",
       "UNFAMILIAR (N/A)                               0.051002\n",
       "VERY UNFAVORABLY                               0.030965\n",
       "Name: Q5Option4, dtype: float64"
      ]
     },
     "execution_count": 482,
     "metadata": {},
     "output_type": "execute_result"
    }
   ],
   "source": [
    "fakestar[fakestar.Q10=='FEMALE'].Q5Option4.value_counts(normalize=True)"
   ]
  },
  {
   "cell_type": "code",
   "execution_count": 483,
   "metadata": {},
   "outputs": [
    {
     "data": {
      "text/plain": [
       "VERY FAVORABLY                                 0.528233\n",
       "NO RATING                                      0.284153\n",
       "SOMEWHAT FAVORABLY                             0.122040\n",
       "NEITHER FAVORABLY NOR UNFAVORABLY (NEUTRAL)    0.041894\n",
       "UNFAMILIAR (N/A)                               0.010929\n",
       "VERY UNFAVORABLY                               0.007286\n",
       "SOMEWHAT UNFAVORABLY                           0.005464\n",
       "Name: Q5Option5, dtype: float64"
      ]
     },
     "execution_count": 483,
     "metadata": {},
     "output_type": "execute_result"
    }
   ],
   "source": [
    "fakestar[fakestar.Q10=='FEMALE'].Q5Option5.value_counts(normalize=True)"
   ]
  },
  {
   "cell_type": "code",
   "execution_count": 485,
   "metadata": {},
   "outputs": [
    {
     "data": {
      "text/plain": [
       "NO RATING                                      0.300546\n",
       "NEITHER FAVORABLY NOR UNFAVORABLY (NEUTRAL)    0.193078\n",
       "UNFAMILIAR (N/A)                               0.178506\n",
       "VERY UNFAVORABLY                               0.116576\n",
       "SOMEWHAT FAVORABLY                             0.091075\n",
       "VERY FAVORABLY                                 0.065574\n",
       "SOMEWHAT UNFAVORABLY                           0.054645\n",
       "Name: Q5Option6, dtype: float64"
      ]
     },
     "execution_count": 485,
     "metadata": {},
     "output_type": "execute_result"
    }
   ],
   "source": [
    "fakestar[fakestar.Q10=='FEMALE'].Q5Option6.value_counts(normalize=True)"
   ]
  },
  {
   "cell_type": "code",
   "execution_count": 486,
   "metadata": {},
   "outputs": [
    {
     "data": {
      "text/plain": [
       "NO RATING                                      0.282332\n",
       "VERY FAVORABLY                                 0.220401\n",
       "VERY UNFAVORABLY                               0.169399\n",
       "SOMEWHAT FAVORABLY                             0.140255\n",
       "SOMEWHAT UNFAVORABLY                           0.102004\n",
       "NEITHER FAVORABLY NOR UNFAVORABLY (NEUTRAL)    0.078324\n",
       "UNFAMILIAR (N/A)                               0.007286\n",
       "Name: Q5Option7, dtype: float64"
      ]
     },
     "execution_count": 486,
     "metadata": {},
     "output_type": "execute_result"
    }
   ],
   "source": [
    "fakestar[fakestar.Q10=='FEMALE'].Q5Option7.value_counts(normalize=True)"
   ]
  },
  {
   "cell_type": "code",
   "execution_count": 487,
   "metadata": {},
   "outputs": [
    {
     "data": {
      "text/plain": [
       "NO RATING                                      0.291439\n",
       "NEITHER FAVORABLY NOR UNFAVORABLY (NEUTRAL)    0.202186\n",
       "UNFAMILIAR (N/A)                               0.169399\n",
       "SOMEWHAT FAVORABLY                             0.160291\n",
       "VERY FAVORABLY                                 0.118397\n",
       "SOMEWHAT UNFAVORABLY                           0.051002\n",
       "VERY UNFAVORABLY                               0.007286\n",
       "Name: Q5Option8, dtype: float64"
      ]
     },
     "execution_count": 487,
     "metadata": {},
     "output_type": "execute_result"
    }
   ],
   "source": [
    "fakestar[fakestar.Q10=='FEMALE'].Q5Option8.value_counts(normalize=True)"
   ]
  },
  {
   "cell_type": "code",
   "execution_count": 488,
   "metadata": {},
   "outputs": [
    {
     "data": {
      "text/plain": [
       "NO RATING                                      0.302368\n",
       "NEITHER FAVORABLY NOR UNFAVORABLY (NEUTRAL)    0.214936\n",
       "UNFAMILIAR (N/A)                               0.162113\n",
       "SOMEWHAT FAVORABLY                             0.112933\n",
       "SOMEWHAT UNFAVORABLY                           0.083789\n",
       "VERY FAVORABLY                                 0.078324\n",
       "VERY UNFAVORABLY                               0.045537\n",
       "Name: Q5Option9, dtype: float64"
      ]
     },
     "execution_count": 488,
     "metadata": {},
     "output_type": "execute_result"
    }
   ],
   "source": [
    "fakestar[fakestar.Q10=='FEMALE'].Q5Option9.value_counts(normalize=True)"
   ]
  },
  {
   "cell_type": "code",
   "execution_count": 489,
   "metadata": {},
   "outputs": [
    {
     "data": {
      "text/plain": [
       "VERY FAVORABLY                                 0.479053\n",
       "NO RATING                                      0.284153\n",
       "SOMEWHAT FAVORABLY                             0.158470\n",
       "NEITHER FAVORABLY NOR UNFAVORABLY (NEUTRAL)    0.051002\n",
       "UNFAMILIAR (N/A)                               0.016393\n",
       "SOMEWHAT UNFAVORABLY                           0.009107\n",
       "VERY UNFAVORABLY                               0.001821\n",
       "Name: Q5Option10, dtype: float64"
      ]
     },
     "execution_count": 489,
     "metadata": {},
     "output_type": "execute_result"
    }
   ],
   "source": [
    "fakestar[fakestar.Q10=='FEMALE'].Q5Option10.value_counts(normalize=True)"
   ]
  },
  {
   "cell_type": "code",
   "execution_count": 490,
   "metadata": {},
   "outputs": [
    {
     "data": {
      "text/plain": [
       "VERY FAVORABLY                                 0.557377\n",
       "NO RATING                                      0.282332\n",
       "SOMEWHAT FAVORABLY                             0.112933\n",
       "NEITHER FAVORABLY NOR UNFAVORABLY (NEUTRAL)    0.032787\n",
       "UNFAMILIAR (N/A)                               0.007286\n",
       "SOMEWHAT UNFAVORABLY                           0.003643\n",
       "VERY UNFAVORABLY                               0.003643\n",
       "Name: Q5Option11, dtype: float64"
      ]
     },
     "execution_count": 490,
     "metadata": {},
     "output_type": "execute_result"
    }
   ],
   "source": [
    "fakestar[fakestar.Q10=='FEMALE'].Q5Option11.value_counts(normalize=True)"
   ]
  },
  {
   "cell_type": "code",
   "execution_count": 491,
   "metadata": {},
   "outputs": [
    {
     "data": {
      "text/plain": [
       "NO RATING                                      0.291439\n",
       "NEITHER FAVORABLY NOR UNFAVORABLY (NEUTRAL)    0.151184\n",
       "VERY UNFAVORABLY                               0.127505\n",
       "SOMEWHAT FAVORABLY                             0.122040\n",
       "UNFAMILIAR (N/A)                               0.116576\n",
       "VERY FAVORABLY                                 0.112933\n",
       "SOMEWHAT UNFAVORABLY                           0.078324\n",
       "Name: Q5Option12, dtype: float64"
      ]
     },
     "execution_count": 491,
     "metadata": {},
     "output_type": "execute_result"
    }
   ],
   "source": [
    "fakestar[fakestar.Q10=='FEMALE'].Q5Option12.value_counts(normalize=True)"
   ]
  },
  {
   "cell_type": "code",
   "execution_count": 492,
   "metadata": {},
   "outputs": [
    {
     "data": {
      "text/plain": [
       "NO RATING                                      0.298725\n",
       "NEITHER FAVORABLY NOR UNFAVORABLY (NEUTRAL)    0.174863\n",
       "UNFAMILIAR (N/A)                               0.171220\n",
       "VERY FAVORABLY                                 0.153005\n",
       "SOMEWHAT FAVORABLY                             0.140255\n",
       "SOMEWHAT UNFAVORABLY                           0.041894\n",
       "VERY UNFAVORABLY                               0.020036\n",
       "Name: Q5Option13, dtype: float64"
      ]
     },
     "execution_count": 492,
     "metadata": {},
     "output_type": "execute_result"
    }
   ],
   "source": [
    "fakestar[fakestar.Q10=='FEMALE'].Q5Option13.value_counts(normalize=True)"
   ]
  },
  {
   "cell_type": "code",
   "execution_count": 505,
   "metadata": {},
   "outputs": [
    {
     "data": {
      "text/plain": [
       "VERY FAVORABLY                                 0.564663\n",
       "NO RATING                                      0.282332\n",
       "SOMEWHAT FAVORABLY                             0.098361\n",
       "NEITHER FAVORABLY NOR UNFAVORABLY (NEUTRAL)    0.036430\n",
       "SOMEWHAT UNFAVORABLY                           0.007286\n",
       "UNFAMILIAR (N/A)                               0.005464\n",
       "VERY UNFAVORABLY                               0.005464\n",
       "Name: Q5Option14, dtype: float64"
      ]
     },
     "execution_count": 505,
     "metadata": {},
     "output_type": "execute_result"
    }
   ],
   "source": [
    "fakestar[fakestar.Q10=='FEMALE'].Q5Option14.value_counts(normalize=True)"
   ]
  },
  {
   "cell_type": "code",
   "execution_count": 494,
   "metadata": {},
   "outputs": [
    {
     "data": {
      "text/plain": [
       "SOMEWHAT FAVORABLY                             0.281690\n",
       "VERY FAVORABLY                                 0.211268\n",
       "NO RATING                                      0.164990\n",
       "NEITHER FAVORABLY NOR UNFAVORABLY (NEUTRAL)    0.148893\n",
       "SOMEWHAT UNFAVORABLY                           0.100604\n",
       "UNFAMILIAR (N/A)                               0.048290\n",
       "VERY UNFAVORABLY                               0.044266\n",
       "Name: Q5Option4, dtype: float64"
      ]
     },
     "execution_count": 494,
     "metadata": {},
     "output_type": "execute_result"
    }
   ],
   "source": [
    "fakestar[fakestar.Q10=='MALE'].Q5Option4.value_counts(normalize=True)"
   ]
  },
  {
   "cell_type": "code",
   "execution_count": 495,
   "metadata": {},
   "outputs": [
    {
     "data": {
      "text/plain": [
       "VERY FAVORABLY                                 0.587525\n",
       "SOMEWHAT FAVORABLY                             0.177062\n",
       "NO RATING                                      0.162978\n",
       "NEITHER FAVORABLY NOR UNFAVORABLY (NEUTRAL)    0.036217\n",
       "UNFAMILIAR (N/A)                               0.022133\n",
       "SOMEWHAT UNFAVORABLY                           0.008048\n",
       "VERY UNFAVORABLY                               0.006036\n",
       "Name: Q5Option5, dtype: float64"
      ]
     },
     "execution_count": 495,
     "metadata": {},
     "output_type": "execute_result"
    }
   ],
   "source": [
    "fakestar[fakestar.Q10=='MALE'].Q5Option5.value_counts(normalize=True)"
   ]
  },
  {
   "cell_type": "code",
   "execution_count": 496,
   "metadata": {},
   "outputs": [
    {
     "data": {
      "text/plain": [
       "NEITHER FAVORABLY NOR UNFAVORABLY (NEUTRAL)    0.207243\n",
       "SOMEWHAT FAVORABLY                             0.175050\n",
       "NO RATING                                      0.167002\n",
       "VERY FAVORABLY                                 0.144869\n",
       "VERY UNFAVORABLY                               0.118712\n",
       "UNFAMILIAR (N/A)                               0.112676\n",
       "SOMEWHAT UNFAVORABLY                           0.074447\n",
       "Name: Q5Option6, dtype: float64"
      ]
     },
     "execution_count": 496,
     "metadata": {},
     "output_type": "execute_result"
    }
   ],
   "source": [
    "fakestar[fakestar.Q10=='MALE'].Q5Option6.value_counts(normalize=True)"
   ]
  },
  {
   "cell_type": "code",
   "execution_count": 497,
   "metadata": {},
   "outputs": [
    {
     "data": {
      "text/plain": [
       "VERY FAVORABLY                                 0.370221\n",
       "SOMEWHAT FAVORABLY                             0.185111\n",
       "NO RATING                                      0.162978\n",
       "VERY UNFAVORABLY                               0.110664\n",
       "SOMEWHAT UNFAVORABLY                           0.084507\n",
       "NEITHER FAVORABLY NOR UNFAVORABLY (NEUTRAL)    0.076459\n",
       "UNFAMILIAR (N/A)                               0.010060\n",
       "Name: Q5Option7, dtype: float64"
      ]
     },
     "execution_count": 497,
     "metadata": {},
     "output_type": "execute_result"
    }
   ],
   "source": [
    "fakestar[fakestar.Q10=='MALE'].Q5Option7.value_counts(normalize=True)"
   ]
  },
  {
   "cell_type": "code",
   "execution_count": 498,
   "metadata": {},
   "outputs": [
    {
     "data": {
      "text/plain": [
       "SOMEWHAT FAVORABLY                             0.265594\n",
       "NEITHER FAVORABLY NOR UNFAVORABLY (NEUTRAL)    0.237425\n",
       "NO RATING                                      0.164990\n",
       "VERY FAVORABLY                                 0.146881\n",
       "UNFAMILIAR (N/A)                               0.108652\n",
       "SOMEWHAT UNFAVORABLY                           0.068410\n",
       "VERY UNFAVORABLY                               0.008048\n",
       "Name: Q5Option8, dtype: float64"
      ]
     },
     "execution_count": 498,
     "metadata": {},
     "output_type": "execute_result"
    }
   ],
   "source": [
    "fakestar[fakestar.Q10=='MALE'].Q5Option8.value_counts(normalize=True)"
   ]
  },
  {
   "cell_type": "code",
   "execution_count": 499,
   "metadata": {},
   "outputs": [
    {
     "data": {
      "text/plain": [
       "NEITHER FAVORABLY NOR UNFAVORABLY (NEUTRAL)    0.249497\n",
       "VERY FAVORABLY                                 0.183099\n",
       "SOMEWHAT FAVORABLY                             0.177062\n",
       "NO RATING                                      0.167002\n",
       "SOMEWHAT UNFAVORABLY                           0.098592\n",
       "UNFAMILIAR (N/A)                               0.084507\n",
       "VERY UNFAVORABLY                               0.040241\n",
       "Name: Q5Option9, dtype: float64"
      ]
     },
     "execution_count": 499,
     "metadata": {},
     "output_type": "execute_result"
    }
   ],
   "source": [
    "fakestar[fakestar.Q10=='MALE'].Q5Option9.value_counts(normalize=True)"
   ]
  },
  {
   "cell_type": "code",
   "execution_count": 500,
   "metadata": {},
   "outputs": [
    {
     "data": {
      "text/plain": [
       "VERY FAVORABLY                                 0.406439\n",
       "SOMEWHAT FAVORABLY                             0.275654\n",
       "NO RATING                                      0.158954\n",
       "NEITHER FAVORABLY NOR UNFAVORABLY (NEUTRAL)    0.100604\n",
       "SOMEWHAT UNFAVORABLY                           0.034205\n",
       "UNFAMILIAR (N/A)                               0.012072\n",
       "VERY UNFAVORABLY                               0.012072\n",
       "Name: Q5Option10, dtype: float64"
      ]
     },
     "execution_count": 500,
     "metadata": {},
     "output_type": "execute_result"
    }
   ],
   "source": [
    "fakestar[fakestar.Q10=='MALE'].Q5Option10.value_counts(normalize=True)"
   ]
  },
  {
   "cell_type": "code",
   "execution_count": 501,
   "metadata": {},
   "outputs": [
    {
     "data": {
      "text/plain": [
       "VERY FAVORABLY                                 0.498994\n",
       "SOMEWHAT FAVORABLY                             0.235412\n",
       "NO RATING                                      0.154930\n",
       "NEITHER FAVORABLY NOR UNFAVORABLY (NEUTRAL)    0.076459\n",
       "SOMEWHAT UNFAVORABLY                           0.014085\n",
       "UNFAMILIAR (N/A)                               0.012072\n",
       "VERY UNFAVORABLY                               0.008048\n",
       "Name: Q5Option11, dtype: float64"
      ]
     },
     "execution_count": 501,
     "metadata": {},
     "output_type": "execute_result"
    }
   ],
   "source": [
    "fakestar[fakestar.Q10=='MALE'].Q5Option11.value_counts(normalize=True)"
   ]
  },
  {
   "cell_type": "code",
   "execution_count": 502,
   "metadata": {},
   "outputs": [
    {
     "data": {
      "text/plain": [
       "VERY UNFAVORABLY                               0.267606\n",
       "NO RATING                                      0.162978\n",
       "NEITHER FAVORABLY NOR UNFAVORABLY (NEUTRAL)    0.156942\n",
       "SOMEWHAT FAVORABLY                             0.118712\n",
       "SOMEWHAT UNFAVORABLY                           0.110664\n",
       "VERY FAVORABLY                                 0.094567\n",
       "UNFAMILIAR (N/A)                               0.088531\n",
       "Name: Q5Option12, dtype: float64"
      ]
     },
     "execution_count": 502,
     "metadata": {},
     "output_type": "execute_result"
    }
   ],
   "source": [
    "fakestar[fakestar.Q10=='MALE'].Q5Option12.value_counts(normalize=True)"
   ]
  },
  {
   "cell_type": "code",
   "execution_count": 503,
   "metadata": {},
   "outputs": [
    {
     "data": {
      "text/plain": [
       "NEITHER FAVORABLY NOR UNFAVORABLY (NEUTRAL)    0.213280\n",
       "SOMEWHAT FAVORABLY                             0.205231\n",
       "NO RATING                                      0.169014\n",
       "VERY FAVORABLY                                 0.158954\n",
       "UNFAMILIAR (N/A)                               0.140845\n",
       "SOMEWHAT UNFAVORABLY                           0.068410\n",
       "VERY UNFAVORABLY                               0.044266\n",
       "Name: Q5Option13, dtype: float64"
      ]
     },
     "execution_count": 503,
     "metadata": {},
     "output_type": "execute_result"
    }
   ],
   "source": [
    "fakestar[fakestar.Q10=='MALE'].Q5Option13.value_counts(normalize=True)"
   ]
  },
  {
   "cell_type": "code",
   "execution_count": 504,
   "metadata": {},
   "outputs": [
    {
     "data": {
      "text/plain": [
       "VERY FAVORABLY                                 0.575453\n",
       "SOMEWHAT FAVORABLY                             0.175050\n",
       "NO RATING                                      0.162978\n",
       "NEITHER FAVORABLY NOR UNFAVORABLY (NEUTRAL)    0.054326\n",
       "UNFAMILIAR (N/A)                               0.014085\n",
       "VERY UNFAVORABLY                               0.010060\n",
       "SOMEWHAT UNFAVORABLY                           0.008048\n",
       "Name: Q5Option14, dtype: float64"
      ]
     },
     "execution_count": 504,
     "metadata": {},
     "output_type": "execute_result"
    }
   ],
   "source": [
    "fakestar[fakestar.Q10=='MALE'].Q5Option14.value_counts(normalize=True)"
   ]
  },
  {
   "cell_type": "code",
   "execution_count": 508,
   "metadata": {},
   "outputs": [
    {
     "data": {
      "text/plain": [
       "'C:\\\\Users\\\\61469'"
      ]
     },
     "execution_count": 508,
     "metadata": {},
     "output_type": "execute_result"
    }
   ],
   "source": [
    "pwd"
   ]
  },
  {
   "cell_type": "code",
   "execution_count": null,
   "metadata": {},
   "outputs": [],
   "source": []
  }
 ],
 "metadata": {
  "kernelspec": {
   "display_name": "Python 3",
   "language": "python",
   "name": "python3"
  },
  "language_info": {
   "codemirror_mode": {
    "name": "ipython",
    "version": 3
   },
   "file_extension": ".py",
   "mimetype": "text/x-python",
   "name": "python",
   "nbconvert_exporter": "python",
   "pygments_lexer": "ipython3",
   "version": "3.7.4"
  }
 },
 "nbformat": 4,
 "nbformat_minor": 2
}
